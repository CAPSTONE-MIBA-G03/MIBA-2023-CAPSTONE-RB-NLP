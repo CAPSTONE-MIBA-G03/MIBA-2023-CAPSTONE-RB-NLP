{
 "cells": [
  {
   "attachments": {},
   "cell_type": "markdown",
   "metadata": {},
   "source": [
    "# Mid Presentation"
   ]
  },
  {
   "attachments": {},
   "cell_type": "markdown",
   "metadata": {},
   "source": [
    "## Setup"
   ]
  },
  {
   "attachments": {},
   "cell_type": "markdown",
   "metadata": {},
   "source": [
    "### Imports"
   ]
  },
  {
   "cell_type": "code",
   "execution_count": 2,
   "metadata": {},
   "outputs": [],
   "source": [
    "# Local Modules\n",
    "from etl_pipeline.link_extractor import Google, Bing, Yahoo, get_all_links\n",
    "from etl_pipeline.content_extractor import get_content\n",
    "\n",
    "# Other Imports\n",
    "import nltk\n",
    "import pandas as pd\n",
    "import string\n",
    "\n",
    "from nltk.corpus import stopwords\n",
    "from nltk.tokenize import RegexpTokenizer\n",
    "from nltk.stem import WordNetLemmatizer\n",
    "\n",
    "import matplotlib.pyplot as plt\n",
    "from wordcloud import WordCloud"
   ]
  },
  {
   "attachments": {},
   "cell_type": "markdown",
   "metadata": {},
   "source": [
    "### Functions"
   ]
  },
  {
   "cell_type": "code",
   "execution_count": 3,
   "metadata": {},
   "outputs": [
    {
     "name": "stderr",
     "output_type": "stream",
     "text": [
      "[nltk_data] Downloading package stopwords to\n",
      "[nltk_data]     /Users/johnbergmann/nltk_data...\n",
      "[nltk_data]   Package stopwords is already up-to-date!\n",
      "[nltk_data] Downloading package wordnet to\n",
      "[nltk_data]     /Users/johnbergmann/nltk_data...\n",
      "[nltk_data]   Package wordnet is already up-to-date!\n"
     ]
    }
   ],
   "source": [
    "nltk.download(\"stopwords\")\n",
    "nltk.download('wordnet')\n",
    "\n",
    "tokenizer = RegexpTokenizer(r'\\w+')\n",
    "lemmatizer = WordNetLemmatizer()\n",
    "\n",
    "# clean text\n",
    "def clean_text(t):\n",
    "    \n",
    "    # remove numbers\n",
    "    t = \"\".join([i for i in t if not i.isdigit()])\n",
    "\n",
    "    # remove extra whitespaces and new lines\n",
    "    t = t.replace(\"\\n\", \"\").strip()\n",
    "\n",
    "    # remove punctuation \n",
    "    t = \"\".join ([c for c in t if c not in string.punctuation])\n",
    "\n",
    "    # tokenization\n",
    "    t = tokenizer.tokenize(t.lower())\n",
    "\n",
    "    # remove stop words\n",
    "    t = [word for word in t if word not in stopwords.words(\"english\")]\n",
    "\n",
    "    # lematization\n",
    "    t = [lemmatizer.lemmatize(i) for i in t]\n",
    "\n",
    "    return \" \".join(t)\n"
   ]
  },
  {
   "attachments": {},
   "cell_type": "markdown",
   "metadata": {},
   "source": [
    "## Link Extraction"
   ]
  },
  {
   "attachments": {},
   "cell_type": "markdown",
   "metadata": {},
   "source": [
    "### Single Search Engines"
   ]
  },
  {
   "cell_type": "code",
   "execution_count": 4,
   "metadata": {},
   "outputs": [],
   "source": [
    "google = Google(company=\"Credit Suisse\")\n",
    "bing = Bing(company=\"Credit Suisse\")\n",
    "yahoo = Yahoo(company=\"Credit Suisse\")"
   ]
  },
  {
   "attachments": {},
   "cell_type": "markdown",
   "metadata": {},
   "source": [
    "#### Google"
   ]
  },
  {
   "cell_type": "code",
   "execution_count": 5,
   "metadata": {},
   "outputs": [
    {
     "data": {
      "text/html": [
       "<div>\n",
       "<style scoped>\n",
       "    .dataframe tbody tr th:only-of-type {\n",
       "        vertical-align: middle;\n",
       "    }\n",
       "\n",
       "    .dataframe tbody tr th {\n",
       "        vertical-align: top;\n",
       "    }\n",
       "\n",
       "    .dataframe thead th {\n",
       "        text-align: right;\n",
       "    }\n",
       "</style>\n",
       "<table border=\"1\" class=\"dataframe\">\n",
       "  <thead>\n",
       "    <tr style=\"text-align: right;\">\n",
       "      <th></th>\n",
       "      <th>engine</th>\n",
       "      <th>se_link</th>\n",
       "      <th>se_title</th>\n",
       "      <th>se_source</th>\n",
       "    </tr>\n",
       "  </thead>\n",
       "  <tbody>\n",
       "    <tr>\n",
       "      <th>0</th>\n",
       "      <td>Google</td>\n",
       "      <td>https://www.nytimes.com/2023/04/18/us/credit-s...</td>\n",
       "      <td>Beleaguered Swiss Bank Accused of Impeding Hun...</td>\n",
       "      <td>The New York Times</td>\n",
       "    </tr>\n",
       "    <tr>\n",
       "      <th>1</th>\n",
       "      <td>Google</td>\n",
       "      <td>https://www.reuters.com/business/finance/ubs-m...</td>\n",
       "      <td>UBS makes changes to buyback programme followi...</td>\n",
       "      <td>Reuters</td>\n",
       "    </tr>\n",
       "    <tr>\n",
       "      <th>2</th>\n",
       "      <td>Google</td>\n",
       "      <td>https://www.bloomberg.com/news/articles/2023-0...</td>\n",
       "      <td>UBS Gets Approval to Use Buyback Shares for Cr...</td>\n",
       "      <td>Bloomberg.com</td>\n",
       "    </tr>\n",
       "    <tr>\n",
       "      <th>3</th>\n",
       "      <td>Google</td>\n",
       "      <td>https://finance.yahoo.com/news/ubs-gets-approv...</td>\n",
       "      <td>UBS Gets Approval to Use Buyback Shares for Cr...</td>\n",
       "      <td>Yahoo Finance</td>\n",
       "    </tr>\n",
       "    <tr>\n",
       "      <th>4</th>\n",
       "      <td>Google</td>\n",
       "      <td>https://www.bloomberg.com/news/articles/2023-0...</td>\n",
       "      <td>Deutsche Bank Targets Asia's Rich as Credit Su...</td>\n",
       "      <td>Bloomberg.com</td>\n",
       "    </tr>\n",
       "  </tbody>\n",
       "</table>\n",
       "</div>"
      ],
      "text/plain": [
       "   engine                                            se_link  \\\n",
       "0  Google  https://www.nytimes.com/2023/04/18/us/credit-s...   \n",
       "1  Google  https://www.reuters.com/business/finance/ubs-m...   \n",
       "2  Google  https://www.bloomberg.com/news/articles/2023-0...   \n",
       "3  Google  https://finance.yahoo.com/news/ubs-gets-approv...   \n",
       "4  Google  https://www.bloomberg.com/news/articles/2023-0...   \n",
       "\n",
       "                                            se_title           se_source  \n",
       "0  Beleaguered Swiss Bank Accused of Impeding Hun...  The New York Times  \n",
       "1  UBS makes changes to buyback programme followi...             Reuters  \n",
       "2  UBS Gets Approval to Use Buyback Shares for Cr...       Bloomberg.com  \n",
       "3  UBS Gets Approval to Use Buyback Shares for Cr...       Yahoo Finance  \n",
       "4  Deutsche Bank Targets Asia's Rich as Credit Su...       Bloomberg.com  "
      ]
     },
     "execution_count": 5,
     "metadata": {},
     "output_type": "execute_result"
    }
   ],
   "source": [
    "google_links = google.get_links(20)\n",
    "google_links = pd.DataFrame(google_links)\n",
    "google_links.head()"
   ]
  },
  {
   "cell_type": "code",
   "execution_count": 13,
   "metadata": {},
   "outputs": [
    {
     "data": {
      "text/plain": [
       "0     Beleaguered Swiss Bank Accused of Impeding Hun...\n",
       "1     UBS makes changes to buyback programme followi...\n",
       "2     UBS Gets Approval to Use Buyback Shares for Cr...\n",
       "3     UBS Gets Approval to Use Buyback Shares for Cr...\n",
       "4     Deutsche Bank Targets Asia's Rich as Credit Su...\n",
       "5     Swiss government awards $9.7 mln contract rela...\n",
       "6     Investors rethink risk after Credit Suisse bon...\n",
       "7     A Lesson From Credit Suisse On The Unintended ...\n",
       "8     Credit Suisse Failed to Probe Nazi Past, Senat...\n",
       "9     DEADLINE ALERT: Award Winning Firm Labaton Suc...\n",
       "10    Breakingviews - Rivals can feast on Credit Sui...\n",
       "11    Credit Suisse to See Fifth of Wealth Assets Le...\n",
       "12    Stricken Credit Suisse Brings Forward Quarterl...\n",
       "13    CS LAWSUIT ALERT: Levi & Korsinsky Reminds Cre...\n",
       "14    After SVB and Credit Suisse: Whither the finan...\n",
       "15    UBS modifies share buyback program following C...\n",
       "16    UBS to Apply Repurchased Shares Toward Credit ...\n",
       "17    UBS Makes Changes To Buyback Program Following...\n",
       "18    Federal Reserve green lights UBS-Credit Suisse...\n",
       "19    UPDATE 1-UBS makes changes to buyback programm...\n",
       "Name: se_title, dtype: object"
      ]
     },
     "execution_count": 13,
     "metadata": {},
     "output_type": "execute_result"
    }
   ],
   "source": [
    "google_links[\"se_title\"]  #.apply(lambda x: \" \".join(x)).str.cat()  #.apply(clean_text)."
   ]
  },
  {
   "cell_type": "code",
   "execution_count": null,
   "metadata": {},
   "outputs": [],
   "source": [
    "text = clean_text()\n",
    "wordcloud = WordCloud().generate(text)\n",
    "\n",
    "plt.imshow(wordcloud, interpolation='bilinear')\n",
    "plt.axis(\"off\")\n",
    "plt.show()"
   ]
  },
  {
   "attachments": {},
   "cell_type": "markdown",
   "metadata": {},
   "source": [
    "#### Bing"
   ]
  },
  {
   "cell_type": "code",
   "execution_count": 6,
   "metadata": {},
   "outputs": [
    {
     "data": {
      "text/html": [
       "<div>\n",
       "<style scoped>\n",
       "    .dataframe tbody tr th:only-of-type {\n",
       "        vertical-align: middle;\n",
       "    }\n",
       "\n",
       "    .dataframe tbody tr th {\n",
       "        vertical-align: top;\n",
       "    }\n",
       "\n",
       "    .dataframe thead th {\n",
       "        text-align: right;\n",
       "    }\n",
       "</style>\n",
       "<table border=\"1\" class=\"dataframe\">\n",
       "  <thead>\n",
       "    <tr style=\"text-align: right;\">\n",
       "      <th></th>\n",
       "      <th>engine</th>\n",
       "      <th>se_link</th>\n",
       "      <th>se_title</th>\n",
       "      <th>se_source</th>\n",
       "    </tr>\n",
       "  </thead>\n",
       "  <tbody>\n",
       "    <tr>\n",
       "      <th>0</th>\n",
       "      <td>Bing</td>\n",
       "      <td>https://www.bloomberg.com/news/articles/2023-0...</td>\n",
       "      <td>UBS Gets Approval to Use Buyback Shares for Cr...</td>\n",
       "      <td>Bloomberg L.P.</td>\n",
       "    </tr>\n",
       "    <tr>\n",
       "      <th>1</th>\n",
       "      <td>Bing</td>\n",
       "      <td>https://www.bloomberg.com/news/articles/2023-0...</td>\n",
       "      <td>Credit Suisse’s Chris McMillan Exits for Role ...</td>\n",
       "      <td>Bloomberg L.P.</td>\n",
       "    </tr>\n",
       "    <tr>\n",
       "      <th>2</th>\n",
       "      <td>Bing</td>\n",
       "      <td>https://www.msn.com/en-us/money/markets/ubs-mo...</td>\n",
       "      <td>UBS modifies share buyback program following C...</td>\n",
       "      <td>Seeking Alpha on MSN</td>\n",
       "    </tr>\n",
       "    <tr>\n",
       "      <th>3</th>\n",
       "      <td>Bing</td>\n",
       "      <td>https://www.msn.com/en-us/money/markets/ubs-ma...</td>\n",
       "      <td>UBS makes changes to buyback programme followi...</td>\n",
       "      <td>Reuters on MSN</td>\n",
       "    </tr>\n",
       "    <tr>\n",
       "      <th>4</th>\n",
       "      <td>Bing</td>\n",
       "      <td>https://www.msn.com/en-us/money/savingandinves...</td>\n",
       "      <td>Credit Suisse fund outflows widen to $5.6 bill...</td>\n",
       "      <td>MarketWatch on MSN</td>\n",
       "    </tr>\n",
       "  </tbody>\n",
       "</table>\n",
       "</div>"
      ],
      "text/plain": [
       "  engine                                            se_link  \\\n",
       "0   Bing  https://www.bloomberg.com/news/articles/2023-0...   \n",
       "1   Bing  https://www.bloomberg.com/news/articles/2023-0...   \n",
       "2   Bing  https://www.msn.com/en-us/money/markets/ubs-mo...   \n",
       "3   Bing  https://www.msn.com/en-us/money/markets/ubs-ma...   \n",
       "4   Bing  https://www.msn.com/en-us/money/savingandinves...   \n",
       "\n",
       "                                            se_title             se_source  \n",
       "0  UBS Gets Approval to Use Buyback Shares for Cr...        Bloomberg L.P.  \n",
       "1  Credit Suisse’s Chris McMillan Exits for Role ...        Bloomberg L.P.  \n",
       "2  UBS modifies share buyback program following C...  Seeking Alpha on MSN  \n",
       "3  UBS makes changes to buyback programme followi...        Reuters on MSN  \n",
       "4  Credit Suisse fund outflows widen to $5.6 bill...    MarketWatch on MSN  "
      ]
     },
     "execution_count": 6,
     "metadata": {},
     "output_type": "execute_result"
    }
   ],
   "source": [
    "bing_links = bing.get_links(20)\n",
    "bing_links = pd.DataFrame(bing_links)\n",
    "bing_links.head()"
   ]
  },
  {
   "attachments": {},
   "cell_type": "markdown",
   "metadata": {},
   "source": [
    "#### Yahoo"
   ]
  },
  {
   "cell_type": "code",
   "execution_count": 8,
   "metadata": {},
   "outputs": [
    {
     "data": {
      "text/html": [
       "<div>\n",
       "<style scoped>\n",
       "    .dataframe tbody tr th:only-of-type {\n",
       "        vertical-align: middle;\n",
       "    }\n",
       "\n",
       "    .dataframe tbody tr th {\n",
       "        vertical-align: top;\n",
       "    }\n",
       "\n",
       "    .dataframe thead th {\n",
       "        text-align: right;\n",
       "    }\n",
       "</style>\n",
       "<table border=\"1\" class=\"dataframe\">\n",
       "  <thead>\n",
       "    <tr style=\"text-align: right;\">\n",
       "      <th></th>\n",
       "      <th>engine</th>\n",
       "      <th>se_link</th>\n",
       "      <th>se_title</th>\n",
       "      <th>se_source</th>\n",
       "    </tr>\n",
       "  </thead>\n",
       "  <tbody>\n",
       "    <tr>\n",
       "      <th>0</th>\n",
       "      <td>Yahoo</td>\n",
       "      <td>https://www.wsj.com/articles/credit-suisse-fai...</td>\n",
       "      <td>Credit Suisse Failed to Probe Nazi Past, Senat...</td>\n",
       "      <td>The Wall Street Journal</td>\n",
       "    </tr>\n",
       "    <tr>\n",
       "      <th>1</th>\n",
       "      <td>Yahoo</td>\n",
       "      <td>https://www.nytimes.com/2023/04/18/us/credit-s...</td>\n",
       "      <td>Beleaguered Swiss Bank Accused of Impeding Hun...</td>\n",
       "      <td>New York Times</td>\n",
       "    </tr>\n",
       "    <tr>\n",
       "      <th>2</th>\n",
       "      <td>Yahoo</td>\n",
       "      <td>https://seekingalpha.com/article/4594672-credi...</td>\n",
       "      <td>Credit Suisse And UBS Merger: Not Without Cons...</td>\n",
       "      <td>Seeking Alpha</td>\n",
       "    </tr>\n",
       "    <tr>\n",
       "      <th>3</th>\n",
       "      <td>Yahoo</td>\n",
       "      <td>https://money.usnews.com/investing/news/articl...</td>\n",
       "      <td>C.Suisse to Move Forward Q1 Earnings, Report B...</td>\n",
       "      <td>US News &amp; World Report</td>\n",
       "    </tr>\n",
       "    <tr>\n",
       "      <th>4</th>\n",
       "      <td>Yahoo</td>\n",
       "      <td>https://finance.yahoo.com/news/ubs-makes-chang...</td>\n",
       "      <td>UBS Makes Changes To Buyback Program Following...</td>\n",
       "      <td>Benzinga via Yahoo Finance</td>\n",
       "    </tr>\n",
       "  </tbody>\n",
       "</table>\n",
       "</div>"
      ],
      "text/plain": [
       "  engine                                            se_link  \\\n",
       "0  Yahoo  https://www.wsj.com/articles/credit-suisse-fai...   \n",
       "1  Yahoo  https://www.nytimes.com/2023/04/18/us/credit-s...   \n",
       "2  Yahoo  https://seekingalpha.com/article/4594672-credi...   \n",
       "3  Yahoo  https://money.usnews.com/investing/news/articl...   \n",
       "4  Yahoo  https://finance.yahoo.com/news/ubs-makes-chang...   \n",
       "\n",
       "                                            se_title  \\\n",
       "0  Credit Suisse Failed to Probe Nazi Past, Senat...   \n",
       "1  Beleaguered Swiss Bank Accused of Impeding Hun...   \n",
       "2  Credit Suisse And UBS Merger: Not Without Cons...   \n",
       "3  C.Suisse to Move Forward Q1 Earnings, Report B...   \n",
       "4  UBS Makes Changes To Buyback Program Following...   \n",
       "\n",
       "                    se_source  \n",
       "0     The Wall Street Journal  \n",
       "1              New York Times  \n",
       "2               Seeking Alpha  \n",
       "3      US News & World Report  \n",
       "4  Benzinga via Yahoo Finance  "
      ]
     },
     "execution_count": 8,
     "metadata": {},
     "output_type": "execute_result"
    }
   ],
   "source": [
    "yahoo_links = yahoo.get_links(20)\n",
    "yahoo_links = pd.DataFrame(yahoo_links)\n",
    "yahoo_links.head()"
   ]
  },
  {
   "attachments": {},
   "cell_type": "markdown",
   "metadata": {},
   "source": [
    "### Multi Search Engines"
   ]
  },
  {
   "cell_type": "code",
   "execution_count": null,
   "metadata": {},
   "outputs": [],
   "source": [
    "gogle_bing_links = get_all_links(engines=[Yahoo, Bing], max_articles=20) #20 Articles from Yahoo and Bing"
   ]
  },
  {
   "attachments": {},
   "cell_type": "markdown",
   "metadata": {},
   "source": [
    "### Filter by Dates\n",
    "\n",
    "**Note**: This only works for Google"
   ]
  },
  {
   "cell_type": "code",
   "execution_count": null,
   "metadata": {},
   "outputs": [],
   "source": [
    "# Show only Google Search Engine"
   ]
  },
  {
   "attachments": {},
   "cell_type": "markdown",
   "metadata": {},
   "source": [
    "## Content Extraction"
   ]
  },
  {
   "attachments": {},
   "cell_type": "markdown",
   "metadata": {},
   "source": [
    "### Single Engine"
   ]
  },
  {
   "cell_type": "code",
   "execution_count": null,
   "metadata": {},
   "outputs": [],
   "source": []
  },
  {
   "attachments": {},
   "cell_type": "markdown",
   "metadata": {},
   "source": [
    "### All Engines"
   ]
  },
  {
   "cell_type": "markdown",
   "metadata": {},
   "source": []
  },
  {
   "attachments": {},
   "cell_type": "markdown",
   "metadata": {},
   "source": [
    "## Full Search"
   ]
  },
  {
   "cell_type": "code",
   "execution_count": null,
   "metadata": {},
   "outputs": [],
   "source": []
  }
 ],
 "metadata": {
  "kernelspec": {
   "display_name": "RB_NLP",
   "language": "python",
   "name": "python3"
  },
  "language_info": {
   "codemirror_mode": {
    "name": "ipython",
    "version": 3
   },
   "file_extension": ".py",
   "mimetype": "text/x-python",
   "name": "python",
   "nbconvert_exporter": "python",
   "pygments_lexer": "ipython3",
   "version": "3.8.16"
  },
  "orig_nbformat": 4,
  "vscode": {
   "interpreter": {
    "hash": "10a7449f29f75ab6c3b0c7455488d1c69faf6daed02bbf1bf93e5a8736b23120"
   }
  }
 },
 "nbformat": 4,
 "nbformat_minor": 2
}
