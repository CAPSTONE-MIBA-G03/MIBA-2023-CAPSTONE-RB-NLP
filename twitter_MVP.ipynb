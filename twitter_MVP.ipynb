{
 "cells": [
  {
   "cell_type": "code",
   "execution_count": 1,
   "metadata": {},
   "outputs": [
    {
     "name": "stderr",
     "output_type": "stream",
     "text": [
      "/Users/johnbergmann/.pyenv/versions/3.10.11/envs/RB_NLP/lib/python3.10/site-packages/umap/distances.py:1063: NumbaDeprecationWarning: The 'nopython' keyword argument was not supplied to the 'numba.jit' decorator. The implicit default value for this argument is currently False, but it will be changed to True in Numba 0.59.0. See https://numba.readthedocs.io/en/stable/reference/deprecation.html#deprecation-of-object-mode-fall-back-behaviour-when-using-jit for details.\n",
      "  @numba.jit()\n",
      "/Users/johnbergmann/.pyenv/versions/3.10.11/envs/RB_NLP/lib/python3.10/site-packages/umap/distances.py:1071: NumbaDeprecationWarning: The 'nopython' keyword argument was not supplied to the 'numba.jit' decorator. The implicit default value for this argument is currently False, but it will be changed to True in Numba 0.59.0. See https://numba.readthedocs.io/en/stable/reference/deprecation.html#deprecation-of-object-mode-fall-back-behaviour-when-using-jit for details.\n",
      "  @numba.jit()\n",
      "/Users/johnbergmann/.pyenv/versions/3.10.11/envs/RB_NLP/lib/python3.10/site-packages/umap/distances.py:1086: NumbaDeprecationWarning: The 'nopython' keyword argument was not supplied to the 'numba.jit' decorator. The implicit default value for this argument is currently False, but it will be changed to True in Numba 0.59.0. See https://numba.readthedocs.io/en/stable/reference/deprecation.html#deprecation-of-object-mode-fall-back-behaviour-when-using-jit for details.\n",
      "  @numba.jit()\n",
      "/Users/johnbergmann/.pyenv/versions/3.10.11/envs/RB_NLP/lib/python3.10/site-packages/umap/umap_.py:660: NumbaDeprecationWarning: The 'nopython' keyword argument was not supplied to the 'numba.jit' decorator. The implicit default value for this argument is currently False, but it will be changed to True in Numba 0.59.0. See https://numba.readthedocs.io/en/stable/reference/deprecation.html#deprecation-of-object-mode-fall-back-behaviour-when-using-jit for details.\n",
      "  @numba.jit()\n"
     ]
    }
   ],
   "source": [
    "# import\n",
    "import importlib\n",
    "import pandas as pd\n",
    "from pipeline_executor import PipelineExecutor\n",
    "import nlp_analysis.word_wizard as ww\n",
    "\n",
    "# Supress warnings\n",
    "import warnings\n",
    "warnings.filterwarnings('ignore')"
   ]
  },
  {
   "cell_type": "code",
   "execution_count": 2,
   "metadata": {},
   "outputs": [
    {
     "name": "stderr",
     "output_type": "stream",
     "text": [
      "Getting news article info:   1%|          | 5/556 [00:00<00:51, 10.76it/s]encoding error : input conversion failed due to input error, bytes 0x21 0x00 0x00 0x00\n",
      "encoding error : input conversion failed due to input error, bytes 0x44 0x00 0x00 0x00\n",
      "I/O error : encoder error\n",
      "Getting news article info:   1%|▏         | 7/556 [00:00<00:48, 11.21it/s]encoding error : input conversion failed due to input error, bytes 0x21 0x00 0x00 0x00\n",
      "encoding error : input conversion failed due to input error, bytes 0x44 0x00 0x00 0x00\n",
      "I/O error : encoder error\n",
      "Getting news article info:   3%|▎         | 15/556 [00:01<00:47, 11.45it/s]encoding error : input conversion failed due to input error, bytes 0x21 0x00 0x00 0x00\n",
      "encoding error : input conversion failed due to input error, bytes 0x64 0x00 0x00 0x00\n",
      "I/O error : encoder error\n",
      "Getting news article info:   5%|▍         | 26/556 [00:02<00:41, 12.76it/s]encoding error : input conversion failed due to input error, bytes 0x21 0x00 0x00 0x00\n",
      "encoding error : input conversion failed due to input error, bytes 0x64 0x00 0x00 0x00\n",
      "I/O error : encoder error\n",
      "Getting news article info:   6%|▌         | 32/556 [00:03<00:44, 11.65it/s]encoding error : input conversion failed due to input error, bytes 0x21 0x00 0x00 0x00\n",
      "encoding error : input conversion failed due to input error, bytes 0x44 0x00 0x00 0x00\n",
      "I/O error : encoder error\n",
      "Getting news article info:   9%|▉         | 49/556 [00:05<01:00,  8.37it/s]encoding error : input conversion failed due to input error, bytes 0x21 0x00 0x00 0x00\n",
      "encoding error : input conversion failed due to input error, bytes 0x44 0x00 0x00 0x00\n",
      "I/O error : encoder error\n",
      "Getting news article info:  10%|█         | 56/556 [00:06<00:45, 10.94it/s]encoding error : input conversion failed due to input error, bytes 0x21 0x00 0x00 0x00\n",
      "encoding error : input conversion failed due to input error, bytes 0x44 0x00 0x00 0x00\n",
      "I/O error : encoder error\n",
      "Getting news article info:  16%|█▋        | 91/556 [00:09<00:40, 11.61it/s]encoding error : input conversion failed due to input error, bytes 0x21 0x00 0x00 0x00\n",
      "encoding error : input conversion failed due to input error, bytes 0x44 0x00 0x00 0x00\n",
      "I/O error : encoder error\n",
      "encoding error : input conversion failed due to input error, bytes 0x21 0x00 0x00 0x00\n",
      "encoding error : input conversion failed due to input error, bytes 0x64 0x00 0x00 0x00\n",
      "I/O error : encoder error\n",
      "Getting news article info:  22%|██▏       | 125/556 [00:13<00:54,  7.91it/s]encoding error : input conversion failed due to input error, bytes 0x21 0x00 0x00 0x00\n",
      "encoding error : input conversion failed due to input error, bytes 0x64 0x00 0x00 0x00\n",
      "I/O error : encoder error\n",
      "Getting news article info:  24%|██▎       | 131/556 [00:14<00:52,  8.14it/s]encoding error : input conversion failed due to input error, bytes 0x21 0x00 0x00 0x00\n",
      "encoding error : input conversion failed due to input error, bytes 0x44 0x00 0x00 0x00\n",
      "I/O error : encoder error\n",
      "encoding error : input conversion failed due to input error, bytes 0x21 0x00 0x00 0x00\n",
      "encoding error : input conversion failed due to input error, bytes 0x44 0x00 0x00 0x00\n",
      "I/O error : encoder error\n",
      "Getting news article info:  27%|██▋       | 150/556 [00:17<00:56,  7.16it/s]encoding error : input conversion failed due to input error, bytes 0x21 0x00 0x00 0x00\n",
      "encoding error : input conversion failed due to input error, bytes 0x44 0x00 0x00 0x00\n",
      "I/O error : encoder error\n",
      "encoding error : input conversion failed due to input error, bytes 0x21 0x00 0x00 0x00\n",
      "encoding error : input conversion failed due to input error, bytes 0x64 0x00 0x00 0x00\n",
      "I/O error : encoder error\n",
      "Getting news article info:  35%|███▍      | 193/556 [00:24<00:42,  8.56it/s]encoding error : input conversion failed due to input error, bytes 0x21 0x00 0x00 0x00\n",
      "encoding error : input conversion failed due to input error, bytes 0x44 0x00 0x00 0x00\n",
      "I/O error : encoder error\n",
      "Getting news article info:  37%|███▋      | 207/556 [00:25<00:40,  8.52it/s]encoding error : input conversion failed due to input error, bytes 0x21 0x00 0x00 0x00\n",
      "encoding error : input conversion failed due to input error, bytes 0x44 0x00 0x00 0x00\n",
      "I/O error : encoder error\n",
      "Getting news article info:  40%|████      | 223/556 [00:27<00:36,  9.20it/s]encoding error : input conversion failed due to input error, bytes 0x21 0x00 0x00 0x00\n",
      "encoding error : input conversion failed due to input error, bytes 0x64 0x00 0x00 0x00\n",
      "I/O error : encoder error\n",
      "Getting news article info:  41%|████      | 226/556 [00:28<01:02,  5.27it/s]encoding error : input conversion failed due to input error, bytes 0x21 0x00 0x00 0x00\n",
      "encoding error : input conversion failed due to input error, bytes 0x44 0x00 0x00 0x00\n",
      "I/O error : encoder error\n",
      "Getting news article info:  45%|████▌     | 252/556 [00:33<01:56,  2.60it/s]encoding error : input conversion failed due to input error, bytes 0x21 0x00 0x00 0x00\n",
      "encoding error : input conversion failed due to input error, bytes 0x64 0x00 0x00 0x00\n",
      "I/O error : encoder error\n",
      "Getting news article info:  46%|████▋     | 258/556 [00:37<02:31,  1.97it/s]encoding error : input conversion failed due to input error, bytes 0x21 0x00 0x00 0x00\n",
      "encoding error : input conversion failed due to input error, bytes 0x44 0x00 0x00 0x00\n",
      "I/O error : encoder error\n",
      "Getting news article info:  49%|████▊     | 270/556 [00:39<00:50,  5.67it/s]encoding error : input conversion failed due to input error, bytes 0x21 0x00 0x00 0x00\n",
      "encoding error : input conversion failed due to input error, bytes 0x44 0x00 0x00 0x00\n",
      "I/O error : encoder error\n",
      "Getting news article info:  52%|█████▏    | 289/556 [00:41<00:24, 10.85it/s]encoding error : input conversion failed due to input error, bytes 0x21 0x00 0x00 0x00\n",
      "encoding error : input conversion failed due to input error, bytes 0x44 0x00 0x00 0x00\n",
      "I/O error : encoder error\n",
      "Getting news article info:  53%|█████▎    | 293/556 [00:42<00:23, 11.36it/s]encoding error : input conversion failed due to input error, bytes 0x21 0x00 0x00 0x00\n",
      "encoding error : input conversion failed due to input error, bytes 0x44 0x00 0x00 0x00\n",
      "I/O error : encoder error\n",
      "Getting news article info:  54%|█████▍    | 300/556 [00:43<00:26,  9.77it/s]encoding error : input conversion failed due to input error, bytes 0x21 0x00 0x00 0x00\n",
      "encoding error : input conversion failed due to input error, bytes 0x44 0x00 0x00 0x00\n",
      "I/O error : encoder error\n",
      "Getting news article info:  56%|█████▌    | 309/556 [00:44<00:29,  8.24it/s]encoding error : input conversion failed due to input error, bytes 0x21 0x00 0x00 0x00\n",
      "encoding error : input conversion failed due to input error, bytes 0x44 0x00 0x00 0x00\n",
      "I/O error : encoder error\n",
      "Getting news article info:  58%|█████▊    | 322/556 [00:46<00:29,  8.07it/s]encoding error : input conversion failed due to input error, bytes 0x21 0x00 0x00 0x00\n",
      "encoding error : input conversion failed due to input error, bytes 0x64 0x00 0x00 0x00\n",
      "I/O error : encoder error\n",
      "Getting news article info:  60%|█████▉    | 332/556 [00:48<00:50,  4.42it/s]encoding error : input conversion failed due to input error, bytes 0x21 0x00 0x00 0x00\n",
      "encoding error : input conversion failed due to input error, bytes 0x44 0x00 0x00 0x00\n",
      "I/O error : encoder error\n",
      "Getting news article info:  68%|██████▊   | 376/556 [00:54<00:23,  7.70it/s]encoding error : input conversion failed due to input error, bytes 0x21 0x00 0x00 0x00\n",
      "encoding error : input conversion failed due to input error, bytes 0x44 0x00 0x00 0x00\n",
      "I/O error : encoder error\n",
      "Getting news article info:  68%|██████▊   | 378/556 [00:54<00:20,  8.57it/s]encoding error : input conversion failed due to input error, bytes 0x21 0x00 0x00 0x00\n",
      "encoding error : input conversion failed due to input error, bytes 0x64 0x00 0x00 0x00\n",
      "I/O error : encoder error\n",
      "Getting news article info:  70%|██████▉   | 389/556 [00:55<00:21,  7.87it/s]encoding error : input conversion failed due to input error, bytes 0x21 0x00 0x00 0x00\n",
      "encoding error : input conversion failed due to input error, bytes 0x44 0x00 0x00 0x00\n",
      "I/O error : encoder error\n",
      "Getting news article info:  71%|███████   | 396/556 [00:56<00:24,  6.60it/s]encoding error : input conversion failed due to input error, bytes 0x21 0x00 0x00 0x00\n",
      "encoding error : input conversion failed due to input error, bytes 0x44 0x00 0x00 0x00\n",
      "I/O error : encoder error\n",
      "Getting news article info:  72%|███████▏  | 402/556 [00:57<00:12, 12.53it/s]encoding error : input conversion failed due to input error, bytes 0x21 0x00 0x00 0x00\n",
      "encoding error : input conversion failed due to input error, bytes 0x44 0x00 0x00 0x00\n",
      "I/O error : encoder error\n",
      "Getting news article info:  73%|███████▎  | 404/556 [00:57<00:16,  9.46it/s]encoding error : input conversion failed due to input error, bytes 0x21 0x00 0x00 0x00\n",
      "encoding error : input conversion failed due to input error, bytes 0x44 0x00 0x00 0x00\n",
      "I/O error : encoder error\n",
      "Getting news article info:  73%|███████▎  | 408/556 [00:58<00:29,  4.94it/s]encoding error : input conversion failed due to input error, bytes 0x21 0x00 0x00 0x00\n",
      "encoding error : input conversion failed due to input error, bytes 0x64 0x00 0x00 0x00\n",
      "I/O error : encoder error\n",
      "Getting news article info:  75%|███████▍  | 416/556 [00:59<00:14,  9.70it/s]encoding error : input conversion failed due to input error, bytes 0x21 0x00 0x00 0x00\n",
      "encoding error : input conversion failed due to input error, bytes 0x64 0x00 0x00 0x00\n",
      "I/O error : encoder error\n",
      "encoding error : input conversion failed due to input error, bytes 0x21 0x00 0x00 0x00\n",
      "encoding error : input conversion failed due to input error, bytes 0x44 0x00 0x00 0x00\n",
      "I/O error : encoder error\n",
      "Getting news article info:  77%|███████▋  | 428/556 [01:01<00:14,  8.54it/s]encoding error : input conversion failed due to input error, bytes 0x21 0x00 0x00 0x00\n",
      "encoding error : input conversion failed due to input error, bytes 0x44 0x00 0x00 0x00\n",
      "I/O error : encoder error\n",
      "Getting news article info:  78%|███████▊  | 434/556 [01:01<00:10, 11.95it/s]encoding error : input conversion failed due to input error, bytes 0x21 0x00 0x00 0x00\n",
      "encoding error : input conversion failed due to input error, bytes 0x44 0x00 0x00 0x00\n",
      "I/O error : encoder error\n",
      "Getting news article info:  80%|████████  | 446/556 [01:03<00:13,  8.33it/s]encoding error : input conversion failed due to input error, bytes 0x21 0x00 0x00 0x00\n",
      "encoding error : input conversion failed due to input error, bytes 0x44 0x00 0x00 0x00\n",
      "I/O error : encoder error\n",
      "Getting news article info:  82%|████████▏ | 457/556 [01:05<00:13,  7.23it/s]encoding error : input conversion failed due to input error, bytes 0x21 0x00 0x00 0x00\n",
      "encoding error : input conversion failed due to input error, bytes 0x44 0x00 0x00 0x00\n",
      "I/O error : encoder error\n",
      "Getting news article info:  85%|████████▍ | 470/556 [01:06<00:09,  8.65it/s]encoding error : input conversion failed due to input error, bytes 0x21 0x00 0x00 0x00\n",
      "encoding error : input conversion failed due to input error, bytes 0x64 0x00 0x00 0x00\n",
      "I/O error : encoder error\n",
      "encoding error : input conversion failed due to input error, bytes 0x21 0x00 0x00 0x00\n",
      "encoding error : input conversion failed due to input error, bytes 0x44 0x00 0x00 0x00\n",
      "I/O error : encoder error\n",
      "Getting news article info:  86%|████████▋ | 480/556 [01:08<00:07,  9.81it/s]encoding error : input conversion failed due to input error, bytes 0x21 0x00 0x00 0x00\n",
      "encoding error : input conversion failed due to input error, bytes 0x44 0x00 0x00 0x00\n",
      "I/O error : encoder error\n",
      "Getting news article info:  87%|████████▋ | 482/556 [01:08<00:09,  7.86it/s]encoding error : input conversion failed due to input error, bytes 0x21 0x00 0x00 0x00\n",
      "encoding error : input conversion failed due to input error, bytes 0x44 0x00 0x00 0x00\n",
      "I/O error : encoder error\n",
      "Getting news article info:  88%|████████▊ | 487/556 [01:08<00:07,  9.14it/s]encoding error : input conversion failed due to input error, bytes 0x21 0x00 0x00 0x00\n",
      "encoding error : input conversion failed due to input error, bytes 0x44 0x00 0x00 0x00\n",
      "I/O error : encoder error\n",
      "Getting news article info:  88%|████████▊ | 489/556 [01:08<00:06, 10.60it/s]encoding error : input conversion failed due to input error, bytes 0x21 0x00 0x00 0x00\n",
      "encoding error : input conversion failed due to input error, bytes 0x44 0x00 0x00 0x00\n",
      "I/O error : encoder error\n",
      "Getting news article info:  89%|████████▉ | 497/556 [01:10<00:07,  8.24it/s]encoding error : input conversion failed due to input error, bytes 0x21 0x00 0x00 0x00\n",
      "encoding error : input conversion failed due to input error, bytes 0x44 0x00 0x00 0x00\n",
      "I/O error : encoder error\n",
      "Getting news article info:  90%|████████▉ | 498/556 [01:10<00:09,  6.10it/s]encoding error : input conversion failed due to input error, bytes 0x21 0x00 0x00 0x00\n",
      "encoding error : input conversion failed due to input error, bytes 0x44 0x00 0x00 0x00\n",
      "I/O error : encoder error\n",
      "Getting news article info:  93%|█████████▎| 516/556 [01:12<00:04,  9.78it/s]encoding error : input conversion failed due to input error, bytes 0x21 0x00 0x00 0x00\n",
      "encoding error : input conversion failed due to input error, bytes 0x44 0x00 0x00 0x00\n",
      "I/O error : encoder error\n",
      "Getting news article info:  93%|█████████▎| 518/556 [01:12<00:04,  8.79it/s]encoding error : input conversion failed due to input error, bytes 0x21 0x00 0x00 0x00\n",
      "encoding error : input conversion failed due to input error, bytes 0x44 0x00 0x00 0x00\n",
      "I/O error : encoder error\n",
      "Getting news article info:  96%|█████████▌| 533/556 [01:14<00:02,  9.45it/s]encoding error : input conversion failed due to input error, bytes 0x21 0x00 0x00 0x00\n",
      "encoding error : input conversion failed due to input error, bytes 0x44 0x00 0x00 0x00\n",
      "I/O error : encoder error\n",
      "encoding error : input conversion failed due to input error, bytes 0x21 0x00 0x00 0x00\n",
      "encoding error : input conversion failed due to input error, bytes 0x44 0x00 0x00 0x00\n",
      "I/O error : encoder error\n",
      "Getting news article info:  98%|█████████▊| 547/556 [01:15<00:00, 11.14it/s]encoding error : input conversion failed due to input error, bytes 0x21 0x00 0x00 0x00\n",
      "encoding error : input conversion failed due to input error, bytes 0x64 0x00 0x00 0x00\n",
      "I/O error : encoder error\n",
      "encoding error : input conversion failed due to input error, bytes 0x21 0x00 0x00 0x00\n",
      "encoding error : input conversion failed due to input error, bytes 0x44 0x00 0x00 0x00\n",
      "I/O error : encoder error\n",
      "Getting news article info: 100%|██████████| 556/556 [01:17<00:00,  7.19it/s]\n"
     ]
    }
   ],
   "source": [
    "# get data\n",
    "topic = \"Twitter\"\n",
    "pipeline_executor = PipelineExecutor()\n",
    "articles = pipeline_executor.execute(query=topic, max_articles=None, overwrite=False)"
   ]
  },
  {
   "cell_type": "code",
   "execution_count": 3,
   "metadata": {},
   "outputs": [],
   "source": [
    "# Paragraphs - Word - silhouette\n",
    "wizard = ww.WordWizard(articles)"
   ]
  },
  {
   "cell_type": "code",
   "execution_count": 4,
   "metadata": {},
   "outputs": [
    {
     "data": {
      "application/vnd.jupyter.widget-view+json": {
       "model_id": "3743a57f5cda46e089bab11ff6a01c8c",
       "version_major": 2,
       "version_minor": 0
      },
      "text/plain": [
       "Batches:   0%|          | 0/76 [00:00<?, ?it/s]"
      ]
     },
     "metadata": {},
     "output_type": "display_data"
    },
    {
     "data": {
      "text/plain": [
       "<nlp_analysis.word_wizard.WordWizard at 0x2a10bd510>"
      ]
     },
     "execution_count": 4,
     "metadata": {},
     "output_type": "execute_result"
    }
   ],
   "source": [
    "wizard.create_sentence_embeddings()"
   ]
  },
  {
   "cell_type": "code",
   "execution_count": 5,
   "metadata": {},
   "outputs": [
    {
     "data": {
      "text/plain": [
       "<nlp_analysis.word_wizard.WordWizard at 0x2a10bd510>"
      ]
     },
     "execution_count": 5,
     "metadata": {},
     "output_type": "execute_result"
    }
   ],
   "source": [
    "wizard.cluster_embeddings()"
   ]
  },
  {
   "cell_type": "code",
   "execution_count": 6,
   "metadata": {},
   "outputs": [
    {
     "data": {
      "application/vnd.jupyter.widget-view+json": {
       "model_id": "e6199303dbf24b47b3c0004036f721c6",
       "version_major": 2,
       "version_minor": 0
      },
      "text/plain": [
       "Extracting organizations from paragraph:   0%|          | 0/5 [00:00<?, ?it/s]"
      ]
     },
     "metadata": {},
     "output_type": "display_data"
    },
    {
     "data": {
      "text/plain": [
       "<nlp_analysis.word_wizard.WordWizard at 0x2a10bd510>"
      ]
     },
     "execution_count": 6,
     "metadata": {},
     "output_type": "execute_result"
    }
   ],
   "source": [
    "wizard.entitiy_recognition()"
   ]
  },
  {
   "cell_type": "code",
   "execution_count": 7,
   "metadata": {},
   "outputs": [
    {
     "data": {
      "text/plain": [
       "<nlp_analysis.word_wizard.WordWizard at 0x2a10bd510>"
      ]
     },
     "execution_count": 7,
     "metadata": {},
     "output_type": "execute_result"
    }
   ],
   "source": [
    "wizard.topic_modelling()"
   ]
  },
  {
   "cell_type": "code",
   "execution_count": 9,
   "metadata": {},
   "outputs": [
    {
     "data": {
      "application/vnd.jupyter.widget-view+json": {
       "model_id": "a46e8dde319e406c9802b6b770104700",
       "version_major": 2,
       "version_minor": 0
      },
      "text/plain": [
       "Calculating sentiment using paragraph:   0%|          | 0/2197 [00:00<?, ?it/s]"
      ]
     },
     "metadata": {},
     "output_type": "display_data"
    },
    {
     "data": {
      "text/plain": [
       "<nlp_analysis.word_wizard.WordWizard at 0x2a10bd510>"
      ]
     },
     "execution_count": 9,
     "metadata": {},
     "output_type": "execute_result"
    }
   ],
   "source": [
    "wizard.find_sentiment()"
   ]
  },
  {
   "cell_type": "code",
   "execution_count": 10,
   "metadata": {},
   "outputs": [
    {
     "data": {
      "text/plain": [
       "<nlp_analysis.word_wizard.WordWizard at 0x2a10bd510>"
      ]
     },
     "execution_count": 10,
     "metadata": {},
     "output_type": "execute_result"
    }
   ],
   "source": [
    "wizard.reduce_demensionality()"
   ]
  },
  {
   "cell_type": "code",
   "execution_count": 11,
   "metadata": {},
   "outputs": [],
   "source": [
    "# topics comes as a list of tuples (topic, score). I want to keep only the first 5 tuples and round the score to 3 decimals\n",
    "wizard.df[\"topics\"] = wizard.df[\"topics\"].apply(lambda x: [tuple((topic, round(score, 3))) for topic, score in x[:5]])"
   ]
  },
  {
   "cell_type": "code",
   "execution_count": 13,
   "metadata": {},
   "outputs": [],
   "source": [
    "wizard_copy = wizard.df.copy()"
   ]
  },
  {
   "cell_type": "code",
   "execution_count": 14,
   "metadata": {},
   "outputs": [],
   "source": [
    "wizard.df['x'] = wizard.df.iloc[:,-1].apply(lambda x: x[0])\n",
    "wizard.df['y'] = wizard.df.iloc[:,-2].apply(lambda x: x[1])"
   ]
  },
  {
   "cell_type": "code",
   "execution_count": 15,
   "metadata": {},
   "outputs": [],
   "source": [
    "# count cluster size\n",
    "wizard.df['cluster_size'] = wizard.df.groupby('paragraph_sentence_embeddings_clusters')['paragraph_sentence_embeddings_clusters'].transform('count')"
   ]
  },
  {
   "cell_type": "code",
   "execution_count": 18,
   "metadata": {},
   "outputs": [],
   "source": [
    "# aggregate cluster sentiment\n",
    "wizard.df['cluster_sentiment'] = wizard.df.groupby('paragraph_sentence_embeddings_clusters')['paragraph_sentiment'].transform('mean')"
   ]
  },
  {
   "cell_type": "code",
   "execution_count": 19,
   "metadata": {},
   "outputs": [],
   "source": [
    "# keep only medoids\n",
    "wizard.df = wizard.df[wizard.df['paragraph_sentence_embeddings_clusters_medoids'] == True]"
   ]
  },
  {
   "cell_type": "code",
   "execution_count": 20,
   "metadata": {},
   "outputs": [],
   "source": [
    "# keep only cluster_size, x, y, cluster_sentiment, paragraph_clusters_sentence_embeddings_NER, topics\n",
    "ner_col = [col for col in wizard.df.columns if col.endswith('NER')][0]\n",
    "wizard.df = wizard.df[['cluster_size', 'x', 'y', 'cluster_sentiment', ner_col, 'topics']]"
   ]
  },
  {
   "cell_type": "code",
   "execution_count": 21,
   "metadata": {},
   "outputs": [],
   "source": [
    "# rename columns\n",
    "wizard.df.columns = ['size', 'x', 'y', 'sentiment', 'entities', 'topics']"
   ]
  },
  {
   "cell_type": "code",
   "execution_count": 23,
   "metadata": {},
   "outputs": [
    {
     "data": {
      "text/html": [
       "<div>\n",
       "<style scoped>\n",
       "    .dataframe tbody tr th:only-of-type {\n",
       "        vertical-align: middle;\n",
       "    }\n",
       "\n",
       "    .dataframe tbody tr th {\n",
       "        vertical-align: top;\n",
       "    }\n",
       "\n",
       "    .dataframe thead th {\n",
       "        text-align: right;\n",
       "    }\n",
       "</style>\n",
       "<table border=\"1\" class=\"dataframe\">\n",
       "  <thead>\n",
       "    <tr style=\"text-align: right;\">\n",
       "      <th></th>\n",
       "      <th>size</th>\n",
       "      <th>x</th>\n",
       "      <th>y</th>\n",
       "      <th>sentiment</th>\n",
       "      <th>entities</th>\n",
       "      <th>topics</th>\n",
       "    </tr>\n",
       "  </thead>\n",
       "  <tbody>\n",
       "    <tr>\n",
       "      <th>131</th>\n",
       "      <td>565</td>\n",
       "      <td>0.831824</td>\n",
       "      <td>16.119192</td>\n",
       "      <td>0.472566</td>\n",
       "      <td>['Twitter', 'Fox News', 'Raw Videos', 'NPR', '...</td>\n",
       "      <td>[(oconnor, 0.01), (said, 0.009), (year, 0.007)...</td>\n",
       "    </tr>\n",
       "    <tr>\n",
       "      <th>381</th>\n",
       "      <td>158</td>\n",
       "      <td>-1.159285</td>\n",
       "      <td>2.252434</td>\n",
       "      <td>1.094937</td>\n",
       "      <td>['“Obviously I didn’t get the big score I’d ha...</td>\n",
       "      <td>[(ball, 0.026), (england, 0.025), (smith, 0.01...</td>\n",
       "    </tr>\n",
       "    <tr>\n",
       "      <th>395</th>\n",
       "      <td>158</td>\n",
       "      <td>-1.102350</td>\n",
       "      <td>2.041899</td>\n",
       "      <td>1.094937</td>\n",
       "      <td>['“Obviously I didn’t get the big score I’d ha...</td>\n",
       "      <td>[(ball, 0.026), (england, 0.025), (smith, 0.01...</td>\n",
       "    </tr>\n",
       "    <tr>\n",
       "      <th>449</th>\n",
       "      <td>608</td>\n",
       "      <td>2.013791</td>\n",
       "      <td>9.731251</td>\n",
       "      <td>1.067434</td>\n",
       "      <td>['Twitter', 'In a virtual memorial service, th...</td>\n",
       "      <td>[(honor, 0.008), (technology, 0.007), (ai, 0.0...</td>\n",
       "    </tr>\n",
       "    <tr>\n",
       "      <th>1031</th>\n",
       "      <td>608</td>\n",
       "      <td>0.271912</td>\n",
       "      <td>6.411808</td>\n",
       "      <td>1.067434</td>\n",
       "      <td>['Twitter', 'In a virtual memorial service, th...</td>\n",
       "      <td>[(honor, 0.008), (technology, 0.007), (ai, 0.0...</td>\n",
       "    </tr>\n",
       "    <tr>\n",
       "      <th>1525</th>\n",
       "      <td>941</td>\n",
       "      <td>-3.882543</td>\n",
       "      <td>13.117978</td>\n",
       "      <td>0.646121</td>\n",
       "      <td>['Twitter', 'Google', 'NPR', 'EU', 'Big Tech']</td>\n",
       "      <td>[(musk, 0.015), (twitter, 0.014), (account, 0....</td>\n",
       "    </tr>\n",
       "    <tr>\n",
       "      <th>1553</th>\n",
       "      <td>140</td>\n",
       "      <td>-2.096040</td>\n",
       "      <td>4.112012</td>\n",
       "      <td>1.257143</td>\n",
       "      <td>['NBA', 'Rangers', 'Cardinals', 'NCAA', \"How E...</td>\n",
       "      <td>[(season, 0.026), (team, 0.021), (game, 0.017)...</td>\n",
       "    </tr>\n",
       "    <tr>\n",
       "      <th>1736</th>\n",
       "      <td>565</td>\n",
       "      <td>-2.806425</td>\n",
       "      <td>9.852136</td>\n",
       "      <td>0.472566</td>\n",
       "      <td>['Twitter', 'Fox News', 'Raw Videos', 'NPR', '...</td>\n",
       "      <td>[(oconnor, 0.01), (said, 0.009), (year, 0.007)...</td>\n",
       "    </tr>\n",
       "    <tr>\n",
       "      <th>2204</th>\n",
       "      <td>140</td>\n",
       "      <td>-2.142520</td>\n",
       "      <td>4.102574</td>\n",
       "      <td>1.257143</td>\n",
       "      <td>['NBA', 'Rangers', 'Cardinals', 'NCAA', \"How E...</td>\n",
       "      <td>[(season, 0.026), (team, 0.021), (game, 0.017)...</td>\n",
       "    </tr>\n",
       "    <tr>\n",
       "      <th>2337</th>\n",
       "      <td>941</td>\n",
       "      <td>-2.887728</td>\n",
       "      <td>12.163920</td>\n",
       "      <td>0.646121</td>\n",
       "      <td>['Twitter', 'Google', 'NPR', 'EU', 'Big Tech']</td>\n",
       "      <td>[(musk, 0.015), (twitter, 0.014), (account, 0....</td>\n",
       "    </tr>\n",
       "  </tbody>\n",
       "</table>\n",
       "</div>"
      ],
      "text/plain": [
       "      size         x          y  sentiment  \\\n",
       "131    565  0.831824  16.119192   0.472566   \n",
       "381    158 -1.159285   2.252434   1.094937   \n",
       "395    158 -1.102350   2.041899   1.094937   \n",
       "449    608  2.013791   9.731251   1.067434   \n",
       "1031   608  0.271912   6.411808   1.067434   \n",
       "1525   941 -3.882543  13.117978   0.646121   \n",
       "1553   140 -2.096040   4.112012   1.257143   \n",
       "1736   565 -2.806425   9.852136   0.472566   \n",
       "2204   140 -2.142520   4.102574   1.257143   \n",
       "2337   941 -2.887728  12.163920   0.646121   \n",
       "\n",
       "                                               entities  \\\n",
       "131   ['Twitter', 'Fox News', 'Raw Videos', 'NPR', '...   \n",
       "381   ['“Obviously I didn’t get the big score I’d ha...   \n",
       "395   ['“Obviously I didn’t get the big score I’d ha...   \n",
       "449   ['Twitter', 'In a virtual memorial service, th...   \n",
       "1031  ['Twitter', 'In a virtual memorial service, th...   \n",
       "1525     ['Twitter', 'Google', 'NPR', 'EU', 'Big Tech']   \n",
       "1553  ['NBA', 'Rangers', 'Cardinals', 'NCAA', \"How E...   \n",
       "1736  ['Twitter', 'Fox News', 'Raw Videos', 'NPR', '...   \n",
       "2204  ['NBA', 'Rangers', 'Cardinals', 'NCAA', \"How E...   \n",
       "2337     ['Twitter', 'Google', 'NPR', 'EU', 'Big Tech']   \n",
       "\n",
       "                                                 topics  \n",
       "131   [(oconnor, 0.01), (said, 0.009), (year, 0.007)...  \n",
       "381   [(ball, 0.026), (england, 0.025), (smith, 0.01...  \n",
       "395   [(ball, 0.026), (england, 0.025), (smith, 0.01...  \n",
       "449   [(honor, 0.008), (technology, 0.007), (ai, 0.0...  \n",
       "1031  [(honor, 0.008), (technology, 0.007), (ai, 0.0...  \n",
       "1525  [(musk, 0.015), (twitter, 0.014), (account, 0....  \n",
       "1553  [(season, 0.026), (team, 0.021), (game, 0.017)...  \n",
       "1736  [(oconnor, 0.01), (said, 0.009), (year, 0.007)...  \n",
       "2204  [(season, 0.026), (team, 0.021), (game, 0.017)...  \n",
       "2337  [(musk, 0.015), (twitter, 0.014), (account, 0....  "
      ]
     },
     "execution_count": 23,
     "metadata": {},
     "output_type": "execute_result"
    }
   ],
   "source": [
    "wizard.df"
   ]
  },
  {
   "cell_type": "code",
   "execution_count": 24,
   "metadata": {},
   "outputs": [],
   "source": [
    "# safe to csv\n",
    "wizard.df.to_csv('twitter.csv', index=False)"
   ]
  }
 ],
 "metadata": {
  "kernelspec": {
   "display_name": "Python 3",
   "language": "python",
   "name": "python3"
  },
  "language_info": {
   "codemirror_mode": {
    "name": "ipython",
    "version": 3
   },
   "file_extension": ".py",
   "mimetype": "text/x-python",
   "name": "python",
   "nbconvert_exporter": "python",
   "pygments_lexer": "ipython3",
   "version": "3.10.11"
  },
  "orig_nbformat": 4
 },
 "nbformat": 4,
 "nbformat_minor": 2
}
