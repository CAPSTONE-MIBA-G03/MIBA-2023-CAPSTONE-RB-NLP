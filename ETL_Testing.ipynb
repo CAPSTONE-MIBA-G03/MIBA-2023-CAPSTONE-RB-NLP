{
 "cells": [
  {
   "cell_type": "code",
   "execution_count": 1,
   "metadata": {},
   "outputs": [],
   "source": [
    "# Imports\n",
    "from fake_useragent import UserAgent"
   ]
  },
  {
   "attachments": {},
   "cell_type": "markdown",
   "metadata": {},
   "source": [
    "## Testing \"link_extractor\""
   ]
  },
  {
   "cell_type": "code",
   "execution_count": 2,
   "metadata": {},
   "outputs": [],
   "source": [
    "import pandas as pd\n",
    "from etl_pipeline.link_extractor import Google, Bing, Yahoo"
   ]
  },
  {
   "attachments": {},
   "cell_type": "markdown",
   "metadata": {},
   "source": [
    "### Testing Google class"
   ]
  },
  {
   "cell_type": "code",
   "execution_count": 3,
   "metadata": {},
   "outputs": [],
   "source": [
    "google = Google(company=\"UBS\")\n",
    "google_links = google.get_links(20)"
   ]
  },
  {
   "cell_type": "code",
   "execution_count": 4,
   "metadata": {},
   "outputs": [],
   "source": [
    "df = pd.DataFrame(google_links)"
   ]
  },
  {
   "cell_type": "code",
   "execution_count": 5,
   "metadata": {},
   "outputs": [
    {
     "data": {
      "text/plain": [
       "(300, 4)"
      ]
     },
     "execution_count": 5,
     "metadata": {},
     "output_type": "execute_result"
    }
   ],
   "source": [
    "df.shape"
   ]
  },
  {
   "cell_type": "code",
   "execution_count": 6,
   "metadata": {},
   "outputs": [
    {
     "data": {
      "text/html": [
       "<div>\n",
       "<style scoped>\n",
       "    .dataframe tbody tr th:only-of-type {\n",
       "        vertical-align: middle;\n",
       "    }\n",
       "\n",
       "    .dataframe tbody tr th {\n",
       "        vertical-align: top;\n",
       "    }\n",
       "\n",
       "    .dataframe thead th {\n",
       "        text-align: right;\n",
       "    }\n",
       "</style>\n",
       "<table border=\"1\" class=\"dataframe\">\n",
       "  <thead>\n",
       "    <tr style=\"text-align: right;\">\n",
       "      <th></th>\n",
       "      <th>engine</th>\n",
       "      <th>se_link</th>\n",
       "      <th>se_title</th>\n",
       "      <th>se_source</th>\n",
       "    </tr>\n",
       "  </thead>\n",
       "  <tbody>\n",
       "    <tr>\n",
       "      <th>0</th>\n",
       "      <td>Google</td>\n",
       "      <td>https://www.barrons.com/articles/top-100-priva...</td>\n",
       "      <td>Top 100 Private Wealth Management Teams: How T...</td>\n",
       "      <td>Barron's</td>\n",
       "    </tr>\n",
       "  </tbody>\n",
       "</table>\n",
       "</div>"
      ],
      "text/plain": [
       "   engine                                            se_link  \\\n",
       "0  Google  https://www.barrons.com/articles/top-100-priva...   \n",
       "\n",
       "                                            se_title se_source  \n",
       "0  Top 100 Private Wealth Management Teams: How T...  Barron's  "
      ]
     },
     "execution_count": 6,
     "metadata": {},
     "output_type": "execute_result"
    }
   ],
   "source": [
    "df.head(1)"
   ]
  },
  {
   "cell_type": "code",
   "execution_count": 7,
   "metadata": {},
   "outputs": [
    {
     "data": {
      "text/html": [
       "<div>\n",
       "<style scoped>\n",
       "    .dataframe tbody tr th:only-of-type {\n",
       "        vertical-align: middle;\n",
       "    }\n",
       "\n",
       "    .dataframe tbody tr th {\n",
       "        vertical-align: top;\n",
       "    }\n",
       "\n",
       "    .dataframe thead th {\n",
       "        text-align: right;\n",
       "    }\n",
       "</style>\n",
       "<table border=\"1\" class=\"dataframe\">\n",
       "  <thead>\n",
       "    <tr style=\"text-align: right;\">\n",
       "      <th></th>\n",
       "      <th>engine</th>\n",
       "      <th>se_link</th>\n",
       "      <th>se_title</th>\n",
       "      <th>se_source</th>\n",
       "    </tr>\n",
       "  </thead>\n",
       "  <tbody>\n",
       "    <tr>\n",
       "      <th>299</th>\n",
       "      <td>Google</td>\n",
       "      <td>https://www.reuters.com/business/finance/silic...</td>\n",
       "      <td>UBS mulls Credit Suisse takeover amid U.S. ban...</td>\n",
       "      <td>Reuters</td>\n",
       "    </tr>\n",
       "  </tbody>\n",
       "</table>\n",
       "</div>"
      ],
      "text/plain": [
       "     engine                                            se_link  \\\n",
       "299  Google  https://www.reuters.com/business/finance/silic...   \n",
       "\n",
       "                                              se_title se_source  \n",
       "299  UBS mulls Credit Suisse takeover amid U.S. ban...   Reuters  "
      ]
     },
     "execution_count": 7,
     "metadata": {},
     "output_type": "execute_result"
    }
   ],
   "source": [
    "df.tail(1)"
   ]
  },
  {
   "attachments": {},
   "cell_type": "markdown",
   "metadata": {},
   "source": [
    "### Testing Bing class"
   ]
  },
  {
   "cell_type": "code",
   "execution_count": 8,
   "metadata": {},
   "outputs": [],
   "source": [
    "bing = Bing(company=\"UBS\")\n",
    "bing_links = bing.get_links(20)"
   ]
  },
  {
   "cell_type": "code",
   "execution_count": 9,
   "metadata": {},
   "outputs": [],
   "source": [
    "df = pd.concat([df, pd.DataFrame(bing_links)], ignore_index=True)"
   ]
  },
  {
   "cell_type": "code",
   "execution_count": 10,
   "metadata": {},
   "outputs": [
    {
     "data": {
      "text/html": [
       "<div>\n",
       "<style scoped>\n",
       "    .dataframe tbody tr th:only-of-type {\n",
       "        vertical-align: middle;\n",
       "    }\n",
       "\n",
       "    .dataframe tbody tr th {\n",
       "        vertical-align: top;\n",
       "    }\n",
       "\n",
       "    .dataframe thead th {\n",
       "        text-align: right;\n",
       "    }\n",
       "</style>\n",
       "<table border=\"1\" class=\"dataframe\">\n",
       "  <thead>\n",
       "    <tr style=\"text-align: right;\">\n",
       "      <th></th>\n",
       "      <th>engine</th>\n",
       "      <th>se_link</th>\n",
       "      <th>se_title</th>\n",
       "      <th>se_source</th>\n",
       "    </tr>\n",
       "  </thead>\n",
       "  <tbody>\n",
       "    <tr>\n",
       "      <th>0</th>\n",
       "      <td>Google</td>\n",
       "      <td>https://www.barrons.com/articles/top-100-priva...</td>\n",
       "      <td>Top 100 Private Wealth Management Teams: How T...</td>\n",
       "      <td>Barron's</td>\n",
       "    </tr>\n",
       "  </tbody>\n",
       "</table>\n",
       "</div>"
      ],
      "text/plain": [
       "   engine                                            se_link  \\\n",
       "0  Google  https://www.barrons.com/articles/top-100-priva...   \n",
       "\n",
       "                                            se_title se_source  \n",
       "0  Top 100 Private Wealth Management Teams: How T...  Barron's  "
      ]
     },
     "execution_count": 10,
     "metadata": {},
     "output_type": "execute_result"
    }
   ],
   "source": [
    "df.head(1)"
   ]
  },
  {
   "cell_type": "code",
   "execution_count": 11,
   "metadata": {},
   "outputs": [
    {
     "data": {
      "text/html": [
       "<div>\n",
       "<style scoped>\n",
       "    .dataframe tbody tr th:only-of-type {\n",
       "        vertical-align: middle;\n",
       "    }\n",
       "\n",
       "    .dataframe tbody tr th {\n",
       "        vertical-align: top;\n",
       "    }\n",
       "\n",
       "    .dataframe thead th {\n",
       "        text-align: right;\n",
       "    }\n",
       "</style>\n",
       "<table border=\"1\" class=\"dataframe\">\n",
       "  <thead>\n",
       "    <tr style=\"text-align: right;\">\n",
       "      <th></th>\n",
       "      <th>engine</th>\n",
       "      <th>se_link</th>\n",
       "      <th>se_title</th>\n",
       "      <th>se_source</th>\n",
       "    </tr>\n",
       "  </thead>\n",
       "  <tbody>\n",
       "    <tr>\n",
       "      <th>467</th>\n",
       "      <td>Bing</td>\n",
       "      <td>https://www.ubs.com/global/en.html</td>\n",
       "      <td>UBS Global</td>\n",
       "      <td>UBS</td>\n",
       "    </tr>\n",
       "  </tbody>\n",
       "</table>\n",
       "</div>"
      ],
      "text/plain": [
       "    engine                             se_link    se_title se_source\n",
       "467   Bing  https://www.ubs.com/global/en.html  UBS Global       UBS"
      ]
     },
     "execution_count": 11,
     "metadata": {},
     "output_type": "execute_result"
    }
   ],
   "source": [
    "df.tail(1)"
   ]
  },
  {
   "attachments": {},
   "cell_type": "markdown",
   "metadata": {},
   "source": [
    "### Testing Yahoo class"
   ]
  },
  {
   "cell_type": "code",
   "execution_count": 12,
   "metadata": {},
   "outputs": [],
   "source": [
    "yahoo = Yahoo(company=\"UBS\")\n",
    "yahoo_links = yahoo.get_links(20)"
   ]
  },
  {
   "cell_type": "code",
   "execution_count": 13,
   "metadata": {},
   "outputs": [],
   "source": [
    "df = pd.concat([df, pd.DataFrame(yahoo_links)], ignore_index=True)"
   ]
  },
  {
   "cell_type": "code",
   "execution_count": 14,
   "metadata": {},
   "outputs": [
    {
     "data": {
      "text/html": [
       "<div>\n",
       "<style scoped>\n",
       "    .dataframe tbody tr th:only-of-type {\n",
       "        vertical-align: middle;\n",
       "    }\n",
       "\n",
       "    .dataframe tbody tr th {\n",
       "        vertical-align: top;\n",
       "    }\n",
       "\n",
       "    .dataframe thead th {\n",
       "        text-align: right;\n",
       "    }\n",
       "</style>\n",
       "<table border=\"1\" class=\"dataframe\">\n",
       "  <thead>\n",
       "    <tr style=\"text-align: right;\">\n",
       "      <th></th>\n",
       "      <th>engine</th>\n",
       "      <th>se_link</th>\n",
       "      <th>se_title</th>\n",
       "      <th>se_source</th>\n",
       "    </tr>\n",
       "  </thead>\n",
       "  <tbody>\n",
       "    <tr>\n",
       "      <th>0</th>\n",
       "      <td>Google</td>\n",
       "      <td>https://www.barrons.com/articles/top-100-priva...</td>\n",
       "      <td>Top 100 Private Wealth Management Teams: How T...</td>\n",
       "      <td>Barron's</td>\n",
       "    </tr>\n",
       "  </tbody>\n",
       "</table>\n",
       "</div>"
      ],
      "text/plain": [
       "   engine                                            se_link  \\\n",
       "0  Google  https://www.barrons.com/articles/top-100-priva...   \n",
       "\n",
       "                                            se_title se_source  \n",
       "0  Top 100 Private Wealth Management Teams: How T...  Barron's  "
      ]
     },
     "execution_count": 14,
     "metadata": {},
     "output_type": "execute_result"
    }
   ],
   "source": [
    "df.head(1)"
   ]
  },
  {
   "cell_type": "code",
   "execution_count": 15,
   "metadata": {},
   "outputs": [
    {
     "data": {
      "text/html": [
       "<div>\n",
       "<style scoped>\n",
       "    .dataframe tbody tr th:only-of-type {\n",
       "        vertical-align: middle;\n",
       "    }\n",
       "\n",
       "    .dataframe tbody tr th {\n",
       "        vertical-align: top;\n",
       "    }\n",
       "\n",
       "    .dataframe thead th {\n",
       "        text-align: right;\n",
       "    }\n",
       "</style>\n",
       "<table border=\"1\" class=\"dataframe\">\n",
       "  <thead>\n",
       "    <tr style=\"text-align: right;\">\n",
       "      <th></th>\n",
       "      <th>engine</th>\n",
       "      <th>se_link</th>\n",
       "      <th>se_title</th>\n",
       "      <th>se_source</th>\n",
       "    </tr>\n",
       "  </thead>\n",
       "  <tbody>\n",
       "    <tr>\n",
       "      <th>657</th>\n",
       "      <td>Yahoo</td>\n",
       "      <td>https://www.kolotv.com/prnewswire/2023/04/17/m...</td>\n",
       "      <td>Melius Research Welcomes Technology Expert, Be...</td>\n",
       "      <td>KOLO 8 Reno</td>\n",
       "    </tr>\n",
       "  </tbody>\n",
       "</table>\n",
       "</div>"
      ],
      "text/plain": [
       "    engine                                            se_link  \\\n",
       "657  Yahoo  https://www.kolotv.com/prnewswire/2023/04/17/m...   \n",
       "\n",
       "                                              se_title    se_source  \n",
       "657  Melius Research Welcomes Technology Expert, Be...  KOLO 8 Reno  "
      ]
     },
     "execution_count": 15,
     "metadata": {},
     "output_type": "execute_result"
    }
   ],
   "source": [
    "df.tail(1)"
   ]
  },
  {
   "attachments": {},
   "cell_type": "markdown",
   "metadata": {},
   "source": [
    "### Analyze Dataframe"
   ]
  },
  {
   "cell_type": "code",
   "execution_count": 16,
   "metadata": {},
   "outputs": [
    {
     "data": {
      "text/plain": [
       "(658, 4)"
      ]
     },
     "execution_count": 16,
     "metadata": {},
     "output_type": "execute_result"
    }
   ],
   "source": [
    "df.shape"
   ]
  },
  {
   "cell_type": "code",
   "execution_count": 17,
   "metadata": {},
   "outputs": [
    {
     "data": {
      "text/plain": [
       "Google    300\n",
       "Yahoo     190\n",
       "Bing      168\n",
       "Name: engine, dtype: int64"
      ]
     },
     "execution_count": 17,
     "metadata": {},
     "output_type": "execute_result"
    }
   ],
   "source": [
    "df[\"engine\"].value_counts()"
   ]
  },
  {
   "cell_type": "code",
   "execution_count": 18,
   "metadata": {},
   "outputs": [
    {
     "data": {
      "text/plain": [
       "83"
      ]
     },
     "execution_count": 18,
     "metadata": {},
     "output_type": "execute_result"
    }
   ],
   "source": [
    "df[\"se_link\"].duplicated().sum()"
   ]
  },
  {
   "cell_type": "code",
   "execution_count": 19,
   "metadata": {},
   "outputs": [],
   "source": [
    "df = df.drop_duplicates(subset='se_link')"
   ]
  },
  {
   "cell_type": "code",
   "execution_count": 20,
   "metadata": {},
   "outputs": [
    {
     "name": "stdout",
     "output_type": "stream",
     "text": [
      "<class 'pandas.core.frame.DataFrame'>\n",
      "Int64Index: 575 entries, 0 to 657\n",
      "Data columns (total 4 columns):\n",
      " #   Column     Non-Null Count  Dtype \n",
      "---  ------     --------------  ----- \n",
      " 0   engine     575 non-null    object\n",
      " 1   se_link    575 non-null    object\n",
      " 2   se_title   575 non-null    object\n",
      " 3   se_source  575 non-null    object\n",
      "dtypes: object(4)\n",
      "memory usage: 22.5+ KB\n"
     ]
    }
   ],
   "source": [
    "df.info()"
   ]
  },
  {
   "attachments": {},
   "cell_type": "markdown",
   "metadata": {},
   "source": [
    "## Testing \"html_content_extractor2\""
   ]
  },
  {
   "attachments": {},
   "cell_type": "markdown",
   "metadata": {},
   "source": [
    "### Extract Content"
   ]
  },
  {
   "cell_type": "code",
   "execution_count": 21,
   "metadata": {},
   "outputs": [],
   "source": [
    "from etl_pipeline.content_extractor import get_content"
   ]
  },
  {
   "cell_type": "code",
   "execution_count": 22,
   "metadata": {},
   "outputs": [],
   "source": [
    "df = df[~df['se_link'].isna()]\n",
    "urls = df['se_link'].to_list()"
   ]
  },
  {
   "cell_type": "code",
   "execution_count": 23,
   "metadata": {},
   "outputs": [
    {
     "data": {
      "text/plain": [
       "0"
      ]
     },
     "execution_count": 23,
     "metadata": {},
     "output_type": "execute_result"
    }
   ],
   "source": [
    "len([u for u in urls if u == None])"
   ]
  },
  {
   "cell_type": "code",
   "execution_count": 24,
   "metadata": {},
   "outputs": [
    {
     "name": "stderr",
     "output_type": "stream",
     "text": [
      "Getting news article info:  64%|██████▎   | 366/575 [03:57<02:28,  1.41it/s]encoding error : input conversion failed due to input error, bytes 0x21 0x00 0x00 0x00\n",
      "Getting news article info: 100%|██████████| 575/575 [06:01<00:00,  1.59it/s]\n"
     ]
    }
   ],
   "source": [
    "contents = get_content(urls)"
   ]
  },
  {
   "cell_type": "code",
   "execution_count": 25,
   "metadata": {},
   "outputs": [],
   "source": [
    "df = pd.merge(df, pd.DataFrame(contents), left_on='se_link', right_on='bs_link')"
   ]
  },
  {
   "cell_type": "code",
   "execution_count": 26,
   "metadata": {},
   "outputs": [
    {
     "data": {
      "text/html": [
       "<div>\n",
       "<style scoped>\n",
       "    .dataframe tbody tr th:only-of-type {\n",
       "        vertical-align: middle;\n",
       "    }\n",
       "\n",
       "    .dataframe tbody tr th {\n",
       "        vertical-align: top;\n",
       "    }\n",
       "\n",
       "    .dataframe thead th {\n",
       "        text-align: right;\n",
       "    }\n",
       "</style>\n",
       "<table border=\"1\" class=\"dataframe\">\n",
       "  <thead>\n",
       "    <tr style=\"text-align: right;\">\n",
       "      <th></th>\n",
       "      <th>engine</th>\n",
       "      <th>se_link</th>\n",
       "      <th>se_title</th>\n",
       "      <th>se_source</th>\n",
       "      <th>n3k_link</th>\n",
       "      <th>n3k_title</th>\n",
       "      <th>n3k_body</th>\n",
       "      <th>n3k_author</th>\n",
       "      <th>n3k_published</th>\n",
       "      <th>bs_link</th>\n",
       "      <th>bs_title</th>\n",
       "      <th>bs_body</th>\n",
       "    </tr>\n",
       "  </thead>\n",
       "  <tbody>\n",
       "    <tr>\n",
       "      <th>0</th>\n",
       "      <td>Google</td>\n",
       "      <td>https://www.barrons.com/articles/top-100-priva...</td>\n",
       "      <td>Top 100 Private Wealth Management Teams: How T...</td>\n",
       "      <td>Barron's</td>\n",
       "      <td>https://www.barrons.com/articles/top-100-priva...</td>\n",
       "      <td>How This UBS Megateam Is Building Portfolios Now</td>\n",
       "      <td>Few clients in the past 15 years have asked UB...</td>\n",
       "      <td>[Andrew Welsch]</td>\n",
       "      <td>None</td>\n",
       "      <td>https://www.barrons.com/articles/top-100-priva...</td>\n",
       "      <td>How This UBS Megateam Is Building Portfolios Now</td>\n",
       "      <td>Few clients in the past 15 years have asked UB...</td>\n",
       "    </tr>\n",
       "    <tr>\n",
       "      <th>1</th>\n",
       "      <td>Google</td>\n",
       "      <td>https://www.livemint.com/companies/news/us-fed...</td>\n",
       "      <td>US Fed approves UBS-Credit Suisse merger. Deta...</td>\n",
       "      <td>Mint</td>\n",
       "      <td>https://www.livemint.com/companies/news/us-fed...</td>\n",
       "      <td>US Fed approves UBS-Credit Suisse merger. Deta...</td>\n",
       "      <td>UBS-Credit Suisse merger: The Board of Governo...</td>\n",
       "      <td>[]</td>\n",
       "      <td>2023-04-15 06:02:44+05:30</td>\n",
       "      <td>https://www.livemint.com/companies/news/us-fed...</td>\n",
       "      <td>US Fed approves UBS-Credit Suisse merger. Deta...</td>\n",
       "      <td>In this Swiss-brokered rescue deal, the US ...</td>\n",
       "    </tr>\n",
       "    <tr>\n",
       "      <th>2</th>\n",
       "      <td>Google</td>\n",
       "      <td>https://www.cnbc.com/2023/04/17/ubs-says-buy-t...</td>\n",
       "      <td>UBS says buy this 'underappreciated' software ...</td>\n",
       "      <td>CNBC</td>\n",
       "      <td>https://www.cnbc.com/2023/04/17/ubs-says-buy-t...</td>\n",
       "      <td>UBS says buy this 'underappreciated' software ...</td>\n",
       "      <td>UBS says Okta 's \"compelling mix of growth and...</td>\n",
       "      <td>[Hakyung Kim, Https, Www.Linkedin.Com In Hakyu...</td>\n",
       "      <td>2023-04-17 00:00:00</td>\n",
       "      <td>https://www.cnbc.com/2023/04/17/ubs-says-buy-t...</td>\n",
       "      <td>UBS says buy this 'underappreciated' software ...</td>\n",
       "      <td>Credit Cards\\nLoans\\nBanking\\nMortgages\\nInsur...</td>\n",
       "    </tr>\n",
       "    <tr>\n",
       "      <th>3</th>\n",
       "      <td>Google</td>\n",
       "      <td>https://finance.yahoo.com/news/swiss-governmen...</td>\n",
       "      <td>Swiss government awards $9.7 million contract ...</td>\n",
       "      <td>Yahoo Finance</td>\n",
       "      <td>https://finance.yahoo.com/news/swiss-governmen...</td>\n",
       "      <td>Swiss government awards $9.7 million contract ...</td>\n",
       "      <td>By Oliver Hirt\\n\\nZURICH (Reuters) - The Swiss...</td>\n",
       "      <td>[Oliver Hirt]</td>\n",
       "      <td>None</td>\n",
       "      <td>https://finance.yahoo.com/news/swiss-governmen...</td>\n",
       "      <td>Yahoo Finance</td>\n",
       "      <td>By Oliver Hirt\\nZURICH (Reuters) - The Swiss g...</td>\n",
       "    </tr>\n",
       "    <tr>\n",
       "      <th>4</th>\n",
       "      <td>Google</td>\n",
       "      <td>https://www.marketwatch.com/story/credit-suiss...</td>\n",
       "      <td>Credit Suisse fund outflows widen to $5.6 bill...</td>\n",
       "      <td>MarketWatch</td>\n",
       "      <td>https://www.marketwatch.com/story/credit-suiss...</td>\n",
       "      <td>Credit Suisse fund outflows widen to $5.6 bill...</td>\n",
       "      <td>Outflows from Credit Suisse branded investment...</td>\n",
       "      <td>[David Ricketts]</td>\n",
       "      <td>None</td>\n",
       "      <td>https://www.marketwatch.com/story/credit-suiss...</td>\n",
       "      <td>\\n  Credit Suisse fund outflows widen to $5.6 ...</td>\n",
       "      <td>The latest outflows will pile pressure on the ...</td>\n",
       "    </tr>\n",
       "  </tbody>\n",
       "</table>\n",
       "</div>"
      ],
      "text/plain": [
       "   engine                                            se_link  \\\n",
       "0  Google  https://www.barrons.com/articles/top-100-priva...   \n",
       "1  Google  https://www.livemint.com/companies/news/us-fed...   \n",
       "2  Google  https://www.cnbc.com/2023/04/17/ubs-says-buy-t...   \n",
       "3  Google  https://finance.yahoo.com/news/swiss-governmen...   \n",
       "4  Google  https://www.marketwatch.com/story/credit-suiss...   \n",
       "\n",
       "                                            se_title      se_source  \\\n",
       "0  Top 100 Private Wealth Management Teams: How T...       Barron's   \n",
       "1  US Fed approves UBS-Credit Suisse merger. Deta...           Mint   \n",
       "2  UBS says buy this 'underappreciated' software ...           CNBC   \n",
       "3  Swiss government awards $9.7 million contract ...  Yahoo Finance   \n",
       "4  Credit Suisse fund outflows widen to $5.6 bill...    MarketWatch   \n",
       "\n",
       "                                            n3k_link  \\\n",
       "0  https://www.barrons.com/articles/top-100-priva...   \n",
       "1  https://www.livemint.com/companies/news/us-fed...   \n",
       "2  https://www.cnbc.com/2023/04/17/ubs-says-buy-t...   \n",
       "3  https://finance.yahoo.com/news/swiss-governmen...   \n",
       "4  https://www.marketwatch.com/story/credit-suiss...   \n",
       "\n",
       "                                           n3k_title  \\\n",
       "0   How This UBS Megateam Is Building Portfolios Now   \n",
       "1  US Fed approves UBS-Credit Suisse merger. Deta...   \n",
       "2  UBS says buy this 'underappreciated' software ...   \n",
       "3  Swiss government awards $9.7 million contract ...   \n",
       "4  Credit Suisse fund outflows widen to $5.6 bill...   \n",
       "\n",
       "                                            n3k_body  \\\n",
       "0  Few clients in the past 15 years have asked UB...   \n",
       "1  UBS-Credit Suisse merger: The Board of Governo...   \n",
       "2  UBS says Okta 's \"compelling mix of growth and...   \n",
       "3  By Oliver Hirt\\n\\nZURICH (Reuters) - The Swiss...   \n",
       "4  Outflows from Credit Suisse branded investment...   \n",
       "\n",
       "                                          n3k_author  \\\n",
       "0                                    [Andrew Welsch]   \n",
       "1                                                 []   \n",
       "2  [Hakyung Kim, Https, Www.Linkedin.Com In Hakyu...   \n",
       "3                                      [Oliver Hirt]   \n",
       "4                                   [David Ricketts]   \n",
       "\n",
       "               n3k_published  \\\n",
       "0                       None   \n",
       "1  2023-04-15 06:02:44+05:30   \n",
       "2        2023-04-17 00:00:00   \n",
       "3                       None   \n",
       "4                       None   \n",
       "\n",
       "                                             bs_link  \\\n",
       "0  https://www.barrons.com/articles/top-100-priva...   \n",
       "1  https://www.livemint.com/companies/news/us-fed...   \n",
       "2  https://www.cnbc.com/2023/04/17/ubs-says-buy-t...   \n",
       "3  https://finance.yahoo.com/news/swiss-governmen...   \n",
       "4  https://www.marketwatch.com/story/credit-suiss...   \n",
       "\n",
       "                                            bs_title  \\\n",
       "0   How This UBS Megateam Is Building Portfolios Now   \n",
       "1  US Fed approves UBS-Credit Suisse merger. Deta...   \n",
       "2  UBS says buy this 'underappreciated' software ...   \n",
       "3                                      Yahoo Finance   \n",
       "4  \\n  Credit Suisse fund outflows widen to $5.6 ...   \n",
       "\n",
       "                                             bs_body  \n",
       "0  Few clients in the past 15 years have asked UB...  \n",
       "1     In this Swiss-brokered rescue deal, the US ...  \n",
       "2  Credit Cards\\nLoans\\nBanking\\nMortgages\\nInsur...  \n",
       "3  By Oliver Hirt\\nZURICH (Reuters) - The Swiss g...  \n",
       "4  The latest outflows will pile pressure on the ...  "
      ]
     },
     "execution_count": 26,
     "metadata": {},
     "output_type": "execute_result"
    }
   ],
   "source": [
    "df.head()"
   ]
  },
  {
   "cell_type": "code",
   "execution_count": 27,
   "metadata": {},
   "outputs": [
    {
     "data": {
      "text/html": [
       "<div>\n",
       "<style scoped>\n",
       "    .dataframe tbody tr th:only-of-type {\n",
       "        vertical-align: middle;\n",
       "    }\n",
       "\n",
       "    .dataframe tbody tr th {\n",
       "        vertical-align: top;\n",
       "    }\n",
       "\n",
       "    .dataframe thead th {\n",
       "        text-align: right;\n",
       "    }\n",
       "</style>\n",
       "<table border=\"1\" class=\"dataframe\">\n",
       "  <thead>\n",
       "    <tr style=\"text-align: right;\">\n",
       "      <th></th>\n",
       "      <th>engine</th>\n",
       "      <th>se_link</th>\n",
       "      <th>se_title</th>\n",
       "      <th>se_source</th>\n",
       "      <th>n3k_link</th>\n",
       "      <th>n3k_title</th>\n",
       "      <th>n3k_body</th>\n",
       "      <th>n3k_author</th>\n",
       "      <th>n3k_published</th>\n",
       "      <th>bs_link</th>\n",
       "      <th>bs_title</th>\n",
       "      <th>bs_body</th>\n",
       "    </tr>\n",
       "  </thead>\n",
       "  <tbody>\n",
       "    <tr>\n",
       "      <th>486</th>\n",
       "      <td>Yahoo</td>\n",
       "      <td>https://www.etfdailynews.com/2023/04/17/eudaim...</td>\n",
       "      <td>Eudaimonia Partners LLC Cuts Stock Holdings in...</td>\n",
       "      <td>ETF DAILY NEWS</td>\n",
       "      <td>https://www.etfdailynews.com/2023/04/17/eudaim...</td>\n",
       "      <td>Eudaimonia Partners LLC Cuts Stock Holdings in...</td>\n",
       "      <td>Eudaimonia Partners LLC trimmed its holdings i...</td>\n",
       "      <td>[Marketbeat News]</td>\n",
       "      <td>2023-04-17 00:00:00</td>\n",
       "      <td>https://www.etfdailynews.com/2023/04/17/eudaim...</td>\n",
       "      <td>Eudaimonia Partners LLC Cuts Stock Holdings in...</td>\n",
       "      <td>Eudaimonia Partners LLC trimmed its holdings i...</td>\n",
       "    </tr>\n",
       "    <tr>\n",
       "      <th>487</th>\n",
       "      <td>Yahoo</td>\n",
       "      <td>https://www.kktv.com/prnewswire/2023/04/17/mel...</td>\n",
       "      <td>Melius Research Welcomes Technology Expert, Be...</td>\n",
       "      <td>KKTV 11 Colorado Springs</td>\n",
       "      <td>https://www.kktv.com/prnewswire/2023/04/17/mel...</td>\n",
       "      <td>Melius Research Welcomes Technology Expert, Be...</td>\n",
       "      <td>NEW YORK , April 17, 2023 /PRNewswire/ -- Meli...</td>\n",
       "      <td>[]</td>\n",
       "      <td>2023-04-17 00:00:00</td>\n",
       "      <td>https://www.kktv.com/prnewswire/2023/04/17/mel...</td>\n",
       "      <td>Melius Research Welcomes Technology Expert, Be...</td>\n",
       "      <td>NEW YORK , April 17, 2023 /PRNewswire/ -- Meli...</td>\n",
       "    </tr>\n",
       "    <tr>\n",
       "      <th>488</th>\n",
       "      <td>Yahoo</td>\n",
       "      <td>http://www.cleveland19.com/prnewswire/2023/04/...</td>\n",
       "      <td>Melius Research Welcomes Technology Expert, Be...</td>\n",
       "      <td>19 Action News Cleveland</td>\n",
       "      <td>http://www.cleveland19.com/prnewswire/2023/04/...</td>\n",
       "      <td>Melius Research Welcomes Technology Expert, Be...</td>\n",
       "      <td>NEW YORK , April 17, 2023 /PRNewswire/ -- Meli...</td>\n",
       "      <td>[]</td>\n",
       "      <td>2023-04-17 00:00:00</td>\n",
       "      <td>http://www.cleveland19.com/prnewswire/2023/04/...</td>\n",
       "      <td>Melius Research Welcomes Technology Expert, Be...</td>\n",
       "      <td>NEW YORK , April 17, 2023 /PRNewswire/ -- Meli...</td>\n",
       "    </tr>\n",
       "    <tr>\n",
       "      <th>489</th>\n",
       "      <td>Yahoo</td>\n",
       "      <td>https://www.wbay.com/prnewswire/2023/04/17/mel...</td>\n",
       "      <td>Melius Research Welcomes Technology Expert, Be...</td>\n",
       "      <td>WBAY Green Bay</td>\n",
       "      <td>https://www.wbay.com/prnewswire/2023/04/17/mel...</td>\n",
       "      <td>Melius Research Welcomes Technology Expert, Be...</td>\n",
       "      <td>NEW YORK , April 17, 2023 /PRNewswire/ -- Meli...</td>\n",
       "      <td>[]</td>\n",
       "      <td>2023-04-17 00:00:00</td>\n",
       "      <td>https://www.wbay.com/prnewswire/2023/04/17/mel...</td>\n",
       "      <td>Melius Research Welcomes Technology Expert, Be...</td>\n",
       "      <td>NEW YORK , April 17, 2023 /PRNewswire/ -- Meli...</td>\n",
       "    </tr>\n",
       "    <tr>\n",
       "      <th>490</th>\n",
       "      <td>Yahoo</td>\n",
       "      <td>https://www.kolotv.com/prnewswire/2023/04/17/m...</td>\n",
       "      <td>Melius Research Welcomes Technology Expert, Be...</td>\n",
       "      <td>KOLO 8 Reno</td>\n",
       "      <td>https://www.kolotv.com/prnewswire/2023/04/17/m...</td>\n",
       "      <td>Melius Research Welcomes Technology Expert, Be...</td>\n",
       "      <td>NEW YORK , April 17, 2023 /PRNewswire/ -- Meli...</td>\n",
       "      <td>[]</td>\n",
       "      <td>2023-04-17 00:00:00</td>\n",
       "      <td>https://www.kolotv.com/prnewswire/2023/04/17/m...</td>\n",
       "      <td>Melius Research Welcomes Technology Expert, Be...</td>\n",
       "      <td>NEW YORK , April 17, 2023 /PRNewswire/ -- Meli...</td>\n",
       "    </tr>\n",
       "  </tbody>\n",
       "</table>\n",
       "</div>"
      ],
      "text/plain": [
       "    engine                                            se_link  \\\n",
       "486  Yahoo  https://www.etfdailynews.com/2023/04/17/eudaim...   \n",
       "487  Yahoo  https://www.kktv.com/prnewswire/2023/04/17/mel...   \n",
       "488  Yahoo  http://www.cleveland19.com/prnewswire/2023/04/...   \n",
       "489  Yahoo  https://www.wbay.com/prnewswire/2023/04/17/mel...   \n",
       "490  Yahoo  https://www.kolotv.com/prnewswire/2023/04/17/m...   \n",
       "\n",
       "                                              se_title  \\\n",
       "486  Eudaimonia Partners LLC Cuts Stock Holdings in...   \n",
       "487  Melius Research Welcomes Technology Expert, Be...   \n",
       "488  Melius Research Welcomes Technology Expert, Be...   \n",
       "489  Melius Research Welcomes Technology Expert, Be...   \n",
       "490  Melius Research Welcomes Technology Expert, Be...   \n",
       "\n",
       "                    se_source  \\\n",
       "486            ETF DAILY NEWS   \n",
       "487  KKTV 11 Colorado Springs   \n",
       "488  19 Action News Cleveland   \n",
       "489            WBAY Green Bay   \n",
       "490               KOLO 8 Reno   \n",
       "\n",
       "                                              n3k_link  \\\n",
       "486  https://www.etfdailynews.com/2023/04/17/eudaim...   \n",
       "487  https://www.kktv.com/prnewswire/2023/04/17/mel...   \n",
       "488  http://www.cleveland19.com/prnewswire/2023/04/...   \n",
       "489  https://www.wbay.com/prnewswire/2023/04/17/mel...   \n",
       "490  https://www.kolotv.com/prnewswire/2023/04/17/m...   \n",
       "\n",
       "                                             n3k_title  \\\n",
       "486  Eudaimonia Partners LLC Cuts Stock Holdings in...   \n",
       "487  Melius Research Welcomes Technology Expert, Be...   \n",
       "488  Melius Research Welcomes Technology Expert, Be...   \n",
       "489  Melius Research Welcomes Technology Expert, Be...   \n",
       "490  Melius Research Welcomes Technology Expert, Be...   \n",
       "\n",
       "                                              n3k_body         n3k_author  \\\n",
       "486  Eudaimonia Partners LLC trimmed its holdings i...  [Marketbeat News]   \n",
       "487  NEW YORK , April 17, 2023 /PRNewswire/ -- Meli...                 []   \n",
       "488  NEW YORK , April 17, 2023 /PRNewswire/ -- Meli...                 []   \n",
       "489  NEW YORK , April 17, 2023 /PRNewswire/ -- Meli...                 []   \n",
       "490  NEW YORK , April 17, 2023 /PRNewswire/ -- Meli...                 []   \n",
       "\n",
       "           n3k_published                                            bs_link  \\\n",
       "486  2023-04-17 00:00:00  https://www.etfdailynews.com/2023/04/17/eudaim...   \n",
       "487  2023-04-17 00:00:00  https://www.kktv.com/prnewswire/2023/04/17/mel...   \n",
       "488  2023-04-17 00:00:00  http://www.cleveland19.com/prnewswire/2023/04/...   \n",
       "489  2023-04-17 00:00:00  https://www.wbay.com/prnewswire/2023/04/17/mel...   \n",
       "490  2023-04-17 00:00:00  https://www.kolotv.com/prnewswire/2023/04/17/m...   \n",
       "\n",
       "                                              bs_title  \\\n",
       "486  Eudaimonia Partners LLC Cuts Stock Holdings in...   \n",
       "487  Melius Research Welcomes Technology Expert, Be...   \n",
       "488  Melius Research Welcomes Technology Expert, Be...   \n",
       "489  Melius Research Welcomes Technology Expert, Be...   \n",
       "490  Melius Research Welcomes Technology Expert, Be...   \n",
       "\n",
       "                                               bs_body  \n",
       "486  Eudaimonia Partners LLC trimmed its holdings i...  \n",
       "487  NEW YORK , April 17, 2023 /PRNewswire/ -- Meli...  \n",
       "488  NEW YORK , April 17, 2023 /PRNewswire/ -- Meli...  \n",
       "489  NEW YORK , April 17, 2023 /PRNewswire/ -- Meli...  \n",
       "490  NEW YORK , April 17, 2023 /PRNewswire/ -- Meli...  "
      ]
     },
     "execution_count": 27,
     "metadata": {},
     "output_type": "execute_result"
    }
   ],
   "source": [
    "df.tail()"
   ]
  },
  {
   "cell_type": "code",
   "execution_count": 36,
   "metadata": {},
   "outputs": [
    {
     "data": {
      "text/plain": [
       "8"
      ]
     },
     "execution_count": 36,
     "metadata": {},
     "output_type": "execute_result"
    }
   ],
   "source": [
    "len(df[df['n3k_body'] == ''])"
   ]
  },
  {
   "cell_type": "code",
   "execution_count": 37,
   "metadata": {},
   "outputs": [
    {
     "data": {
      "text/plain": [
       "0"
      ]
     },
     "execution_count": 37,
     "metadata": {},
     "output_type": "execute_result"
    }
   ],
   "source": [
    "len(df[df['bs_body'] == ''])"
   ]
  },
  {
   "attachments": {},
   "cell_type": "markdown",
   "metadata": {},
   "source": [
    "## Some NLP Preprocessing"
   ]
  },
  {
   "cell_type": "code",
   "execution_count": null,
   "metadata": {},
   "outputs": [],
   "source": []
  },
  {
   "cell_type": "code",
   "execution_count": null,
   "metadata": {},
   "outputs": [],
   "source": [
    "len(results)"
   ]
  },
  {
   "cell_type": "code",
   "execution_count": null,
   "metadata": {},
   "outputs": [],
   "source": [
    "data = results.loc[results[\"Body\"].str.strip().astype(bool)].reset_index(drop=True)"
   ]
  },
  {
   "cell_type": "code",
   "execution_count": null,
   "metadata": {},
   "outputs": [],
   "source": [
    "# Why would you ever make a string column boolean?\n",
    "x = \"\"\n",
    "bool(x)"
   ]
  },
  {
   "cell_type": "code",
   "execution_count": null,
   "metadata": {},
   "outputs": [],
   "source": [
    "len(data)"
   ]
  },
  {
   "cell_type": "code",
   "execution_count": null,
   "metadata": {},
   "outputs": [],
   "source": [
    "data.head()"
   ]
  },
  {
   "cell_type": "code",
   "execution_count": 9,
   "metadata": {},
   "outputs": [
    {
     "name": "stderr",
     "output_type": "stream",
     "text": [
      "[nltk_data] Downloading package stopwords to\n",
      "[nltk_data]     /Users/johnbergmann/nltk_data...\n",
      "[nltk_data]   Package stopwords is already up-to-date!\n",
      "[nltk_data] Downloading package wordnet to\n",
      "[nltk_data]     /Users/johnbergmann/nltk_data...\n",
      "[nltk_data]   Package wordnet is already up-to-date!\n"
     ]
    }
   ],
   "source": [
    "import pandas as pd\n",
    "import numpy as np\n",
    "import re\n",
    "import warnings\n",
    "warnings.filterwarnings(\"ignore\")\n",
    "\n",
    "import string\n",
    "import nltk\n",
    "# Import the stop word list\n",
    "from nltk.corpus import stopwords\n",
    "nltk.download(\"stopwords\")\n",
    "# Import Tokenizer\n",
    "from nltk.tokenize import RegexpTokenizer\n",
    "#Import Lemmatizer\n",
    "from nltk.stem import WordNetLemmatizer\n",
    "nltk.download('wordnet')\n",
    "# Import stemmer.\n",
    "from nltk.stem.porter import PorterStemmer"
   ]
  },
  {
   "cell_type": "code",
   "execution_count": null,
   "metadata": {},
   "outputs": [],
   "source": [
    "# Average Wordcount before pre-processing\n",
    "data[\"Body\"].apply(lambda x: len(x.split())).mean()"
   ]
  },
  {
   "cell_type": "code",
   "execution_count": null,
   "metadata": {},
   "outputs": [],
   "source": [
    "# Total Wordcount before pre-processing\n",
    "data[\"Body\"].apply(lambda x: len(x.split())).sum()"
   ]
  },
  {
   "attachments": {},
   "cell_type": "markdown",
   "metadata": {},
   "source": [
    "### Remove Numbers (We are doing reputational NLP so doesnt seem relevant)"
   ]
  },
  {
   "cell_type": "code",
   "execution_count": 10,
   "metadata": {},
   "outputs": [],
   "source": [
    "def remove_numbers(text):\n",
    "    no_nums = \"\".join([i for i in text if not i.isdigit()])\n",
    "    return no_nums"
   ]
  },
  {
   "cell_type": "code",
   "execution_count": null,
   "metadata": {},
   "outputs": [],
   "source": [
    "data[\"Body\"] = data[\"Body\"].apply(lambda x: remove_numbers(x))\n",
    "data[\"Body\"].head(10)"
   ]
  },
  {
   "attachments": {},
   "cell_type": "markdown",
   "metadata": {},
   "source": [
    "### Removing extra whitespaces / new lines"
   ]
  },
  {
   "cell_type": "code",
   "execution_count": null,
   "metadata": {},
   "outputs": [],
   "source": [
    "data[\"Body\"] = data[\"Body\"].replace(r'\\n',\" \", regex=True)"
   ]
  },
  {
   "attachments": {},
   "cell_type": "markdown",
   "metadata": {},
   "source": [
    "### Removing Punctuation"
   ]
  },
  {
   "cell_type": "code",
   "execution_count": 11,
   "metadata": {},
   "outputs": [],
   "source": [
    "def remove_punctuation(text):\n",
    "    no_punct = \"\".join ([c for c in text if c not in string.punctuation])\n",
    "    return no_punct"
   ]
  },
  {
   "cell_type": "code",
   "execution_count": null,
   "metadata": {},
   "outputs": [],
   "source": [
    "data[\"Body\"] = data[\"Body\"].apply(lambda x: remove_punctuation(x))\n",
    "data[\"Body\"].head(10)"
   ]
  },
  {
   "attachments": {},
   "cell_type": "markdown",
   "metadata": {},
   "source": [
    "### Tokenization"
   ]
  },
  {
   "cell_type": "code",
   "execution_count": 12,
   "metadata": {},
   "outputs": [],
   "source": [
    "tokenizer = RegexpTokenizer(r'\\w+')"
   ]
  },
  {
   "cell_type": "code",
   "execution_count": null,
   "metadata": {},
   "outputs": [],
   "source": [
    "data[\"Body\"] = data[\"Body\"].apply(lambda x: tokenizer.tokenize(x.lower()))\n",
    "data[\"Body\"].head(10)"
   ]
  },
  {
   "attachments": {},
   "cell_type": "markdown",
   "metadata": {},
   "source": [
    "### Removing Stopwords"
   ]
  },
  {
   "cell_type": "code",
   "execution_count": 13,
   "metadata": {},
   "outputs": [],
   "source": [
    "def remove_stopwords(text):\n",
    "    words = [w for w in text if w not in stopwords.words(\"english\")]\n",
    "    return words"
   ]
  },
  {
   "cell_type": "code",
   "execution_count": null,
   "metadata": {},
   "outputs": [],
   "source": [
    "data[\"Body\"] = data[\"Body\"].apply(lambda x: remove_stopwords(x))\n",
    "data[\"Body\"].head(10)"
   ]
  },
  {
   "attachments": {},
   "cell_type": "markdown",
   "metadata": {},
   "source": [
    "### Lemmatization"
   ]
  },
  {
   "cell_type": "code",
   "execution_count": 14,
   "metadata": {},
   "outputs": [],
   "source": [
    "lemmatizer = WordNetLemmatizer()"
   ]
  },
  {
   "cell_type": "code",
   "execution_count": 15,
   "metadata": {},
   "outputs": [],
   "source": [
    "def word_lemmatizer(text):\n",
    "    lem_text = [lemmatizer.lemmatize (i) for i in text]\n",
    "    return lem_text"
   ]
  },
  {
   "cell_type": "code",
   "execution_count": null,
   "metadata": {},
   "outputs": [],
   "source": [
    "data[\"Body\"] = data[\"Body\"].apply(lambda x: word_lemmatizer(x))\n",
    "data[\"Body\"].head(10)"
   ]
  },
  {
   "cell_type": "code",
   "execution_count": null,
   "metadata": {},
   "outputs": [],
   "source": [
    "# Average Wordcount after pre-processing\n",
    "data[\"Body\"].apply(lambda x: len(x)).mean()"
   ]
  },
  {
   "cell_type": "code",
   "execution_count": null,
   "metadata": {},
   "outputs": [],
   "source": [
    "# Total Wordcount after pre-processing\n",
    "data[\"Body\"].apply(lambda x: len(x)).sum()"
   ]
  },
  {
   "attachments": {},
   "cell_type": "markdown",
   "metadata": {},
   "source": [
    "### Encoding"
   ]
  },
  {
   "cell_type": "code",
   "execution_count": null,
   "metadata": {},
   "outputs": [],
   "source": [
    "text = data[\"Body\"].apply(lambda x: \" \".join(x)).str.cat()"
   ]
  },
  {
   "cell_type": "code",
   "execution_count": null,
   "metadata": {},
   "outputs": [],
   "source": [
    "chars = sorted(list(set(text)))\n",
    "vocab_size = len(chars)\n",
    "print(''.join(chars))\n",
    "print(vocab_size)"
   ]
  },
  {
   "cell_type": "code",
   "execution_count": null,
   "metadata": {},
   "outputs": [],
   "source": [
    "# create a mapping from characters to integers\n",
    "stoi = { ch:i for i,ch in enumerate (chars) }\n",
    "itos = { i:ch for i,ch in enumerate (chars) }\n",
    "encode = lambda s: [stoi[c] for c in s] # encoder: take a string, output a list of integers\n",
    "decode = lambda l: ''. join ( [itos [i] for i in l]) # decoder: take a list of integers, output a string\n",
    "print (encode(\"hii there\"))\n",
    "print (decode(encode(\"hii there\")))"
   ]
  },
  {
   "attachments": {},
   "cell_type": "markdown",
   "metadata": {},
   "source": [
    "### Wordcloud - Test"
   ]
  },
  {
   "cell_type": "code",
   "execution_count": 16,
   "metadata": {},
   "outputs": [],
   "source": [
    "import matplotlib.pyplot as plt\n",
    "from wordcloud import WordCloud"
   ]
  },
  {
   "cell_type": "code",
   "execution_count": null,
   "metadata": {},
   "outputs": [],
   "source": [
    "# Create and generate a word cloud image:\n",
    "wordcloud = WordCloud().generate(text)\n",
    "\n",
    "# Display the generated image:\n",
    "plt.imshow(wordcloud, interpolation='bilinear')\n",
    "plt.axis(\"off\")\n",
    "plt.show()"
   ]
  },
  {
   "attachments": {},
   "cell_type": "markdown",
   "metadata": {},
   "source": [
    "### Wordcloud on Titles only"
   ]
  },
  {
   "cell_type": "code",
   "execution_count": null,
   "metadata": {},
   "outputs": [],
   "source": [
    "data[\"Title\"] = data[\"Title\"].apply(lambda x: remove_numbers(x))\n",
    "data[\"Title\"] = data[\"Title\"].replace(r'\\n',\" \", regex=True)\n",
    "data[\"Title\"] = data[\"Title\"].apply(lambda x: remove_punctuation(x))\n",
    "data[\"Title\"] = data[\"Title\"].apply(lambda x: tokenizer.tokenize(x.lower()))\n",
    "data[\"Title\"] = data[\"Title\"].apply(lambda x: remove_stopwords(x))\n",
    "data[\"Title\"] = data[\"Title\"].apply(lambda x: word_lemmatizer(x))"
   ]
  },
  {
   "cell_type": "code",
   "execution_count": null,
   "metadata": {},
   "outputs": [],
   "source": [
    "title_text = data[\"Title\"].apply(lambda x: \" \".join(x)).str.cat()"
   ]
  },
  {
   "cell_type": "code",
   "execution_count": null,
   "metadata": {},
   "outputs": [],
   "source": [
    "# Create and generate a word cloud image:\n",
    "title_wordcloud = WordCloud().generate(title_text)\n",
    "\n",
    "# Display the generated image:\n",
    "plt.imshow(title_wordcloud, interpolation='bilinear')\n",
    "plt.axis(\"off\")\n",
    "plt.show()"
   ]
  },
  {
   "attachments": {},
   "cell_type": "markdown",
   "metadata": {},
   "source": [
    "## Multithreading Implementation Test"
   ]
  },
  {
   "cell_type": "code",
   "execution_count": null,
   "metadata": {},
   "outputs": [],
   "source": [
    "from etl_pipeline.link_extractor import get_all_links # Might make sense to make Search Engines seperate file for clarity\n",
    "from etl_pipeline.content_extractor import get_content"
   ]
  },
  {
   "cell_type": "code",
   "execution_count": 62,
   "metadata": {},
   "outputs": [],
   "source": [
    "# max_articles is for each search engine\n",
    "all_links = get_all_links(company=\"Donald Trump\", max_articles=None)"
   ]
  },
  {
   "cell_type": "code",
   "execution_count": 63,
   "metadata": {},
   "outputs": [],
   "source": [
    "df = pd.DataFrame(all_links)"
   ]
  },
  {
   "cell_type": "code",
   "execution_count": 64,
   "metadata": {},
   "outputs": [
    {
     "data": {
      "text/html": [
       "<div>\n",
       "<style scoped>\n",
       "    .dataframe tbody tr th:only-of-type {\n",
       "        vertical-align: middle;\n",
       "    }\n",
       "\n",
       "    .dataframe tbody tr th {\n",
       "        vertical-align: top;\n",
       "    }\n",
       "\n",
       "    .dataframe thead th {\n",
       "        text-align: right;\n",
       "    }\n",
       "</style>\n",
       "<table border=\"1\" class=\"dataframe\">\n",
       "  <thead>\n",
       "    <tr style=\"text-align: right;\">\n",
       "      <th></th>\n",
       "      <th>engine</th>\n",
       "      <th>se_link</th>\n",
       "      <th>se_title</th>\n",
       "      <th>se_source</th>\n",
       "    </tr>\n",
       "  </thead>\n",
       "  <tbody>\n",
       "    <tr>\n",
       "      <th>0</th>\n",
       "      <td>Yahoo</td>\n",
       "      <td>https://okmagazine.com/p/donald-trump-claims-s...</td>\n",
       "      <td>Donald Trump Claims 'There Is So Much Proof' T...</td>\n",
       "      <td>OK! Magazine</td>\n",
       "    </tr>\n",
       "    <tr>\n",
       "      <th>1</th>\n",
       "      <td>Yahoo</td>\n",
       "      <td>https://www.msn.com/en-us/news/politics/donald...</td>\n",
       "      <td>Donald Trump ally fights horrible Ohio State s...</td>\n",
       "      <td>MSN News</td>\n",
       "    </tr>\n",
       "    <tr>\n",
       "      <th>2</th>\n",
       "      <td>Yahoo</td>\n",
       "      <td>https://news.yahoo.com/judge-blamed-trump-medi...</td>\n",
       "      <td>A judge blamed Trump for the 'media frenzy' he...</td>\n",
       "      <td>INSIDER via Yahoo News</td>\n",
       "    </tr>\n",
       "    <tr>\n",
       "      <th>3</th>\n",
       "      <td>Yahoo</td>\n",
       "      <td>https://www.newsweek.com/trump-poll-arizona-pe...</td>\n",
       "      <td>Donald Trump's team rages over poll showing hi...</td>\n",
       "      <td>Newsweek</td>\n",
       "    </tr>\n",
       "    <tr>\n",
       "      <th>4</th>\n",
       "      <td>Yahoo</td>\n",
       "      <td>https://www.stamfordadvocate.com/news/article/...</td>\n",
       "      <td>Judge: If news taints rape-trial jurors, Trump...</td>\n",
       "      <td>Stamford Advocate</td>\n",
       "    </tr>\n",
       "  </tbody>\n",
       "</table>\n",
       "</div>"
      ],
      "text/plain": [
       "  engine                                            se_link  \\\n",
       "0  Yahoo  https://okmagazine.com/p/donald-trump-claims-s...   \n",
       "1  Yahoo  https://www.msn.com/en-us/news/politics/donald...   \n",
       "2  Yahoo  https://news.yahoo.com/judge-blamed-trump-medi...   \n",
       "3  Yahoo  https://www.newsweek.com/trump-poll-arizona-pe...   \n",
       "4  Yahoo  https://www.stamfordadvocate.com/news/article/...   \n",
       "\n",
       "                                            se_title               se_source  \n",
       "0  Donald Trump Claims 'There Is So Much Proof' T...            OK! Magazine  \n",
       "1  Donald Trump ally fights horrible Ohio State s...                MSN News  \n",
       "2  A judge blamed Trump for the 'media frenzy' he...  INSIDER via Yahoo News  \n",
       "3  Donald Trump's team rages over poll showing hi...                Newsweek  \n",
       "4  Judge: If news taints rape-trial jurors, Trump...       Stamford Advocate  "
      ]
     },
     "execution_count": 64,
     "metadata": {},
     "output_type": "execute_result"
    }
   ],
   "source": [
    "df.head()"
   ]
  },
  {
   "cell_type": "code",
   "execution_count": 65,
   "metadata": {},
   "outputs": [],
   "source": [
    "df = df.drop_duplicates(subset='se_link')\n",
    "urls = df[\"se_link\"].to_list()"
   ]
  },
  {
   "cell_type": "code",
   "execution_count": 66,
   "metadata": {},
   "outputs": [
    {
     "name": "stderr",
     "output_type": "stream",
     "text": [
      "Getting news article info:   9%|▊         | 39/454 [00:22<04:03,  1.71it/s]encoding error : input conversion failed due to input error, bytes 0x21 0x00 0x00 0x00\n",
      "Getting news article info:  27%|██▋       | 123/454 [00:54<02:03,  2.68it/s]encoding error : input conversion failed due to input error, bytes 0x21 0x00 0x00 0x00\n",
      "Getting news article info:  39%|███▊      | 175/454 [01:40<00:55,  4.99it/s]encoding error : input conversion failed due to input error, bytes 0x21 0x00 0x00 0x00\n",
      "Getting news article info:  43%|████▎     | 193/454 [01:47<01:32,  2.83it/s]encoding error : input conversion failed due to input error, bytes 0x21 0x00 0x00 0x00\n",
      "Getting news article info:  71%|███████   | 323/454 [02:59<00:47,  2.74it/s]encoding error : input conversion failed due to input error, bytes 0x21 0x00 0x00 0x00\n",
      "Getting news article info:  81%|████████  | 367/454 [03:19<00:37,  2.33it/s]encoding error : input conversion failed due to input error, bytes 0x21 0x00 0x00 0x00\n",
      "Getting news article info:  86%|████████▌ | 390/454 [03:27<00:23,  2.76it/s]encoding error : input conversion failed due to input error, bytes 0x21 0x00 0x00 0x00\n",
      "Getting news article info:  88%|████████▊ | 401/454 [03:32<00:17,  3.06it/s]encoding error : input conversion failed due to input error, bytes 0x21 0x00 0x00 0x00\n",
      "Getting news article info:  94%|█████████▍| 427/454 [03:42<00:11,  2.32it/s]encoding error : input conversion failed due to input error, bytes 0x21 0x00 0x00 0x00\n",
      "Getting news article info:  95%|█████████▌| 433/454 [03:44<00:06,  3.48it/s]encoding error : input conversion failed due to input error, bytes 0x21 0x00 0x00 0x00\n",
      "Getting news article info:  99%|█████████▉| 451/454 [03:52<00:01,  1.86it/s]encoding error : input conversion failed due to input error, bytes 0x21 0x00 0x00 0x00\n",
      "Getting news article info: 100%|██████████| 454/454 [03:53<00:00,  1.94it/s]\n"
     ]
    }
   ],
   "source": [
    "contents = get_content(urls)"
   ]
  },
  {
   "cell_type": "code",
   "execution_count": 67,
   "metadata": {},
   "outputs": [
    {
     "data": {
      "text/plain": [
       "391"
      ]
     },
     "execution_count": 67,
     "metadata": {},
     "output_type": "execute_result"
    }
   ],
   "source": [
    "len(contents)"
   ]
  },
  {
   "cell_type": "code",
   "execution_count": 68,
   "metadata": {},
   "outputs": [],
   "source": [
    "df = pd.merge(df, pd.DataFrame(contents), left_on='se_link', right_on='bs_link')"
   ]
  },
  {
   "cell_type": "code",
   "execution_count": 69,
   "metadata": {},
   "outputs": [
    {
     "data": {
      "text/html": [
       "<div>\n",
       "<style scoped>\n",
       "    .dataframe tbody tr th:only-of-type {\n",
       "        vertical-align: middle;\n",
       "    }\n",
       "\n",
       "    .dataframe tbody tr th {\n",
       "        vertical-align: top;\n",
       "    }\n",
       "\n",
       "    .dataframe thead th {\n",
       "        text-align: right;\n",
       "    }\n",
       "</style>\n",
       "<table border=\"1\" class=\"dataframe\">\n",
       "  <thead>\n",
       "    <tr style=\"text-align: right;\">\n",
       "      <th></th>\n",
       "      <th>engine</th>\n",
       "      <th>se_link</th>\n",
       "      <th>se_title</th>\n",
       "      <th>se_source</th>\n",
       "      <th>n3k_link</th>\n",
       "      <th>n3k_title</th>\n",
       "      <th>n3k_body</th>\n",
       "      <th>n3k_author</th>\n",
       "      <th>n3k_published</th>\n",
       "      <th>bs_link</th>\n",
       "      <th>bs_title</th>\n",
       "      <th>bs_body</th>\n",
       "    </tr>\n",
       "  </thead>\n",
       "  <tbody>\n",
       "    <tr>\n",
       "      <th>0</th>\n",
       "      <td>Yahoo</td>\n",
       "      <td>https://okmagazine.com/p/donald-trump-claims-s...</td>\n",
       "      <td>Donald Trump Claims 'There Is So Much Proof' T...</td>\n",
       "      <td>OK! Magazine</td>\n",
       "      <td>https://okmagazine.com/p/donald-trump-claims-s...</td>\n",
       "      <td>Donald Trump Claims 'There Is So Much Proof' T...</td>\n",
       "      <td>Here he goes again! In the early morning on Mo...</td>\n",
       "      <td>[Jaclyn Roth]</td>\n",
       "      <td>2023-04-17 15:00:00+00:00</td>\n",
       "      <td>https://okmagazine.com/p/donald-trump-claims-s...</td>\n",
       "      <td>Donald Trump Claims 'There Is So Much Proof' T...</td>\n",
       "      <td>Here he goes again! In the early morning on Mo...</td>\n",
       "    </tr>\n",
       "    <tr>\n",
       "      <th>1</th>\n",
       "      <td>Yahoo</td>\n",
       "      <td>https://news.yahoo.com/judge-blamed-trump-medi...</td>\n",
       "      <td>A judge blamed Trump for the 'media frenzy' he...</td>\n",
       "      <td>INSIDER via Yahoo News</td>\n",
       "      <td>https://news.yahoo.com/judge-blamed-trump-medi...</td>\n",
       "      <td>A judge blamed Trump for the 'media frenzy' he...</td>\n",
       "      <td>E. Jean Carroll (left) and former President Do...</td>\n",
       "      <td>[Ashley Collman]</td>\n",
       "      <td>None</td>\n",
       "      <td>https://news.yahoo.com/judge-blamed-trump-medi...</td>\n",
       "      <td>Yahoo News</td>\n",
       "      <td>A judge has turned down former President Donal...</td>\n",
       "    </tr>\n",
       "    <tr>\n",
       "      <th>2</th>\n",
       "      <td>Yahoo</td>\n",
       "      <td>https://www.stamfordadvocate.com/news/article/...</td>\n",
       "      <td>Judge: If news taints rape-trial jurors, Trump...</td>\n",
       "      <td>Stamford Advocate</td>\n",
       "      <td>https://www.stamfordadvocate.com/news/article/...</td>\n",
       "      <td>Judge: If news taints rape-trial jurors, Trump...</td>\n",
       "      <td>NEW YORK (AP) — Donald Trump’s rape trial will...</td>\n",
       "      <td>[Larry Neumeister, Associated Press, John Breu...</td>\n",
       "      <td>2023-04-17 18:04:37</td>\n",
       "      <td>https://www.stamfordadvocate.com/news/article/...</td>\n",
       "      <td>Judge: If news taints rape-trial jurors, Trump...</td>\n",
       "      <td>Kaplan rejected arguments by Trump attorney Jo...</td>\n",
       "    </tr>\n",
       "    <tr>\n",
       "      <th>3</th>\n",
       "      <td>Yahoo</td>\n",
       "      <td>https://www.newsweek.com/donald-trump-e-jean-c...</td>\n",
       "      <td>Donald Trump must face the music</td>\n",
       "      <td>Newsweek</td>\n",
       "      <td>https://www.newsweek.com/donald-trump-e-jean-c...</td>\n",
       "      <td>Donald Trump Must Face the Music</td>\n",
       "      <td>A federal judge denied Donald Trump's request ...</td>\n",
       "      <td>[Anna Skinner, Cj Pearson, Katherine Mangu-Ward]</td>\n",
       "      <td>2023-04-17 11:42:01-04:00</td>\n",
       "      <td>https://www.newsweek.com/donald-trump-e-jean-c...</td>\n",
       "      <td>Donald Trump Must Face the Music</td>\n",
       "      <td>A federal judge has denied former president Do...</td>\n",
       "    </tr>\n",
       "    <tr>\n",
       "      <th>4</th>\n",
       "      <td>Yahoo</td>\n",
       "      <td>https://www.nbcnews.com/politics/congress/trum...</td>\n",
       "      <td>Trump allies take fight to Bragg's backyard wi...</td>\n",
       "      <td>NBC NEWS</td>\n",
       "      <td>https://www.nbcnews.com/politics/congress/trum...</td>\n",
       "      <td>Trump allies take fight to Bragg's backyard wi...</td>\n",
       "      <td>Donald Trump's congressional allies took the f...</td>\n",
       "      <td>[Https, Media-Cldnry.S-Nbcnews.Com Image Uploa...</td>\n",
       "      <td>None</td>\n",
       "      <td>https://www.nbcnews.com/politics/congress/trum...</td>\n",
       "      <td>Trump allies take fight to Bragg's backyard wi...</td>\n",
       "      <td>Donald Trump's congressional allies took the f...</td>\n",
       "    </tr>\n",
       "  </tbody>\n",
       "</table>\n",
       "</div>"
      ],
      "text/plain": [
       "  engine                                            se_link  \\\n",
       "0  Yahoo  https://okmagazine.com/p/donald-trump-claims-s...   \n",
       "1  Yahoo  https://news.yahoo.com/judge-blamed-trump-medi...   \n",
       "2  Yahoo  https://www.stamfordadvocate.com/news/article/...   \n",
       "3  Yahoo  https://www.newsweek.com/donald-trump-e-jean-c...   \n",
       "4  Yahoo  https://www.nbcnews.com/politics/congress/trum...   \n",
       "\n",
       "                                            se_title               se_source  \\\n",
       "0  Donald Trump Claims 'There Is So Much Proof' T...            OK! Magazine   \n",
       "1  A judge blamed Trump for the 'media frenzy' he...  INSIDER via Yahoo News   \n",
       "2  Judge: If news taints rape-trial jurors, Trump...       Stamford Advocate   \n",
       "3                   Donald Trump must face the music                Newsweek   \n",
       "4  Trump allies take fight to Bragg's backyard wi...                NBC NEWS   \n",
       "\n",
       "                                            n3k_link  \\\n",
       "0  https://okmagazine.com/p/donald-trump-claims-s...   \n",
       "1  https://news.yahoo.com/judge-blamed-trump-medi...   \n",
       "2  https://www.stamfordadvocate.com/news/article/...   \n",
       "3  https://www.newsweek.com/donald-trump-e-jean-c...   \n",
       "4  https://www.nbcnews.com/politics/congress/trum...   \n",
       "\n",
       "                                           n3k_title  \\\n",
       "0  Donald Trump Claims 'There Is So Much Proof' T...   \n",
       "1  A judge blamed Trump for the 'media frenzy' he...   \n",
       "2  Judge: If news taints rape-trial jurors, Trump...   \n",
       "3                   Donald Trump Must Face the Music   \n",
       "4  Trump allies take fight to Bragg's backyard wi...   \n",
       "\n",
       "                                            n3k_body  \\\n",
       "0  Here he goes again! In the early morning on Mo...   \n",
       "1  E. Jean Carroll (left) and former President Do...   \n",
       "2  NEW YORK (AP) — Donald Trump’s rape trial will...   \n",
       "3  A federal judge denied Donald Trump's request ...   \n",
       "4  Donald Trump's congressional allies took the f...   \n",
       "\n",
       "                                          n3k_author  \\\n",
       "0                                      [Jaclyn Roth]   \n",
       "1                                   [Ashley Collman]   \n",
       "2  [Larry Neumeister, Associated Press, John Breu...   \n",
       "3   [Anna Skinner, Cj Pearson, Katherine Mangu-Ward]   \n",
       "4  [Https, Media-Cldnry.S-Nbcnews.Com Image Uploa...   \n",
       "\n",
       "               n3k_published  \\\n",
       "0  2023-04-17 15:00:00+00:00   \n",
       "1                       None   \n",
       "2        2023-04-17 18:04:37   \n",
       "3  2023-04-17 11:42:01-04:00   \n",
       "4                       None   \n",
       "\n",
       "                                             bs_link  \\\n",
       "0  https://okmagazine.com/p/donald-trump-claims-s...   \n",
       "1  https://news.yahoo.com/judge-blamed-trump-medi...   \n",
       "2  https://www.stamfordadvocate.com/news/article/...   \n",
       "3  https://www.newsweek.com/donald-trump-e-jean-c...   \n",
       "4  https://www.nbcnews.com/politics/congress/trum...   \n",
       "\n",
       "                                            bs_title  \\\n",
       "0  Donald Trump Claims 'There Is So Much Proof' T...   \n",
       "1                                         Yahoo News   \n",
       "2  Judge: If news taints rape-trial jurors, Trump...   \n",
       "3                   Donald Trump Must Face the Music   \n",
       "4  Trump allies take fight to Bragg's backyard wi...   \n",
       "\n",
       "                                             bs_body  \n",
       "0  Here he goes again! In the early morning on Mo...  \n",
       "1  A judge has turned down former President Donal...  \n",
       "2  Kaplan rejected arguments by Trump attorney Jo...  \n",
       "3  A federal judge has denied former president Do...  \n",
       "4  Donald Trump's congressional allies took the f...  "
      ]
     },
     "execution_count": 69,
     "metadata": {},
     "output_type": "execute_result"
    }
   ],
   "source": [
    "df.head()"
   ]
  },
  {
   "cell_type": "code",
   "execution_count": 17,
   "metadata": {},
   "outputs": [],
   "source": [
    "data[\"Body\"] = data[\"Body\"].apply(lambda x: remove_numbers(x))\n",
    "data[\"Body\"] = data[\"Body\"].replace(r'\\n',\" \", regex=True)\n",
    "data[\"Body\"] = data[\"Body\"].apply(lambda x: remove_punctuation(x))\n",
    "data[\"Body\"] = data[\"Body\"].apply(lambda x: tokenizer.tokenize(x.lower()))\n",
    "data[\"Body\"] = data[\"Body\"].apply(lambda x: remove_stopwords(x))\n",
    "data[\"Body\"] = data[\"Body\"].apply(lambda x: word_lemmatizer(x))"
   ]
  },
  {
   "cell_type": "code",
   "execution_count": 18,
   "metadata": {},
   "outputs": [],
   "source": [
    "body_text = data[\"Body\"].apply(lambda x: \" \".join(x)).str.cat()"
   ]
  },
  {
   "cell_type": "code",
   "execution_count": 19,
   "metadata": {},
   "outputs": [
    {
     "data": {
      "image/png": "[encoded data removed]",
      "text/plain": [
       "<Figure size 640x480 with 1 Axes>"
      ]
     },
     "metadata": {},
     "output_type": "display_data"
    }
   ],
   "source": [
    "# Create and generate a word cloud image:\n",
    "title_wordcloud = WordCloud().generate(body_text)\n",
    "\n",
    "# Display the generated image:\n",
    "plt.imshow(title_wordcloud, interpolation='bilinear')\n",
    "plt.axis(\"off\")\n",
    "plt.show()"
   ]
  },
  {
   "cell_type": "code",
   "execution_count": 20,
   "metadata": {},
   "outputs": [
    {
     "data": {
      "text/plain": [
       "1110282"
      ]
     },
     "execution_count": 20,
     "metadata": {},
     "output_type": "execute_result"
    }
   ],
   "source": [
    "len(body_text)"
   ]
  }
 ],
 "metadata": {
  "kernelspec": {
   "display_name": "RB_NLP",
   "language": "python",
   "name": "python3"
  },
  "language_info": {
   "codemirror_mode": {
    "name": "ipython",
    "version": 3
   },
   "file_extension": ".py",
   "mimetype": "text/x-python",
   "name": "python",
   "nbconvert_exporter": "python",
   "pygments_lexer": "ipython3",
   "version": "3.8.16"
  },
  "orig_nbformat": 4,
  "vscode": {
   "interpreter": {
    "hash": "10a7449f29f75ab6c3b0c7455488d1c69faf6daed02bbf1bf93e5a8736b23120"
   }
  }
 },
 "nbformat": 4,
 "nbformat_minor": 2
}
