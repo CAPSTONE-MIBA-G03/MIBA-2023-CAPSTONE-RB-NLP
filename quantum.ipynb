{
 "cells": [
  {
   "cell_type": "code",
   "execution_count": 1,
   "metadata": {},
   "outputs": [
    {
     "data": {
      "text/html": [
       "<div>\n",
       "<style scoped>\n",
       "    .dataframe tbody tr th:only-of-type {\n",
       "        vertical-align: middle;\n",
       "    }\n",
       "\n",
       "    .dataframe tbody tr th {\n",
       "        vertical-align: top;\n",
       "    }\n",
       "\n",
       "    .dataframe thead th {\n",
       "        text-align: right;\n",
       "    }\n",
       "</style>\n",
       "<table border=\"1\" class=\"dataframe\">\n",
       "  <thead>\n",
       "    <tr style=\"text-align: right;\">\n",
       "      <th></th>\n",
       "      <th>engine</th>\n",
       "      <th>link</th>\n",
       "      <th>se_description</th>\n",
       "      <th>se_source</th>\n",
       "      <th>n3k_author</th>\n",
       "      <th>n3k_published</th>\n",
       "      <th>title</th>\n",
       "      <th>body</th>\n",
       "    </tr>\n",
       "  </thead>\n",
       "  <tbody>\n",
       "    <tr>\n",
       "      <th>0</th>\n",
       "      <td>Bing</td>\n",
       "      <td>https://www.popularmechanics.com/science/a4387...</td>\n",
       "      <td>In fact, this is part of a whole movement call...</td>\n",
       "      <td>Popular Mechanics</td>\n",
       "      <td>[]</td>\n",
       "      <td>NaN</td>\n",
       "      <td>Quantum Computers Could Be a ‘Superhighway’ to...</td>\n",
       "      <td>Comedian John Mulaney once said, “I don’t know...</td>\n",
       "    </tr>\n",
       "    <tr>\n",
       "      <th>1</th>\n",
       "      <td>Bing</td>\n",
       "      <td>https://thenextweb.com/news/quantum-computing-...</td>\n",
       "      <td>A promising quantum computing ecosystem is eme...</td>\n",
       "      <td>The Next Web</td>\n",
       "      <td>[]</td>\n",
       "      <td>NaN</td>\n",
       "      <td>Europe’s precarious path to quantum computing ...</td>\n",
       "      <td>This article features an interview with Joe Fi...</td>\n",
       "    </tr>\n",
       "    <tr>\n",
       "      <th>2</th>\n",
       "      <td>Yahoo</td>\n",
       "      <td>https://www.benzinga.com/pressreleases/23/05/n...</td>\n",
       "      <td>Quantum Computing Inc. initiates commercializa...</td>\n",
       "      <td>Benzinga</td>\n",
       "      <td>[]</td>\n",
       "      <td>NaN</td>\n",
       "      <td>Quantum Computing Inc Announces First Quarter ...</td>\n",
       "      <td>Quantum Computing Inc. initiates commercializa...</td>\n",
       "    </tr>\n",
       "    <tr>\n",
       "      <th>3</th>\n",
       "      <td>Yahoo</td>\n",
       "      <td>https://seekingalpha.com/article/4603046-micro...</td>\n",
       "      <td>Quantum computing is a disruptive technology t...</td>\n",
       "      <td>Seeking Alpha</td>\n",
       "      <td>['Aseity Research']</td>\n",
       "      <td>2023-05-11 11:03:43-04:00</td>\n",
       "      <td>Microsoft Stock: Leading The Quantum Computing...</td>\n",
       "      <td>Bartlomiej Wroblewski\\n\\nQuantum computing is ...</td>\n",
       "    </tr>\n",
       "    <tr>\n",
       "      <th>4</th>\n",
       "      <td>Google</td>\n",
       "      <td>https://www.nature.com/articles/d41586-023-015...</td>\n",
       "      <td>NaN</td>\n",
       "      <td>Nature</td>\n",
       "      <td>['Castelvecchi', 'Davide Castelvecchi', 'You C...</td>\n",
       "      <td>NaN</td>\n",
       "      <td>Physicists create long-sought topological quan...</td>\n",
       "      <td>Borromean rings depicted in a church in Floren...</td>\n",
       "    </tr>\n",
       "  </tbody>\n",
       "</table>\n",
       "</div>"
      ],
      "text/plain": [
       "   engine                                               link  \\\n",
       "0    Bing  https://www.popularmechanics.com/science/a4387...   \n",
       "1    Bing  https://thenextweb.com/news/quantum-computing-...   \n",
       "2   Yahoo  https://www.benzinga.com/pressreleases/23/05/n...   \n",
       "3   Yahoo  https://seekingalpha.com/article/4603046-micro...   \n",
       "4  Google  https://www.nature.com/articles/d41586-023-015...   \n",
       "\n",
       "                                      se_description          se_source  \\\n",
       "0  In fact, this is part of a whole movement call...  Popular Mechanics   \n",
       "1  A promising quantum computing ecosystem is eme...       The Next Web   \n",
       "2  Quantum Computing Inc. initiates commercializa...           Benzinga   \n",
       "3  Quantum computing is a disruptive technology t...      Seeking Alpha   \n",
       "4                                                NaN             Nature   \n",
       "\n",
       "                                          n3k_author  \\\n",
       "0                                                 []   \n",
       "1                                                 []   \n",
       "2                                                 []   \n",
       "3                                ['Aseity Research']   \n",
       "4  ['Castelvecchi', 'Davide Castelvecchi', 'You C...   \n",
       "\n",
       "               n3k_published  \\\n",
       "0                        NaN   \n",
       "1                        NaN   \n",
       "2                        NaN   \n",
       "3  2023-05-11 11:03:43-04:00   \n",
       "4                        NaN   \n",
       "\n",
       "                                               title  \\\n",
       "0  Quantum Computers Could Be a ‘Superhighway’ to...   \n",
       "1  Europe’s precarious path to quantum computing ...   \n",
       "2  Quantum Computing Inc Announces First Quarter ...   \n",
       "3  Microsoft Stock: Leading The Quantum Computing...   \n",
       "4  Physicists create long-sought topological quan...   \n",
       "\n",
       "                                                body  \n",
       "0  Comedian John Mulaney once said, “I don’t know...  \n",
       "1  This article features an interview with Joe Fi...  \n",
       "2  Quantum Computing Inc. initiates commercializa...  \n",
       "3  Bartlomiej Wroblewski\\n\\nQuantum computing is ...  \n",
       "4  Borromean rings depicted in a church in Floren...  "
      ]
     },
     "execution_count": 1,
     "metadata": {},
     "output_type": "execute_result"
    }
   ],
   "source": [
    "# create a pipeline from the etl_pipeline package\n",
    "from pipeline_executor import PipelineExecutor\n",
    "\n",
    "topic = 'quantum computing'\n",
    "\n",
    "# create a pipeline executor\n",
    "pipeline_executor = PipelineExecutor()\n",
    "quantum_df = pipeline_executor.execute(query=topic, max_articles=2)\n",
    "\n",
    "# print the first 5 rows of the dataframe\n",
    "quantum_df.head()"
   ]
  },
  {
   "cell_type": "code",
   "execution_count": 2,
   "metadata": {},
   "outputs": [],
   "source": [
    "# TODO extract entities from the dataframe descritpion, title, and body columns\n",
    "# entities = quantum_df['description'].apply(lambda x: extract_entities(x))\n",
    "\n",
    "entities = ['Microsoft', 'Apple', 'IBM']"
   ]
  },
  {
   "cell_type": "code",
   "execution_count": 3,
   "metadata": {},
   "outputs": [],
   "source": [
    "# for each entity run the pipeline (adding \"quantum\" to the query) and store the results in a dictionary\n",
    "entity_results = {}\n",
    "for entity in entities:\n",
    "    entity_results[entity] = pipeline_executor.execute(query=f\"‘{entity}‘ AND ‘{topic}'\", max_articles=100)\n"
   ]
  },
  {
   "cell_type": "code",
   "execution_count": 4,
   "metadata": {},
   "outputs": [
    {
     "data": {
      "text/html": [
       "<div>\n",
       "<style scoped>\n",
       "    .dataframe tbody tr th:only-of-type {\n",
       "        vertical-align: middle;\n",
       "    }\n",
       "\n",
       "    .dataframe tbody tr th {\n",
       "        vertical-align: top;\n",
       "    }\n",
       "\n",
       "    .dataframe thead th {\n",
       "        text-align: right;\n",
       "    }\n",
       "</style>\n",
       "<table border=\"1\" class=\"dataframe\">\n",
       "  <thead>\n",
       "    <tr style=\"text-align: right;\">\n",
       "      <th></th>\n",
       "      <th>engine</th>\n",
       "      <th>link</th>\n",
       "      <th>se_description</th>\n",
       "      <th>se_source</th>\n",
       "      <th>n3k_author</th>\n",
       "      <th>n3k_published</th>\n",
       "      <th>title</th>\n",
       "      <th>body</th>\n",
       "    </tr>\n",
       "  </thead>\n",
       "  <tbody>\n",
       "    <tr>\n",
       "      <th>0</th>\n",
       "      <td>Yahoo</td>\n",
       "      <td>https://seekingalpha.com/article/4603046-micro...</td>\n",
       "      <td>By leveraging the properties of quantum mechan...</td>\n",
       "      <td>Seeking Alpha</td>\n",
       "      <td>['Aseity Research']</td>\n",
       "      <td>2023-05-11 11:03:43-04:00</td>\n",
       "      <td>Microsoft Stock: Leading The Quantum Computing...</td>\n",
       "      <td>Bartlomiej Wroblewski\\n\\nQuantum computing is ...</td>\n",
       "    </tr>\n",
       "    <tr>\n",
       "      <th>1</th>\n",
       "      <td>Yahoo</td>\n",
       "      <td>https://www.benzinga.com/pressreleases/23/05/n...</td>\n",
       "      <td>Quantum Computing Inc. initiates commercializa...</td>\n",
       "      <td>Benzinga</td>\n",
       "      <td>[]</td>\n",
       "      <td>NaN</td>\n",
       "      <td>Quantum Computing Inc Announces First Quarter ...</td>\n",
       "      <td>Quantum Computing Inc. initiates commercializa...</td>\n",
       "    </tr>\n",
       "    <tr>\n",
       "      <th>2</th>\n",
       "      <td>Bing</td>\n",
       "      <td>https://phys.org/news/2023-05-google-quantum-a...</td>\n",
       "      <td>Our intuition tells us that it should be impos...</td>\n",
       "      <td>Phys.org</td>\n",
       "      <td>['Google Quantum Ai']</td>\n",
       "      <td>NaN</td>\n",
       "      <td>Google Quantum AI braids non-Abelian anyons fo...</td>\n",
       "      <td>This article has been reviewed according to Sc...</td>\n",
       "    </tr>\n",
       "    <tr>\n",
       "      <th>3</th>\n",
       "      <td>Yahoo</td>\n",
       "      <td>https://www.techtarget.com/searchstorage/tip/A...</td>\n",
       "      <td>In 2017, Microsoft surprised attendees of its ...</td>\n",
       "      <td>SearchSecurity.com</td>\n",
       "      <td>['Published']</td>\n",
       "      <td>NaN</td>\n",
       "      <td>A primer on quantum computing storage and memo...</td>\n",
       "      <td>In 2017, Microsoft surprised attendees of its ...</td>\n",
       "    </tr>\n",
       "    <tr>\n",
       "      <th>4</th>\n",
       "      <td>Yahoo</td>\n",
       "      <td>https://www.tomshardware.com/news/quantinuum-i...</td>\n",
       "      <td>Quantinuum, the trapped-ion specialist quantum...</td>\n",
       "      <td>Tom s Hardware</td>\n",
       "      <td>['Francisco Pires', 'Freelance News Writer', '...</td>\n",
       "      <td>2023-05-10 19:52:20+00:00</td>\n",
       "      <td>Quantinuum Injects Topology Into Ion-Chain Qua...</td>\n",
       "      <td>Quantinuum, the trapped-ion specialist quantum...</td>\n",
       "    </tr>\n",
       "  </tbody>\n",
       "</table>\n",
       "</div>"
      ],
      "text/plain": [
       "  engine                                               link  \\\n",
       "0  Yahoo  https://seekingalpha.com/article/4603046-micro...   \n",
       "1  Yahoo  https://www.benzinga.com/pressreleases/23/05/n...   \n",
       "2   Bing  https://phys.org/news/2023-05-google-quantum-a...   \n",
       "3  Yahoo  https://www.techtarget.com/searchstorage/tip/A...   \n",
       "4  Yahoo  https://www.tomshardware.com/news/quantinuum-i...   \n",
       "\n",
       "                                      se_description           se_source  \\\n",
       "0  By leveraging the properties of quantum mechan...       Seeking Alpha   \n",
       "1  Quantum Computing Inc. initiates commercializa...            Benzinga   \n",
       "2  Our intuition tells us that it should be impos...            Phys.org   \n",
       "3  In 2017, Microsoft surprised attendees of its ...  SearchSecurity.com   \n",
       "4  Quantinuum, the trapped-ion specialist quantum...      Tom s Hardware   \n",
       "\n",
       "                                          n3k_author  \\\n",
       "0                                ['Aseity Research']   \n",
       "1                                                 []   \n",
       "2                              ['Google Quantum Ai']   \n",
       "3                                      ['Published']   \n",
       "4  ['Francisco Pires', 'Freelance News Writer', '...   \n",
       "\n",
       "               n3k_published  \\\n",
       "0  2023-05-11 11:03:43-04:00   \n",
       "1                        NaN   \n",
       "2                        NaN   \n",
       "3                        NaN   \n",
       "4  2023-05-10 19:52:20+00:00   \n",
       "\n",
       "                                               title  \\\n",
       "0  Microsoft Stock: Leading The Quantum Computing...   \n",
       "1  Quantum Computing Inc Announces First Quarter ...   \n",
       "2  Google Quantum AI braids non-Abelian anyons fo...   \n",
       "3  A primer on quantum computing storage and memo...   \n",
       "4  Quantinuum Injects Topology Into Ion-Chain Qua...   \n",
       "\n",
       "                                                body  \n",
       "0  Bartlomiej Wroblewski\\n\\nQuantum computing is ...  \n",
       "1  Quantum Computing Inc. initiates commercializa...  \n",
       "2  This article has been reviewed according to Sc...  \n",
       "3  In 2017, Microsoft surprised attendees of its ...  \n",
       "4  Quantinuum, the trapped-ion specialist quantum...  "
      ]
     },
     "execution_count": 4,
     "metadata": {},
     "output_type": "execute_result"
    }
   ],
   "source": [
    "# check the results for the first entity\n",
    "entity_results['Microsoft'].head()"
   ]
  },
  {
   "cell_type": "code",
   "execution_count": 5,
   "metadata": {},
   "outputs": [],
   "source": [
    "# TODO summarize the results\n",
    "import numpy as np\n",
    "import matplotlib.pyplot as plt\n",
    "import torch\n",
    "import pandas as pd"
   ]
  },
  {
   "cell_type": "code",
   "execution_count": 6,
   "metadata": {},
   "outputs": [
    {
     "data": {
      "text/plain": [
       "'2.0.0'"
      ]
     },
     "execution_count": 6,
     "metadata": {},
     "output_type": "execute_result"
    }
   ],
   "source": [
    "torch.__version__"
   ]
  },
  {
   "cell_type": "code",
   "execution_count": 7,
   "metadata": {},
   "outputs": [
    {
     "data": {
      "text/plain": [
       "device(type='mps')"
      ]
     },
     "execution_count": 7,
     "metadata": {},
     "output_type": "execute_result"
    }
   ],
   "source": [
    "# Setup device agnostic code (Chooses NVIDIA or Metal backend if available, otherwise defaults to CPU)\n",
    "if torch.cuda.is_available():\n",
    "    device = torch.device(\"cuda\")\n",
    "    \n",
    "elif torch.backends.mps.is_available():\n",
    "    device = torch.device(\"mps\")\n",
    "    \n",
    "else:\n",
    "    device = torch.device(\"cpu\")\n",
    "\n",
    "device"
   ]
  },
  {
   "cell_type": "code",
   "execution_count": 8,
   "metadata": {},
   "outputs": [],
   "source": [
    "microsoft_df = entity_results['Microsoft']\n",
    "apple_df = entity_results['Apple']\n",
    "ibm_df = entity_results['IBM']"
   ]
  },
  {
   "cell_type": "code",
   "execution_count": 9,
   "metadata": {},
   "outputs": [
    {
     "data": {
      "text/plain": [
       "((182, 8), (149, 8), (166, 8))"
      ]
     },
     "execution_count": 9,
     "metadata": {},
     "output_type": "execute_result"
    }
   ],
   "source": [
    "microsoft_df.shape, apple_df.shape, ibm_df.shape"
   ]
  },
  {
   "cell_type": "code",
   "execution_count": 34,
   "metadata": {},
   "outputs": [
    {
     "name": "stderr",
     "output_type": "stream",
     "text": [
      "[nltk_data] Downloading package punkt to\n",
      "[nltk_data]     /Users/johnbergmann/nltk_data...\n",
      "[nltk_data]   Package punkt is already up-to-date!\n"
     ]
    }
   ],
   "source": [
    "from transformers import BartTokenizer, BartForConditionalGeneration\n",
    "from transformers import AutoTokenizer, AutoModelForSeq2SeqLM\n",
    "import nltk\n",
    "nltk.download('punkt')\n",
    "from tqdm import tqdm"
   ]
  },
  {
   "cell_type": "code",
   "execution_count": 11,
   "metadata": {},
   "outputs": [],
   "source": [
    "model = BartForConditionalGeneration.from_pretrained(\"facebook/bart-large-cnn\")\n",
    "model.to(device)\n",
    "tokenizer = BartTokenizer.from_pretrained(\"facebook/bart-large-cnn\")"
   ]
  },
  {
   "cell_type": "code",
   "execution_count": 35,
   "metadata": {},
   "outputs": [],
   "source": [
    "def summarize_bart(\n",
    "    column: pd.Series, tokenizer: BartTokenizer, model: BartForConditionalGeneration, min_len=50, max_len=100) -> str:\n",
    "    \n",
    "    long_text = column.str.cat()\n",
    "\n",
    "    sentences = nltk.tokenize.sent_tokenize(long_text)\n",
    "\n",
    "    # initialize\n",
    "    length = 0\n",
    "    chunk = \"\"\n",
    "    chunks = []\n",
    "    count = -1\n",
    "    for sentence in sentences:\n",
    "        count += 1\n",
    "        combined_length = len(tokenizer.tokenize(sentence)) + length # add the no. of sentence tokens to the length counter\n",
    "\n",
    "        if combined_length  <= 1024: # if it doesn't exceed  -tokenizer.max_len_single_sentence-\n",
    "            chunk += sentence + \" \" # add the sentence to the chunk\n",
    "            length = combined_length # update the length counter\n",
    "\n",
    "            # if it is the last sentence\n",
    "            if count == len(sentences) - 1:\n",
    "                chunks.append(chunk) # save the chunk\n",
    "            \n",
    "        else: \n",
    "            chunks.append(chunk) # save the chunk\n",
    "            # reset \n",
    "            length = 0 \n",
    "            chunk = \"\"\n",
    "\n",
    "            # take care of the overflow sentence\n",
    "            chunk += sentence + \" \"\n",
    "            length = len(tokenizer.tokenize(sentence))\n",
    "\n",
    "    # inputs\n",
    "    inputs = [tokenizer(chunk, return_tensors=\"pt\").to(device) for chunk in chunks]\n",
    "\n",
    "    # print summary\n",
    "    outputs = []\n",
    "    for input in tqdm(inputs):\n",
    "        output = model.generate(**input, num_beams=2, min_length=min_len, max_length=max_len)\n",
    "        outputs.append(tokenizer.decode(*output, skip_special_tokens=True))\n",
    "\n",
    "    return \" \".join(outputs)\n"
   ]
  },
  {
   "cell_type": "code",
   "execution_count": 27,
   "metadata": {},
   "outputs": [],
   "source": [
    "# Generate summaries for Microsoft and Apple based on News Titles\n",
    "microsoft_titles_summary = summarize_bart(microsoft_df[\"title\"], tokenizer, model)\n",
    "apple_titles_summary = summarize_bart(apple_df[\"title\"], tokenizer, model)\n",
    "ibm_titles_summary = summarize_bart(ibm_df[\"title\"], tokenizer, model)"
   ]
  },
  {
   "cell_type": "code",
   "execution_count": 28,
   "metadata": {},
   "outputs": [
    {
     "data": {
      "text/plain": [
       "\"Microsoft signs power purchase deal with nuclear fusion company Helion. Microsoft just made a huge, far-from-certain bet on nuclear fusion. OpenAI is the No. 1 company on the 2023 CNBC Disruptor 50 list. Only Humility Can Save Us From AI. 7 Legacy Tech Stocks Primed for a Comeback. Google Chrome Brings Better AI Brains to the Web. Google's Bard Chatbot Opens to the Public. IBM, D-Wave Systems, Microsoft, Trinity, IBM and more team up to boost quantum tech community in Ireland. Microsoft is harnessing the power of the cloud to make the promise of quantum at scale a reality. Microsoft and Israeli startup Classiq collaborate to bring advanced quantum software to researchers and academic institutions. IBM, Microsoft, and Google Race to Close Quantum Skills Gap - US innovation agency Darpa turns to Microsoft for quantum computing project.\""
      ]
     },
     "execution_count": 28,
     "metadata": {},
     "output_type": "execute_result"
    }
   ],
   "source": [
    "microsoft_titles_summary"
   ]
  },
  {
   "cell_type": "code",
   "execution_count": 29,
   "metadata": {},
   "outputs": [
    {
     "data": {
      "text/plain": [
       "\"Apple to develop future Mac chips in Israel. Apple's M1 Ultra shows the Future of Computer Chips. Apple shows interest in RISC-V chips, a competitor to iPhones' Arm tech. Apple joins Amazon, Google, and Microsoft in tech industry layoffs. Apple's A15 Bionic chip powers iPhone 13 with 15 billion transistors. Microsoft researchers solve two 20-year-old problems in quantum computing. IBM Q announces a host of new tools geared towards making quantum computing more accessible. Sony launches 43-inch and 50-inch Bravia X70L TVs in India, price starts at Rs 59,900.\""
      ]
     },
     "execution_count": 29,
     "metadata": {},
     "output_type": "execute_result"
    }
   ],
   "source": [
    "apple_titles_summary"
   ]
  },
  {
   "cell_type": "code",
   "execution_count": 30,
   "metadata": {},
   "outputs": [
    {
     "data": {
      "text/plain": [
       "'IBM advances its quantum roadmap as competition heats up. IBM unveils end-to-end, quantum-safe tools to secure business, government  data. 10 companies building quantum computers. White House: President Biden to visit Westchester to talk debt limit and impacts.'"
      ]
     },
     "execution_count": 30,
     "metadata": {},
     "output_type": "execute_result"
    }
   ],
   "source": [
    "ibm_titles_summary"
   ]
  },
  {
   "cell_type": "code",
   "execution_count": 36,
   "metadata": {},
   "outputs": [
    {
     "name": "stderr",
     "output_type": "stream",
     "text": [
      "100%|██████████| 275/275 [13:00<00:00,  2.84s/it]\n",
      "100%|██████████| 169/169 [07:32<00:00,  2.68s/it]\n",
      "100%|██████████| 207/207 [09:43<00:00,  2.82s/it]\n"
     ]
    }
   ],
   "source": [
    "# Generate summaries for Microsoft and Apple based on News article bodies\n",
    "microsoft_bodies_summary = summarize_bart(microsoft_df[\"body\"], tokenizer, model)\n",
    "apple_bodies_summary = summarize_bart(apple_df[\"body\"], tokenizer, model)\n",
    "ibm_bodies_summary = summarize_bart(ibm_df[\"body\"], tokenizer, model)"
   ]
  },
  {
   "cell_type": "code",
   "execution_count": 58,
   "metadata": {},
   "outputs": [],
   "source": [
    "# Summarize the long summary\n",
    "def sub1024_summ(text: str, tokenizer: BartTokenizer, model: BartForConditionalGeneration, min_len=50, max_len=100) -> str:\n",
    "    inputs = tokenizer([text], max_length=1024, return_tensors=\"pt\").to(device)\n",
    "    summary_ids = model.generate(inputs[\"input_ids\"], num_beams=2, min_length=min_len, max_length=max_len)\n",
    "    return tokenizer.batch_decode(summary_ids, skip_special_tokens=True, clean_up_tokenization_spaces=False)[0]\n"
   ]
  },
  {
   "cell_type": "code",
   "execution_count": 65,
   "metadata": {},
   "outputs": [
    {
     "data": {
      "text/plain": [
       "'Quantum computing is a disruptive technology that has the potential to revolutionize industries ranging from finance to healthcare. Microsoft stands out as a strong contender due to their innovative approach to quantum computing. IBM and Google are exploring superconducting qubits, while other companies like IonQ and Honeywell are experimenting with trapped ions. Microsoft is also pursuing topological qubits in its quantum computing work, a different way of going about quantum systems. QCI is engaged in a number of beta-tests to demonstrate the effectiveness of its computing capabilities.'"
      ]
     },
     "execution_count": 65,
     "metadata": {},
     "output_type": "execute_result"
    }
   ],
   "source": [
    "sub1024_summ(microsoft_bodies_summary, tokenizer, model, min_len=100, max_len=300)"
   ]
  },
  {
   "cell_type": "code",
   "execution_count": 66,
   "metadata": {},
   "outputs": [
    {
     "data": {
      "text/plain": [
       "\"IonQ Announces Pat Tang as New VP of Research & Development (VP R&D) Tang joins IonQ with over 23 years of technology experience, most recently as an Engineering Vice President at Amazon Lab126. Tang has a diverse background that includes multi-touch sensor architecture, RF design and reliability engineering. Apple is opening a new development base in Israel to develop new Apple silicon chips for future Macs. Apple's new M2 Pro and M2 Max processors are 20% faster than their predecessors.\""
      ]
     },
     "execution_count": 66,
     "metadata": {},
     "output_type": "execute_result"
    }
   ],
   "source": [
    "sub1024_summ(apple_bodies_summary, tokenizer, model, min_len=100, max_len=300)"
   ]
  },
  {
   "cell_type": "code",
   "execution_count": 67,
   "metadata": {},
   "outputs": [
    {
     "data": {
      "text/plain": [
       "'Quantum computing is a disruptive technology that has the potential to revolutionize industries ranging from finance to healthcare. Google, IBM and other tech giants are developing quantum computers using superconductor qubits. Microsoft is also pursuing topological qubits in its quantum computing work. IBM has established an ecosystem of over 450,000 users with access to more than 20 quantum computers via the cloud. The more qubits that are quantum-mechanically linked together via entanglement, the more computations it can perform.'"
      ]
     },
     "execution_count": 67,
     "metadata": {},
     "output_type": "execute_result"
    }
   ],
   "source": [
    "sub1024_summ(ibm_bodies_summary, tokenizer, model, min_len=100, max_len=300)"
   ]
  },
  {
   "cell_type": "code",
   "execution_count": null,
   "metadata": {},
   "outputs": [],
   "source": [
    "# ngl... not the best summaries I think"
   ]
  }
 ],
 "metadata": {
  "kernelspec": {
   "display_name": "capstone",
   "language": "python",
   "name": "python3"
  },
  "language_info": {
   "codemirror_mode": {
    "name": "ipython",
    "version": 3
   },
   "file_extension": ".py",
   "mimetype": "text/x-python",
   "name": "python",
   "nbconvert_exporter": "python",
   "pygments_lexer": "ipython3",
   "version": "3.8.16"
  },
  "orig_nbformat": 4
 },
 "nbformat": 4,
 "nbformat_minor": 2
}
