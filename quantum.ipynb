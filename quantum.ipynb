{
 "cells": [
  {
   "cell_type": "code",
   "execution_count": 14,
   "metadata": {},
   "outputs": [],
   "source": [
    "%load_ext autoreload\n",
    "%autoreload 2"
   ]
  },
  {
   "cell_type": "code",
   "execution_count": 7,
   "metadata": {},
   "outputs": [
    {
     "name": "stderr",
     "output_type": "stream",
     "text": [
      "Getting news article info: 100%|██████████| 50/50 [00:21<00:00,  2.38it/s]\n"
     ]
    },
    {
     "data": {
      "text/html": [
       "<div>\n",
       "<style scoped>\n",
       "    .dataframe tbody tr th:only-of-type {\n",
       "        vertical-align: middle;\n",
       "    }\n",
       "\n",
       "    .dataframe tbody tr th {\n",
       "        vertical-align: top;\n",
       "    }\n",
       "\n",
       "    .dataframe thead th {\n",
       "        text-align: right;\n",
       "    }\n",
       "</style>\n",
       "<table border=\"1\" class=\"dataframe\">\n",
       "  <thead>\n",
       "    <tr style=\"text-align: right;\">\n",
       "      <th></th>\n",
       "      <th>paragraph_index</th>\n",
       "      <th>engine</th>\n",
       "      <th>link</th>\n",
       "      <th>se_description</th>\n",
       "      <th>se_source</th>\n",
       "      <th>n3k_author</th>\n",
       "      <th>n3k_published</th>\n",
       "      <th>paragraph</th>\n",
       "      <th>title</th>\n",
       "      <th>body</th>\n",
       "    </tr>\n",
       "  </thead>\n",
       "  <tbody>\n",
       "    <tr>\n",
       "      <th>0</th>\n",
       "      <td>0</td>\n",
       "      <td>Yahoo</td>\n",
       "      <td>https://finance.yahoo.com/news/10-quantum-comp...</td>\n",
       "      <td>In this article, we will take a look at the 10...</td>\n",
       "      <td>Insider Monkey via Yahoo Finance</td>\n",
       "      <td>[Aima Zaheer]</td>\n",
       "      <td>None</td>\n",
       "      <td>In this article, we will take a look at the 10...</td>\n",
       "      <td>10 Quantum Computing Stocks Billionaires Are L...</td>\n",
       "      <td>In this article, we will take a look at the 10...</td>\n",
       "    </tr>\n",
       "    <tr>\n",
       "      <th>1</th>\n",
       "      <td>0</td>\n",
       "      <td>Yahoo</td>\n",
       "      <td>https://finance.yahoo.com/news/10-quantum-comp...</td>\n",
       "      <td>In this article, we will take a look at the 10...</td>\n",
       "      <td>Insider Monkey via Yahoo Finance</td>\n",
       "      <td>[Aima Zaheer]</td>\n",
       "      <td>None</td>\n",
       "      <td>As reported in one of our articles earlier, th...</td>\n",
       "      <td>10 Quantum Computing Stocks Billionaires Are L...</td>\n",
       "      <td>In this article, we will take a look at the 10...</td>\n",
       "    </tr>\n",
       "    <tr>\n",
       "      <th>2</th>\n",
       "      <td>0</td>\n",
       "      <td>Yahoo</td>\n",
       "      <td>https://finance.yahoo.com/news/10-quantum-comp...</td>\n",
       "      <td>In this article, we will take a look at the 10...</td>\n",
       "      <td>Insider Monkey via Yahoo Finance</td>\n",
       "      <td>[Aima Zaheer]</td>\n",
       "      <td>None</td>\n",
       "      <td>Quantum computing has attracted the attention ...</td>\n",
       "      <td>10 Quantum Computing Stocks Billionaires Are L...</td>\n",
       "      <td>In this article, we will take a look at the 10...</td>\n",
       "    </tr>\n",
       "    <tr>\n",
       "      <th>3</th>\n",
       "      <td>0</td>\n",
       "      <td>Yahoo</td>\n",
       "      <td>https://finance.yahoo.com/news/10-quantum-comp...</td>\n",
       "      <td>In this article, we will take a look at the 10...</td>\n",
       "      <td>Insider Monkey via Yahoo Finance</td>\n",
       "      <td>[Aima Zaheer]</td>\n",
       "      <td>None</td>\n",
       "      <td>Transformative Impact of Quantum Computing</td>\n",
       "      <td>10 Quantum Computing Stocks Billionaires Are L...</td>\n",
       "      <td>In this article, we will take a look at the 10...</td>\n",
       "    </tr>\n",
       "    <tr>\n",
       "      <th>4</th>\n",
       "      <td>0</td>\n",
       "      <td>Yahoo</td>\n",
       "      <td>https://finance.yahoo.com/news/10-quantum-comp...</td>\n",
       "      <td>In this article, we will take a look at the 10...</td>\n",
       "      <td>Insider Monkey via Yahoo Finance</td>\n",
       "      <td>[Aima Zaheer]</td>\n",
       "      <td>None</td>\n",
       "      <td>The impact of quantum computing extends to the...</td>\n",
       "      <td>10 Quantum Computing Stocks Billionaires Are L...</td>\n",
       "      <td>In this article, we will take a look at the 10...</td>\n",
       "    </tr>\n",
       "  </tbody>\n",
       "</table>\n",
       "</div>"
      ],
      "text/plain": [
       "   paragraph_index engine                                               link  \\\n",
       "0                0  Yahoo  https://finance.yahoo.com/news/10-quantum-comp...   \n",
       "1                0  Yahoo  https://finance.yahoo.com/news/10-quantum-comp...   \n",
       "2                0  Yahoo  https://finance.yahoo.com/news/10-quantum-comp...   \n",
       "3                0  Yahoo  https://finance.yahoo.com/news/10-quantum-comp...   \n",
       "4                0  Yahoo  https://finance.yahoo.com/news/10-quantum-comp...   \n",
       "\n",
       "                                      se_description  \\\n",
       "0  In this article, we will take a look at the 10...   \n",
       "1  In this article, we will take a look at the 10...   \n",
       "2  In this article, we will take a look at the 10...   \n",
       "3  In this article, we will take a look at the 10...   \n",
       "4  In this article, we will take a look at the 10...   \n",
       "\n",
       "                          se_source     n3k_author n3k_published  \\\n",
       "0  Insider Monkey via Yahoo Finance  [Aima Zaheer]          None   \n",
       "1  Insider Monkey via Yahoo Finance  [Aima Zaheer]          None   \n",
       "2  Insider Monkey via Yahoo Finance  [Aima Zaheer]          None   \n",
       "3  Insider Monkey via Yahoo Finance  [Aima Zaheer]          None   \n",
       "4  Insider Monkey via Yahoo Finance  [Aima Zaheer]          None   \n",
       "\n",
       "                                           paragraph  \\\n",
       "0  In this article, we will take a look at the 10...   \n",
       "1  As reported in one of our articles earlier, th...   \n",
       "2  Quantum computing has attracted the attention ...   \n",
       "3         Transformative Impact of Quantum Computing   \n",
       "4  The impact of quantum computing extends to the...   \n",
       "\n",
       "                                               title  \\\n",
       "0  10 Quantum Computing Stocks Billionaires Are L...   \n",
       "1  10 Quantum Computing Stocks Billionaires Are L...   \n",
       "2  10 Quantum Computing Stocks Billionaires Are L...   \n",
       "3  10 Quantum Computing Stocks Billionaires Are L...   \n",
       "4  10 Quantum Computing Stocks Billionaires Are L...   \n",
       "\n",
       "                                                body  \n",
       "0  In this article, we will take a look at the 10...  \n",
       "1  In this article, we will take a look at the 10...  \n",
       "2  In this article, we will take a look at the 10...  \n",
       "3  In this article, we will take a look at the 10...  \n",
       "4  In this article, we will take a look at the 10...  "
      ]
     },
     "execution_count": 7,
     "metadata": {},
     "output_type": "execute_result"
    }
   ],
   "source": [
    "# create a pipeline from the etl_pipeline package\n",
    "from pipeline_executor import PipelineExecutor\n",
    "from nlp_analysis.NER import extract_entities\n",
    "topic = 'Quantum Computing' # \"quantumcomputing\"AND\"research\"\n",
    "\n",
    "# create a pipeline executor\n",
    "pipeline_executor = PipelineExecutor()\n",
    "quantum_df = pipeline_executor.execute(query=topic, max_articles=20, overwrite=True)\n",
    "\n",
    "# print the first 5 rows of the dataframe\n",
    "quantum_df.head()"
   ]
  },
  {
   "cell_type": "code",
   "execution_count": 8,
   "metadata": {},
   "outputs": [],
   "source": [
    "import pandas as pd\n",
    "\n",
    "df = pd.read_csv('data/clean/QuantumComputing_20.csv')"
   ]
  },
  {
   "cell_type": "code",
   "execution_count": 9,
   "metadata": {},
   "outputs": [
    {
     "data": {
      "text/html": [
       "<div>\n",
       "<style scoped>\n",
       "    .dataframe tbody tr th:only-of-type {\n",
       "        vertical-align: middle;\n",
       "    }\n",
       "\n",
       "    .dataframe tbody tr th {\n",
       "        vertical-align: top;\n",
       "    }\n",
       "\n",
       "    .dataframe thead th {\n",
       "        text-align: right;\n",
       "    }\n",
       "</style>\n",
       "<table border=\"1\" class=\"dataframe\">\n",
       "  <thead>\n",
       "    <tr style=\"text-align: right;\">\n",
       "      <th></th>\n",
       "      <th>paragraph_index</th>\n",
       "      <th>engine</th>\n",
       "      <th>link</th>\n",
       "      <th>se_description</th>\n",
       "      <th>se_source</th>\n",
       "      <th>n3k_author</th>\n",
       "      <th>n3k_published</th>\n",
       "      <th>paragraph</th>\n",
       "      <th>title</th>\n",
       "      <th>body</th>\n",
       "    </tr>\n",
       "  </thead>\n",
       "  <tbody>\n",
       "    <tr>\n",
       "      <th>0</th>\n",
       "      <td>0</td>\n",
       "      <td>Yahoo</td>\n",
       "      <td>https://finance.yahoo.com/news/10-quantum-comp...</td>\n",
       "      <td>In this article, we will take a look at the 10...</td>\n",
       "      <td>Insider Monkey via Yahoo Finance</td>\n",
       "      <td>['Aima Zaheer']</td>\n",
       "      <td>NaN</td>\n",
       "      <td>In this article, we will take a look at the 10...</td>\n",
       "      <td>10 Quantum Computing Stocks Billionaires Are L...</td>\n",
       "      <td>In this article, we will take a look at the 10...</td>\n",
       "    </tr>\n",
       "    <tr>\n",
       "      <th>1</th>\n",
       "      <td>0</td>\n",
       "      <td>Yahoo</td>\n",
       "      <td>https://finance.yahoo.com/news/10-quantum-comp...</td>\n",
       "      <td>In this article, we will take a look at the 10...</td>\n",
       "      <td>Insider Monkey via Yahoo Finance</td>\n",
       "      <td>['Aima Zaheer']</td>\n",
       "      <td>NaN</td>\n",
       "      <td>As reported in one of our articles earlier, th...</td>\n",
       "      <td>10 Quantum Computing Stocks Billionaires Are L...</td>\n",
       "      <td>In this article, we will take a look at the 10...</td>\n",
       "    </tr>\n",
       "    <tr>\n",
       "      <th>2</th>\n",
       "      <td>0</td>\n",
       "      <td>Yahoo</td>\n",
       "      <td>https://finance.yahoo.com/news/10-quantum-comp...</td>\n",
       "      <td>In this article, we will take a look at the 10...</td>\n",
       "      <td>Insider Monkey via Yahoo Finance</td>\n",
       "      <td>['Aima Zaheer']</td>\n",
       "      <td>NaN</td>\n",
       "      <td>Quantum computing has attracted the attention ...</td>\n",
       "      <td>10 Quantum Computing Stocks Billionaires Are L...</td>\n",
       "      <td>In this article, we will take a look at the 10...</td>\n",
       "    </tr>\n",
       "    <tr>\n",
       "      <th>3</th>\n",
       "      <td>0</td>\n",
       "      <td>Yahoo</td>\n",
       "      <td>https://finance.yahoo.com/news/10-quantum-comp...</td>\n",
       "      <td>In this article, we will take a look at the 10...</td>\n",
       "      <td>Insider Monkey via Yahoo Finance</td>\n",
       "      <td>['Aima Zaheer']</td>\n",
       "      <td>NaN</td>\n",
       "      <td>Transformative Impact of Quantum Computing</td>\n",
       "      <td>10 Quantum Computing Stocks Billionaires Are L...</td>\n",
       "      <td>In this article, we will take a look at the 10...</td>\n",
       "    </tr>\n",
       "    <tr>\n",
       "      <th>4</th>\n",
       "      <td>0</td>\n",
       "      <td>Yahoo</td>\n",
       "      <td>https://finance.yahoo.com/news/10-quantum-comp...</td>\n",
       "      <td>In this article, we will take a look at the 10...</td>\n",
       "      <td>Insider Monkey via Yahoo Finance</td>\n",
       "      <td>['Aima Zaheer']</td>\n",
       "      <td>NaN</td>\n",
       "      <td>The impact of quantum computing extends to the...</td>\n",
       "      <td>10 Quantum Computing Stocks Billionaires Are L...</td>\n",
       "      <td>In this article, we will take a look at the 10...</td>\n",
       "    </tr>\n",
       "  </tbody>\n",
       "</table>\n",
       "</div>"
      ],
      "text/plain": [
       "   paragraph_index engine                                               link  \\\n",
       "0                0  Yahoo  https://finance.yahoo.com/news/10-quantum-comp...   \n",
       "1                0  Yahoo  https://finance.yahoo.com/news/10-quantum-comp...   \n",
       "2                0  Yahoo  https://finance.yahoo.com/news/10-quantum-comp...   \n",
       "3                0  Yahoo  https://finance.yahoo.com/news/10-quantum-comp...   \n",
       "4                0  Yahoo  https://finance.yahoo.com/news/10-quantum-comp...   \n",
       "\n",
       "                                      se_description  \\\n",
       "0  In this article, we will take a look at the 10...   \n",
       "1  In this article, we will take a look at the 10...   \n",
       "2  In this article, we will take a look at the 10...   \n",
       "3  In this article, we will take a look at the 10...   \n",
       "4  In this article, we will take a look at the 10...   \n",
       "\n",
       "                          se_source       n3k_author n3k_published  \\\n",
       "0  Insider Monkey via Yahoo Finance  ['Aima Zaheer']           NaN   \n",
       "1  Insider Monkey via Yahoo Finance  ['Aima Zaheer']           NaN   \n",
       "2  Insider Monkey via Yahoo Finance  ['Aima Zaheer']           NaN   \n",
       "3  Insider Monkey via Yahoo Finance  ['Aima Zaheer']           NaN   \n",
       "4  Insider Monkey via Yahoo Finance  ['Aima Zaheer']           NaN   \n",
       "\n",
       "                                           paragraph  \\\n",
       "0  In this article, we will take a look at the 10...   \n",
       "1  As reported in one of our articles earlier, th...   \n",
       "2  Quantum computing has attracted the attention ...   \n",
       "3         Transformative Impact of Quantum Computing   \n",
       "4  The impact of quantum computing extends to the...   \n",
       "\n",
       "                                               title  \\\n",
       "0  10 Quantum Computing Stocks Billionaires Are L...   \n",
       "1  10 Quantum Computing Stocks Billionaires Are L...   \n",
       "2  10 Quantum Computing Stocks Billionaires Are L...   \n",
       "3  10 Quantum Computing Stocks Billionaires Are L...   \n",
       "4  10 Quantum Computing Stocks Billionaires Are L...   \n",
       "\n",
       "                                                body  \n",
       "0  In this article, we will take a look at the 10...  \n",
       "1  In this article, we will take a look at the 10...  \n",
       "2  In this article, we will take a look at the 10...  \n",
       "3  In this article, we will take a look at the 10...  \n",
       "4  In this article, we will take a look at the 10...  "
      ]
     },
     "execution_count": 9,
     "metadata": {},
     "output_type": "execute_result"
    }
   ],
   "source": [
    "df.head()"
   ]
  },
  {
   "cell_type": "code",
   "execution_count": 41,
   "metadata": {},
   "outputs": [
    {
     "name": "stderr",
     "output_type": "stream",
     "text": [
      "Some weights of the model checkpoint at bert-base-cased were not used when initializing BertModel: ['cls.predictions.transform.LayerNorm.weight', 'cls.seq_relationship.weight', 'cls.predictions.transform.dense.weight', 'cls.predictions.transform.LayerNorm.bias', 'cls.predictions.decoder.weight', 'cls.predictions.bias', 'cls.seq_relationship.bias', 'cls.predictions.transform.dense.bias']\n",
      "- This IS expected if you are initializing BertModel from the checkpoint of a model trained on another task or with another architecture (e.g. initializing a BertForSequenceClassification model from a BertForPreTraining model).\n",
      "- This IS NOT expected if you are initializing BertModel from the checkpoint of a model that you expect to be exactly identical (initializing a BertForSequenceClassification model from a BertForSequenceClassification model).\n",
      "Creating embeddings for column(s): ['body']: 100%|██████████| 1/1 [00:08<00:00,  8.52s/it]\n"
     ]
    },
    {
     "data": {
      "text/plain": [
       "<nlp_analysis.word_wizard.WordWizard at 0x1f89bd250>"
      ]
     },
     "execution_count": 41,
     "metadata": {},
     "output_type": "execute_result"
    }
   ],
   "source": [
    "from nlp_analysis.word_wizard import WordWizard\n",
    "\n",
    "# create a word wizard\n",
    "word_wizard = WordWizard(df)\n",
    "word_wizard.create_word_embeddings(columns=['body'])"
   ]
  },
  {
   "cell_type": "code",
   "execution_count": 42,
   "metadata": {},
   "outputs": [
    {
     "name": "stdout",
     "output_type": "stream",
     "text": [
      "Optimal K: 14\n"
     ]
    },
    {
     "data": {
      "text/html": [
       "<div>\n",
       "<style scoped>\n",
       "    .dataframe tbody tr th:only-of-type {\n",
       "        vertical-align: middle;\n",
       "    }\n",
       "\n",
       "    .dataframe tbody tr th {\n",
       "        vertical-align: top;\n",
       "    }\n",
       "\n",
       "    .dataframe thead th {\n",
       "        text-align: right;\n",
       "    }\n",
       "</style>\n",
       "<table border=\"1\" class=\"dataframe\">\n",
       "  <thead>\n",
       "    <tr style=\"text-align: right;\">\n",
       "      <th></th>\n",
       "      <th>paragraph_index</th>\n",
       "      <th>engine</th>\n",
       "      <th>link</th>\n",
       "      <th>se_description</th>\n",
       "      <th>se_source</th>\n",
       "      <th>n3k_author</th>\n",
       "      <th>n3k_published</th>\n",
       "      <th>paragraph</th>\n",
       "      <th>title</th>\n",
       "      <th>body</th>\n",
       "      <th>sentences</th>\n",
       "      <th>body_word_embeddings</th>\n",
       "      <th>body_word_embeddings_cluster_13</th>\n",
       "      <th>body_word_embeddings_cluster_13_is_medoid</th>\n",
       "      <th>body_word_embeddings_cluster_14</th>\n",
       "      <th>body_word_embeddings_cluster_14_is_medoid</th>\n",
       "      <th>body_word_embeddings_cluster_15</th>\n",
       "      <th>body_word_embeddings_cluster_15_is_medoid</th>\n",
       "    </tr>\n",
       "  </thead>\n",
       "  <tbody>\n",
       "    <tr>\n",
       "      <th>0</th>\n",
       "      <td>0</td>\n",
       "      <td>Yahoo</td>\n",
       "      <td>https://finance.yahoo.com/news/10-quantum-comp...</td>\n",
       "      <td>In this article, we will take a look at the 10...</td>\n",
       "      <td>Insider Monkey via Yahoo Finance</td>\n",
       "      <td>['Aima Zaheer']</td>\n",
       "      <td>NaN</td>\n",
       "      <td>In this article, we will take a look at the 10...</td>\n",
       "      <td>10 Quantum Computing Stocks Billionaires Are L...</td>\n",
       "      <td>In this article, we will take a look at the 10...</td>\n",
       "      <td>[In this article, we will take a look at the 1...</td>\n",
       "      <td>[0.16420437395572662, -0.16303199529647827, -0...</td>\n",
       "      <td>10</td>\n",
       "      <td>True</td>\n",
       "      <td>10</td>\n",
       "      <td>True</td>\n",
       "      <td>2</td>\n",
       "      <td>True</td>\n",
       "    </tr>\n",
       "    <tr>\n",
       "      <th>1</th>\n",
       "      <td>0</td>\n",
       "      <td>Yahoo</td>\n",
       "      <td>https://finance.yahoo.com/news/10-quantum-comp...</td>\n",
       "      <td>In this article, we will take a look at the 10...</td>\n",
       "      <td>Insider Monkey via Yahoo Finance</td>\n",
       "      <td>['Aima Zaheer']</td>\n",
       "      <td>NaN</td>\n",
       "      <td>As reported in one of our articles earlier, th...</td>\n",
       "      <td>10 Quantum Computing Stocks Billionaires Are L...</td>\n",
       "      <td>In this article, we will take a look at the 10...</td>\n",
       "      <td>[As reported in one of our articles earlier, t...</td>\n",
       "      <td>[0.16420437395572662, -0.16303199529647827, -0...</td>\n",
       "      <td>10</td>\n",
       "      <td>True</td>\n",
       "      <td>10</td>\n",
       "      <td>True</td>\n",
       "      <td>2</td>\n",
       "      <td>True</td>\n",
       "    </tr>\n",
       "    <tr>\n",
       "      <th>2</th>\n",
       "      <td>0</td>\n",
       "      <td>Yahoo</td>\n",
       "      <td>https://finance.yahoo.com/news/10-quantum-comp...</td>\n",
       "      <td>In this article, we will take a look at the 10...</td>\n",
       "      <td>Insider Monkey via Yahoo Finance</td>\n",
       "      <td>['Aima Zaheer']</td>\n",
       "      <td>NaN</td>\n",
       "      <td>Quantum computing has attracted the attention ...</td>\n",
       "      <td>10 Quantum Computing Stocks Billionaires Are L...</td>\n",
       "      <td>In this article, we will take a look at the 10...</td>\n",
       "      <td>[Quantum computing has attracted the attention...</td>\n",
       "      <td>[0.16420437395572662, -0.16303199529647827, -0...</td>\n",
       "      <td>10</td>\n",
       "      <td>True</td>\n",
       "      <td>10</td>\n",
       "      <td>True</td>\n",
       "      <td>2</td>\n",
       "      <td>True</td>\n",
       "    </tr>\n",
       "    <tr>\n",
       "      <th>3</th>\n",
       "      <td>0</td>\n",
       "      <td>Yahoo</td>\n",
       "      <td>https://finance.yahoo.com/news/10-quantum-comp...</td>\n",
       "      <td>In this article, we will take a look at the 10...</td>\n",
       "      <td>Insider Monkey via Yahoo Finance</td>\n",
       "      <td>['Aima Zaheer']</td>\n",
       "      <td>NaN</td>\n",
       "      <td>Transformative Impact of Quantum Computing</td>\n",
       "      <td>10 Quantum Computing Stocks Billionaires Are L...</td>\n",
       "      <td>In this article, we will take a look at the 10...</td>\n",
       "      <td>[Transformative Impact of Quantum Computing]</td>\n",
       "      <td>[0.16420437395572662, -0.16303199529647827, -0...</td>\n",
       "      <td>10</td>\n",
       "      <td>True</td>\n",
       "      <td>10</td>\n",
       "      <td>True</td>\n",
       "      <td>2</td>\n",
       "      <td>True</td>\n",
       "    </tr>\n",
       "    <tr>\n",
       "      <th>4</th>\n",
       "      <td>0</td>\n",
       "      <td>Yahoo</td>\n",
       "      <td>https://finance.yahoo.com/news/10-quantum-comp...</td>\n",
       "      <td>In this article, we will take a look at the 10...</td>\n",
       "      <td>Insider Monkey via Yahoo Finance</td>\n",
       "      <td>['Aima Zaheer']</td>\n",
       "      <td>NaN</td>\n",
       "      <td>The impact of quantum computing extends to the...</td>\n",
       "      <td>10 Quantum Computing Stocks Billionaires Are L...</td>\n",
       "      <td>In this article, we will take a look at the 10...</td>\n",
       "      <td>[The impact of quantum computing extends to th...</td>\n",
       "      <td>[0.16420437395572662, -0.16303199529647827, -0...</td>\n",
       "      <td>10</td>\n",
       "      <td>True</td>\n",
       "      <td>10</td>\n",
       "      <td>True</td>\n",
       "      <td>2</td>\n",
       "      <td>True</td>\n",
       "    </tr>\n",
       "  </tbody>\n",
       "</table>\n",
       "</div>"
      ],
      "text/plain": [
       "   paragraph_index engine                                               link  \\\n",
       "0                0  Yahoo  https://finance.yahoo.com/news/10-quantum-comp...   \n",
       "1                0  Yahoo  https://finance.yahoo.com/news/10-quantum-comp...   \n",
       "2                0  Yahoo  https://finance.yahoo.com/news/10-quantum-comp...   \n",
       "3                0  Yahoo  https://finance.yahoo.com/news/10-quantum-comp...   \n",
       "4                0  Yahoo  https://finance.yahoo.com/news/10-quantum-comp...   \n",
       "\n",
       "                                      se_description  \\\n",
       "0  In this article, we will take a look at the 10...   \n",
       "1  In this article, we will take a look at the 10...   \n",
       "2  In this article, we will take a look at the 10...   \n",
       "3  In this article, we will take a look at the 10...   \n",
       "4  In this article, we will take a look at the 10...   \n",
       "\n",
       "                          se_source       n3k_author n3k_published  \\\n",
       "0  Insider Monkey via Yahoo Finance  ['Aima Zaheer']           NaN   \n",
       "1  Insider Monkey via Yahoo Finance  ['Aima Zaheer']           NaN   \n",
       "2  Insider Monkey via Yahoo Finance  ['Aima Zaheer']           NaN   \n",
       "3  Insider Monkey via Yahoo Finance  ['Aima Zaheer']           NaN   \n",
       "4  Insider Monkey via Yahoo Finance  ['Aima Zaheer']           NaN   \n",
       "\n",
       "                                           paragraph  \\\n",
       "0  In this article, we will take a look at the 10...   \n",
       "1  As reported in one of our articles earlier, th...   \n",
       "2  Quantum computing has attracted the attention ...   \n",
       "3         Transformative Impact of Quantum Computing   \n",
       "4  The impact of quantum computing extends to the...   \n",
       "\n",
       "                                               title  \\\n",
       "0  10 Quantum Computing Stocks Billionaires Are L...   \n",
       "1  10 Quantum Computing Stocks Billionaires Are L...   \n",
       "2  10 Quantum Computing Stocks Billionaires Are L...   \n",
       "3  10 Quantum Computing Stocks Billionaires Are L...   \n",
       "4  10 Quantum Computing Stocks Billionaires Are L...   \n",
       "\n",
       "                                                body  \\\n",
       "0  In this article, we will take a look at the 10...   \n",
       "1  In this article, we will take a look at the 10...   \n",
       "2  In this article, we will take a look at the 10...   \n",
       "3  In this article, we will take a look at the 10...   \n",
       "4  In this article, we will take a look at the 10...   \n",
       "\n",
       "                                           sentences  \\\n",
       "0  [In this article, we will take a look at the 1...   \n",
       "1  [As reported in one of our articles earlier, t...   \n",
       "2  [Quantum computing has attracted the attention...   \n",
       "3       [Transformative Impact of Quantum Computing]   \n",
       "4  [The impact of quantum computing extends to th...   \n",
       "\n",
       "                                body_word_embeddings  \\\n",
       "0  [0.16420437395572662, -0.16303199529647827, -0...   \n",
       "1  [0.16420437395572662, -0.16303199529647827, -0...   \n",
       "2  [0.16420437395572662, -0.16303199529647827, -0...   \n",
       "3  [0.16420437395572662, -0.16303199529647827, -0...   \n",
       "4  [0.16420437395572662, -0.16303199529647827, -0...   \n",
       "\n",
       "   body_word_embeddings_cluster_13  body_word_embeddings_cluster_13_is_medoid  \\\n",
       "0                               10                                       True   \n",
       "1                               10                                       True   \n",
       "2                               10                                       True   \n",
       "3                               10                                       True   \n",
       "4                               10                                       True   \n",
       "\n",
       "   body_word_embeddings_cluster_14  body_word_embeddings_cluster_14_is_medoid  \\\n",
       "0                               10                                       True   \n",
       "1                               10                                       True   \n",
       "2                               10                                       True   \n",
       "3                               10                                       True   \n",
       "4                               10                                       True   \n",
       "\n",
       "   body_word_embeddings_cluster_15  body_word_embeddings_cluster_15_is_medoid  \n",
       "0                                2                                       True  \n",
       "1                                2                                       True  \n",
       "2                                2                                       True  \n",
       "3                                2                                       True  \n",
       "4                                2                                       True  "
      ]
     },
     "execution_count": 42,
     "metadata": {},
     "output_type": "execute_result"
    }
   ],
   "source": [
    "word_wizard.cluster_embeddings(column='body', method='silhouette')\n",
    "word_wizard.df.head()"
   ]
  },
  {
   "cell_type": "code",
   "execution_count": 43,
   "metadata": {},
   "outputs": [
    {
     "data": {
      "text/plain": [
       "False    1022\n",
       "True       13\n",
       "Name: body_word_embeddings_cluster_13_is_medoid, dtype: int64"
      ]
     },
     "execution_count": 43,
     "metadata": {},
     "output_type": "execute_result"
    }
   ],
   "source": [
    "word_wizard.df['body_word_embeddings_cluster_13_is_medoid'].value_counts()"
   ]
  },
  {
   "attachments": {},
   "cell_type": "markdown",
   "metadata": {},
   "source": [
    "# The Rest"
   ]
  },
  {
   "cell_type": "code",
   "execution_count": 37,
   "metadata": {},
   "outputs": [],
   "source": [
    "# for each entity run the pipeline (adding \"quantum\" to the query) and store the results in a dictionary\n",
    "entity_results = {}\n",
    "for entity in entities:\n",
    "    entity_results[entity] = pipeline_executor.execute(query=f\"'{entity}' AND '{topic}'\", max_articles=100)\n"
   ]
  },
  {
   "cell_type": "code",
   "execution_count": 19,
   "metadata": {},
   "outputs": [
    {
     "data": {
      "text/html": [
       "<div>\n",
       "<style scoped>\n",
       "    .dataframe tbody tr th:only-of-type {\n",
       "        vertical-align: middle;\n",
       "    }\n",
       "\n",
       "    .dataframe tbody tr th {\n",
       "        vertical-align: top;\n",
       "    }\n",
       "\n",
       "    .dataframe thead th {\n",
       "        text-align: right;\n",
       "    }\n",
       "</style>\n",
       "<table border=\"1\" class=\"dataframe\">\n",
       "  <thead>\n",
       "    <tr style=\"text-align: right;\">\n",
       "      <th></th>\n",
       "      <th>engine</th>\n",
       "      <th>link</th>\n",
       "      <th>se_description</th>\n",
       "      <th>se_source</th>\n",
       "      <th>n3k_author</th>\n",
       "      <th>n3k_published</th>\n",
       "      <th>title</th>\n",
       "      <th>body</th>\n",
       "    </tr>\n",
       "  </thead>\n",
       "  <tbody>\n",
       "    <tr>\n",
       "      <th>0</th>\n",
       "      <td>Yahoo</td>\n",
       "      <td>https://seekingalpha.com/article/4603046-micro...</td>\n",
       "      <td>By leveraging the properties of quantum mechan...</td>\n",
       "      <td>Seeking Alpha</td>\n",
       "      <td>[Aseity Research]</td>\n",
       "      <td>2023-05-11 11:03:43-04:00</td>\n",
       "      <td>Microsoft Stock: Leading The Quantum Computing...</td>\n",
       "      <td>Bartlomiej Wroblewski\\n\\nQuantum computing is ...</td>\n",
       "    </tr>\n",
       "    <tr>\n",
       "      <th>1</th>\n",
       "      <td>Yahoo</td>\n",
       "      <td>https://www.businessinsider.com/quantinuum-new...</td>\n",
       "      <td>Quantum computers are wondrous because they op...</td>\n",
       "      <td>Business Insider</td>\n",
       "      <td>[Julie Bort]</td>\n",
       "      <td>2023-05-13 00:00:00</td>\n",
       "      <td>I saw a quantum computer used by JPMorgan, wit...</td>\n",
       "      <td>Quantum computers are wondrous because they op...</td>\n",
       "    </tr>\n",
       "    <tr>\n",
       "      <th>2</th>\n",
       "      <td>Yahoo</td>\n",
       "      <td>https://www.marketwatch.com/press-release/quan...</td>\n",
       "      <td>Quantum Computing in Manufacturing Market is p...</td>\n",
       "      <td>Market Watch</td>\n",
       "      <td>[]</td>\n",
       "      <td>None</td>\n",
       "      <td>Quantum Computing in Manufacturing Market Is T...</td>\n",
       "      <td>The MarketWatch News Department was not involv...</td>\n",
       "    </tr>\n",
       "    <tr>\n",
       "      <th>3</th>\n",
       "      <td>Yahoo</td>\n",
       "      <td>https://www.techtarget.com/searchstorage/tip/A...</td>\n",
       "      <td>In 2017, Microsoft surprised attendees of its ...</td>\n",
       "      <td>SearchSecurity.com</td>\n",
       "      <td>[Published]</td>\n",
       "      <td>None</td>\n",
       "      <td>A primer on quantum computing storage and memo...</td>\n",
       "      <td>In 2017, Microsoft surprised attendees of its ...</td>\n",
       "    </tr>\n",
       "    <tr>\n",
       "      <th>4</th>\n",
       "      <td>Yahoo</td>\n",
       "      <td>https://www.benzinga.com/pressreleases/23/05/n...</td>\n",
       "      <td>Quantum Computing Inc. initiates commercializa...</td>\n",
       "      <td>Benzinga</td>\n",
       "      <td>[]</td>\n",
       "      <td>None</td>\n",
       "      <td>Quantum Computing Inc Announces First Quarter ...</td>\n",
       "      <td>Quantum Computing Inc. initiates commercializa...</td>\n",
       "    </tr>\n",
       "  </tbody>\n",
       "</table>\n",
       "</div>"
      ],
      "text/plain": [
       "  engine                                               link  \\\n",
       "0  Yahoo  https://seekingalpha.com/article/4603046-micro...   \n",
       "1  Yahoo  https://www.businessinsider.com/quantinuum-new...   \n",
       "2  Yahoo  https://www.marketwatch.com/press-release/quan...   \n",
       "3  Yahoo  https://www.techtarget.com/searchstorage/tip/A...   \n",
       "4  Yahoo  https://www.benzinga.com/pressreleases/23/05/n...   \n",
       "\n",
       "                                      se_description           se_source  \\\n",
       "0  By leveraging the properties of quantum mechan...       Seeking Alpha   \n",
       "1  Quantum computers are wondrous because they op...    Business Insider   \n",
       "2  Quantum Computing in Manufacturing Market is p...        Market Watch   \n",
       "3  In 2017, Microsoft surprised attendees of its ...  SearchSecurity.com   \n",
       "4  Quantum Computing Inc. initiates commercializa...            Benzinga   \n",
       "\n",
       "          n3k_author              n3k_published  \\\n",
       "0  [Aseity Research]  2023-05-11 11:03:43-04:00   \n",
       "1       [Julie Bort]        2023-05-13 00:00:00   \n",
       "2                 []                       None   \n",
       "3        [Published]                       None   \n",
       "4                 []                       None   \n",
       "\n",
       "                                               title  \\\n",
       "0  Microsoft Stock: Leading The Quantum Computing...   \n",
       "1  I saw a quantum computer used by JPMorgan, wit...   \n",
       "2  Quantum Computing in Manufacturing Market Is T...   \n",
       "3  A primer on quantum computing storage and memo...   \n",
       "4  Quantum Computing Inc Announces First Quarter ...   \n",
       "\n",
       "                                                body  \n",
       "0  Bartlomiej Wroblewski\\n\\nQuantum computing is ...  \n",
       "1  Quantum computers are wondrous because they op...  \n",
       "2  The MarketWatch News Department was not involv...  \n",
       "3  In 2017, Microsoft surprised attendees of its ...  \n",
       "4  Quantum Computing Inc. initiates commercializa...  "
      ]
     },
     "execution_count": 19,
     "metadata": {},
     "output_type": "execute_result"
    }
   ],
   "source": [
    "# check the results for the first entity\n",
    "entity_results['Microsoft'].head()"
   ]
  },
  {
   "cell_type": "code",
   "execution_count": 21,
   "metadata": {},
   "outputs": [],
   "source": [
    "# TODO summarize the results\n",
    "import numpy as np\n",
    "import matplotlib.pyplot as plt\n",
    "import torch\n",
    "import pandas as pd"
   ]
  },
  {
   "cell_type": "code",
   "execution_count": 22,
   "metadata": {},
   "outputs": [
    {
     "data": {
      "text/plain": [
       "'2.0.1'"
      ]
     },
     "execution_count": 22,
     "metadata": {},
     "output_type": "execute_result"
    }
   ],
   "source": [
    "torch.__version__"
   ]
  },
  {
   "cell_type": "code",
   "execution_count": 23,
   "metadata": {},
   "outputs": [
    {
     "data": {
      "text/plain": [
       "device(type='mps')"
      ]
     },
     "execution_count": 23,
     "metadata": {},
     "output_type": "execute_result"
    }
   ],
   "source": [
    "# Setup device agnostic code (Chooses NVIDIA or Metal backend if available, otherwise defaults to CPU)\n",
    "if torch.cuda.is_available():\n",
    "    device = torch.device(\"cuda\")\n",
    "    \n",
    "elif torch.backends.mps.is_available():\n",
    "    device = torch.device(\"mps\")\n",
    "    \n",
    "else:\n",
    "    device = torch.device(\"cpu\")\n",
    "\n",
    "device"
   ]
  },
  {
   "cell_type": "code",
   "execution_count": 24,
   "metadata": {},
   "outputs": [],
   "source": [
    "microsoft_df = entity_results['Microsoft']\n",
    "apple_df = entity_results['Apple']\n",
    "ibm_df = entity_results['IBM']"
   ]
  },
  {
   "cell_type": "code",
   "execution_count": 25,
   "metadata": {},
   "outputs": [
    {
     "data": {
      "text/plain": [
       "((200, 8), (187, 8), (178, 8))"
      ]
     },
     "execution_count": 25,
     "metadata": {},
     "output_type": "execute_result"
    }
   ],
   "source": [
    "microsoft_df.shape, apple_df.shape, ibm_df.shape"
   ]
  },
  {
   "cell_type": "code",
   "execution_count": 27,
   "metadata": {},
   "outputs": [
    {
     "name": "stderr",
     "output_type": "stream",
     "text": [
      "/Users/quiquemz/.pyenv/versions/3.11.1/envs/capstone/lib/python3.11/site-packages/tqdm/auto.py:21: TqdmWarning: IProgress not found. Please update jupyter and ipywidgets. See https://ipywidgets.readthedocs.io/en/stable/user_install.html\n",
      "  from .autonotebook import tqdm as notebook_tqdm\n",
      "[nltk_data] Downloading package punkt to /Users/quiquemz/nltk_data...\n",
      "[nltk_data]   Package punkt is already up-to-date!\n"
     ]
    },
    {
     "data": {
      "text/plain": [
       "True"
      ]
     },
     "execution_count": 27,
     "metadata": {},
     "output_type": "execute_result"
    }
   ],
   "source": [
    "from transformers import BartTokenizer, BartForConditionalGeneration\n",
    "from transformers import AutoTokenizer, AutoModelForSeq2SeqLM\n",
    "from tqdm import tqdm\n",
    "\n",
    "import nltk\n",
    "\n",
    "nltk.download('punkt')"
   ]
  },
  {
   "cell_type": "code",
   "execution_count": 28,
   "metadata": {},
   "outputs": [
    {
     "name": "stderr",
     "output_type": "stream",
     "text": [
      "Downloading (…)lve/main/config.json: 100%|██████████| 1.58k/1.58k [00:00<00:00, 11.0MB/s]\n",
      "Downloading pytorch_model.bin: 100%|██████████| 1.63G/1.63G [00:57<00:00, 28.5MB/s]\n",
      "Downloading (…)neration_config.json: 100%|██████████| 363/363 [00:00<00:00, 416kB/s]\n",
      "Downloading (…)olve/main/vocab.json: 100%|██████████| 899k/899k [00:00<00:00, 12.4MB/s]\n",
      "Downloading (…)olve/main/merges.txt: 100%|██████████| 456k/456k [00:00<00:00, 2.37MB/s]\n"
     ]
    },
    {
     "data": {
      "text/plain": [
       "BartForConditionalGeneration(\n",
       "  (model): BartModel(\n",
       "    (shared): Embedding(50264, 1024, padding_idx=1)\n",
       "    (encoder): BartEncoder(\n",
       "      (embed_tokens): Embedding(50264, 1024, padding_idx=1)\n",
       "      (embed_positions): BartLearnedPositionalEmbedding(1026, 1024)\n",
       "      (layers): ModuleList(\n",
       "        (0-11): 12 x BartEncoderLayer(\n",
       "          (self_attn): BartAttention(\n",
       "            (k_proj): Linear(in_features=1024, out_features=1024, bias=True)\n",
       "            (v_proj): Linear(in_features=1024, out_features=1024, bias=True)\n",
       "            (q_proj): Linear(in_features=1024, out_features=1024, bias=True)\n",
       "            (out_proj): Linear(in_features=1024, out_features=1024, bias=True)\n",
       "          )\n",
       "          (self_attn_layer_norm): LayerNorm((1024,), eps=1e-05, elementwise_affine=True)\n",
       "          (activation_fn): GELUActivation()\n",
       "          (fc1): Linear(in_features=1024, out_features=4096, bias=True)\n",
       "          (fc2): Linear(in_features=4096, out_features=1024, bias=True)\n",
       "          (final_layer_norm): LayerNorm((1024,), eps=1e-05, elementwise_affine=True)\n",
       "        )\n",
       "      )\n",
       "      (layernorm_embedding): LayerNorm((1024,), eps=1e-05, elementwise_affine=True)\n",
       "    )\n",
       "    (decoder): BartDecoder(\n",
       "      (embed_tokens): Embedding(50264, 1024, padding_idx=1)\n",
       "      (embed_positions): BartLearnedPositionalEmbedding(1026, 1024)\n",
       "      (layers): ModuleList(\n",
       "        (0-11): 12 x BartDecoderLayer(\n",
       "          (self_attn): BartAttention(\n",
       "            (k_proj): Linear(in_features=1024, out_features=1024, bias=True)\n",
       "            (v_proj): Linear(in_features=1024, out_features=1024, bias=True)\n",
       "            (q_proj): Linear(in_features=1024, out_features=1024, bias=True)\n",
       "            (out_proj): Linear(in_features=1024, out_features=1024, bias=True)\n",
       "          )\n",
       "          (activation_fn): GELUActivation()\n",
       "          (self_attn_layer_norm): LayerNorm((1024,), eps=1e-05, elementwise_affine=True)\n",
       "          (encoder_attn): BartAttention(\n",
       "            (k_proj): Linear(in_features=1024, out_features=1024, bias=True)\n",
       "            (v_proj): Linear(in_features=1024, out_features=1024, bias=True)\n",
       "            (q_proj): Linear(in_features=1024, out_features=1024, bias=True)\n",
       "            (out_proj): Linear(in_features=1024, out_features=1024, bias=True)\n",
       "          )\n",
       "          (encoder_attn_layer_norm): LayerNorm((1024,), eps=1e-05, elementwise_affine=True)\n",
       "          (fc1): Linear(in_features=1024, out_features=4096, bias=True)\n",
       "          (fc2): Linear(in_features=4096, out_features=1024, bias=True)\n",
       "          (final_layer_norm): LayerNorm((1024,), eps=1e-05, elementwise_affine=True)\n",
       "        )\n",
       "      )\n",
       "      (layernorm_embedding): LayerNorm((1024,), eps=1e-05, elementwise_affine=True)\n",
       "    )\n",
       "  )\n",
       "  (lm_head): Linear(in_features=1024, out_features=50264, bias=False)\n",
       ")"
      ]
     },
     "execution_count": 28,
     "metadata": {},
     "output_type": "execute_result"
    }
   ],
   "source": [
    "model = BartForConditionalGeneration.from_pretrained(\"facebook/bart-large-cnn\")\n",
    "tokenizer = BartTokenizer.from_pretrained(\"facebook/bart-large-cnn\")\n",
    "\n",
    "model.to(device)"
   ]
  },
  {
   "cell_type": "code",
   "execution_count": 29,
   "metadata": {},
   "outputs": [],
   "source": [
    "def summarize_bart(\n",
    "    column: pd.Series, tokenizer: BartTokenizer, model: BartForConditionalGeneration, min_len=50, max_len=100) -> str:\n",
    "    \n",
    "    long_text = column.str.cat()\n",
    "\n",
    "    sentences = nltk.tokenize.sent_tokenize(long_text)\n",
    "\n",
    "    # initialize\n",
    "    length = 0\n",
    "    chunk = \"\"\n",
    "    chunks = []\n",
    "    count = -1\n",
    "    for sentence in sentences:\n",
    "        count += 1\n",
    "        combined_length = len(tokenizer.tokenize(sentence)) + length # add the no. of sentence tokens to the length counter\n",
    "\n",
    "        if combined_length  <= 1024: # if it doesn't exceed  -tokenizer.max_len_single_sentence-\n",
    "            chunk += sentence + \" \" # add the sentence to the chunk\n",
    "            length = combined_length # update the length counter\n",
    "\n",
    "            # if it is the last sentence\n",
    "            if count == len(sentences) - 1:\n",
    "                chunks.append(chunk) # save the chunk\n",
    "            \n",
    "        else: \n",
    "            chunks.append(chunk) # save the chunk\n",
    "            # reset \n",
    "            length = 0 \n",
    "            chunk = \"\"\n",
    "\n",
    "            # take care of the overflow sentence\n",
    "            chunk += sentence + \" \"\n",
    "            length = len(tokenizer.tokenize(sentence))\n",
    "\n",
    "    # inputs\n",
    "    inputs = [tokenizer(chunk, return_tensors=\"pt\").to(device) for chunk in chunks]\n",
    "\n",
    "    # print summary\n",
    "    outputs = []\n",
    "    for input in tqdm(inputs):\n",
    "        output = model.generate(**input, num_beams=2, min_length=min_len, max_length=max_len)\n",
    "        outputs.append(tokenizer.decode(*output, skip_special_tokens=True))\n",
    "\n",
    "    return \" \".join(outputs)\n"
   ]
  },
  {
   "cell_type": "code",
   "execution_count": 30,
   "metadata": {},
   "outputs": [
    {
     "name": "stderr",
     "output_type": "stream",
     "text": [
      "Token indices sequence length is longer than the specified maximum sequence length for this model (1485 > 1024). Running this sequence through the model will result in indexing errors\n",
      "  0%|          | 0/3 [00:00<?, ?it/s]/Users/quiquemz/.pyenv/versions/3.11.1/envs/capstone/lib/python3.11/site-packages/transformers/generation/utils.py:719: UserWarning: MPS: no support for int64 repeats mask, casting it to int32 (Triggered internally at /Users/runner/work/pytorch/pytorch/pytorch/aten/src/ATen/native/mps/operations/Repeat.mm:236.)\n",
      "  input_ids = input_ids.repeat_interleave(expand_size, dim=0)\n",
      "/Users/quiquemz/.pyenv/versions/3.11.1/envs/capstone/lib/python3.11/site-packages/transformers/generation/utils.py:719: UserWarning: torch.cumsum supported by MPS on MacOS 13+, please upgrade (Triggered internally at /Users/runner/work/pytorch/pytorch/pytorch/aten/src/ATen/native/mps/operations/UnaryOps.mm:264.)\n",
      "  input_ids = input_ids.repeat_interleave(expand_size, dim=0)\n",
      "/Users/quiquemz/.pyenv/versions/3.11.1/envs/capstone/lib/python3.11/site-packages/transformers/generation/beam_search.py:357: UserWarning: MPS: no support for int64 min/max ops, casting it to int32 (Triggered internally at /Users/runner/work/pytorch/pytorch/pytorch/aten/src/ATen/native/mps/operations/ReduceOps.mm:1271.)\n",
      "  sent_lengths_max = sent_lengths.max().item() + 1\n",
      "100%|██████████| 3/3 [00:23<00:00,  7.76s/it]\n",
      "100%|██████████| 5/5 [00:33<00:00,  6.77s/it]\n",
      "100%|██████████| 1/1 [00:04<00:00,  4.69s/it]\n"
     ]
    }
   ],
   "source": [
    "# Generate summaries for Microsoft and Apple based on News Titles\n",
    "microsoft_titles_summary = summarize_bart(microsoft_df[\"title\"], tokenizer, model)\n",
    "apple_titles_summary = summarize_bart(apple_df[\"title\"], tokenizer, model)\n",
    "ibm_titles_summary = summarize_bart(ibm_df[\"title\"], tokenizer, model)"
   ]
  },
  {
   "cell_type": "code",
   "execution_count": 31,
   "metadata": {},
   "outputs": [
    {
     "data": {
      "text/plain": [
       "'Microsoft just made a huge, far-from-certain bet on nuclear fusion. I saw a quantum computer used by JPMorgan, with Microsoft and Nvidia as partners, and it was...Quantum Computing in Manufacturing Market Is Thriving Worldwide During Forecast Period 2029. 7 Legacy Tech Stocks Primed for a Comeback. Only Humility Can Save Us From AI. IBM and more team up to boost quantum tech community in Ireland. Microsoft takes a Quantum Leap Towards Sustainable Energy with Helion’s Nuclear Fusion Power Purchase Deal. Microsoft and Johnson Matthey join forces to speed up hydrogen fuel cell innovation with Azure Quantum. Microsoft and Classiq collaborate to offer researchers and educators accelerated quantum algorithm design. IBM, Microsoft, and Google Race to Close Quantum Skills Gap.'"
      ]
     },
     "execution_count": 31,
     "metadata": {},
     "output_type": "execute_result"
    }
   ],
   "source": [
    "microsoft_titles_summary"
   ]
  },
  {
   "cell_type": "code",
   "execution_count": 32,
   "metadata": {},
   "outputs": [
    {
     "data": {
      "text/plain": [
       "\"IonQ Announces Pat Tang as New VP of Research & Development. ChatGPT developer OpenAI is the No. 1 chat app in the world, according to a new report. The chat app was founded in 2009 and is the first of its kind. Apple's quantum computing chips could be used in cars, planes, and more. Apple to use quantum computing to replace magnetic wire in its Macbook Pro and iPad Pro lines. Apple will use quantum chips to power its next-generation iWatch and iPad mini. Apple's new iWatch will be the first of its kind to run on a quantum processor. Apple is set to unveil a new iPhone 5S, 5C, 5S Plus and 5C. Is This the New Age of Computing? Apple's M2 Chip Gives New MacBook Air a Speed BoostDump Passwords on Your iPhone. Apple's New iOS 16 Feature Is More Secure.Eight leading quantum computing companies in 2020.IBM Tops 2018 Patent List as A.I. and Quantum Computing Gain Prominence. Apple's A15 Bionic chip powers iPhone 13 with 15 billion transistors. IBM and Japan join hands in the development of quantum computers. IBM Q announces a host of new tools geared towards making quantum computing more accessible. Apple: It's time to bolster supply chain security. Quantum computers could transform everything everywhere, but not all at once. AI ‘won’t replace human creativity,’ says digital media artist Refik Anadol. ‘India will be a global player in all things technology’- MoS Rajeev Chandrasekhar.\""
      ]
     },
     "execution_count": 32,
     "metadata": {},
     "output_type": "execute_result"
    }
   ],
   "source": [
    "apple_titles_summary"
   ]
  },
  {
   "cell_type": "code",
   "execution_count": 33,
   "metadata": {},
   "outputs": [
    {
     "data": {
      "text/plain": [
       "'IBM unveils new watsonx, AI and data platform. President Biden to visit Westchester to talk debt limit and impacts. Scientists create particles that remember their pasts. IBM and Microsoft are leading the quantum computing arms race. The company is also working with Google, Facebook and others.'"
      ]
     },
     "execution_count": 33,
     "metadata": {},
     "output_type": "execute_result"
    }
   ],
   "source": [
    "ibm_titles_summary"
   ]
  },
  {
   "cell_type": "code",
   "execution_count": 36,
   "metadata": {},
   "outputs": [
    {
     "name": "stderr",
     "output_type": "stream",
     "text": [
      "100%|██████████| 275/275 [13:00<00:00,  2.84s/it]\n",
      "100%|██████████| 169/169 [07:32<00:00,  2.68s/it]\n",
      "100%|██████████| 207/207 [09:43<00:00,  2.82s/it]\n"
     ]
    }
   ],
   "source": [
    "# Generate summaries for Microsoft and Apple based on News article bodies\n",
    "microsoft_bodies_summary = summarize_bart(microsoft_df[\"body\"], tokenizer, model)\n",
    "apple_bodies_summary = summarize_bart(apple_df[\"body\"], tokenizer, model)\n",
    "ibm_bodies_summary = summarize_bart(ibm_df[\"body\"], tokenizer, model)"
   ]
  },
  {
   "cell_type": "code",
   "execution_count": 58,
   "metadata": {},
   "outputs": [],
   "source": [
    "# Summarize the long summary\n",
    "def sub1024_summ(text: str, tokenizer: BartTokenizer, model: BartForConditionalGeneration, min_len=50, max_len=100) -> str:\n",
    "    inputs = tokenizer([text], max_length=1024, return_tensors=\"pt\").to(device)\n",
    "    summary_ids = model.generate(inputs[\"input_ids\"], num_beams=2, min_length=min_len, max_length=max_len)\n",
    "    return tokenizer.batch_decode(summary_ids, skip_special_tokens=True, clean_up_tokenization_spaces=False)[0]\n"
   ]
  },
  {
   "cell_type": "code",
   "execution_count": 65,
   "metadata": {},
   "outputs": [
    {
     "data": {
      "text/plain": [
       "'Quantum computing is a disruptive technology that has the potential to revolutionize industries ranging from finance to healthcare. Microsoft stands out as a strong contender due to their innovative approach to quantum computing. IBM and Google are exploring superconducting qubits, while other companies like IonQ and Honeywell are experimenting with trapped ions. Microsoft is also pursuing topological qubits in its quantum computing work, a different way of going about quantum systems. QCI is engaged in a number of beta-tests to demonstrate the effectiveness of its computing capabilities.'"
      ]
     },
     "execution_count": 65,
     "metadata": {},
     "output_type": "execute_result"
    }
   ],
   "source": [
    "sub1024_summ(microsoft_bodies_summary, tokenizer, model, min_len=100, max_len=300)"
   ]
  },
  {
   "cell_type": "code",
   "execution_count": 66,
   "metadata": {},
   "outputs": [
    {
     "data": {
      "text/plain": [
       "\"IonQ Announces Pat Tang as New VP of Research & Development (VP R&D) Tang joins IonQ with over 23 years of technology experience, most recently as an Engineering Vice President at Amazon Lab126. Tang has a diverse background that includes multi-touch sensor architecture, RF design and reliability engineering. Apple is opening a new development base in Israel to develop new Apple silicon chips for future Macs. Apple's new M2 Pro and M2 Max processors are 20% faster than their predecessors.\""
      ]
     },
     "execution_count": 66,
     "metadata": {},
     "output_type": "execute_result"
    }
   ],
   "source": [
    "sub1024_summ(apple_bodies_summary, tokenizer, model, min_len=100, max_len=300)"
   ]
  },
  {
   "cell_type": "code",
   "execution_count": 67,
   "metadata": {},
   "outputs": [
    {
     "data": {
      "text/plain": [
       "'Quantum computing is a disruptive technology that has the potential to revolutionize industries ranging from finance to healthcare. Google, IBM and other tech giants are developing quantum computers using superconductor qubits. Microsoft is also pursuing topological qubits in its quantum computing work. IBM has established an ecosystem of over 450,000 users with access to more than 20 quantum computers via the cloud. The more qubits that are quantum-mechanically linked together via entanglement, the more computations it can perform.'"
      ]
     },
     "execution_count": 67,
     "metadata": {},
     "output_type": "execute_result"
    }
   ],
   "source": [
    "sub1024_summ(ibm_bodies_summary, tokenizer, model, min_len=100, max_len=300)"
   ]
  },
  {
   "cell_type": "code",
   "execution_count": null,
   "metadata": {},
   "outputs": [],
   "source": [
    "# ngl... not the best summaries I think"
   ]
  }
 ],
 "metadata": {
  "kernelspec": {
   "display_name": "capstone",
   "language": "python",
   "name": "python3"
  },
  "language_info": {
   "codemirror_mode": {
    "name": "ipython",
    "version": 3
   },
   "file_extension": ".py",
   "mimetype": "text/x-python",
   "name": "python",
   "nbconvert_exporter": "python",
   "pygments_lexer": "ipython3",
   "version": "3.11.1"
  },
  "orig_nbformat": 4
 },
 "nbformat": 4,
 "nbformat_minor": 2
}
