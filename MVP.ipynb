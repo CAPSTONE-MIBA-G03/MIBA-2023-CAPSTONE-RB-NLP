{
 "cells": [
  {
   "cell_type": "code",
   "execution_count": 14,
   "metadata": {},
   "outputs": [
    {
     "name": "stderr",
     "output_type": "stream",
     "text": [
      "Getting news article info:  66%|██████▌   | 38/58 [00:25<00:12,  1.59it/s]encoding error : input conversion failed due to input error, bytes 0x21 0x00 0x00 0x00\n",
      "Getting news article info: 100%|██████████| 58/58 [00:36<00:00,  1.61it/s]\n"
     ]
    }
   ],
   "source": [
    "# import\n",
    "import importlib\n",
    "import pandas as pd\n",
    "from pipeline_executor import PipelineExecutor\n",
    "import nlp_analysis.word_wizard as ww\n",
    "\n",
    "topic = \"'quantumcomputing'AND'research'\"\n",
    "\n",
    "pipeline_executor = PipelineExecutor()\n",
    "quantum_df = pipeline_executor.execute(query=topic, max_articles=20, overwrite=True)"
   ]
  },
  {
   "cell_type": "code",
   "execution_count": 64,
   "metadata": {},
   "outputs": [
    {
     "name": "stderr",
     "output_type": "stream",
     "text": [
      "Some weights of the model checkpoint at bert-base-cased were not used when initializing BertModel: ['cls.predictions.bias', 'cls.predictions.transform.dense.weight', 'cls.seq_relationship.weight', 'cls.predictions.decoder.weight', 'cls.predictions.transform.dense.bias', 'cls.predictions.transform.LayerNorm.bias', 'cls.seq_relationship.bias', 'cls.predictions.transform.LayerNorm.weight']\n",
      "- This IS expected if you are initializing BertModel from the checkpoint of a model trained on another task or with another architecture (e.g. initializing a BertForSequenceClassification model from a BertForPreTraining model).\n",
      "- This IS NOT expected if you are initializing BertModel from the checkpoint of a model that you expect to be exactly identical (initializing a BertForSequenceClassification model from a BertForSequenceClassification model).\n",
      "Creating word embeddings for:body: 100%|██████████| 28/28 [00:59<00:00,  2.12s/it]\n",
      "/Users/florian/Documents/Learning/MiBA/classes/term3/Capstone/MIBA-2023-CAPSTONE-RB-NLP/nlp_analysis/word_wizard.py:176: SettingWithCopyWarning: \n",
      "A value is trying to be set on a copy of a slice from a DataFrame.\n",
      "Try using .loc[row_indexer,col_indexer] = value instead\n",
      "\n",
      "See the caveats in the documentation: https://pandas.pydata.org/pandas-docs/stable/user_guide/indexing.html#returning-a-view-versus-a-copy\n",
      "  df[new_column] = kmeans.labels_\n",
      "/Users/florian/Documents/Learning/MiBA/classes/term3/Capstone/MIBA-2023-CAPSTONE-RB-NLP/nlp_analysis/word_wizard.py:180: SettingWithCopyWarning: \n",
      "A value is trying to be set on a copy of a slice from a DataFrame.\n",
      "Try using .loc[row_indexer,col_indexer] = value instead\n",
      "\n",
      "See the caveats in the documentation: https://pandas.pydata.org/pandas-docs/stable/user_guide/indexing.html#returning-a-view-versus-a-copy\n",
      "  df[new_column + self.MEDOID_SUFFIX] = False\n"
     ]
    },
    {
     "name": "stdout",
     "output_type": "stream",
     "text": [
      "Optimal K: 3\n"
     ]
    }
   ],
   "source": [
    "importlib.reload(ww)\n",
    "wizard = ww.WordWizard(df=quantum_df)\n",
    "wizard.create_word_embeddings(column='body', lean=True)\n",
    "wizard.cluster_embeddings('body', k=3)\n",
    "wizard.summarize_medoids('body')"
   ]
  },
  {
   "cell_type": "code",
   "execution_count": 38,
   "metadata": {},
   "outputs": [],
   "source": [
    "# manual impelementation of summarization\n",
    "import transformers\n",
    "from transformers import BertTokenizer\n",
    "summarizer = transformers.pipeline(\"summarization\", model=\"facebook/bart-large-cnn\")\n",
    "tokenizer = BertTokenizer.from_pretrained('bert-base-cased')\n",
    "\n",
    "self = wizard\n",
    "column = 'body'\n",
    "MEDOID_SUFFIX = '_medoids'\n",
    "SUMMARY_SUFFIX = '_summaries'\n",
    "medoids = self.df[self.df[column + '_word_embeddings_clusters' + self.MEDOID_SUFFIX] == True] # body_word_embeddings_clusters_medoids\n",
    "self.df[column + SUMMARY_SUFFIX] = None\n",
    "for pos in medoids.index:\n",
    "    entry = medoids.loc[pos, column]\n",
    "    if type(entry) != str:\n",
    "        summary = 'summarized entry was no string'\n",
    "    tokenized_input = tokenizer.tokenize(entry)\n",
    "    if len(tokenized_input) > 1023: # max input size for BART\n",
    "        entry = ' '.join(tokenized_input[:1000]).replace(' ##', '')\n",
    "    try:\n",
    "        summary = summarizer(entry) # set max size (! >30)\n",
    "\n",
    "    except:\n",
    "        summary = 'could not summarize'\n",
    "\n",
    "    if type(summary) == list:\n",
    "        summary = summary[0]['summary_text']\n",
    "\n",
    "    if type(summary) == dict:\n",
    "        summary = summary['summary_text']\n",
    "\n",
    "    self.df.loc[pos, column + SUMMARY_SUFFIX] = summary"
   ]
  },
  {
   "cell_type": "code",
   "execution_count": 65,
   "metadata": {},
   "outputs": [
    {
     "name": "stdout",
     "output_type": "stream",
     "text": [
      "Cluster =  0.0\n",
      "'could not summarize'\n",
      "('IBM just completed its yearly Quantum Summit. The theme of the summit was “ '\n",
      " 'The Next Wave , ” as IBM believes quantum is rapidly approaching an '\n",
      " 'inflection point. The key to quantum computing acceptance and maturing as an '\n",
      " 'industry will be building a healthy ecosystem and set of partnerships. IBM '\n",
      " 'made 12 major announcements at the summit.')\n",
      "('Research on flight control systems for UAS focuses on the development of '\n",
      " 'resource - aware fault - tolerant algorithms and their evaluation through '\n",
      " 'flight testing on UAS. Research in UAS and Flight Control Systems is an '\n",
      " 'integral part of the AI @ SLU Big Idea Initiative. A biomaterial is any '\n",
      " 'substance that has been engineered to interact with biological systems in a '\n",
      " 'medical application.')\n",
      "Cluster =  nan\n",
      "Cluster =  2.0\n",
      "('Quantum computing is an approach to computation that takes advantage of the '\n",
      " 'quantum properties of materials and particles that dominate at small scales. '\n",
      " 'In contrast, classical computers run programs based on binary codes. A qubit '\n",
      " 'can occupy a superposition of states between 0 and 1 — thus providing vastly '\n",
      " 'more computational power — at least until it is observed or measured. With '\n",
      " '30 qubits for example , more than 1 billion states are available for '\n",
      " 'computations.')\n",
      "('A McKinsey & Company study reported that one - tenth of all quantum '\n",
      " 'computing use cases under exploration could benefit the automotive industry. '\n",
      " 'A subset of these cases concerns the kinds of batteries that will power the '\n",
      " 'electric vehicles of the future. Automakers are betting that quantum '\n",
      " 'computing will help them identify the optimum battery chemistry.')\n",
      "('Qristal SDK is an open-source software development kit designed for '\n",
      " 'researching applications integrated with quantum accelerators. The company '\n",
      " 'hopes that its quantum technology will prove beneficial in hybrid data '\n",
      " 'center setups, as well as autonomous vehicle technology and satellites. The '\n",
      " 'SDK includes C++ and Python APIs, Nvidia CUDA features, and customizable '\n",
      " 'noise models.')\n",
      "Cluster =  1.0\n",
      "('IBM researchers say they have devised a method to manage the unreliability '\n",
      " 'of quantum computers. The researchers used a quantum processor with 127 '\n",
      " 'qubits to simulate the behavior of 127 atom - scale bar magnets in a '\n",
      " 'magnetic field. Each quantum calculation was unreliable — fluctuations of '\n",
      " 'quantum noise inevitably intrude and induce errors. But by varying the '\n",
      " 'amount of noise , the researchers could tease out the specific '\n",
      " 'characteristics of the noise and its effects at each step.')\n",
      "('IBM to upgrade its full fleet of IBM Quantum systems to large - scale '\n",
      " 'quantum processors over 100 + qubits. Top research institutions and industry '\n",
      " 'leaders including Boeing, Bosch, Cleveland Clinic and Wells Fargo form '\n",
      " 'working groups to pursue near - term quantum value. IBM is also announcing '\n",
      " 'that its quantum systems running both on the cloud and on - site at partner '\n",
      " 'locations will be powered by a minimum of 127 qubits over the course of the '\n",
      " 'next year.')\n",
      "('IBM to upgrade its full fleet of IBM Quantum systems to large - scale '\n",
      " 'quantum processors over 100 + qubits. Top research institutions and industry '\n",
      " 'leaders including Boeing, Bosch, Cleveland Clinic and Wells Fargo form '\n",
      " 'working groups to pursue near - term quantum value. IBM is also announcing '\n",
      " 'that its quantum systems running both on the cloud and on - site at partner '\n",
      " 'locations will be powered by a minimum of 127 qubits over the course of the '\n",
      " 'next year.')\n"
     ]
    }
   ],
   "source": [
    "import pprint as pp\n",
    "\n",
    "for i in wizard.df['body_word_embeddings_clusters'].unique():\n",
    "    print('Cluster = ', i)\n",
    "    for value in medoids[medoids['body_word_embeddings_clusters'] == i]['body_summaries'].values:\n",
    "        pp.pprint(value)"
   ]
  },
  {
   "cell_type": "code",
   "execution_count": 50,
   "metadata": {},
   "outputs": [
    {
     "data": {
      "text/plain": [
       "254    IBM researchers say they have devised a method...\n",
       "304    IBM to upgrade its full fleet of IBM Quantum s...\n",
       "327    IBM to upgrade its full fleet of IBM Quantum s...\n",
       "Name: body_summaries, dtype: object"
      ]
     },
     "execution_count": 50,
     "metadata": {},
     "output_type": "execute_result"
    }
   ],
   "source": [
    "import pprint as pp\n",
    "medoids = self.df[self.df[column + '_word_embeddings_clusters' + self.MEDOID_SUFFIX] == True] # body_word_embeddings_clusters_medoids\n",
    "\n",
    "medoids[medoids['body_word_embeddings_clusters'] == 1]['body_summaries']"
   ]
  }
 ],
 "metadata": {
  "kernelspec": {
   "display_name": "Python 3",
   "language": "python",
   "name": "python3"
  },
  "language_info": {
   "codemirror_mode": {
    "name": "ipython",
    "version": 3
   },
   "file_extension": ".py",
   "mimetype": "text/x-python",
   "name": "python",
   "nbconvert_exporter": "python",
   "pygments_lexer": "ipython3",
   "version": "3.11.3"
  },
  "orig_nbformat": 4
 },
 "nbformat": 4,
 "nbformat_minor": 2
}
