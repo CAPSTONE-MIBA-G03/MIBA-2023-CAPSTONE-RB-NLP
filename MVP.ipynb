{
 "cells": [
  {
   "cell_type": "code",
   "execution_count": 1,
   "metadata": {},
   "outputs": [
    {
     "name": "stderr",
     "output_type": "stream",
     "text": [
      "/Users/johnbergmann/.pyenv/versions/3.8.16/envs/RB_NLP/lib/python3.8/site-packages/umap/distances.py:1063: NumbaDeprecationWarning: The 'nopython' keyword argument was not supplied to the 'numba.jit' decorator. The implicit default value for this argument is currently False, but it will be changed to True in Numba 0.59.0. See https://numba.readthedocs.io/en/stable/reference/deprecation.html#deprecation-of-object-mode-fall-back-behaviour-when-using-jit for details.\n",
      "  @numba.jit()\n",
      "/Users/johnbergmann/.pyenv/versions/3.8.16/envs/RB_NLP/lib/python3.8/site-packages/umap/distances.py:1071: NumbaDeprecationWarning: The 'nopython' keyword argument was not supplied to the 'numba.jit' decorator. The implicit default value for this argument is currently False, but it will be changed to True in Numba 0.59.0. See https://numba.readthedocs.io/en/stable/reference/deprecation.html#deprecation-of-object-mode-fall-back-behaviour-when-using-jit for details.\n",
      "  @numba.jit()\n",
      "/Users/johnbergmann/.pyenv/versions/3.8.16/envs/RB_NLP/lib/python3.8/site-packages/umap/distances.py:1086: NumbaDeprecationWarning: The 'nopython' keyword argument was not supplied to the 'numba.jit' decorator. The implicit default value for this argument is currently False, but it will be changed to True in Numba 0.59.0. See https://numba.readthedocs.io/en/stable/reference/deprecation.html#deprecation-of-object-mode-fall-back-behaviour-when-using-jit for details.\n",
      "  @numba.jit()\n",
      "/Users/johnbergmann/.pyenv/versions/3.8.16/envs/RB_NLP/lib/python3.8/site-packages/umap/umap_.py:660: NumbaDeprecationWarning: The 'nopython' keyword argument was not supplied to the 'numba.jit' decorator. The implicit default value for this argument is currently False, but it will be changed to True in Numba 0.59.0. See https://numba.readthedocs.io/en/stable/reference/deprecation.html#deprecation-of-object-mode-fall-back-behaviour-when-using-jit for details.\n",
      "  @numba.jit()\n"
     ]
    }
   ],
   "source": [
    "# import\n",
    "import importlib\n",
    "import pandas as pd\n",
    "from pipeline_executor import PipelineExecutor\n",
    "import nlp_analysis.word_wizard as ww\n",
    "\n",
    "# Supress warnings\n",
    "import warnings\n",
    "warnings.filterwarnings('ignore')"
   ]
  },
  {
   "cell_type": "code",
   "execution_count": 5,
   "metadata": {},
   "outputs": [
    {
     "data": {
      "text/plain": [
       "<module 'nlp_analysis.word_wizard' from '/Users/johnbergmann/Developer/MIBA-2023-CAPSTONE-RB-NLP/nlp_analysis/word_wizard.py'>"
      ]
     },
     "execution_count": 5,
     "metadata": {},
     "output_type": "execute_result"
    }
   ],
   "source": [
    "importlib.reload(ww)"
   ]
  },
  {
   "cell_type": "code",
   "execution_count": 2,
   "metadata": {},
   "outputs": [],
   "source": [
    "# get data\n",
    "topic = \"'Quantum Computing' AND 'Research'\"\n",
    "\n",
    "pipeline_executor = PipelineExecutor()\n",
    "quantum = pipeline_executor.execute(query=topic, max_articles=None, overwrite=False)\n",
    "\n",
    "# safe and load quantum_df using parquet\n",
    "quantum.to_csv('data/clean/quantum.csv', index=False)\n",
    "quantum = pd.read_csv('data/clean/quantum.csv')"
   ]
  },
  {
   "cell_type": "code",
   "execution_count": 3,
   "metadata": {},
   "outputs": [
    {
     "name": "stderr",
     "output_type": "stream",
     "text": [
      "Some weights of the model checkpoint at bert-base-cased were not used when initializing BertModel: ['cls.seq_relationship.bias', 'cls.predictions.transform.LayerNorm.weight', 'cls.predictions.transform.LayerNorm.bias', 'cls.seq_relationship.weight', 'cls.predictions.decoder.weight', 'cls.predictions.transform.dense.weight', 'cls.predictions.bias', 'cls.predictions.transform.dense.bias']\n",
      "- This IS expected if you are initializing BertModel from the checkpoint of a model trained on another task or with another architecture (e.g. initializing a BertForSequenceClassification model from a BertForPreTraining model).\n",
      "- This IS NOT expected if you are initializing BertModel from the checkpoint of a model that you expect to be exactly identical (initializing a BertForSequenceClassification model from a BertForSequenceClassification model).\n"
     ]
    },
    {
     "data": {
      "application/vnd.jupyter.widget-view+json": {
       "model_id": "2b94059d1549426ab562e61fa41043d7",
       "version_major": 2,
       "version_minor": 0
      },
      "text/plain": [
       "Creating word embeddings for paragraph:   0%|          | 0/3310 [00:00<?, ?it/s]"
      ]
     },
     "metadata": {},
     "output_type": "display_data"
    },
    {
     "data": {
      "application/vnd.jupyter.widget-view+json": {
       "model_id": "34a907df6f0340008e969ae98befae6a",
       "version_major": 2,
       "version_minor": 0
      },
      "text/plain": [
       "Extracting organizations from paragraph:   0%|          | 0/5 [00:00<?, ?it/s]"
      ]
     },
     "metadata": {},
     "output_type": "display_data"
    },
    {
     "data": {
      "application/vnd.jupyter.widget-view+json": {
       "model_id": "34779756715d4760ba0c68b46695fcd5",
       "version_major": 2,
       "version_minor": 0
      },
      "text/plain": [
       "Creating summaries for cluster medoids based on paragraph:   0%|          | 0/10 [00:00<?, ?it/s]"
      ]
     },
     "metadata": {},
     "output_type": "display_data"
    },
    {
     "data": {
      "application/vnd.jupyter.widget-view+json": {
       "model_id": "afb6da076c5243aaa7e54d8f653efc87",
       "version_major": 2,
       "version_minor": 0
      },
      "text/plain": [
       "Calculating sentiment for paragraph:   0%|          | 0/3056 [00:00<?, ?it/s]"
      ]
     },
     "metadata": {},
     "output_type": "display_data"
    },
    {
     "data": {
      "text/plain": [
       "<nlp_analysis.word_wizard.WordWizard at 0x105e35af0>"
      ]
     },
     "execution_count": 3,
     "metadata": {},
     "output_type": "execute_result"
    }
   ],
   "source": [
    "# Paragraphs - Word - silhouette\n",
    "wizard = ww.WordWizard(df=quantum, interest = 'paragraph')\n",
    "wizard.create_word_embeddings() \\\n",
    ".cluster_embeddings() \\\n",
    ".entitiy_recognition() \\\n",
    ".summarize_medoids() \\\n",
    ".find_sentiment(lean=False, device=\"cpu\") \\\n",
    ".topic_modelling()\n"
   ]
  },
  {
   "cell_type": "code",
   "execution_count": 6,
   "metadata": {},
   "outputs": [
    {
     "data": {
      "application/vnd.jupyter.widget-view+json": {
       "model_id": "4abd33e7087e4f83b6f78efbf7c30985",
       "version_major": 2,
       "version_minor": 0
      },
      "text/plain": [
       "Batches:   0%|          | 0/104 [00:00<?, ?it/s]"
      ]
     },
     "metadata": {},
     "output_type": "display_data"
    },
    {
     "data": {
      "application/vnd.jupyter.widget-view+json": {
       "model_id": "277b319cff6b430cbc2c02fa1797d3da",
       "version_major": 2,
       "version_minor": 0
      },
      "text/plain": [
       "Extracting organizations from paragraph:   0%|          | 0/5 [00:00<?, ?it/s]"
      ]
     },
     "metadata": {},
     "output_type": "display_data"
    },
    {
     "data": {
      "application/vnd.jupyter.widget-view+json": {
       "model_id": "6b91b13c897140faba394c8464aa6163",
       "version_major": 2,
       "version_minor": 0
      },
      "text/plain": [
       "Creating summaries for cluster medoids based on paragraph:   0%|          | 0/10 [00:00<?, ?it/s]"
      ]
     },
     "metadata": {},
     "output_type": "display_data"
    },
    {
     "data": {
      "application/vnd.jupyter.widget-view+json": {
       "model_id": "265797616ff0430fa9824b6e8bdf19b6",
       "version_major": 2,
       "version_minor": 0
      },
      "text/plain": [
       "Calculating sentiment for paragraph:   0%|          | 0/3056 [00:00<?, ?it/s]"
      ]
     },
     "metadata": {},
     "output_type": "display_data"
    },
    {
     "data": {
      "text/plain": [
       "<nlp_analysis.word_wizard.WordWizard at 0x4ebdd0df0>"
      ]
     },
     "execution_count": 6,
     "metadata": {},
     "output_type": "execute_result"
    }
   ],
   "source": [
    "# Paragraphs - Sentence - silhouette\n",
    "wizard2 = ww.WordWizard(df=quantum, interest = 'paragraph')\n",
    "wizard2.create_sentence_embeddings() \\\n",
    "    .cluster_embeddings() \\\n",
    "    .entitiy_recognition() \\\n",
    "    .summarize_medoids() \\\n",
    "    .find_sentiment(lean=False, device=\"cpu\") \\\n",
    "    .topic_modelling()"
   ]
  },
  {
   "cell_type": "code",
   "execution_count": 7,
   "metadata": {},
   "outputs": [
    {
     "name": "stderr",
     "output_type": "stream",
     "text": [
      "Some weights of the model checkpoint at bert-base-cased were not used when initializing BertModel: ['cls.seq_relationship.bias', 'cls.predictions.transform.LayerNorm.weight', 'cls.predictions.transform.LayerNorm.bias', 'cls.seq_relationship.weight', 'cls.predictions.decoder.weight', 'cls.predictions.transform.dense.weight', 'cls.predictions.bias', 'cls.predictions.transform.dense.bias']\n",
      "- This IS expected if you are initializing BertModel from the checkpoint of a model trained on another task or with another architecture (e.g. initializing a BertForSequenceClassification model from a BertForPreTraining model).\n",
      "- This IS NOT expected if you are initializing BertModel from the checkpoint of a model that you expect to be exactly identical (initializing a BertForSequenceClassification model from a BertForSequenceClassification model).\n"
     ]
    },
    {
     "data": {
      "application/vnd.jupyter.widget-view+json": {
       "model_id": "46344e4daafb4a8da2b8053292f35d57",
       "version_major": 2,
       "version_minor": 0
      },
      "text/plain": [
       "Creating word embeddings for body:   0%|          | 0/304 [00:00<?, ?it/s]"
      ]
     },
     "metadata": {},
     "output_type": "display_data"
    },
    {
     "data": {
      "application/vnd.jupyter.widget-view+json": {
       "model_id": "aba3be6b66b1456a94cf15cf65a9b081",
       "version_major": 2,
       "version_minor": 0
      },
      "text/plain": [
       "Extracting organizations from body:   0%|          | 0/5 [00:00<?, ?it/s]"
      ]
     },
     "metadata": {},
     "output_type": "display_data"
    },
    {
     "data": {
      "application/vnd.jupyter.widget-view+json": {
       "model_id": "0394601aec2e460c98503a352ba15ca7",
       "version_major": 2,
       "version_minor": 0
      },
      "text/plain": [
       "Creating summaries for cluster medoids based on body:   0%|          | 0/10 [00:00<?, ?it/s]"
      ]
     },
     "metadata": {},
     "output_type": "display_data"
    },
    {
     "data": {
      "application/vnd.jupyter.widget-view+json": {
       "model_id": "00c51204b00c4665848e83f39e2dc332",
       "version_major": 2,
       "version_minor": 0
      },
      "text/plain": [
       "Calculating sentiment for body:   0%|          | 0/300 [00:00<?, ?it/s]"
      ]
     },
     "metadata": {},
     "output_type": "display_data"
    },
    {
     "data": {
      "text/plain": [
       "<nlp_analysis.word_wizard.WordWizard at 0x5d3a67cd0>"
      ]
     },
     "execution_count": 7,
     "metadata": {},
     "output_type": "execute_result"
    }
   ],
   "source": [
    "# Article - Word - silhouette\n",
    "wizard3 = ww.WordWizard(df=quantum, interest = 'body')\n",
    "wizard3.create_word_embeddings() \\\n",
    "    .cluster_embeddings() \\\n",
    "    .entitiy_recognition() \\\n",
    "    .summarize_medoids() \\\n",
    "    .find_sentiment(lean=False, device=\"cpu\") \\\n",
    "    .topic_modelling()"
   ]
  },
  {
   "cell_type": "code",
   "execution_count": 8,
   "metadata": {},
   "outputs": [
    {
     "data": {
      "application/vnd.jupyter.widget-view+json": {
       "model_id": "b3fb9138e864496c98fd09cef1b3f0dc",
       "version_major": 2,
       "version_minor": 0
      },
      "text/plain": [
       "Batches:   0%|          | 0/10 [00:00<?, ?it/s]"
      ]
     },
     "metadata": {},
     "output_type": "display_data"
    },
    {
     "data": {
      "application/vnd.jupyter.widget-view+json": {
       "model_id": "d5fba4ab1e614ba18c53d634678cfeda",
       "version_major": 2,
       "version_minor": 0
      },
      "text/plain": [
       "Extracting organizations from body:   0%|          | 0/5 [00:00<?, ?it/s]"
      ]
     },
     "metadata": {},
     "output_type": "display_data"
    },
    {
     "data": {
      "application/vnd.jupyter.widget-view+json": {
       "model_id": "102aa9dab205487ebb7ab46239881d84",
       "version_major": 2,
       "version_minor": 0
      },
      "text/plain": [
       "Creating summaries for cluster medoids based on body:   0%|          | 0/10 [00:00<?, ?it/s]"
      ]
     },
     "metadata": {},
     "output_type": "display_data"
    },
    {
     "data": {
      "application/vnd.jupyter.widget-view+json": {
       "model_id": "8b20951e4bd04d949c702c4d4c1cc1c3",
       "version_major": 2,
       "version_minor": 0
      },
      "text/plain": [
       "Calculating sentiment for body:   0%|          | 0/300 [00:00<?, ?it/s]"
      ]
     },
     "metadata": {},
     "output_type": "display_data"
    },
    {
     "data": {
      "text/plain": [
       "<nlp_analysis.word_wizard.WordWizard at 0x2b6ed4e20>"
      ]
     },
     "execution_count": 8,
     "metadata": {},
     "output_type": "execute_result"
    }
   ],
   "source": [
    "# Article - Sentence - silhouette\n",
    "wizard4 = ww.WordWizard(df=quantum, interest = 'body')\n",
    "wizard4.create_sentence_embeddings() \\\n",
    "    .cluster_embeddings() \\\n",
    "    .entitiy_recognition() \\\n",
    "    .summarize_medoids() \\\n",
    "    .find_sentiment(lean=False, device=\"cpu\") \\\n",
    "    .topic_modelling()"
   ]
  },
  {
   "cell_type": "code",
   "execution_count": 9,
   "metadata": {},
   "outputs": [],
   "source": [
    "wizard.df.to_csv(\"data/para_word_sil.csv\", index=False)\n",
    "wizard2.df.to_csv(\"data/para_sent_sil.csv\", index=False)\n",
    "wizard3.df.to_csv(\"data/art_word_sil.csv\", index=False)\n",
    "wizard4.df.to_csv(\"data/art_sent_sil.csv\", index=False)"
   ]
  },
  {
   "attachments": {},
   "cell_type": "markdown",
   "metadata": {},
   "source": [
    "# Gaining Insights about Quantum Computing from News NLP"
   ]
  },
  {
   "cell_type": "code",
   "execution_count": 10,
   "metadata": {},
   "outputs": [],
   "source": [
    "para_word_sil = pd.read_csv(\"data/para_word_sil.csv\")\n",
    "para_sent_sil = pd.read_csv(\"data/para_sent_sil.csv\")\n",
    "art_word_sil = pd.read_csv(\"data/art_word_sil.csv\")\n",
    "art_sent_sil = pd.read_csv(\"data/art_sent_sil.csv\")"
   ]
  },
  {
   "cell_type": "code",
   "execution_count": 12,
   "metadata": {},
   "outputs": [
    {
     "data": {
      "text/html": [
       "<div>\n",
       "<style scoped>\n",
       "    .dataframe tbody tr th:only-of-type {\n",
       "        vertical-align: middle;\n",
       "    }\n",
       "\n",
       "    .dataframe tbody tr th {\n",
       "        vertical-align: top;\n",
       "    }\n",
       "\n",
       "    .dataframe thead th {\n",
       "        text-align: right;\n",
       "    }\n",
       "</style>\n",
       "<table border=\"1\" class=\"dataframe\">\n",
       "  <thead>\n",
       "    <tr style=\"text-align: right;\">\n",
       "      <th></th>\n",
       "      <th>engine</th>\n",
       "      <th>link</th>\n",
       "      <th>source</th>\n",
       "      <th>title</th>\n",
       "      <th>description</th>\n",
       "      <th>body</th>\n",
       "      <th>body_sentence_embeddings</th>\n",
       "      <th>body_sentence_embeddings_clusters</th>\n",
       "      <th>body_sentence_embeddings_clusters_medoids</th>\n",
       "      <th>body_clusters_sentence_embeddings_NER</th>\n",
       "      <th>body_sentence_embeddings_clusters_medoids_summaries</th>\n",
       "      <th>body_sentiment</th>\n",
       "      <th>topics</th>\n",
       "    </tr>\n",
       "  </thead>\n",
       "  <tbody>\n",
       "    <tr>\n",
       "      <th>0</th>\n",
       "      <td>Yahoo</td>\n",
       "      <td>https://www.etfdailynews.com/2023/06/21/quantu...</td>\n",
       "      <td>ETF DAILY NEWS</td>\n",
       "      <td>Quantum Computing (OTCMKTS:QUBT) Shares Down 8.8%</td>\n",
       "      <td>Quantum Computing, Inc. (OTCMKTS:QUBT – Get Ra...</td>\n",
       "      <td>Quantum Computing, Inc. (OTCMKTS:QUBT – Get Ra...</td>\n",
       "      <td>[-0.008077695965766907, -0.039184171706438065,...</td>\n",
       "      <td>4</td>\n",
       "      <td>False</td>\n",
       "      <td>['Photonic Integrated Circuit', 'the Photonic ...</td>\n",
       "      <td>NaN</td>\n",
       "      <td>0.0</td>\n",
       "      <td>[('global photonic', 0.0023228262923057743), (...</td>\n",
       "    </tr>\n",
       "    <tr>\n",
       "      <th>1</th>\n",
       "      <td>Bing</td>\n",
       "      <td>https://www.benzinga.com/pressreleases/23/06/b...</td>\n",
       "      <td>Benzinga.com</td>\n",
       "      <td>Intel's New Chip to Advance Silicon Spin Qubit...</td>\n",
       "      <td>To further address this, Intel is collaboratin...</td>\n",
       "      <td>Intel makes new quantum chip available to univ...</td>\n",
       "      <td>[-0.10710212588310242, -0.018485475331544876, ...</td>\n",
       "      <td>0</td>\n",
       "      <td>False</td>\n",
       "      <td>['Intel', 'LQC', 'Sandia National Laboratories...</td>\n",
       "      <td>NaN</td>\n",
       "      <td>1.0</td>\n",
       "      <td>[('silicon spin', 0.004639036026751491), ('int...</td>\n",
       "    </tr>\n",
       "    <tr>\n",
       "      <th>2</th>\n",
       "      <td>Google</td>\n",
       "      <td>https://news.wisc.edu/partnerships-bring-toget...</td>\n",
       "      <td>UW–Madison News</td>\n",
       "      <td>Partnerships bring together UW–Madison quantum...</td>\n",
       "      <td>Two leading companies in semiconductor quantum...</td>\n",
       "      <td>Two leading companies in semiconductor quantum...</td>\n",
       "      <td>[-0.07859227061271667, -0.00821499340236187, -...</td>\n",
       "      <td>1</td>\n",
       "      <td>False</td>\n",
       "      <td>['IBM', 'Cleveland Clinic', 'NVIDIA', 'Moderna...</td>\n",
       "      <td>NaN</td>\n",
       "      <td>1.0</td>\n",
       "      <td>[('cleveland', 0.0012094684318797856), ('clini...</td>\n",
       "    </tr>\n",
       "    <tr>\n",
       "      <th>3</th>\n",
       "      <td>Yahoo</td>\n",
       "      <td>https://www.benzinga.com/pressreleases/23/06/n...</td>\n",
       "      <td>Benzinga</td>\n",
       "      <td>Quantum Computing Market size to grow by USD 9...</td>\n",
       "      <td>NEW YORK, June 20, 2023 /PRNewswire/ -- The qu...</td>\n",
       "      <td>NEW YORK, June 20, 2023 /PRNewswire/ -- The qu...</td>\n",
       "      <td>[0.018597137182950974, -0.053545031696558, -0....</td>\n",
       "      <td>3</td>\n",
       "      <td>False</td>\n",
       "      <td>['IBM', 'Google', 'Microsoft', 'Global Enterpr...</td>\n",
       "      <td>NaN</td>\n",
       "      <td>1.0</td>\n",
       "      <td>[('computing sale', 0.0008908799839413596), ('...</td>\n",
       "    </tr>\n",
       "    <tr>\n",
       "      <th>4</th>\n",
       "      <td>Google</td>\n",
       "      <td>https://www.tomshardware.com/news/intel-announ...</td>\n",
       "      <td>Tom's Hardware</td>\n",
       "      <td>Intel Announce 'Tunnel Falls' Quantum Research...</td>\n",
       "      <td>Intel announced a new quantum research chip, i...</td>\n",
       "      <td>Intel's Tunnel Falls silicon spin qubit test c...</td>\n",
       "      <td>[-0.10419294983148575, -0.01484457403421402, 0...</td>\n",
       "      <td>0</td>\n",
       "      <td>False</td>\n",
       "      <td>['Intel', 'LQC', 'Sandia National Laboratories...</td>\n",
       "      <td>NaN</td>\n",
       "      <td>1.0</td>\n",
       "      <td>[('silicon spin', 0.004639036026751491), ('int...</td>\n",
       "    </tr>\n",
       "    <tr>\n",
       "      <th>...</th>\n",
       "      <td>...</td>\n",
       "      <td>...</td>\n",
       "      <td>...</td>\n",
       "      <td>...</td>\n",
       "      <td>...</td>\n",
       "      <td>...</td>\n",
       "      <td>...</td>\n",
       "      <td>...</td>\n",
       "      <td>...</td>\n",
       "      <td>...</td>\n",
       "      <td>...</td>\n",
       "      <td>...</td>\n",
       "      <td>...</td>\n",
       "    </tr>\n",
       "    <tr>\n",
       "      <th>299</th>\n",
       "      <td>Google</td>\n",
       "      <td>https://www.militaryaerospace.com/computers/ar...</td>\n",
       "      <td>Military &amp; Aerospace Electronics</td>\n",
       "      <td>University researchers eye quantum computing w...</td>\n",
       "      <td>University of Rochester experts will develop q...</td>\n",
       "      <td>ARLINGTON, Va. – U.S. military researchers nee...</td>\n",
       "      <td>[-0.06939947605133057, 0.01868734322488308, -0...</td>\n",
       "      <td>2</td>\n",
       "      <td>False</td>\n",
       "      <td>['IBM', 'Google', 'SEEQC', 'Eagle', 'NVIDIA']</td>\n",
       "      <td>NaN</td>\n",
       "      <td>1.0</td>\n",
       "      <td>[('photon', 0.0010225054671691033), ('gate', 0...</td>\n",
       "    </tr>\n",
       "    <tr>\n",
       "      <th>300</th>\n",
       "      <td>Google</td>\n",
       "      <td>https://news.asu.edu/20221101-quantum-computin...</td>\n",
       "      <td>ASU News</td>\n",
       "      <td>Quantum computing: When the right direction is...</td>\n",
       "      <td>ASU Assistant Professor Christian Arenz and hi...</td>\n",
       "      <td>Initiative to promote understanding of quantum...</td>\n",
       "      <td>[-0.05844743549823761, -0.0428895503282547, -0...</td>\n",
       "      <td>1</td>\n",
       "      <td>False</td>\n",
       "      <td>['IBM', 'Cleveland Clinic', 'NVIDIA', 'Moderna...</td>\n",
       "      <td>NaN</td>\n",
       "      <td>1.0</td>\n",
       "      <td>[('cleveland', 0.0012094684318797856), ('clini...</td>\n",
       "    </tr>\n",
       "    <tr>\n",
       "      <th>301</th>\n",
       "      <td>Google</td>\n",
       "      <td>https://phys.org/news/2023-01-analog-quantum-p...</td>\n",
       "      <td>Phys.org</td>\n",
       "      <td>New analog quantum computers to solve previous...</td>\n",
       "      <td>Physicists have invented a new type of analog ...</td>\n",
       "      <td>This article has been reviewed according to Sc...</td>\n",
       "      <td>[-0.11696004122495651, -0.018508879467844963, ...</td>\n",
       "      <td>2</td>\n",
       "      <td>False</td>\n",
       "      <td>['IBM', 'Google', 'SEEQC', 'Eagle', 'NVIDIA']</td>\n",
       "      <td>NaN</td>\n",
       "      <td>1.0</td>\n",
       "      <td>[('photon', 0.0010225054671691033), ('gate', 0...</td>\n",
       "    </tr>\n",
       "    <tr>\n",
       "      <th>302</th>\n",
       "      <td>Google</td>\n",
       "      <td>https://www.telecomtv.com/content/security/qua...</td>\n",
       "      <td>TelecomTV</td>\n",
       "      <td>Quantum computing will move into a different p...</td>\n",
       "      <td>Race to build the biggest, most powerful quant...</td>\n",
       "      <td>At TelecomTV we have been following the develo...</td>\n",
       "      <td>[-0.045812126249074936, -0.059505313634872437,...</td>\n",
       "      <td>4</td>\n",
       "      <td>False</td>\n",
       "      <td>['Photonic Integrated Circuit', 'the Photonic ...</td>\n",
       "      <td>NaN</td>\n",
       "      <td>0.0</td>\n",
       "      <td>[('global photonic', 0.0023228262923057743), (...</td>\n",
       "    </tr>\n",
       "    <tr>\n",
       "      <th>303</th>\n",
       "      <td>Google</td>\n",
       "      <td>https://insidehpc.com/2022/12/hyperion-researc...</td>\n",
       "      <td>Inside HPC</td>\n",
       "      <td>Hyperion Research: Increased Commercial Commit...</td>\n",
       "      <td>December 6, 2022 — A new study of commercial e...</td>\n",
       "      <td>December 6, 2022 — A new study of commercial e...</td>\n",
       "      <td>[-0.037512585520744324, -0.055838216096162796,...</td>\n",
       "      <td>4</td>\n",
       "      <td>False</td>\n",
       "      <td>['Photonic Integrated Circuit', 'the Photonic ...</td>\n",
       "      <td>NaN</td>\n",
       "      <td>1.0</td>\n",
       "      <td>[('global photonic', 0.0023228262923057743), (...</td>\n",
       "    </tr>\n",
       "  </tbody>\n",
       "</table>\n",
       "<p>304 rows × 13 columns</p>\n",
       "</div>"
      ],
      "text/plain": [
       "     engine                                               link  \\\n",
       "0     Yahoo  https://www.etfdailynews.com/2023/06/21/quantu...   \n",
       "1      Bing  https://www.benzinga.com/pressreleases/23/06/b...   \n",
       "2    Google  https://news.wisc.edu/partnerships-bring-toget...   \n",
       "3     Yahoo  https://www.benzinga.com/pressreleases/23/06/n...   \n",
       "4    Google  https://www.tomshardware.com/news/intel-announ...   \n",
       "..      ...                                                ...   \n",
       "299  Google  https://www.militaryaerospace.com/computers/ar...   \n",
       "300  Google  https://news.asu.edu/20221101-quantum-computin...   \n",
       "301  Google  https://phys.org/news/2023-01-analog-quantum-p...   \n",
       "302  Google  https://www.telecomtv.com/content/security/qua...   \n",
       "303  Google  https://insidehpc.com/2022/12/hyperion-researc...   \n",
       "\n",
       "                               source  \\\n",
       "0                      ETF DAILY NEWS   \n",
       "1                        Benzinga.com   \n",
       "2                     UW–Madison News   \n",
       "3                            Benzinga   \n",
       "4                      Tom's Hardware   \n",
       "..                                ...   \n",
       "299  Military & Aerospace Electronics   \n",
       "300                          ASU News   \n",
       "301                          Phys.org   \n",
       "302                         TelecomTV   \n",
       "303                        Inside HPC   \n",
       "\n",
       "                                                 title  \\\n",
       "0    Quantum Computing (OTCMKTS:QUBT) Shares Down 8.8%   \n",
       "1    Intel's New Chip to Advance Silicon Spin Qubit...   \n",
       "2    Partnerships bring together UW–Madison quantum...   \n",
       "3    Quantum Computing Market size to grow by USD 9...   \n",
       "4    Intel Announce 'Tunnel Falls' Quantum Research...   \n",
       "..                                                 ...   \n",
       "299  University researchers eye quantum computing w...   \n",
       "300  Quantum computing: When the right direction is...   \n",
       "301  New analog quantum computers to solve previous...   \n",
       "302  Quantum computing will move into a different p...   \n",
       "303  Hyperion Research: Increased Commercial Commit...   \n",
       "\n",
       "                                           description  \\\n",
       "0    Quantum Computing, Inc. (OTCMKTS:QUBT – Get Ra...   \n",
       "1    To further address this, Intel is collaboratin...   \n",
       "2    Two leading companies in semiconductor quantum...   \n",
       "3    NEW YORK, June 20, 2023 /PRNewswire/ -- The qu...   \n",
       "4    Intel announced a new quantum research chip, i...   \n",
       "..                                                 ...   \n",
       "299  University of Rochester experts will develop q...   \n",
       "300  ASU Assistant Professor Christian Arenz and hi...   \n",
       "301  Physicists have invented a new type of analog ...   \n",
       "302  Race to build the biggest, most powerful quant...   \n",
       "303  December 6, 2022 — A new study of commercial e...   \n",
       "\n",
       "                                                  body  \\\n",
       "0    Quantum Computing, Inc. (OTCMKTS:QUBT – Get Ra...   \n",
       "1    Intel makes new quantum chip available to univ...   \n",
       "2    Two leading companies in semiconductor quantum...   \n",
       "3    NEW YORK, June 20, 2023 /PRNewswire/ -- The qu...   \n",
       "4    Intel's Tunnel Falls silicon spin qubit test c...   \n",
       "..                                                 ...   \n",
       "299  ARLINGTON, Va. – U.S. military researchers nee...   \n",
       "300  Initiative to promote understanding of quantum...   \n",
       "301  This article has been reviewed according to Sc...   \n",
       "302  At TelecomTV we have been following the develo...   \n",
       "303  December 6, 2022 — A new study of commercial e...   \n",
       "\n",
       "                              body_sentence_embeddings  \\\n",
       "0    [-0.008077695965766907, -0.039184171706438065,...   \n",
       "1    [-0.10710212588310242, -0.018485475331544876, ...   \n",
       "2    [-0.07859227061271667, -0.00821499340236187, -...   \n",
       "3    [0.018597137182950974, -0.053545031696558, -0....   \n",
       "4    [-0.10419294983148575, -0.01484457403421402, 0...   \n",
       "..                                                 ...   \n",
       "299  [-0.06939947605133057, 0.01868734322488308, -0...   \n",
       "300  [-0.05844743549823761, -0.0428895503282547, -0...   \n",
       "301  [-0.11696004122495651, -0.018508879467844963, ...   \n",
       "302  [-0.045812126249074936, -0.059505313634872437,...   \n",
       "303  [-0.037512585520744324, -0.055838216096162796,...   \n",
       "\n",
       "     body_sentence_embeddings_clusters  \\\n",
       "0                                    4   \n",
       "1                                    0   \n",
       "2                                    1   \n",
       "3                                    3   \n",
       "4                                    0   \n",
       "..                                 ...   \n",
       "299                                  2   \n",
       "300                                  1   \n",
       "301                                  2   \n",
       "302                                  4   \n",
       "303                                  4   \n",
       "\n",
       "     body_sentence_embeddings_clusters_medoids  \\\n",
       "0                                        False   \n",
       "1                                        False   \n",
       "2                                        False   \n",
       "3                                        False   \n",
       "4                                        False   \n",
       "..                                         ...   \n",
       "299                                      False   \n",
       "300                                      False   \n",
       "301                                      False   \n",
       "302                                      False   \n",
       "303                                      False   \n",
       "\n",
       "                 body_clusters_sentence_embeddings_NER  \\\n",
       "0    ['Photonic Integrated Circuit', 'the Photonic ...   \n",
       "1    ['Intel', 'LQC', 'Sandia National Laboratories...   \n",
       "2    ['IBM', 'Cleveland Clinic', 'NVIDIA', 'Moderna...   \n",
       "3    ['IBM', 'Google', 'Microsoft', 'Global Enterpr...   \n",
       "4    ['Intel', 'LQC', 'Sandia National Laboratories...   \n",
       "..                                                 ...   \n",
       "299      ['IBM', 'Google', 'SEEQC', 'Eagle', 'NVIDIA']   \n",
       "300  ['IBM', 'Cleveland Clinic', 'NVIDIA', 'Moderna...   \n",
       "301      ['IBM', 'Google', 'SEEQC', 'Eagle', 'NVIDIA']   \n",
       "302  ['Photonic Integrated Circuit', 'the Photonic ...   \n",
       "303  ['Photonic Integrated Circuit', 'the Photonic ...   \n",
       "\n",
       "    body_sentence_embeddings_clusters_medoids_summaries  body_sentiment  \\\n",
       "0                                                  NaN              0.0   \n",
       "1                                                  NaN              1.0   \n",
       "2                                                  NaN              1.0   \n",
       "3                                                  NaN              1.0   \n",
       "4                                                  NaN              1.0   \n",
       "..                                                 ...              ...   \n",
       "299                                                NaN              1.0   \n",
       "300                                                NaN              1.0   \n",
       "301                                                NaN              1.0   \n",
       "302                                                NaN              0.0   \n",
       "303                                                NaN              1.0   \n",
       "\n",
       "                                                topics  \n",
       "0    [('global photonic', 0.0023228262923057743), (...  \n",
       "1    [('silicon spin', 0.004639036026751491), ('int...  \n",
       "2    [('cleveland', 0.0012094684318797856), ('clini...  \n",
       "3    [('computing sale', 0.0008908799839413596), ('...  \n",
       "4    [('silicon spin', 0.004639036026751491), ('int...  \n",
       "..                                                 ...  \n",
       "299  [('photon', 0.0010225054671691033), ('gate', 0...  \n",
       "300  [('cleveland', 0.0012094684318797856), ('clini...  \n",
       "301  [('photon', 0.0010225054671691033), ('gate', 0...  \n",
       "302  [('global photonic', 0.0023228262923057743), (...  \n",
       "303  [('global photonic', 0.0023228262923057743), (...  \n",
       "\n",
       "[304 rows x 13 columns]"
      ]
     },
     "execution_count": 12,
     "metadata": {},
     "output_type": "execute_result"
    }
   ],
   "source": [
    "art_sent_sil"
   ]
  },
  {
   "cell_type": "code",
   "execution_count": null,
   "metadata": {},
   "outputs": [],
   "source": []
  },
  {
   "cell_type": "code",
   "execution_count": null,
   "metadata": {},
   "outputs": [],
   "source": [
    "# silhouette score ain't working with too few samples I think\n",
    "from sklearn.cluster import KMeans\n",
    "df = wizard.df\n",
    "from sklearn.metrics import silhouette_score\n",
    "column = 'paragraph'\n",
    "k=2\n",
    "embed_column = column + wizard.EMB_SUFFIX\n",
    "kk = KMeans(n_clusters=k, n_init='auto').fit(df[embed_column].tolist())\n",
    "labels = kk.labels_\n",
    "silhouette_score(df[embed_column].tolist(), labels, metric='euclidean')"
   ]
  },
  {
   "cell_type": "code",
   "execution_count": null,
   "metadata": {},
   "outputs": [],
   "source": [
    "# check the number of entities in each cluster\n",
    "wizard.df['paragraph_sentence_embeddings_clusters'].value_counts()"
   ]
  },
  {
   "cell_type": "code",
   "execution_count": null,
   "metadata": {},
   "outputs": [],
   "source": [
    "# check the number of medoids per cluster\n",
    "wizard.df[wizard.df['paragraph_sentence_embeddings_clusters_medoids'] == True][['paragraph_sentence_embeddings', 'paragraph_sentence_embeddings_clusters']]"
   ]
  }
 ],
 "metadata": {
  "kernelspec": {
   "display_name": "Python 3",
   "language": "python",
   "name": "python3"
  },
  "language_info": {
   "codemirror_mode": {
    "name": "ipython",
    "version": 3
   },
   "file_extension": ".py",
   "mimetype": "text/x-python",
   "name": "python",
   "nbconvert_exporter": "python",
   "pygments_lexer": "ipython3",
   "version": "3.8.16"
  },
  "orig_nbformat": 4
 },
 "nbformat": 4,
 "nbformat_minor": 2
}
