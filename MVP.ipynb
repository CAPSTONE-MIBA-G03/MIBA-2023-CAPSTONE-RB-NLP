{
 "cells": [
  {
   "attachments": {},
   "cell_type": "markdown",
   "metadata": {},
   "source": [
    "# A High-Level Code Journey through the RB News NLP Pipeline\n",
    "#### **ESADE MIBA 2023 Capstone Team G03:**\n",
    "- Florian Blaser\n",
    "- John Bergmann\n",
    "- Quique Mendez\n",
    "- Michael Merheb\n",
    "- Jingshi Zhang\n",
    "---"
   ]
  },
  {
   "attachments": {},
   "cell_type": "markdown",
   "metadata": {},
   "source": [
    "## Setup\n",
    "Clone our git repository at https://github.com/CAPSTONE-MIBA-G03/MIBA-2023-CAPSTONE-RB-NLP.git and install the required dependencies in your python environment (we recommend using Python 3.10.11):\n",
    "\n",
    "Using Venv:\n",
    "\n",
    "```bash\n",
    "$ python -m venv venv\n",
    "$ source ./venv/bin/activate\n",
    "$ pip install -r requirements.txt\n",
    "```\n",
    "\n",
    "Using pyenv:\n",
    "\n",
    "```bash\n",
    "$ pyenv virtualenv 3.10.11 RB_NLP\n",
    "$ pyenv activate \n",
    "$ pip install -r requirements.txt\n",
    "```"
   ]
  },
  {
   "cell_type": "code",
   "execution_count": 7,
   "metadata": {},
   "outputs": [],
   "source": [
    "# Internal imports\n",
    "from pipeline_executor import PipelineExecutor\n",
    "from nlp_analysis.word_wizard import WordWizard\n",
    "\n",
    "# External imports\n",
    "import pandas as pd\n",
    "import plotly.express as px\n",
    "import plotly.graph_objects as go\n",
    "from pprint import pprint\n",
    "\n",
    "# Aesthetic settings\n",
    "import warnings\n",
    "warnings.filterwarnings(\"ignore\")"
   ]
  },
  {
   "attachments": {},
   "cell_type": "markdown",
   "metadata": {},
   "source": [
    "## ETL\n",
    "\n",
    "The `pipeline_executor.py` module has been designed as a wrapper to combine the following three ETL steps of the project into one seemless excecution:\n",
    "\n",
    "- `link_extractor.py`: A performant, multi-threaded web-scraping module which uses a selection of Search Engines (Google, Bing, Yahoo) to gather a large variety of news article URL`s that are used downstream to extract a corpus of news data.\n",
    "\n",
    "- `content_extractor.py`: A performant, multi-threaded, and well-generalizing web-scraping module used to extract news text content from a variety of sources. Makes use of two approaches to gather data if the first one fails.\n",
    "\n",
    "- `content_cleaner.py`: A functional module used to preprocess the extracted news text. Takes into account length of extracted text, cleans punctuation, and uses regex patterns to filter out links, e-mails, phone numbers, as well as other phrases which indicate unusable text (ex: \"Are you a robot?\").\n",
    "\n",
    "Using the `execute()` method, the user can specify his search query, if he/she wishes to limit the amount of retrieved news articles, and if he/she wants to overwrite any existing files.\n",
    "\n",
    "Usability and performance oriented design choices:\n",
    "| Feature | Rationale | Description |\n",
    "| --- | --- | --- |\n",
    "| Dynamic thread assignment | Performance | The number of assigned threads depends on the number of tasks, CPU cores, and free memory the machine has access to.\n",
    "| Anti-scraping measure circumvention | Usability / Perfromance | To make the webscraper appear more human, the following has been implemented: timeouts, user-agents (HTTP headers), HTTP sessions (keep connection open between client and server)\n",
    "| Logging | Usability | Logging has been implemented in the ETL process to allow users to monitor code and easily debug (if necessary)\n",
    "| Direct Requests | Performance | As of now, the use of headless browsers has not been deemed necessary due to the noticeable performance impact associated with them. However, it should be noted that tools such as selenium or playwright are easily integratable due to the object-oriented design of the ETL process.\n",
    "| Caching | Performance | If the user already searched for a sepcific query, the locally saved data is used instead of running the entire web-scraper again (this behavior can be overwritten)\n",
    "| Search Query Behavior | Usability | Any news topic can be searched for by the user. This includes Search Engine specific functionality such as boolean operators and quotes to find exact matches"
   ]
  },
  {
   "cell_type": "code",
   "execution_count": 8,
   "metadata": {},
   "outputs": [],
   "source": [
    "topic = \"'Quantum Computing' AND 'Research'\"\n",
    "pipe = PipelineExecutor()\n",
    "quantum_research = pipe.execute(query=topic, max_articles=None, overwrite=False)"
   ]
  },
  {
   "cell_type": "code",
   "execution_count": 9,
   "metadata": {},
   "outputs": [
    {
     "data": {
      "text/html": [
       "<div>\n",
       "<style scoped>\n",
       "    .dataframe tbody tr th:only-of-type {\n",
       "        vertical-align: middle;\n",
       "    }\n",
       "\n",
       "    .dataframe tbody tr th {\n",
       "        vertical-align: top;\n",
       "    }\n",
       "\n",
       "    .dataframe thead th {\n",
       "        text-align: right;\n",
       "    }\n",
       "</style>\n",
       "<table border=\"1\" class=\"dataframe\">\n",
       "  <thead>\n",
       "    <tr style=\"text-align: right;\">\n",
       "      <th></th>\n",
       "      <th>article_index</th>\n",
       "      <th>engine</th>\n",
       "      <th>link</th>\n",
       "      <th>source</th>\n",
       "      <th>title</th>\n",
       "      <th>description</th>\n",
       "      <th>body</th>\n",
       "      <th>paragraph</th>\n",
       "    </tr>\n",
       "  </thead>\n",
       "  <tbody>\n",
       "    <tr>\n",
       "      <th>0</th>\n",
       "      <td>0</td>\n",
       "      <td>Bing</td>\n",
       "      <td>https://phys.org/news/2023-06-quantum-boost-di...</td>\n",
       "      <td>Phys.org</td>\n",
       "      <td>Quantum computing could get boost from discove...</td>\n",
       "      <td>Researchers at North Carolina State University...</td>\n",
       "      <td>This article has been reviewed according to Sc...</td>\n",
       "      <td>Researchers at North Carolina State University...</td>\n",
       "    </tr>\n",
       "    <tr>\n",
       "      <th>1</th>\n",
       "      <td>0</td>\n",
       "      <td>Bing</td>\n",
       "      <td>https://phys.org/news/2023-06-quantum-boost-di...</td>\n",
       "      <td>Phys.org</td>\n",
       "      <td>Quantum computing could get boost from discove...</td>\n",
       "      <td>Researchers at North Carolina State University...</td>\n",
       "      <td>This article has been reviewed according to Sc...</td>\n",
       "      <td>\"The discovery of Q-silicon having robust room...</td>\n",
       "    </tr>\n",
       "    <tr>\n",
       "      <th>2</th>\n",
       "      <td>0</td>\n",
       "      <td>Bing</td>\n",
       "      <td>https://phys.org/news/2023-06-quantum-boost-di...</td>\n",
       "      <td>Phys.org</td>\n",
       "      <td>Quantum computing could get boost from discove...</td>\n",
       "      <td>Researchers at North Carolina State University...</td>\n",
       "      <td>This article has been reviewed according to Sc...</td>\n",
       "      <td>The NC State researchers showed that laser mel...</td>\n",
       "    </tr>\n",
       "    <tr>\n",
       "      <th>3</th>\n",
       "      <td>0</td>\n",
       "      <td>Bing</td>\n",
       "      <td>https://phys.org/news/2023-06-quantum-boost-di...</td>\n",
       "      <td>Phys.org</td>\n",
       "      <td>Quantum computing could get boost from discove...</td>\n",
       "      <td>Researchers at North Carolina State University...</td>\n",
       "      <td>This article has been reviewed according to Sc...</td>\n",
       "      <td>\"This discovery of Q-silicon stands to revolut...</td>\n",
       "    </tr>\n",
       "    <tr>\n",
       "      <th>4</th>\n",
       "      <td>1</td>\n",
       "      <td>Yahoo</td>\n",
       "      <td>https://scitechdaily.com/a-major-quantum-compu...</td>\n",
       "      <td>SciTechDaily</td>\n",
       "      <td>A Major Quantum Computing Leap With a Magnetic...</td>\n",
       "      <td>A University of Washington-led team has made a...</td>\n",
       "      <td>A University of Washington-led team has made a...</td>\n",
       "      <td>A University of Washington-led team has made a...</td>\n",
       "    </tr>\n",
       "    <tr>\n",
       "      <th>...</th>\n",
       "      <td>...</td>\n",
       "      <td>...</td>\n",
       "      <td>...</td>\n",
       "      <td>...</td>\n",
       "      <td>...</td>\n",
       "      <td>...</td>\n",
       "      <td>...</td>\n",
       "      <td>...</td>\n",
       "    </tr>\n",
       "    <tr>\n",
       "      <th>3643</th>\n",
       "      <td>413</td>\n",
       "      <td>Google</td>\n",
       "      <td>https://newsroom.ibm.com/2023-03-24-IBM-and-Fu...</td>\n",
       "      <td>IBM Newsroom</td>\n",
       "      <td>IBM and Fundación Ikerbasque partner to launch...</td>\n",
       "      <td>Fundación Ikerbasque, the Basque Foundation fo...</td>\n",
       "      <td>San Sebastian, March 24th, 2023. Fundación Ike...</td>\n",
       "      <td>IBM and Ikerbasque will also collaborate to de...</td>\n",
       "    </tr>\n",
       "    <tr>\n",
       "      <th>3644</th>\n",
       "      <td>413</td>\n",
       "      <td>Google</td>\n",
       "      <td>https://newsroom.ibm.com/2023-03-24-IBM-and-Fu...</td>\n",
       "      <td>IBM Newsroom</td>\n",
       "      <td>IBM and Fundación Ikerbasque partner to launch...</td>\n",
       "      <td>Fundación Ikerbasque, the Basque Foundation fo...</td>\n",
       "      <td>San Sebastian, March 24th, 2023. Fundación Ike...</td>\n",
       "      <td>“It is very risky to say what the future of qu...</td>\n",
       "    </tr>\n",
       "    <tr>\n",
       "      <th>3645</th>\n",
       "      <td>413</td>\n",
       "      <td>Google</td>\n",
       "      <td>https://newsroom.ibm.com/2023-03-24-IBM-and-Fu...</td>\n",
       "      <td>IBM Newsroom</td>\n",
       "      <td>IBM and Fundación Ikerbasque partner to launch...</td>\n",
       "      <td>Fundación Ikerbasque, the Basque Foundation fo...</td>\n",
       "      <td>San Sebastian, March 24th, 2023. Fundación Ike...</td>\n",
       "      <td>“The IBM-Euskadi Quantum Computational Center ...</td>\n",
       "    </tr>\n",
       "    <tr>\n",
       "      <th>3646</th>\n",
       "      <td>413</td>\n",
       "      <td>Google</td>\n",
       "      <td>https://newsroom.ibm.com/2023-03-24-IBM-and-Fu...</td>\n",
       "      <td>IBM Newsroom</td>\n",
       "      <td>IBM and Fundación Ikerbasque partner to launch...</td>\n",
       "      <td>Fundación Ikerbasque, the Basque Foundation fo...</td>\n",
       "      <td>San Sebastian, March 24th, 2023. Fundación Ike...</td>\n",
       "      <td>The IBM-Euskadi Quantum Computational Center i...</td>\n",
       "    </tr>\n",
       "    <tr>\n",
       "      <th>3647</th>\n",
       "      <td>414</td>\n",
       "      <td>Google</td>\n",
       "      <td>https://www.eenewseurope.com/en/first-quantum-...</td>\n",
       "      <td>eeNews Europe</td>\n",
       "      <td>First Quantum Computer Dedicated to Healthcare...</td>\n",
       "      <td>The IBM Quantum System One installed at Clevel...</td>\n",
       "      <td>First Quantum Computer Dedicated to Healthcare...</td>\n",
       "      <td>A significant part of the collaboration is a f...</td>\n",
       "    </tr>\n",
       "  </tbody>\n",
       "</table>\n",
       "<p>3648 rows × 8 columns</p>\n",
       "</div>"
      ],
      "text/plain": [
       "      article_index  engine  \\\n",
       "0                 0    Bing   \n",
       "1                 0    Bing   \n",
       "2                 0    Bing   \n",
       "3                 0    Bing   \n",
       "4                 1   Yahoo   \n",
       "...             ...     ...   \n",
       "3643            413  Google   \n",
       "3644            413  Google   \n",
       "3645            413  Google   \n",
       "3646            413  Google   \n",
       "3647            414  Google   \n",
       "\n",
       "                                                   link         source  \\\n",
       "0     https://phys.org/news/2023-06-quantum-boost-di...       Phys.org   \n",
       "1     https://phys.org/news/2023-06-quantum-boost-di...       Phys.org   \n",
       "2     https://phys.org/news/2023-06-quantum-boost-di...       Phys.org   \n",
       "3     https://phys.org/news/2023-06-quantum-boost-di...       Phys.org   \n",
       "4     https://scitechdaily.com/a-major-quantum-compu...   SciTechDaily   \n",
       "...                                                 ...            ...   \n",
       "3643  https://newsroom.ibm.com/2023-03-24-IBM-and-Fu...   IBM Newsroom   \n",
       "3644  https://newsroom.ibm.com/2023-03-24-IBM-and-Fu...   IBM Newsroom   \n",
       "3645  https://newsroom.ibm.com/2023-03-24-IBM-and-Fu...   IBM Newsroom   \n",
       "3646  https://newsroom.ibm.com/2023-03-24-IBM-and-Fu...   IBM Newsroom   \n",
       "3647  https://www.eenewseurope.com/en/first-quantum-...  eeNews Europe   \n",
       "\n",
       "                                                  title  \\\n",
       "0     Quantum computing could get boost from discove...   \n",
       "1     Quantum computing could get boost from discove...   \n",
       "2     Quantum computing could get boost from discove...   \n",
       "3     Quantum computing could get boost from discove...   \n",
       "4     A Major Quantum Computing Leap With a Magnetic...   \n",
       "...                                                 ...   \n",
       "3643  IBM and Fundación Ikerbasque partner to launch...   \n",
       "3644  IBM and Fundación Ikerbasque partner to launch...   \n",
       "3645  IBM and Fundación Ikerbasque partner to launch...   \n",
       "3646  IBM and Fundación Ikerbasque partner to launch...   \n",
       "3647  First Quantum Computer Dedicated to Healthcare...   \n",
       "\n",
       "                                            description  \\\n",
       "0     Researchers at North Carolina State University...   \n",
       "1     Researchers at North Carolina State University...   \n",
       "2     Researchers at North Carolina State University...   \n",
       "3     Researchers at North Carolina State University...   \n",
       "4     A University of Washington-led team has made a...   \n",
       "...                                                 ...   \n",
       "3643  Fundación Ikerbasque, the Basque Foundation fo...   \n",
       "3644  Fundación Ikerbasque, the Basque Foundation fo...   \n",
       "3645  Fundación Ikerbasque, the Basque Foundation fo...   \n",
       "3646  Fundación Ikerbasque, the Basque Foundation fo...   \n",
       "3647  The IBM Quantum System One installed at Clevel...   \n",
       "\n",
       "                                                   body  \\\n",
       "0     This article has been reviewed according to Sc...   \n",
       "1     This article has been reviewed according to Sc...   \n",
       "2     This article has been reviewed according to Sc...   \n",
       "3     This article has been reviewed according to Sc...   \n",
       "4     A University of Washington-led team has made a...   \n",
       "...                                                 ...   \n",
       "3643  San Sebastian, March 24th, 2023. Fundación Ike...   \n",
       "3644  San Sebastian, March 24th, 2023. Fundación Ike...   \n",
       "3645  San Sebastian, March 24th, 2023. Fundación Ike...   \n",
       "3646  San Sebastian, March 24th, 2023. Fundación Ike...   \n",
       "3647  First Quantum Computer Dedicated to Healthcare...   \n",
       "\n",
       "                                              paragraph  \n",
       "0     Researchers at North Carolina State University...  \n",
       "1     \"The discovery of Q-silicon having robust room...  \n",
       "2     The NC State researchers showed that laser mel...  \n",
       "3     \"This discovery of Q-silicon stands to revolut...  \n",
       "4     A University of Washington-led team has made a...  \n",
       "...                                                 ...  \n",
       "3643  IBM and Ikerbasque will also collaborate to de...  \n",
       "3644  “It is very risky to say what the future of qu...  \n",
       "3645  “The IBM-Euskadi Quantum Computational Center ...  \n",
       "3646  The IBM-Euskadi Quantum Computational Center i...  \n",
       "3647  A significant part of the collaboration is a f...  \n",
       "\n",
       "[3648 rows x 8 columns]"
      ]
     },
     "execution_count": 9,
     "metadata": {},
     "output_type": "execute_result"
    }
   ],
   "source": [
    "quantum_research"
   ]
  },
  {
   "attachments": {},
   "cell_type": "markdown",
   "metadata": {},
   "source": [
    "## NLP\n",
    "\n",
    "The `word_wizard.py` module is a performant and feature rich NLP module capable of performing various operations on the dataframe that gets returned from the ETL pipeline. When initializing a WordWizard object, the user can specify on which basis he/she wishes to analyze the data (either the entire article, or on paragraphs). For more precise analysis, this is done on single paragraphs by default.\n",
    "\n",
    "Usability and performance oriented design choices:\n",
    "| Feature | Rationale | Description |\n",
    "| --- | --- | --- |\n",
    "| Pretrained Models | Performance / Usability | Especially in tasks that are universally similar, such as language, using preatrained models often rpooves beneficial. With the exception of some unsupervised lerning approaches, the NLP pipe makes use of a variety of pretrained models. This allows us to benefit from performant models, trained on magnitudes of data so large that entire datacenters are needed, while using everyday computer systems.\n",
    "| GPU acceleration | Performance | The NLP pipeline automatically detects and selects the most powerful device possible for Deep Learning Inference. This can also be overriden by the user for each method and defaults to the CPU if no GPU is detected. Currently supports NVIDIA's Compute Unified Device Architecture (CUDA) and Apple's Metal Performance Shaders (MPS) software frameworks.\n",
    "| Lean Models | Performance | With computational complexity in mind, most WordWizard methods have been designed in a way that allows the user to choose between a heavy (and usually more performant) or lean (and potentially less performant) model. As is, lean models are preferred by the WordWizard.\n",
    "\n",
    "General NLP Pipe Roadmap:\n",
    "\n",
    "**1. Create Embeddings:** Either using `create_sentence_embeddings()` or `create_word_embeddings()`. Word embeddings offer more in-depth word analysis and a very fine-grained representation of text. However, they often struggle with Polysemy (words having multiple meanings -> Apple the fruit or the company?) and inherently loose contextual information. Sentence embeddings offer better contextual representations and appear to be more performant but end up loosing specific in-debth word-level information. Ultimately, the choice is context specific and one or the other may offer better results.\n",
    "\n",
    "**2. Create Clusters:**  Clustering is done using the `cluster_embeddings()` method and serves the purpose of identifying and combining common news topics.\n",
    "\n",
    "**3. Any of the following:**\n",
    "\n",
    "- `summarize_medoids()`: Creates a summary of embeddings closest to the center of a cluster.\n",
    "- `find_sentiment()`: Calculates a sentiment score for each piece of news data in the WordWizard.\n",
    "- `entity_recognition()`: Filters out the most common entities in the news data corpus.\n",
    "- `topic_modelling()`: Identifies meta-topics amongst the news corpus.\n",
    "- `topic_modelling()`: Reduces the dimensionality of the embeddings for easier downstream analysis in tasks such as visualization.\n",
    "\n",
    "**4. Perfrom further analysis using the enhanced dataframe from the WordWizard object**"
   ]
  },
  {
   "cell_type": "code",
   "execution_count": 10,
   "metadata": {},
   "outputs": [],
   "source": [
    "wizard = WordWizard(quantum_research, device=None, interest=\"paragraph\")"
   ]
  },
  {
   "cell_type": "code",
   "execution_count": 11,
   "metadata": {},
   "outputs": [
    {
     "data": {
      "application/vnd.jupyter.widget-view+json": {
       "model_id": "d1fa41e069e841a29d0d5be368451493",
       "version_major": 2,
       "version_minor": 0
      },
      "text/plain": [
       "Batches:   0%|          | 0/114 [00:00<?, ?it/s]"
      ]
     },
     "metadata": {},
     "output_type": "display_data"
    },
    {
     "data": {
      "application/vnd.jupyter.widget-view+json": {
       "model_id": "0b29345dfb5b4a54922a8a9442a8fff4",
       "version_major": 2,
       "version_minor": 0
      },
      "text/plain": [
       "Extracting organizations from paragraph:   0%|          | 0/5 [00:00<?, ?it/s]"
      ]
     },
     "metadata": {},
     "output_type": "display_data"
    },
    {
     "data": {
      "application/vnd.jupyter.widget-view+json": {
       "model_id": "81e3482e72e3408b855aff62b91777bc",
       "version_major": 2,
       "version_minor": 0
      },
      "text/plain": [
       "Creating summaries for cluster medoids based on paragraph:   0%|          | 0/10 [00:00<?, ?it/s]"
      ]
     },
     "metadata": {},
     "output_type": "display_data"
    },
    {
     "data": {
      "application/vnd.jupyter.widget-view+json": {
       "model_id": "f875d2e3db3440d3b4220f1b785f565e",
       "version_major": 2,
       "version_minor": 0
      },
      "text/plain": [
       "Calculating sentiment using paragraph:   0%|          | 0/3422 [00:00<?, ?it/s]"
      ]
     },
     "metadata": {},
     "output_type": "display_data"
    },
    {
     "data": {
      "text/plain": [
       "<nlp_analysis.word_wizard.WordWizard at 0x3d5de3970>"
      ]
     },
     "execution_count": 11,
     "metadata": {},
     "output_type": "execute_result"
    }
   ],
   "source": [
    "wizard \\\n",
    ".create_sentence_embeddings() \\\n",
    ".cluster_embeddings() \\\n",
    ".entitiy_recognition() \\\n",
    ".summarize_medoids(lean=True) \\\n",
    ".find_sentiment(lean=False) \\\n",
    ".topic_modelling() \\\n",
    ".reduce_demensionality()"
   ]
  },
  {
   "cell_type": "code",
   "execution_count": 12,
   "metadata": {},
   "outputs": [
    {
     "data": {
      "text/html": [
       "<div>\n",
       "<style scoped>\n",
       "    .dataframe tbody tr th:only-of-type {\n",
       "        vertical-align: middle;\n",
       "    }\n",
       "\n",
       "    .dataframe tbody tr th {\n",
       "        vertical-align: top;\n",
       "    }\n",
       "\n",
       "    .dataframe thead th {\n",
       "        text-align: right;\n",
       "    }\n",
       "</style>\n",
       "<table border=\"1\" class=\"dataframe\">\n",
       "  <thead>\n",
       "    <tr style=\"text-align: right;\">\n",
       "      <th></th>\n",
       "      <th>article_index</th>\n",
       "      <th>engine</th>\n",
       "      <th>link</th>\n",
       "      <th>source</th>\n",
       "      <th>title</th>\n",
       "      <th>description</th>\n",
       "      <th>body</th>\n",
       "      <th>paragraph</th>\n",
       "      <th>sentences</th>\n",
       "      <th>paragraph_sentence_embeddings</th>\n",
       "      <th>paragraph_sentence_embeddings_clusters</th>\n",
       "      <th>paragraph_sentence_embeddings_clusters_medoids</th>\n",
       "      <th>paragraph_clusters_sentence_embeddings_NER</th>\n",
       "      <th>paragraph_sentence_embeddings_clusters_medoids_summaries</th>\n",
       "      <th>paragraph_sentiment</th>\n",
       "      <th>topics</th>\n",
       "      <th>paragraph_reduced_dimensions_word_embeddings</th>\n",
       "    </tr>\n",
       "  </thead>\n",
       "  <tbody>\n",
       "    <tr>\n",
       "      <th>0</th>\n",
       "      <td>0</td>\n",
       "      <td>Bing</td>\n",
       "      <td>https://phys.org/news/2023-06-quantum-boost-di...</td>\n",
       "      <td>Phys.org</td>\n",
       "      <td>Quantum computing could get boost from discove...</td>\n",
       "      <td>Researchers at North Carolina State University...</td>\n",
       "      <td>This article has been reviewed according to Sc...</td>\n",
       "      <td>Researchers at North Carolina State University...</td>\n",
       "      <td>[Researchers at North Carolina State Universit...</td>\n",
       "      <td>[-0.1020563393831253, 0.032378360629081726, -0...</td>\n",
       "      <td>3</td>\n",
       "      <td>False</td>\n",
       "      <td>['IBM', 'Google', 'Microsoft', 'Quantum comput...</td>\n",
       "      <td>NaN</td>\n",
       "      <td>1.0</td>\n",
       "      <td>[(computer, 0.01395662766611499), (quantum com...</td>\n",
       "      <td>[8.750580787658691, -3.6687560081481934]</td>\n",
       "    </tr>\n",
       "    <tr>\n",
       "      <th>1</th>\n",
       "      <td>0</td>\n",
       "      <td>Bing</td>\n",
       "      <td>https://phys.org/news/2023-06-quantum-boost-di...</td>\n",
       "      <td>Phys.org</td>\n",
       "      <td>Quantum computing could get boost from discove...</td>\n",
       "      <td>Researchers at North Carolina State University...</td>\n",
       "      <td>This article has been reviewed according to Sc...</td>\n",
       "      <td>\"The discovery of Q-silicon having robust room...</td>\n",
       "      <td>[\"The discovery of Q-silicon having robust roo...</td>\n",
       "      <td>[-0.11736508458852768, 0.01704520918428898, -0...</td>\n",
       "      <td>4</td>\n",
       "      <td>False</td>\n",
       "      <td>['Google', 'Non-Abelian anyons have the unique...</td>\n",
       "      <td>NaN</td>\n",
       "      <td>1.0</td>\n",
       "      <td>[(material, 0.01322349626579495), (property, 0...</td>\n",
       "      <td>[8.768294334411621, -3.7024354934692383]</td>\n",
       "    </tr>\n",
       "    <tr>\n",
       "      <th>2</th>\n",
       "      <td>0</td>\n",
       "      <td>Bing</td>\n",
       "      <td>https://phys.org/news/2023-06-quantum-boost-di...</td>\n",
       "      <td>Phys.org</td>\n",
       "      <td>Quantum computing could get boost from discove...</td>\n",
       "      <td>Researchers at North Carolina State University...</td>\n",
       "      <td>This article has been reviewed according to Sc...</td>\n",
       "      <td>The NC State researchers showed that laser mel...</td>\n",
       "      <td>[The NC State researchers showed that laser me...</td>\n",
       "      <td>[-0.08565413951873779, -0.032770633697509766, ...</td>\n",
       "      <td>4</td>\n",
       "      <td>False</td>\n",
       "      <td>['Google', 'Non-Abelian anyons have the unique...</td>\n",
       "      <td>NaN</td>\n",
       "      <td>1.0</td>\n",
       "      <td>[(material, 0.01322349626579495), (property, 0...</td>\n",
       "      <td>[8.799320220947266, -3.7150118350982666]</td>\n",
       "    </tr>\n",
       "    <tr>\n",
       "      <th>3</th>\n",
       "      <td>0</td>\n",
       "      <td>Bing</td>\n",
       "      <td>https://phys.org/news/2023-06-quantum-boost-di...</td>\n",
       "      <td>Phys.org</td>\n",
       "      <td>Quantum computing could get boost from discove...</td>\n",
       "      <td>Researchers at North Carolina State University...</td>\n",
       "      <td>This article has been reviewed according to Sc...</td>\n",
       "      <td>\"This discovery of Q-silicon stands to revolut...</td>\n",
       "      <td>[\"This discovery of Q-silicon stands to revolu...</td>\n",
       "      <td>[-0.09404293447732925, 0.08271421492099762, -0...</td>\n",
       "      <td>3</td>\n",
       "      <td>False</td>\n",
       "      <td>['IBM', 'Google', 'Microsoft', 'Quantum comput...</td>\n",
       "      <td>NaN</td>\n",
       "      <td>1.0</td>\n",
       "      <td>[(computer, 0.01395662766611499), (quantum com...</td>\n",
       "      <td>[8.753495216369629, -3.7127583026885986]</td>\n",
       "    </tr>\n",
       "    <tr>\n",
       "      <th>4</th>\n",
       "      <td>1</td>\n",
       "      <td>Yahoo</td>\n",
       "      <td>https://scitechdaily.com/a-major-quantum-compu...</td>\n",
       "      <td>SciTechDaily</td>\n",
       "      <td>A Major Quantum Computing Leap With a Magnetic...</td>\n",
       "      <td>A University of Washington-led team has made a...</td>\n",
       "      <td>A University of Washington-led team has made a...</td>\n",
       "      <td>A University of Washington-led team has made a...</td>\n",
       "      <td>[A University of Washington-led team has made ...</td>\n",
       "      <td>[-0.03416478633880615, 0.029943140223622322, -...</td>\n",
       "      <td>3</td>\n",
       "      <td>False</td>\n",
       "      <td>['IBM', 'Google', 'Microsoft', 'Quantum comput...</td>\n",
       "      <td>NaN</td>\n",
       "      <td>1.0</td>\n",
       "      <td>[(computer, 0.01395662766611499), (quantum com...</td>\n",
       "      <td>[8.196556091308594, -6.83024787902832]</td>\n",
       "    </tr>\n",
       "  </tbody>\n",
       "</table>\n",
       "</div>"
      ],
      "text/plain": [
       "   article_index engine                                               link  \\\n",
       "0              0   Bing  https://phys.org/news/2023-06-quantum-boost-di...   \n",
       "1              0   Bing  https://phys.org/news/2023-06-quantum-boost-di...   \n",
       "2              0   Bing  https://phys.org/news/2023-06-quantum-boost-di...   \n",
       "3              0   Bing  https://phys.org/news/2023-06-quantum-boost-di...   \n",
       "4              1  Yahoo  https://scitechdaily.com/a-major-quantum-compu...   \n",
       "\n",
       "         source                                              title  \\\n",
       "0      Phys.org  Quantum computing could get boost from discove...   \n",
       "1      Phys.org  Quantum computing could get boost from discove...   \n",
       "2      Phys.org  Quantum computing could get boost from discove...   \n",
       "3      Phys.org  Quantum computing could get boost from discove...   \n",
       "4  SciTechDaily  A Major Quantum Computing Leap With a Magnetic...   \n",
       "\n",
       "                                         description  \\\n",
       "0  Researchers at North Carolina State University...   \n",
       "1  Researchers at North Carolina State University...   \n",
       "2  Researchers at North Carolina State University...   \n",
       "3  Researchers at North Carolina State University...   \n",
       "4  A University of Washington-led team has made a...   \n",
       "\n",
       "                                                body  \\\n",
       "0  This article has been reviewed according to Sc...   \n",
       "1  This article has been reviewed according to Sc...   \n",
       "2  This article has been reviewed according to Sc...   \n",
       "3  This article has been reviewed according to Sc...   \n",
       "4  A University of Washington-led team has made a...   \n",
       "\n",
       "                                           paragraph  \\\n",
       "0  Researchers at North Carolina State University...   \n",
       "1  \"The discovery of Q-silicon having robust room...   \n",
       "2  The NC State researchers showed that laser mel...   \n",
       "3  \"This discovery of Q-silicon stands to revolut...   \n",
       "4  A University of Washington-led team has made a...   \n",
       "\n",
       "                                           sentences  \\\n",
       "0  [Researchers at North Carolina State Universit...   \n",
       "1  [\"The discovery of Q-silicon having robust roo...   \n",
       "2  [The NC State researchers showed that laser me...   \n",
       "3  [\"This discovery of Q-silicon stands to revolu...   \n",
       "4  [A University of Washington-led team has made ...   \n",
       "\n",
       "                       paragraph_sentence_embeddings  \\\n",
       "0  [-0.1020563393831253, 0.032378360629081726, -0...   \n",
       "1  [-0.11736508458852768, 0.01704520918428898, -0...   \n",
       "2  [-0.08565413951873779, -0.032770633697509766, ...   \n",
       "3  [-0.09404293447732925, 0.08271421492099762, -0...   \n",
       "4  [-0.03416478633880615, 0.029943140223622322, -...   \n",
       "\n",
       "   paragraph_sentence_embeddings_clusters  \\\n",
       "0                                       3   \n",
       "1                                       4   \n",
       "2                                       4   \n",
       "3                                       3   \n",
       "4                                       3   \n",
       "\n",
       "   paragraph_sentence_embeddings_clusters_medoids  \\\n",
       "0                                           False   \n",
       "1                                           False   \n",
       "2                                           False   \n",
       "3                                           False   \n",
       "4                                           False   \n",
       "\n",
       "          paragraph_clusters_sentence_embeddings_NER  \\\n",
       "0  ['IBM', 'Google', 'Microsoft', 'Quantum comput...   \n",
       "1  ['Google', 'Non-Abelian anyons have the unique...   \n",
       "2  ['Google', 'Non-Abelian anyons have the unique...   \n",
       "3  ['IBM', 'Google', 'Microsoft', 'Quantum comput...   \n",
       "4  ['IBM', 'Google', 'Microsoft', 'Quantum comput...   \n",
       "\n",
       "  paragraph_sentence_embeddings_clusters_medoids_summaries  \\\n",
       "0                                                NaN         \n",
       "1                                                NaN         \n",
       "2                                                NaN         \n",
       "3                                                NaN         \n",
       "4                                                NaN         \n",
       "\n",
       "   paragraph_sentiment                                             topics  \\\n",
       "0                  1.0  [(computer, 0.01395662766611499), (quantum com...   \n",
       "1                  1.0  [(material, 0.01322349626579495), (property, 0...   \n",
       "2                  1.0  [(material, 0.01322349626579495), (property, 0...   \n",
       "3                  1.0  [(computer, 0.01395662766611499), (quantum com...   \n",
       "4                  1.0  [(computer, 0.01395662766611499), (quantum com...   \n",
       "\n",
       "  paragraph_reduced_dimensions_word_embeddings  \n",
       "0     [8.750580787658691, -3.6687560081481934]  \n",
       "1     [8.768294334411621, -3.7024354934692383]  \n",
       "2     [8.799320220947266, -3.7150118350982666]  \n",
       "3     [8.753495216369629, -3.7127583026885986]  \n",
       "4       [8.196556091308594, -6.83024787902832]  "
      ]
     },
     "execution_count": 12,
     "metadata": {},
     "output_type": "execute_result"
    }
   ],
   "source": [
    "wizard_copy = wizard.df.copy()\n",
    "wizard_copy.head()"
   ]
  },
  {
   "attachments": {},
   "cell_type": "markdown",
   "metadata": {},
   "source": [
    "## Downstream Analysis to generate Insights"
   ]
  },
  {
   "attachments": {},
   "cell_type": "markdown",
   "metadata": {},
   "source": [
    "### Prepare Data for Visualization"
   ]
  },
  {
   "cell_type": "code",
   "execution_count": 13,
   "metadata": {},
   "outputs": [],
   "source": [
    "# Topics comes as a list of tuples (topic, score). We want to keep only the first 5 tuples and round the score to 3 decimal places\n",
    "wizard_copy[\"topics\"] = wizard_copy[\"topics\"].apply(lambda x: [tuple((topic, round(score, 3))) for topic, score in x[:5]])\n",
    "wizard_copy['x'] = wizard_copy.iloc[:,-1].apply(lambda x: x[0])\n",
    "wizard_copy['y'] = wizard_copy.iloc[:,-2].apply(lambda x: x[1])\n",
    "# Count cluster size\n",
    "wizard_copy['cluster_size'] = wizard_copy.groupby('paragraph_sentence_embeddings_clusters')['paragraph_sentence_embeddings_clusters'].transform('count')\n",
    "# Aggregate cluster sentiment\n",
    "wizard_copy['cluster_sentiment'] = wizard_copy.groupby('paragraph_sentence_embeddings_clusters')['paragraph_sentiment'].transform('mean')\n",
    "# Keep only medoids\n",
    "wizard_copy = wizard_copy[wizard_copy['paragraph_sentence_embeddings_clusters_medoids'] == True]\n",
    "# Keep only cluster_size, x, y, cluster_sentiment, paragraph_clusters_sentence_embeddings_NER, topics, and paragraph\n",
    "ner_col = [col for col in wizard_copy.columns if col.endswith('NER')][0]\n",
    "wizard_copy = wizard_copy[['cluster_size', 'x', 'y', 'cluster_sentiment', ner_col, 'topics', 'paragraph']]\n",
    "wizard_copy.columns = ['size', 'x', 'y', 'sentiment', 'entities', 'topics', 'paragraph']"
   ]
  },
  {
   "cell_type": "code",
   "execution_count": 14,
   "metadata": {},
   "outputs": [
    {
     "data": {
      "text/html": [
       "<div>\n",
       "<style scoped>\n",
       "    .dataframe tbody tr th:only-of-type {\n",
       "        vertical-align: middle;\n",
       "    }\n",
       "\n",
       "    .dataframe tbody tr th {\n",
       "        vertical-align: top;\n",
       "    }\n",
       "\n",
       "    .dataframe thead th {\n",
       "        text-align: right;\n",
       "    }\n",
       "</style>\n",
       "<table border=\"1\" class=\"dataframe\">\n",
       "  <thead>\n",
       "    <tr style=\"text-align: right;\">\n",
       "      <th></th>\n",
       "      <th>size</th>\n",
       "      <th>x</th>\n",
       "      <th>y</th>\n",
       "      <th>sentiment</th>\n",
       "      <th>entities</th>\n",
       "      <th>topics</th>\n",
       "      <th>paragraph</th>\n",
       "    </tr>\n",
       "  </thead>\n",
       "  <tbody>\n",
       "    <tr>\n",
       "      <th>541</th>\n",
       "      <td>982</td>\n",
       "      <td>8.374166</td>\n",
       "      <td>0.976195</td>\n",
       "      <td>0.961303</td>\n",
       "      <td>['IBM', 'Microsoft', 'Intel', 'Google', 'NVIDIA']</td>\n",
       "      <td>[(technology, 0.009), (research, 0.009), (ibm,...</td>\n",
       "      <td>“Today's quantum computers are novel, scientif...</td>\n",
       "    </tr>\n",
       "    <tr>\n",
       "      <th>758</th>\n",
       "      <td>398</td>\n",
       "      <td>7.410124</td>\n",
       "      <td>4.066543</td>\n",
       "      <td>0.967337</td>\n",
       "      <td>['Photonic Integrated Circuit', 'IBM', 'Jun (T...</td>\n",
       "      <td>[(market, 0.035), (global, 0.023), (global qua...</td>\n",
       "      <td>Global Quantum Computing Market (2023-2030) re...</td>\n",
       "    </tr>\n",
       "    <tr>\n",
       "      <th>1489</th>\n",
       "      <td>1006</td>\n",
       "      <td>8.135829</td>\n",
       "      <td>-2.241421</td>\n",
       "      <td>0.868787</td>\n",
       "      <td>['IBM', 'Google', 'Microsoft', 'Quantum comput...</td>\n",
       "      <td>[(computer, 0.014), (quantum computer, 0.014),...</td>\n",
       "      <td>Quantum computing could revolutionize our worl...</td>\n",
       "    </tr>\n",
       "    <tr>\n",
       "      <th>1608</th>\n",
       "      <td>539</td>\n",
       "      <td>8.118448</td>\n",
       "      <td>-4.555763</td>\n",
       "      <td>0.936920</td>\n",
       "      <td>['Google', 'Non-Abelian anyons have the unique...</td>\n",
       "      <td>[(material, 0.013), (property, 0.01), (particl...</td>\n",
       "      <td>While these particles had never been observed ...</td>\n",
       "    </tr>\n",
       "    <tr>\n",
       "      <th>1618</th>\n",
       "      <td>398</td>\n",
       "      <td>7.448356</td>\n",
       "      <td>4.045999</td>\n",
       "      <td>0.967337</td>\n",
       "      <td>['Photonic Integrated Circuit', 'IBM', 'Jun (T...</td>\n",
       "      <td>[(market, 0.035), (global, 0.023), (global qua...</td>\n",
       "      <td>The recent flows and therefore the growth oppo...</td>\n",
       "    </tr>\n",
       "    <tr>\n",
       "      <th>1750</th>\n",
       "      <td>723</td>\n",
       "      <td>9.684717</td>\n",
       "      <td>4.228974</td>\n",
       "      <td>0.892116</td>\n",
       "      <td>['IBM', 'Moderna', 'Cleveland Clinic', 'Micros...</td>\n",
       "      <td>[(ai, 0.006), (data, 0.006), (research, 0.006)...</td>\n",
       "      <td>Our research spans a multitude of industries i...</td>\n",
       "    </tr>\n",
       "    <tr>\n",
       "      <th>1757</th>\n",
       "      <td>723</td>\n",
       "      <td>9.682897</td>\n",
       "      <td>3.754164</td>\n",
       "      <td>0.892116</td>\n",
       "      <td>['IBM', 'Moderna', 'Cleveland Clinic', 'Micros...</td>\n",
       "      <td>[(ai, 0.006), (data, 0.006), (research, 0.006)...</td>\n",
       "      <td>They are able to make well-calibrated decision...</td>\n",
       "    </tr>\n",
       "    <tr>\n",
       "      <th>1827</th>\n",
       "      <td>1006</td>\n",
       "      <td>8.414718</td>\n",
       "      <td>-1.236494</td>\n",
       "      <td>0.868787</td>\n",
       "      <td>['IBM', 'Google', 'Microsoft', 'Quantum comput...</td>\n",
       "      <td>[(computer, 0.014), (quantum computer, 0.014),...</td>\n",
       "      <td>Ultimately, quantum computers excel at solving...</td>\n",
       "    </tr>\n",
       "    <tr>\n",
       "      <th>2982</th>\n",
       "      <td>982</td>\n",
       "      <td>7.821460</td>\n",
       "      <td>1.102334</td>\n",
       "      <td>0.961303</td>\n",
       "      <td>['IBM', 'Microsoft', 'Intel', 'Google', 'NVIDIA']</td>\n",
       "      <td>[(technology, 0.009), (research, 0.009), (ibm,...</td>\n",
       "      <td>Despite these challenges, there has been signi...</td>\n",
       "    </tr>\n",
       "    <tr>\n",
       "      <th>3012</th>\n",
       "      <td>539</td>\n",
       "      <td>7.685882</td>\n",
       "      <td>-3.451177</td>\n",
       "      <td>0.936920</td>\n",
       "      <td>['Google', 'Non-Abelian anyons have the unique...</td>\n",
       "      <td>[(material, 0.013), (property, 0.01), (particl...</td>\n",
       "      <td>After completing their master’s, they pivoted ...</td>\n",
       "    </tr>\n",
       "  </tbody>\n",
       "</table>\n",
       "</div>"
      ],
      "text/plain": [
       "      size         x         y  sentiment  \\\n",
       "541    982  8.374166  0.976195   0.961303   \n",
       "758    398  7.410124  4.066543   0.967337   \n",
       "1489  1006  8.135829 -2.241421   0.868787   \n",
       "1608   539  8.118448 -4.555763   0.936920   \n",
       "1618   398  7.448356  4.045999   0.967337   \n",
       "1750   723  9.684717  4.228974   0.892116   \n",
       "1757   723  9.682897  3.754164   0.892116   \n",
       "1827  1006  8.414718 -1.236494   0.868787   \n",
       "2982   982  7.821460  1.102334   0.961303   \n",
       "3012   539  7.685882 -3.451177   0.936920   \n",
       "\n",
       "                                               entities  \\\n",
       "541   ['IBM', 'Microsoft', 'Intel', 'Google', 'NVIDIA']   \n",
       "758   ['Photonic Integrated Circuit', 'IBM', 'Jun (T...   \n",
       "1489  ['IBM', 'Google', 'Microsoft', 'Quantum comput...   \n",
       "1608  ['Google', 'Non-Abelian anyons have the unique...   \n",
       "1618  ['Photonic Integrated Circuit', 'IBM', 'Jun (T...   \n",
       "1750  ['IBM', 'Moderna', 'Cleveland Clinic', 'Micros...   \n",
       "1757  ['IBM', 'Moderna', 'Cleveland Clinic', 'Micros...   \n",
       "1827  ['IBM', 'Google', 'Microsoft', 'Quantum comput...   \n",
       "2982  ['IBM', 'Microsoft', 'Intel', 'Google', 'NVIDIA']   \n",
       "3012  ['Google', 'Non-Abelian anyons have the unique...   \n",
       "\n",
       "                                                 topics  \\\n",
       "541   [(technology, 0.009), (research, 0.009), (ibm,...   \n",
       "758   [(market, 0.035), (global, 0.023), (global qua...   \n",
       "1489  [(computer, 0.014), (quantum computer, 0.014),...   \n",
       "1608  [(material, 0.013), (property, 0.01), (particl...   \n",
       "1618  [(market, 0.035), (global, 0.023), (global qua...   \n",
       "1750  [(ai, 0.006), (data, 0.006), (research, 0.006)...   \n",
       "1757  [(ai, 0.006), (data, 0.006), (research, 0.006)...   \n",
       "1827  [(computer, 0.014), (quantum computer, 0.014),...   \n",
       "2982  [(technology, 0.009), (research, 0.009), (ibm,...   \n",
       "3012  [(material, 0.013), (property, 0.01), (particl...   \n",
       "\n",
       "                                              paragraph  \n",
       "541   “Today's quantum computers are novel, scientif...  \n",
       "758   Global Quantum Computing Market (2023-2030) re...  \n",
       "1489  Quantum computing could revolutionize our worl...  \n",
       "1608  While these particles had never been observed ...  \n",
       "1618  The recent flows and therefore the growth oppo...  \n",
       "1750  Our research spans a multitude of industries i...  \n",
       "1757  They are able to make well-calibrated decision...  \n",
       "1827  Ultimately, quantum computers excel at solving...  \n",
       "2982  Despite these challenges, there has been signi...  \n",
       "3012  After completing their master’s, they pivoted ...  "
      ]
     },
     "execution_count": 14,
     "metadata": {},
     "output_type": "execute_result"
    }
   ],
   "source": [
    "wizard_copy"
   ]
  },
  {
   "attachments": {},
   "cell_type": "markdown",
   "metadata": {},
   "source": [
    "### Visualization based on Topic and Sentiment"
   ]
  },
  {
   "cell_type": "code",
   "execution_count": 24,
   "metadata": {},
   "outputs": [
    {
     "data": {
      "application/vnd.plotly.v1+json": {
       "config": {
        "plotlyServerURL": "https://plot.ly"
       },
       "data": [
        {
         "customdata": [
          [
           [
            [
             "technology",
             0.009
            ],
            [
             "research",
             0.009
            ],
            [
             "ibm",
             0.008
            ],
            [
             "company",
             0.007
            ],
            [
             "new",
             0.006
            ]
           ],
           "['IBM', 'Microsoft', 'Intel', 'Google', 'NVIDIA']"
          ],
          [
           [
            [
             "market",
             0.035
            ],
            [
             "global",
             0.023
            ],
            [
             "global quantum",
             0.02
            ],
            [
             "computing market",
             0.02
            ],
            [
             "market size",
             0.018
            ]
           ],
           "['Photonic Integrated Circuit', 'IBM', 'Jun (The Expresswire) -- \"Photonic Integrated Circuit (IC) and Quantum Computing Market\" Insights 2023 By Types (Hybrid, Monolithic, ...', 'Jun 19, 2023 (The Expresswire) -- \"Photonic Integrated Circuit (IC) and Quantum Computing Market\" [2023-2030] Research ReportAnalysis and ...', \"Researcher' newest research report, the â Quantum Computing Chip Industry Forecastâ looks at past sales and reviews total world Quantum Computing Chip sales in 2022, providing a ...\"]"
          ],
          [
           [
            [
             "computer",
             0.014
            ],
            [
             "quantum computer",
             0.014
            ],
            [
             "qubits",
             0.013
            ],
            [
             "classical",
             0.011
            ],
            [
             "error",
             0.011
            ]
           ],
           "['IBM', 'Google', 'Microsoft', 'Quantum computing uses the physical properties of quantum physics to  manipulate subatomic particles to perform computation.', 'Intel']"
          ],
          [
           [
            [
             "material",
             0.013
            ],
            [
             "property",
             0.01
            ],
            [
             "particle",
             0.009
            ],
            [
             "team",
             0.009
            ],
            [
             "electron",
             0.009
            ]
           ],
           "['Google', 'Non-Abelian anyons have the unique feature of retaining a sort of memory,  allowing us to determine when they have been exchanged,...', 'Linear Mechanical', 'Argonne', 'Cornell \\nChronicle']"
          ],
          [
           [
            [
             "market",
             0.035
            ],
            [
             "global",
             0.023
            ],
            [
             "global quantum",
             0.02
            ],
            [
             "computing market",
             0.02
            ],
            [
             "market size",
             0.018
            ]
           ],
           "['Photonic Integrated Circuit', 'IBM', 'Jun (The Expresswire) -- \"Photonic Integrated Circuit (IC) and Quantum Computing Market\" Insights 2023 By Types (Hybrid, Monolithic, ...', 'Jun 19, 2023 (The Expresswire) -- \"Photonic Integrated Circuit (IC) and Quantum Computing Market\" [2023-2030] Research ReportAnalysis and ...', \"Researcher' newest research report, the â Quantum Computing Chip Industry Forecastâ looks at past sales and reviews total world Quantum Computing Chip sales in 2022, providing a ...\"]"
          ],
          [
           [
            [
             "ai",
             0.006
            ],
            [
             "data",
             0.006
            ],
            [
             "research",
             0.006
            ],
            [
             "company",
             0.006
            ],
            [
             "report",
             0.006
            ]
           ],
           "['IBM', 'Moderna', 'Cleveland Clinic', 'Microsoft', 'Council Post: Shifting The Paradigm With Deep Tech']"
          ],
          [
           [
            [
             "ai",
             0.006
            ],
            [
             "data",
             0.006
            ],
            [
             "research",
             0.006
            ],
            [
             "company",
             0.006
            ],
            [
             "report",
             0.006
            ]
           ],
           "['IBM', 'Moderna', 'Cleveland Clinic', 'Microsoft', 'Council Post: Shifting The Paradigm With Deep Tech']"
          ],
          [
           [
            [
             "computer",
             0.014
            ],
            [
             "quantum computer",
             0.014
            ],
            [
             "qubits",
             0.013
            ],
            [
             "classical",
             0.011
            ],
            [
             "error",
             0.011
            ]
           ],
           "['IBM', 'Google', 'Microsoft', 'Quantum computing uses the physical properties of quantum physics to  manipulate subatomic particles to perform computation.', 'Intel']"
          ],
          [
           [
            [
             "technology",
             0.009
            ],
            [
             "research",
             0.009
            ],
            [
             "ibm",
             0.008
            ],
            [
             "company",
             0.007
            ],
            [
             "new",
             0.006
            ]
           ],
           "['IBM', 'Microsoft', 'Intel', 'Google', 'NVIDIA']"
          ],
          [
           [
            [
             "material",
             0.013
            ],
            [
             "property",
             0.01
            ],
            [
             "particle",
             0.009
            ],
            [
             "team",
             0.009
            ],
            [
             "electron",
             0.009
            ]
           ],
           "['Google', 'Non-Abelian anyons have the unique feature of retaining a sort of memory,  allowing us to determine when they have been exchanged,...', 'Linear Mechanical', 'Argonne', 'Cornell \\nChronicle']"
          ]
         ],
         "hovertemplate": "<b>%{hovertext}</b><br><br>x=%{x}<br>y=%{y}<br>size=%{marker.size}<br>topics=%{customdata[0]}<br>entities=%{customdata[1]}<br>sentiment=%{marker.color}<extra></extra>",
         "hovertext": [
          "“Today's quantum computers are novel, scientific tools that can be used to model problems that are extremely difficult, and perhaps impossible, for<br>classical systems, signaling that we are now entering a new phase of utility for quantum computing,” said Darío Gil, Senior Vice President and<br>Director of IBM Research. “We expect this collaboration to continue to have tremendous impact for the area’s growth as a corridor of innovation, from<br>New York City to the Capital Region. We are thrilled to collaborate with RPI as we continue to nurture the global quantum ecosystem of tomorrow.”",
          "Global Quantum Computing Market (2023-2030) report provides the newest industry data and industry future trends, allowing you to identify the products<br>and end users driving revenue, growth, and profitability. The report provides a detailed analysis of the latest market trends, insights, and key<br>factors influencing the market. Global Quantum Computing market specifically highlightsâ the vital current and potential opportunities and<br>challenges in the global Quantum Computing market. Concurrently, the report gives detailed insight into the specific industries and competition from<br>different businesses. Similarly, the further research report additionally includes a Regional Outlook, Opportunity Analysis, Latest Technologies, and<br>Progress insights. Ask for a Sample Report",
          "Quantum computing could revolutionize our world. For specific and crucial tasks, it promises to be exponentially faster than the zero-or-one binary<br>technology that underlies today's machines, from supercomputers in laboratories to smartphones in our pockets. But developing quantum computers hinges<br>on building a stable network of qubits—or quantum bits—to store information, access it and perform computations.",
          "While these particles had never been observed in nature, theorists predicted they could be created in a particular type of semiconductor device and<br>used to build the components for a robust quantum computer.",
          "The recent flows and therefore the growth opportunities within the market in the approaching amount are highlighted. Major players/suppliers worldwide<br>and market share by regions, with company and product introduction, position in the global Quantum Computing market including their market status and<br>development trend by types and applications which will provide its price and profit status, and marketing status & market growth drivers and<br>challenges. This latest report provides worldwide Quantum Computing market predictions for the forthcoming years.",
          "Our research spans a multitude of industries including Energy, Technology, Manufacturing and Construction, Chemicals and Materials, Food and<br>Beverages, etc. Having serviced many Fortune organizations, we bring a rich and reliable experience that covers all kinds of research needs.",
          "They are able to make well-calibrated decisions and leverage highly lucrative opportunities while surmounting the fierce challenges all because we<br>analyze for them the complex business environment, segment-wise existing and emerging possibilities, technology formations, growth estimates, and even<br>the strategic choices available. In short, a complete package. All this is possible because we have a highly qualified, competent, and experienced<br>team of professionals comprising business analysts, economists, consultants, and technology experts. In our list of priorities, you-our patron-come at<br>the top. You can be sure of the best cost-effective, value-added package from us, should you decide to engage with us.",
          "Ultimately, quantum computers excel at solving a certain class of problems. It’s infeasible or unrealistic to use them for many of the tasks that we<br>use computers for today, such as accessing and reading this whitepaper.",
          "Despite these challenges, there has been significant progress in the field of quantum computing in recent years. Companies like IBM, Google, and Intel<br>are investing heavily in quantum computing research, and several startups are working on developing quantum hardware and software. Moreover,<br>governments around the world are recognizing the importance of quantum computing and are providing funding and support for research in this area.",
          "After completing their master’s, they pivoted to a different technology called superconducting quantum computing. Instead of suspended atoms, this<br>technology uses tiny electric circuits that are exceptional at carrying electric current. To control these circuits, researchers only need to send<br>electric signals."
         ],
         "legendgroup": "",
         "marker": {
          "color": [
           0.9613034623217923,
           0.9673366834170855,
           0.8687872763419483,
           0.9369202226345084,
           0.9673366834170855,
           0.8921161825726142,
           0.8921161825726142,
           0.8687872763419483,
           0.9613034623217923,
           0.9369202226345084
          ],
          "coloraxis": "coloraxis",
          "size": [
           982,
           398,
           1006,
           539,
           398,
           723,
           723,
           1006,
           982,
           539
          ],
          "sizemode": "area",
          "sizeref": 2.515,
          "symbol": "circle"
         },
         "mode": "markers",
         "name": "",
         "orientation": "v",
         "showlegend": false,
         "type": "scatter",
         "x": [
          8.374166488647461,
          7.4101243019104,
          8.135828971862793,
          8.118448257446289,
          7.448355674743652,
          9.684717178344727,
          9.682896614074707,
          8.414717674255371,
          7.821460247039795,
          7.685882091522217
         ],
         "xaxis": "x",
         "y": [
          0.9761953949928284,
          4.066543102264404,
          -2.2414205074310303,
          -4.555763244628906,
          4.045998573303223,
          4.228973865509033,
          3.754163980484009,
          -1.236493706703186,
          1.102333664894104,
          -3.4511771202087402
         ],
         "yaxis": "y"
        }
       ],
       "layout": {
        "coloraxis": {
         "colorbar": {
          "title": {
           "text": "sentiment"
          }
         },
         "colorscale": [
          [
           0,
           "#440154"
          ],
          [
           0.1111111111111111,
           "#482878"
          ],
          [
           0.2222222222222222,
           "#3e4989"
          ],
          [
           0.3333333333333333,
           "#31688e"
          ],
          [
           0.4444444444444444,
           "#26828e"
          ],
          [
           0.5555555555555556,
           "#1f9e89"
          ],
          [
           0.6666666666666666,
           "#35b779"
          ],
          [
           0.7777777777777778,
           "#6ece58"
          ],
          [
           0.8888888888888888,
           "#b5de2b"
          ],
          [
           1,
           "#fde725"
          ]
         ]
        },
        "height": 1000,
        "legend": {
         "itemsizing": "constant",
         "tracegroupgap": 0
        },
        "template": {
         "data": {
          "bar": [
           {
            "error_x": {
             "color": "#2a3f5f"
            },
            "error_y": {
             "color": "#2a3f5f"
            },
            "marker": {
             "line": {
              "color": "#E5ECF6",
              "width": 0.5
             },
             "pattern": {
              "fillmode": "overlay",
              "size": 10,
              "solidity": 0.2
             }
            },
            "type": "bar"
           }
          ],
          "barpolar": [
           {
            "marker": {
             "line": {
              "color": "#E5ECF6",
              "width": 0.5
             },
             "pattern": {
              "fillmode": "overlay",
              "size": 10,
              "solidity": 0.2
             }
            },
            "type": "barpolar"
           }
          ],
          "carpet": [
           {
            "aaxis": {
             "endlinecolor": "#2a3f5f",
             "gridcolor": "white",
             "linecolor": "white",
             "minorgridcolor": "white",
             "startlinecolor": "#2a3f5f"
            },
            "baxis": {
             "endlinecolor": "#2a3f5f",
             "gridcolor": "white",
             "linecolor": "white",
             "minorgridcolor": "white",
             "startlinecolor": "#2a3f5f"
            },
            "type": "carpet"
           }
          ],
          "choropleth": [
           {
            "colorbar": {
             "outlinewidth": 0,
             "ticks": ""
            },
            "type": "choropleth"
           }
          ],
          "contour": [
           {
            "colorbar": {
             "outlinewidth": 0,
             "ticks": ""
            },
            "colorscale": [
             [
              0,
              "#0d0887"
             ],
             [
              0.1111111111111111,
              "#46039f"
             ],
             [
              0.2222222222222222,
              "#7201a8"
             ],
             [
              0.3333333333333333,
              "#9c179e"
             ],
             [
              0.4444444444444444,
              "#bd3786"
             ],
             [
              0.5555555555555556,
              "#d8576b"
             ],
             [
              0.6666666666666666,
              "#ed7953"
             ],
             [
              0.7777777777777778,
              "#fb9f3a"
             ],
             [
              0.8888888888888888,
              "#fdca26"
             ],
             [
              1,
              "#f0f921"
             ]
            ],
            "type": "contour"
           }
          ],
          "contourcarpet": [
           {
            "colorbar": {
             "outlinewidth": 0,
             "ticks": ""
            },
            "type": "contourcarpet"
           }
          ],
          "heatmap": [
           {
            "colorbar": {
             "outlinewidth": 0,
             "ticks": ""
            },
            "colorscale": [
             [
              0,
              "#0d0887"
             ],
             [
              0.1111111111111111,
              "#46039f"
             ],
             [
              0.2222222222222222,
              "#7201a8"
             ],
             [
              0.3333333333333333,
              "#9c179e"
             ],
             [
              0.4444444444444444,
              "#bd3786"
             ],
             [
              0.5555555555555556,
              "#d8576b"
             ],
             [
              0.6666666666666666,
              "#ed7953"
             ],
             [
              0.7777777777777778,
              "#fb9f3a"
             ],
             [
              0.8888888888888888,
              "#fdca26"
             ],
             [
              1,
              "#f0f921"
             ]
            ],
            "type": "heatmap"
           }
          ],
          "heatmapgl": [
           {
            "colorbar": {
             "outlinewidth": 0,
             "ticks": ""
            },
            "colorscale": [
             [
              0,
              "#0d0887"
             ],
             [
              0.1111111111111111,
              "#46039f"
             ],
             [
              0.2222222222222222,
              "#7201a8"
             ],
             [
              0.3333333333333333,
              "#9c179e"
             ],
             [
              0.4444444444444444,
              "#bd3786"
             ],
             [
              0.5555555555555556,
              "#d8576b"
             ],
             [
              0.6666666666666666,
              "#ed7953"
             ],
             [
              0.7777777777777778,
              "#fb9f3a"
             ],
             [
              0.8888888888888888,
              "#fdca26"
             ],
             [
              1,
              "#f0f921"
             ]
            ],
            "type": "heatmapgl"
           }
          ],
          "histogram": [
           {
            "marker": {
             "pattern": {
              "fillmode": "overlay",
              "size": 10,
              "solidity": 0.2
             }
            },
            "type": "histogram"
           }
          ],
          "histogram2d": [
           {
            "colorbar": {
             "outlinewidth": 0,
             "ticks": ""
            },
            "colorscale": [
             [
              0,
              "#0d0887"
             ],
             [
              0.1111111111111111,
              "#46039f"
             ],
             [
              0.2222222222222222,
              "#7201a8"
             ],
             [
              0.3333333333333333,
              "#9c179e"
             ],
             [
              0.4444444444444444,
              "#bd3786"
             ],
             [
              0.5555555555555556,
              "#d8576b"
             ],
             [
              0.6666666666666666,
              "#ed7953"
             ],
             [
              0.7777777777777778,
              "#fb9f3a"
             ],
             [
              0.8888888888888888,
              "#fdca26"
             ],
             [
              1,
              "#f0f921"
             ]
            ],
            "type": "histogram2d"
           }
          ],
          "histogram2dcontour": [
           {
            "colorbar": {
             "outlinewidth": 0,
             "ticks": ""
            },
            "colorscale": [
             [
              0,
              "#0d0887"
             ],
             [
              0.1111111111111111,
              "#46039f"
             ],
             [
              0.2222222222222222,
              "#7201a8"
             ],
             [
              0.3333333333333333,
              "#9c179e"
             ],
             [
              0.4444444444444444,
              "#bd3786"
             ],
             [
              0.5555555555555556,
              "#d8576b"
             ],
             [
              0.6666666666666666,
              "#ed7953"
             ],
             [
              0.7777777777777778,
              "#fb9f3a"
             ],
             [
              0.8888888888888888,
              "#fdca26"
             ],
             [
              1,
              "#f0f921"
             ]
            ],
            "type": "histogram2dcontour"
           }
          ],
          "mesh3d": [
           {
            "colorbar": {
             "outlinewidth": 0,
             "ticks": ""
            },
            "type": "mesh3d"
           }
          ],
          "parcoords": [
           {
            "line": {
             "colorbar": {
              "outlinewidth": 0,
              "ticks": ""
             }
            },
            "type": "parcoords"
           }
          ],
          "pie": [
           {
            "automargin": true,
            "type": "pie"
           }
          ],
          "scatter": [
           {
            "fillpattern": {
             "fillmode": "overlay",
             "size": 10,
             "solidity": 0.2
            },
            "type": "scatter"
           }
          ],
          "scatter3d": [
           {
            "line": {
             "colorbar": {
              "outlinewidth": 0,
              "ticks": ""
             }
            },
            "marker": {
             "colorbar": {
              "outlinewidth": 0,
              "ticks": ""
             }
            },
            "type": "scatter3d"
           }
          ],
          "scattercarpet": [
           {
            "marker": {
             "colorbar": {
              "outlinewidth": 0,
              "ticks": ""
             }
            },
            "type": "scattercarpet"
           }
          ],
          "scattergeo": [
           {
            "marker": {
             "colorbar": {
              "outlinewidth": 0,
              "ticks": ""
             }
            },
            "type": "scattergeo"
           }
          ],
          "scattergl": [
           {
            "marker": {
             "colorbar": {
              "outlinewidth": 0,
              "ticks": ""
             }
            },
            "type": "scattergl"
           }
          ],
          "scattermapbox": [
           {
            "marker": {
             "colorbar": {
              "outlinewidth": 0,
              "ticks": ""
             }
            },
            "type": "scattermapbox"
           }
          ],
          "scatterpolar": [
           {
            "marker": {
             "colorbar": {
              "outlinewidth": 0,
              "ticks": ""
             }
            },
            "type": "scatterpolar"
           }
          ],
          "scatterpolargl": [
           {
            "marker": {
             "colorbar": {
              "outlinewidth": 0,
              "ticks": ""
             }
            },
            "type": "scatterpolargl"
           }
          ],
          "scatterternary": [
           {
            "marker": {
             "colorbar": {
              "outlinewidth": 0,
              "ticks": ""
             }
            },
            "type": "scatterternary"
           }
          ],
          "surface": [
           {
            "colorbar": {
             "outlinewidth": 0,
             "ticks": ""
            },
            "colorscale": [
             [
              0,
              "#0d0887"
             ],
             [
              0.1111111111111111,
              "#46039f"
             ],
             [
              0.2222222222222222,
              "#7201a8"
             ],
             [
              0.3333333333333333,
              "#9c179e"
             ],
             [
              0.4444444444444444,
              "#bd3786"
             ],
             [
              0.5555555555555556,
              "#d8576b"
             ],
             [
              0.6666666666666666,
              "#ed7953"
             ],
             [
              0.7777777777777778,
              "#fb9f3a"
             ],
             [
              0.8888888888888888,
              "#fdca26"
             ],
             [
              1,
              "#f0f921"
             ]
            ],
            "type": "surface"
           }
          ],
          "table": [
           {
            "cells": {
             "fill": {
              "color": "#EBF0F8"
             },
             "line": {
              "color": "white"
             }
            },
            "header": {
             "fill": {
              "color": "#C8D4E3"
             },
             "line": {
              "color": "white"
             }
            },
            "type": "table"
           }
          ]
         },
         "layout": {
          "annotationdefaults": {
           "arrowcolor": "#2a3f5f",
           "arrowhead": 0,
           "arrowwidth": 1
          },
          "autotypenumbers": "strict",
          "coloraxis": {
           "colorbar": {
            "outlinewidth": 0,
            "ticks": ""
           }
          },
          "colorscale": {
           "diverging": [
            [
             0,
             "#8e0152"
            ],
            [
             0.1,
             "#c51b7d"
            ],
            [
             0.2,
             "#de77ae"
            ],
            [
             0.3,
             "#f1b6da"
            ],
            [
             0.4,
             "#fde0ef"
            ],
            [
             0.5,
             "#f7f7f7"
            ],
            [
             0.6,
             "#e6f5d0"
            ],
            [
             0.7,
             "#b8e186"
            ],
            [
             0.8,
             "#7fbc41"
            ],
            [
             0.9,
             "#4d9221"
            ],
            [
             1,
             "#276419"
            ]
           ],
           "sequential": [
            [
             0,
             "#0d0887"
            ],
            [
             0.1111111111111111,
             "#46039f"
            ],
            [
             0.2222222222222222,
             "#7201a8"
            ],
            [
             0.3333333333333333,
             "#9c179e"
            ],
            [
             0.4444444444444444,
             "#bd3786"
            ],
            [
             0.5555555555555556,
             "#d8576b"
            ],
            [
             0.6666666666666666,
             "#ed7953"
            ],
            [
             0.7777777777777778,
             "#fb9f3a"
            ],
            [
             0.8888888888888888,
             "#fdca26"
            ],
            [
             1,
             "#f0f921"
            ]
           ],
           "sequentialminus": [
            [
             0,
             "#0d0887"
            ],
            [
             0.1111111111111111,
             "#46039f"
            ],
            [
             0.2222222222222222,
             "#7201a8"
            ],
            [
             0.3333333333333333,
             "#9c179e"
            ],
            [
             0.4444444444444444,
             "#bd3786"
            ],
            [
             0.5555555555555556,
             "#d8576b"
            ],
            [
             0.6666666666666666,
             "#ed7953"
            ],
            [
             0.7777777777777778,
             "#fb9f3a"
            ],
            [
             0.8888888888888888,
             "#fdca26"
            ],
            [
             1,
             "#f0f921"
            ]
           ]
          },
          "colorway": [
           "#636efa",
           "#EF553B",
           "#00cc96",
           "#ab63fa",
           "#FFA15A",
           "#19d3f3",
           "#FF6692",
           "#B6E880",
           "#FF97FF",
           "#FECB52"
          ],
          "font": {
           "color": "#2a3f5f"
          },
          "geo": {
           "bgcolor": "white",
           "lakecolor": "white",
           "landcolor": "#E5ECF6",
           "showlakes": true,
           "showland": true,
           "subunitcolor": "white"
          },
          "hoverlabel": {
           "align": "left"
          },
          "hovermode": "closest",
          "mapbox": {
           "style": "light"
          },
          "paper_bgcolor": "white",
          "plot_bgcolor": "#E5ECF6",
          "polar": {
           "angularaxis": {
            "gridcolor": "white",
            "linecolor": "white",
            "ticks": ""
           },
           "bgcolor": "#E5ECF6",
           "radialaxis": {
            "gridcolor": "white",
            "linecolor": "white",
            "ticks": ""
           }
          },
          "scene": {
           "xaxis": {
            "backgroundcolor": "#E5ECF6",
            "gridcolor": "white",
            "gridwidth": 2,
            "linecolor": "white",
            "showbackground": true,
            "ticks": "",
            "zerolinecolor": "white"
           },
           "yaxis": {
            "backgroundcolor": "#E5ECF6",
            "gridcolor": "white",
            "gridwidth": 2,
            "linecolor": "white",
            "showbackground": true,
            "ticks": "",
            "zerolinecolor": "white"
           },
           "zaxis": {
            "backgroundcolor": "#E5ECF6",
            "gridcolor": "white",
            "gridwidth": 2,
            "linecolor": "white",
            "showbackground": true,
            "ticks": "",
            "zerolinecolor": "white"
           }
          },
          "shapedefaults": {
           "line": {
            "color": "#2a3f5f"
           }
          },
          "ternary": {
           "aaxis": {
            "gridcolor": "white",
            "linecolor": "white",
            "ticks": ""
           },
           "baxis": {
            "gridcolor": "white",
            "linecolor": "white",
            "ticks": ""
           },
           "bgcolor": "#E5ECF6",
           "caxis": {
            "gridcolor": "white",
            "linecolor": "white",
            "ticks": ""
           }
          },
          "title": {
           "x": 0.05
          },
          "xaxis": {
           "automargin": true,
           "gridcolor": "white",
           "linecolor": "white",
           "ticks": "",
           "title": {
            "standoff": 15
           },
           "zerolinecolor": "white",
           "zerolinewidth": 2
          },
          "yaxis": {
           "automargin": true,
           "gridcolor": "white",
           "linecolor": "white",
           "ticks": "",
           "title": {
            "standoff": 15
           },
           "zerolinecolor": "white",
           "zerolinewidth": 2
          }
         }
        },
        "title": {
         "font": {
          "size": 30
         },
         "text": "Quantum Computing Research",
         "x": 0.5
        },
        "width": 1500,
        "xaxis": {
         "anchor": "y",
         "domain": [
          0,
          1
         ],
         "title": {
          "text": "x"
         }
        },
        "yaxis": {
         "anchor": "x",
         "domain": [
          0,
          1
         ],
         "title": {
          "text": "y"
         }
        }
       }
      }
     },
     "metadata": {},
     "output_type": "display_data"
    }
   ],
   "source": [
    "fig = px.scatter(\n",
    "    wizard_copy,\n",
    "    x=\"x\",\n",
    "    y=\"y\",\n",
    "    size=\"size\",\n",
    "    color=\"sentiment\",\n",
    "    hover_name=wizard_copy[\"paragraph\"].str.wrap(150).apply(lambda x: x.replace(\"\\n\", \"<br>\")),\n",
    "    hover_data=[\"topics\", \"entities\"],\n",
    "    color_continuous_scale=px.colors.sequential.Viridis,\n",
    "    title=\"Quantum Computing Research\",\n",
    "    width=1500,\n",
    "    height=1000,\n",
    ")\n",
    "\n",
    "fig.update_layout(title_x=0.5, title_font_size=30)\n",
    "\n",
    "fig.show()"
   ]
  },
  {
   "cell_type": "code",
   "execution_count": 16,
   "metadata": {},
   "outputs": [
    {
     "data": {
      "text/plain": [
       "paragraph_sentiment\n",
       "1.0    3353\n",
       "0.0     295\n",
       "Name: count, dtype: int64"
      ]
     },
     "execution_count": 16,
     "metadata": {},
     "output_type": "execute_result"
    }
   ],
   "source": [
    "wizard.df[\"paragraph_sentiment\"].value_counts()"
   ]
  },
  {
   "attachments": {},
   "cell_type": "markdown",
   "metadata": {},
   "source": [
    "### Summarization"
   ]
  },
  {
   "cell_type": "code",
   "execution_count": 17,
   "metadata": {},
   "outputs": [
    {
     "name": "stdout",
     "output_type": "stream",
     "text": [
      "(\"“Today's quantum computers are novel, scientific tools that can be used to \"\n",
      " 'model problems that are extremely difficult, and perhaps impossible, for '\n",
      " 'classical systems,” said Daro Gil, Senior Vice President and Director of IBM '\n",
      " 'Research.')\n",
      "\n",
      "('The Quantum Computing market research report provides the newest industry '\n",
      " 'data and industry future trends, allowing you to identify the products and '\n",
      " 'end users driving revenue growth and profitability.')\n",
      "\n",
      "('Quantum computing could revolutionize our world.<n>For specific and crucial '\n",
      " 'tasks, it promises to be exponentially faster than the zero-or-one binary '\n",
      " 'technology.<n>But developing quantum computers hinges on building a stable '\n",
      " 'network of qubits.')\n",
      "\n",
      "('Particles have never been observed in nature.<n>They were created in a '\n",
      " 'particular type of semiconductor device.<n>They were used to build the '\n",
      " 'components for a robust quantum computer.')\n",
      "\n",
      "('This latest report provides worldwide Quantum Computing market predictions '\n",
      " 'for the forthcoming forthcoming years.<n>This latest report provides '\n",
      " 'worldwide Quantum Computing market predictions for the forthcoming '\n",
      " 'forthcoming years.')\n",
      "\n",
      "('Our research spans a multitude of industries including Energy, Technology, '\n",
      " 'Manufacturing and Construction, Chemicals and Materials, Food and Beverages, '\n",
      " 'etc.<n>Having serviced many Fortune organizations, we bring a rich and '\n",
      " 'reliable experience that covers all kinds of research needs.')\n",
      "\n",
      "('We analyze for them the complex business environment, segment-wise existing '\n",
      " 'and emerging possibilities, technology formations, growth estimates, and '\n",
      " 'even the strategic choices available.<n>All this is possible because we have '\n",
      " 'a highly qualified, competent, and experienced team of professionals '\n",
      " 'comprising business analysts, economists, consultants, and technology '\n",
      " 'experts.')\n",
      "\n",
      "('Ultimately, quantum computers excel at solving a certain class of '\n",
      " 'problems.<n>It’s infeasible or unrealistic to use them for many of the tasks '\n",
      " 'that we use computers for today.')\n",
      "\n",
      "('Companies like IBM, Google, and Intel are investing heavily in quantum '\n",
      " 'computing research.<n>Several startups are working on developing quantum '\n",
      " 'hardware and software.<n>Governments around the world are recognizing the '\n",
      " 'importance of quantum computing.')\n",
      "\n",
      "('Instead of suspended atoms, superconducting quantum computing uses tiny '\n",
      " 'electric circuits that are exceptional at carrying electric current.<n>To '\n",
      " 'control these circuits, researchers only need to send electric signals.')\n",
      "\n"
     ]
    }
   ],
   "source": [
    "summaries = wizard.df.loc[(~wizard.df[\"paragraph_sentence_embeddings_clusters_medoids_summaries\"].isna()), \"paragraph_sentence_embeddings_clusters_medoids_summaries\"]\n",
    "for summary in summaries:\n",
    "    pprint(summary)\n",
    "    print()"
   ]
  },
  {
   "attachments": {},
   "cell_type": "markdown",
   "metadata": {},
   "source": [
    "### There is always more to explore..."
   ]
  }
 ],
 "metadata": {
  "kernelspec": {
   "display_name": "Python 3",
   "language": "python",
   "name": "python3"
  },
  "language_info": {
   "codemirror_mode": {
    "name": "ipython",
    "version": 3
   },
   "file_extension": ".py",
   "mimetype": "text/x-python",
   "name": "python",
   "nbconvert_exporter": "python",
   "pygments_lexer": "ipython3",
   "version": "3.10.11"
  },
  "orig_nbformat": 4
 },
 "nbformat": 4,
 "nbformat_minor": 2
}
