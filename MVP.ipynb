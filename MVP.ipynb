{
 "cells": [
  {
   "attachments": {},
   "cell_type": "markdown",
   "metadata": {},
   "source": [
    "# A High-Level Code Journey through the RB News NLP Pipeline\n",
    "#### **ESADE MIBA 2023 Capstone Team G03:**\n",
    "- Florian Blaser\n",
    "- John Bergmann\n",
    "- Quique Mendez\n",
    "- Michael Merheb\n",
    "- Jingshi Zhang\n",
    "---"
   ]
  },
  {
   "attachments": {},
   "cell_type": "markdown",
   "metadata": {},
   "source": [
    "## Setup\n",
    "Clone our git repository at https://github.com/CAPSTONE-MIBA-G03/MIBA-2023-CAPSTONE-RB-NLP.git and install the required dependencies in your python environment (we recommend using Python 3.10.11):\n",
    "\n",
    "Using Venv:\n",
    "\n",
    "```bash\n",
    "$ python -m venv venv\n",
    "$ source ./venv/bin/activate\n",
    "$ pip install -r requirements.txt\n",
    "```\n",
    "\n",
    "Using pyenv:\n",
    "\n",
    "```bash\n",
    "$ pyenv virtualenv 3.10.11 RB_NLP\n",
    "$ pyenv activate \n",
    "$ pip install -r requirements.txt\n",
    "```"
   ]
  },
  {
   "cell_type": "code",
   "execution_count": 15,
   "metadata": {},
   "outputs": [],
   "source": [
    "# Internal imports\n",
    "from pipeline_executor import PipelineExecutor\n",
    "from nlp_analysis.word_wizard import WordWizard\n",
    "\n",
    "# External imports\n",
    "import pandas as pd\n",
    "import plotly.express as px\n",
    "from pprint import pprint\n",
    "\n",
    "# Aesthetic settings\n",
    "import warnings\n",
    "warnings.filterwarnings(\"ignore\")"
   ]
  },
  {
   "attachments": {},
   "cell_type": "markdown",
   "metadata": {},
   "source": [
    "## ETL\n",
    "\n",
    "The `pipeline_executor.py` module has been designed as a wrapper to combine the following three ETL steps of the project into one seemless excecution:\n",
    "\n",
    "- `link_extractor.py`: A performant, multi-threaded web-scraping module which uses a selection of Search Engines (Google, Bing, Yahoo) to gather a large variety of news article URL`s that are used downstream to extract a corpus of news data.\n",
    "\n",
    "- `content_extractor.py`: A performant, multi-threaded, and well-generalizing web-scraping module used to extract news text content from a variety of sources. Makes use of two approaches to gather data if the first one fails.\n",
    "\n",
    "- `content_cleaner.py`: A functional module used to preprocess the extracted news text. Takes into account length of extracted text, cleans punctuation, and uses regex patterns to filter out links, e-mails, phone numbers, as well as other phrases which indicate unusable text (ex: \"Are you a robot?\").\n",
    "\n",
    "Using the `execute()` method, the user can specify his search query, if he/she wishes to limit the amount of retrieved news articles, and if he/she wants to overwrite any existing files.\n",
    "\n",
    "Usability and performance oriented design choices:\n",
    "| Feature | Rationale | Description |\n",
    "| --- | --- | --- |\n",
    "| Dynamic thread assignment | Performance | The number of assigned threads depends on the number of tasks, CPU cores, and free memory the machine has access to.\n",
    "| Anti-scraping measure circumvention | Usability / Perfromance | To make the webscraper appear more human, the following has been implemented: timeouts, user-agents (HTTP headers), HTTP sessions (keep connection open between client and server)\n",
    "| Logging | Usability | Logging has been implemented in the ETL process to allow users to monitor code and easily debug (if necessary)\n",
    "| Direct Requests | Performance | As of now, the use of headless browsers has not been deemed necessary due to the noticeable performance impact associated with them. However, it should be noted that tools such as selenium or playwright are easily integratable due to the object-oriented design of the ETL process.\n",
    "| Caching | Performance | If the user already searched for a sepcific query, the locally saved data is used instead of running the entire web-scraper again (this behavior can be overwritten)\n",
    "| Search Query Behavior | Usability | Any news topic can be searched for by the user. This includes Search Engine specific functionality such as boolean operators and quotes to find exact matches"
   ]
  },
  {
   "cell_type": "code",
   "execution_count": 16,
   "metadata": {},
   "outputs": [],
   "source": [
    "topic = \"NVIDIA\"\n",
    "pipe = PipelineExecutor()\n",
    "nvidia = pipe.execute(query=topic, max_articles=100, overwrite=False) # Search for NVIDIA and get max of 100 articles for each Search engine"
   ]
  },
  {
   "cell_type": "code",
   "execution_count": 3,
   "metadata": {},
   "outputs": [
    {
     "data": {
      "text/html": [
       "<div>\n",
       "<style scoped>\n",
       "    .dataframe tbody tr th:only-of-type {\n",
       "        vertical-align: middle;\n",
       "    }\n",
       "\n",
       "    .dataframe tbody tr th {\n",
       "        vertical-align: top;\n",
       "    }\n",
       "\n",
       "    .dataframe thead th {\n",
       "        text-align: right;\n",
       "    }\n",
       "</style>\n",
       "<table border=\"1\" class=\"dataframe\">\n",
       "  <thead>\n",
       "    <tr style=\"text-align: right;\">\n",
       "      <th></th>\n",
       "      <th>article_index</th>\n",
       "      <th>engine</th>\n",
       "      <th>link</th>\n",
       "      <th>source</th>\n",
       "      <th>title</th>\n",
       "      <th>description</th>\n",
       "      <th>body</th>\n",
       "      <th>paragraph</th>\n",
       "    </tr>\n",
       "  </thead>\n",
       "  <tbody>\n",
       "    <tr>\n",
       "      <th>0</th>\n",
       "      <td>0</td>\n",
       "      <td>Yahoo</td>\n",
       "      <td>https://www.fool.com/investing/2023/06/29/1-ma...</td>\n",
       "      <td>Motley Fool</td>\n",
       "      <td>1 Magnificent AI Stock Not Named Nvidia That's...</td>\n",
       "      <td>Artificial intelligence (AI) has given Nvidia ...</td>\n",
       "      <td>Artificial intelligence (AI) has given Nvidia ...</td>\n",
       "      <td>Artificial intelligence (AI) has given Nvidia ...</td>\n",
       "    </tr>\n",
       "    <tr>\n",
       "      <th>1</th>\n",
       "      <td>0</td>\n",
       "      <td>Yahoo</td>\n",
       "      <td>https://www.fool.com/investing/2023/06/29/1-ma...</td>\n",
       "      <td>Motley Fool</td>\n",
       "      <td>1 Magnificent AI Stock Not Named Nvidia That's...</td>\n",
       "      <td>Artificial intelligence (AI) has given Nvidia ...</td>\n",
       "      <td>Artificial intelligence (AI) has given Nvidia ...</td>\n",
       "      <td>Nvidia stock has soared roughly 190% this year...</td>\n",
       "    </tr>\n",
       "    <tr>\n",
       "      <th>2</th>\n",
       "      <td>0</td>\n",
       "      <td>Yahoo</td>\n",
       "      <td>https://www.fool.com/investing/2023/06/29/1-ma...</td>\n",
       "      <td>Motley Fool</td>\n",
       "      <td>1 Magnificent AI Stock Not Named Nvidia That's...</td>\n",
       "      <td>Artificial intelligence (AI) has given Nvidia ...</td>\n",
       "      <td>Artificial intelligence (AI) has given Nvidia ...</td>\n",
       "      <td>That's a big jump from fiscal 2023 (which ende...</td>\n",
       "    </tr>\n",
       "    <tr>\n",
       "      <th>3</th>\n",
       "      <td>0</td>\n",
       "      <td>Yahoo</td>\n",
       "      <td>https://www.fool.com/investing/2023/06/29/1-ma...</td>\n",
       "      <td>Motley Fool</td>\n",
       "      <td>1 Magnificent AI Stock Not Named Nvidia That's...</td>\n",
       "      <td>Artificial intelligence (AI) has given Nvidia ...</td>\n",
       "      <td>Artificial intelligence (AI) has given Nvidia ...</td>\n",
       "      <td>AI is expected to change multiple industries, ...</td>\n",
       "    </tr>\n",
       "    <tr>\n",
       "      <th>4</th>\n",
       "      <td>0</td>\n",
       "      <td>Yahoo</td>\n",
       "      <td>https://www.fool.com/investing/2023/06/29/1-ma...</td>\n",
       "      <td>Motley Fool</td>\n",
       "      <td>1 Magnificent AI Stock Not Named Nvidia That's...</td>\n",
       "      <td>Artificial intelligence (AI) has given Nvidia ...</td>\n",
       "      <td>Artificial intelligence (AI) has given Nvidia ...</td>\n",
       "      <td>The Trade Desk has been gaining market share i...</td>\n",
       "    </tr>\n",
       "    <tr>\n",
       "      <th>...</th>\n",
       "      <td>...</td>\n",
       "      <td>...</td>\n",
       "      <td>...</td>\n",
       "      <td>...</td>\n",
       "      <td>...</td>\n",
       "      <td>...</td>\n",
       "      <td>...</td>\n",
       "      <td>...</td>\n",
       "    </tr>\n",
       "    <tr>\n",
       "      <th>776</th>\n",
       "      <td>134</td>\n",
       "      <td>Bing</td>\n",
       "      <td>https://gamerant.com/best-nvidia-graphics-cards/</td>\n",
       "      <td>Game Rant</td>\n",
       "      <td>Best NVIDIA Graphics Cards in 2023</td>\n",
       "      <td>NVIDIA graphics cards are major investments, b...</td>\n",
       "      <td>When deciding on parts for a new rig, the grap...</td>\n",
       "      <td>A: The RTX 4080 or higher is the ideal GPU for...</td>\n",
       "    </tr>\n",
       "    <tr>\n",
       "      <th>777</th>\n",
       "      <td>134</td>\n",
       "      <td>Bing</td>\n",
       "      <td>https://gamerant.com/best-nvidia-graphics-cards/</td>\n",
       "      <td>Game Rant</td>\n",
       "      <td>Best NVIDIA Graphics Cards in 2023</td>\n",
       "      <td>NVIDIA graphics cards are major investments, b...</td>\n",
       "      <td>When deciding on parts for a new rig, the grap...</td>\n",
       "      <td>A: NVIDIA's RTX graphics cards provide ray tra...</td>\n",
       "    </tr>\n",
       "    <tr>\n",
       "      <th>778</th>\n",
       "      <td>138</td>\n",
       "      <td>Bing</td>\n",
       "      <td>https://www.nasdaq.com/market-activity/stocks/...</td>\n",
       "      <td>Nasdaq</td>\n",
       "      <td>NVIDIA Corporation Common Stock (NVDA) Histori...</td>\n",
       "      <td>Get up to 10 years of daily historical stock p...</td>\n",
       "      <td>Get up to 10 years of daily historical stock p...</td>\n",
       "      <td>Get up to 10 years of daily historical stock p...</td>\n",
       "    </tr>\n",
       "    <tr>\n",
       "      <th>779</th>\n",
       "      <td>140</td>\n",
       "      <td>Bing</td>\n",
       "      <td>https://uk.finance.yahoo.com/quote/NVDA/</td>\n",
       "      <td>Yahoo Finance</td>\n",
       "      <td>NVIDIA Corporation (NVDA) stock price, news, q...</td>\n",
       "      <td>Yahoo Finance spoke to experts, analysts, and ...</td>\n",
       "      <td>The Biden administration continues to push for...</td>\n",
       "      <td>The Biden administration continues to push for...</td>\n",
       "    </tr>\n",
       "    <tr>\n",
       "      <th>780</th>\n",
       "      <td>140</td>\n",
       "      <td>Bing</td>\n",
       "      <td>https://uk.finance.yahoo.com/quote/NVDA/</td>\n",
       "      <td>Yahoo Finance</td>\n",
       "      <td>NVIDIA Corporation (NVDA) stock price, news, q...</td>\n",
       "      <td>Yahoo Finance spoke to experts, analysts, and ...</td>\n",
       "      <td>The Biden administration continues to push for...</td>\n",
       "      <td>Micron shares jumped after the company's third...</td>\n",
       "    </tr>\n",
       "  </tbody>\n",
       "</table>\n",
       "<p>781 rows × 8 columns</p>\n",
       "</div>"
      ],
      "text/plain": [
       "     article_index engine                                               link  \\\n",
       "0                0  Yahoo  https://www.fool.com/investing/2023/06/29/1-ma...   \n",
       "1                0  Yahoo  https://www.fool.com/investing/2023/06/29/1-ma...   \n",
       "2                0  Yahoo  https://www.fool.com/investing/2023/06/29/1-ma...   \n",
       "3                0  Yahoo  https://www.fool.com/investing/2023/06/29/1-ma...   \n",
       "4                0  Yahoo  https://www.fool.com/investing/2023/06/29/1-ma...   \n",
       "..             ...    ...                                                ...   \n",
       "776            134   Bing   https://gamerant.com/best-nvidia-graphics-cards/   \n",
       "777            134   Bing   https://gamerant.com/best-nvidia-graphics-cards/   \n",
       "778            138   Bing  https://www.nasdaq.com/market-activity/stocks/...   \n",
       "779            140   Bing           https://uk.finance.yahoo.com/quote/NVDA/   \n",
       "780            140   Bing           https://uk.finance.yahoo.com/quote/NVDA/   \n",
       "\n",
       "            source                                              title  \\\n",
       "0      Motley Fool  1 Magnificent AI Stock Not Named Nvidia That's...   \n",
       "1      Motley Fool  1 Magnificent AI Stock Not Named Nvidia That's...   \n",
       "2      Motley Fool  1 Magnificent AI Stock Not Named Nvidia That's...   \n",
       "3      Motley Fool  1 Magnificent AI Stock Not Named Nvidia That's...   \n",
       "4      Motley Fool  1 Magnificent AI Stock Not Named Nvidia That's...   \n",
       "..             ...                                                ...   \n",
       "776      Game Rant                 Best NVIDIA Graphics Cards in 2023   \n",
       "777      Game Rant                 Best NVIDIA Graphics Cards in 2023   \n",
       "778         Nasdaq  NVIDIA Corporation Common Stock (NVDA) Histori...   \n",
       "779  Yahoo Finance  NVIDIA Corporation (NVDA) stock price, news, q...   \n",
       "780  Yahoo Finance  NVIDIA Corporation (NVDA) stock price, news, q...   \n",
       "\n",
       "                                           description  \\\n",
       "0    Artificial intelligence (AI) has given Nvidia ...   \n",
       "1    Artificial intelligence (AI) has given Nvidia ...   \n",
       "2    Artificial intelligence (AI) has given Nvidia ...   \n",
       "3    Artificial intelligence (AI) has given Nvidia ...   \n",
       "4    Artificial intelligence (AI) has given Nvidia ...   \n",
       "..                                                 ...   \n",
       "776  NVIDIA graphics cards are major investments, b...   \n",
       "777  NVIDIA graphics cards are major investments, b...   \n",
       "778  Get up to 10 years of daily historical stock p...   \n",
       "779  Yahoo Finance spoke to experts, analysts, and ...   \n",
       "780  Yahoo Finance spoke to experts, analysts, and ...   \n",
       "\n",
       "                                                  body  \\\n",
       "0    Artificial intelligence (AI) has given Nvidia ...   \n",
       "1    Artificial intelligence (AI) has given Nvidia ...   \n",
       "2    Artificial intelligence (AI) has given Nvidia ...   \n",
       "3    Artificial intelligence (AI) has given Nvidia ...   \n",
       "4    Artificial intelligence (AI) has given Nvidia ...   \n",
       "..                                                 ...   \n",
       "776  When deciding on parts for a new rig, the grap...   \n",
       "777  When deciding on parts for a new rig, the grap...   \n",
       "778  Get up to 10 years of daily historical stock p...   \n",
       "779  The Biden administration continues to push for...   \n",
       "780  The Biden administration continues to push for...   \n",
       "\n",
       "                                             paragraph  \n",
       "0    Artificial intelligence (AI) has given Nvidia ...  \n",
       "1    Nvidia stock has soared roughly 190% this year...  \n",
       "2    That's a big jump from fiscal 2023 (which ende...  \n",
       "3    AI is expected to change multiple industries, ...  \n",
       "4    The Trade Desk has been gaining market share i...  \n",
       "..                                                 ...  \n",
       "776  A: The RTX 4080 or higher is the ideal GPU for...  \n",
       "777  A: NVIDIA's RTX graphics cards provide ray tra...  \n",
       "778  Get up to 10 years of daily historical stock p...  \n",
       "779  The Biden administration continues to push for...  \n",
       "780  Micron shares jumped after the company's third...  \n",
       "\n",
       "[781 rows x 8 columns]"
      ]
     },
     "execution_count": 3,
     "metadata": {},
     "output_type": "execute_result"
    }
   ],
   "source": [
    "nvidia"
   ]
  },
  {
   "attachments": {},
   "cell_type": "markdown",
   "metadata": {},
   "source": [
    "## NLP\n",
    "\n",
    "The `word_wizard.py` module is a performant and feature rich NLP module capable of performing various operations on the dataframe that gets returned from the ETL pipeline. When initializing a WordWizard object, the user can specify on which basis he/she wishes to analyze the data (either the entire article, or on paragraphs). For more precise analysis, this is done on single paragraphs by default.\n",
    "\n",
    "Usability and performance oriented design choices:\n",
    "| Feature | Rationale | Description |\n",
    "| --- | --- | --- |\n",
    "| Pretrained Models | Performance / Usability | Especially in tasks that are universally similar, such as language, using preatrained models often rpooves beneficial. With the exception of some unsupervised lerning approaches, the NLP pipe makes use of a variety of pretrained models. This allows us to benefit from performant models, trained on magnitudes of data so large that entire datacenters are needed, while using everyday computer systems.\n",
    "| GPU acceleration | Performance | The NLP pipeline automatically detects and selects the most powerful device possible for Deep Learning Inference. This can also be overriden by the user for each method and defaults to the CPU if no GPU is detected. Currently supports NVIDIA's Compute Unified Device Architecture (CUDA) and Apple's Metal Performance Shaders (MPS) software frameworks.\n",
    "| Lean Models | Performance | With computational complexity in mind, most WordWizard methods have been designed in a way that allows the user to choose between a heavy (and usually more performant) or lean (and potentially less performant) model. As is, lean models are preferred by the WordWizard.\n",
    "\n",
    "General NLP Pipe Roadmap:\n",
    "\n",
    "**1. Create Embeddings:** Either using `create_sentence_embeddings()` or `create_word_embeddings()`. Word embeddings offer more in-depth word analysis and a very fine-grained representation of text. However, they often struggle with Polysemy (words having multiple meanings -> Apple the fruit or the company?) and inherently loose contextual information. Sentence embeddings offer better contextual representations and appear to be more performant but end up loosing specific in-debth word-level information. Ultimately, the choice is context specific and one or the other may offer better results.\n",
    "\n",
    "**2. Create Clusters:**  Clustering is done using the `cluster_embeddings()` method and serves the purpose of identifying and combining common news topics.\n",
    "\n",
    "**3. Any of the following:**\n",
    "\n",
    "- `summarize_medoids()`: Creates a summary of embeddings closest to the center of a cluster.\n",
    "- `find_sentiment()`: Calculates a sentiment score for each piece of news data in the WordWizard.\n",
    "- `entity_recognition()`: Filters out the most common entities in the news data corpus.\n",
    "- `topic_modelling()`: Identifies meta-topics amongst the news corpus.\n",
    "- `reduce_dimensionality()`: Reduces the dimensionality of the embeddings for easier downstream analysis in tasks such as visualization.\n",
    "\n",
    "**4. Perfrom further analysis using the enhanced dataframe from the WordWizard object**"
   ]
  },
  {
   "cell_type": "code",
   "execution_count": 4,
   "metadata": {},
   "outputs": [],
   "source": [
    "wizard = WordWizard(df=nvidia, device=None, interest=\"paragraph\")"
   ]
  },
  {
   "cell_type": "code",
   "execution_count": 5,
   "metadata": {},
   "outputs": [
    {
     "data": {
      "application/vnd.jupyter.widget-view+json": {
       "model_id": "9e0720c46e9649709feddebfa6119cd6",
       "version_major": 2,
       "version_minor": 0
      },
      "text/plain": [
       "Batches:   0%|          | 0/25 [00:00<?, ?it/s]"
      ]
     },
     "metadata": {},
     "output_type": "display_data"
    },
    {
     "data": {
      "application/vnd.jupyter.widget-view+json": {
       "model_id": "d4f61b374fd14709abf6fdcf67190f47",
       "version_major": 2,
       "version_minor": 0
      },
      "text/plain": [
       "Extracting organizations from paragraph:   0%|          | 0/5 [00:00<?, ?it/s]"
      ]
     },
     "metadata": {},
     "output_type": "display_data"
    },
    {
     "data": {
      "application/vnd.jupyter.widget-view+json": {
       "model_id": "e6f30ae682904596b13372430f7a7368",
       "version_major": 2,
       "version_minor": 0
      },
      "text/plain": [
       "Creating summaries for cluster medoids based on paragraph:   0%|          | 0/10 [00:00<?, ?it/s]"
      ]
     },
     "metadata": {},
     "output_type": "display_data"
    },
    {
     "data": {
      "application/vnd.jupyter.widget-view+json": {
       "model_id": "6da9ef20cb30423da777e9c37a5e0834",
       "version_major": 2,
       "version_minor": 0
      },
      "text/plain": [
       "Calculating sentiment using paragraph:   0%|          | 0/752 [00:00<?, ?it/s]"
      ]
     },
     "metadata": {},
     "output_type": "display_data"
    },
    {
     "data": {
      "text/plain": [
       "<nlp_analysis.word_wizard.WordWizard at 0x2bf163100>"
      ]
     },
     "execution_count": 5,
     "metadata": {},
     "output_type": "execute_result"
    }
   ],
   "source": [
    "wizard \\\n",
    ".create_sentence_embeddings() \\\n",
    ".cluster_embeddings() \\\n",
    ".entitiy_recognition() \\\n",
    ".summarize_medoids(lean=True) \\\n",
    ".find_sentiment(lean=False) \\\n",
    ".topic_modelling() \\\n",
    ".reduce_demensionality()"
   ]
  },
  {
   "cell_type": "code",
   "execution_count": 6,
   "metadata": {},
   "outputs": [
    {
     "data": {
      "text/html": [
       "<div>\n",
       "<style scoped>\n",
       "    .dataframe tbody tr th:only-of-type {\n",
       "        vertical-align: middle;\n",
       "    }\n",
       "\n",
       "    .dataframe tbody tr th {\n",
       "        vertical-align: top;\n",
       "    }\n",
       "\n",
       "    .dataframe thead th {\n",
       "        text-align: right;\n",
       "    }\n",
       "</style>\n",
       "<table border=\"1\" class=\"dataframe\">\n",
       "  <thead>\n",
       "    <tr style=\"text-align: right;\">\n",
       "      <th></th>\n",
       "      <th>article_index</th>\n",
       "      <th>engine</th>\n",
       "      <th>link</th>\n",
       "      <th>source</th>\n",
       "      <th>title</th>\n",
       "      <th>description</th>\n",
       "      <th>body</th>\n",
       "      <th>paragraph</th>\n",
       "      <th>sentences</th>\n",
       "      <th>paragraph_sentence_embeddings</th>\n",
       "      <th>paragraph_sentence_embeddings_clusters</th>\n",
       "      <th>paragraph_sentence_embeddings_clusters_medoids</th>\n",
       "      <th>paragraph_clusters_sentence_embeddings_NER</th>\n",
       "      <th>paragraph_sentence_embeddings_clusters_medoids_summaries</th>\n",
       "      <th>paragraph_sentiment</th>\n",
       "      <th>topics</th>\n",
       "      <th>paragraph_reduced_dimensions_word_embeddings</th>\n",
       "    </tr>\n",
       "  </thead>\n",
       "  <tbody>\n",
       "    <tr>\n",
       "      <th>0</th>\n",
       "      <td>0</td>\n",
       "      <td>Yahoo</td>\n",
       "      <td>https://www.fool.com/investing/2023/06/29/1-ma...</td>\n",
       "      <td>Motley Fool</td>\n",
       "      <td>1 Magnificent AI Stock Not Named Nvidia That's...</td>\n",
       "      <td>Artificial intelligence (AI) has given Nvidia ...</td>\n",
       "      <td>Artificial intelligence (AI) has given Nvidia ...</td>\n",
       "      <td>Artificial intelligence (AI) has given Nvidia ...</td>\n",
       "      <td>[Artificial intelligence (AI) has given Nvidia...</td>\n",
       "      <td>[-0.06440110504627228, -0.0012698184000328183,...</td>\n",
       "      <td>1</td>\n",
       "      <td>False</td>\n",
       "      <td>['Nvidia', 'NVIDIA', 'Oracle', 'NVIDIA Stock',...</td>\n",
       "      <td>NaN</td>\n",
       "      <td>1.0</td>\n",
       "      <td>[(stock, 0.012190412910889185), (nvidias, 0.01...</td>\n",
       "      <td>[5.413628101348877, 6.589224338531494]</td>\n",
       "    </tr>\n",
       "    <tr>\n",
       "      <th>1</th>\n",
       "      <td>0</td>\n",
       "      <td>Yahoo</td>\n",
       "      <td>https://www.fool.com/investing/2023/06/29/1-ma...</td>\n",
       "      <td>Motley Fool</td>\n",
       "      <td>1 Magnificent AI Stock Not Named Nvidia That's...</td>\n",
       "      <td>Artificial intelligence (AI) has given Nvidia ...</td>\n",
       "      <td>Artificial intelligence (AI) has given Nvidia ...</td>\n",
       "      <td>Nvidia stock has soared roughly 190% this year...</td>\n",
       "      <td>[Nvidia stock has soared roughly 190% this yea...</td>\n",
       "      <td>[-0.008602514863014221, -0.027400339022278786,...</td>\n",
       "      <td>1</td>\n",
       "      <td>False</td>\n",
       "      <td>['Nvidia', 'NVIDIA', 'Oracle', 'NVIDIA Stock',...</td>\n",
       "      <td>NaN</td>\n",
       "      <td>1.0</td>\n",
       "      <td>[(stock, 0.012190412910889185), (nvidias, 0.01...</td>\n",
       "      <td>[5.067698001861572, 7.503851890563965]</td>\n",
       "    </tr>\n",
       "    <tr>\n",
       "      <th>2</th>\n",
       "      <td>0</td>\n",
       "      <td>Yahoo</td>\n",
       "      <td>https://www.fool.com/investing/2023/06/29/1-ma...</td>\n",
       "      <td>Motley Fool</td>\n",
       "      <td>1 Magnificent AI Stock Not Named Nvidia That's...</td>\n",
       "      <td>Artificial intelligence (AI) has given Nvidia ...</td>\n",
       "      <td>Artificial intelligence (AI) has given Nvidia ...</td>\n",
       "      <td>That's a big jump from fiscal 2023 (which ende...</td>\n",
       "      <td>[That's a big jump from fiscal 2023 (which end...</td>\n",
       "      <td>[-0.05261034518480301, -0.019953805953264236, ...</td>\n",
       "      <td>1</td>\n",
       "      <td>False</td>\n",
       "      <td>['Nvidia', 'NVIDIA', 'Oracle', 'NVIDIA Stock',...</td>\n",
       "      <td>NaN</td>\n",
       "      <td>1.0</td>\n",
       "      <td>[(stock, 0.012190412910889185), (nvidias, 0.01...</td>\n",
       "      <td>[5.3997697830200195, 7.259100914001465]</td>\n",
       "    </tr>\n",
       "    <tr>\n",
       "      <th>3</th>\n",
       "      <td>0</td>\n",
       "      <td>Yahoo</td>\n",
       "      <td>https://www.fool.com/investing/2023/06/29/1-ma...</td>\n",
       "      <td>Motley Fool</td>\n",
       "      <td>1 Magnificent AI Stock Not Named Nvidia That's...</td>\n",
       "      <td>Artificial intelligence (AI) has given Nvidia ...</td>\n",
       "      <td>Artificial intelligence (AI) has given Nvidia ...</td>\n",
       "      <td>AI is expected to change multiple industries, ...</td>\n",
       "      <td>[AI is expected to change multiple industries,...</td>\n",
       "      <td>[-0.035891588777303696, -0.09479648619890213, ...</td>\n",
       "      <td>0</td>\n",
       "      <td>False</td>\n",
       "      <td>['Nvidia', 'White House', 'Tesla', 'Shares in ...</td>\n",
       "      <td>NaN</td>\n",
       "      <td>1.0</td>\n",
       "      <td>[(company, 0.010805287771067464), (u, 0.010719...</td>\n",
       "      <td>[3.8572998046875, 6.352970123291016]</td>\n",
       "    </tr>\n",
       "    <tr>\n",
       "      <th>4</th>\n",
       "      <td>0</td>\n",
       "      <td>Yahoo</td>\n",
       "      <td>https://www.fool.com/investing/2023/06/29/1-ma...</td>\n",
       "      <td>Motley Fool</td>\n",
       "      <td>1 Magnificent AI Stock Not Named Nvidia That's...</td>\n",
       "      <td>Artificial intelligence (AI) has given Nvidia ...</td>\n",
       "      <td>Artificial intelligence (AI) has given Nvidia ...</td>\n",
       "      <td>The Trade Desk has been gaining market share i...</td>\n",
       "      <td>[The Trade Desk has been gaining market share ...</td>\n",
       "      <td>[-0.08386537432670593, -0.06698733568191528, 0...</td>\n",
       "      <td>0</td>\n",
       "      <td>False</td>\n",
       "      <td>['Nvidia', 'White House', 'Tesla', 'Shares in ...</td>\n",
       "      <td>NaN</td>\n",
       "      <td>1.0</td>\n",
       "      <td>[(company, 0.010805287771067464), (u, 0.010719...</td>\n",
       "      <td>[3.8391520977020264, 6.484938144683838]</td>\n",
       "    </tr>\n",
       "  </tbody>\n",
       "</table>\n",
       "</div>"
      ],
      "text/plain": [
       "   article_index engine                                               link  \\\n",
       "0              0  Yahoo  https://www.fool.com/investing/2023/06/29/1-ma...   \n",
       "1              0  Yahoo  https://www.fool.com/investing/2023/06/29/1-ma...   \n",
       "2              0  Yahoo  https://www.fool.com/investing/2023/06/29/1-ma...   \n",
       "3              0  Yahoo  https://www.fool.com/investing/2023/06/29/1-ma...   \n",
       "4              0  Yahoo  https://www.fool.com/investing/2023/06/29/1-ma...   \n",
       "\n",
       "        source                                              title  \\\n",
       "0  Motley Fool  1 Magnificent AI Stock Not Named Nvidia That's...   \n",
       "1  Motley Fool  1 Magnificent AI Stock Not Named Nvidia That's...   \n",
       "2  Motley Fool  1 Magnificent AI Stock Not Named Nvidia That's...   \n",
       "3  Motley Fool  1 Magnificent AI Stock Not Named Nvidia That's...   \n",
       "4  Motley Fool  1 Magnificent AI Stock Not Named Nvidia That's...   \n",
       "\n",
       "                                         description  \\\n",
       "0  Artificial intelligence (AI) has given Nvidia ...   \n",
       "1  Artificial intelligence (AI) has given Nvidia ...   \n",
       "2  Artificial intelligence (AI) has given Nvidia ...   \n",
       "3  Artificial intelligence (AI) has given Nvidia ...   \n",
       "4  Artificial intelligence (AI) has given Nvidia ...   \n",
       "\n",
       "                                                body  \\\n",
       "0  Artificial intelligence (AI) has given Nvidia ...   \n",
       "1  Artificial intelligence (AI) has given Nvidia ...   \n",
       "2  Artificial intelligence (AI) has given Nvidia ...   \n",
       "3  Artificial intelligence (AI) has given Nvidia ...   \n",
       "4  Artificial intelligence (AI) has given Nvidia ...   \n",
       "\n",
       "                                           paragraph  \\\n",
       "0  Artificial intelligence (AI) has given Nvidia ...   \n",
       "1  Nvidia stock has soared roughly 190% this year...   \n",
       "2  That's a big jump from fiscal 2023 (which ende...   \n",
       "3  AI is expected to change multiple industries, ...   \n",
       "4  The Trade Desk has been gaining market share i...   \n",
       "\n",
       "                                           sentences  \\\n",
       "0  [Artificial intelligence (AI) has given Nvidia...   \n",
       "1  [Nvidia stock has soared roughly 190% this yea...   \n",
       "2  [That's a big jump from fiscal 2023 (which end...   \n",
       "3  [AI is expected to change multiple industries,...   \n",
       "4  [The Trade Desk has been gaining market share ...   \n",
       "\n",
       "                       paragraph_sentence_embeddings  \\\n",
       "0  [-0.06440110504627228, -0.0012698184000328183,...   \n",
       "1  [-0.008602514863014221, -0.027400339022278786,...   \n",
       "2  [-0.05261034518480301, -0.019953805953264236, ...   \n",
       "3  [-0.035891588777303696, -0.09479648619890213, ...   \n",
       "4  [-0.08386537432670593, -0.06698733568191528, 0...   \n",
       "\n",
       "   paragraph_sentence_embeddings_clusters  \\\n",
       "0                                       1   \n",
       "1                                       1   \n",
       "2                                       1   \n",
       "3                                       0   \n",
       "4                                       0   \n",
       "\n",
       "   paragraph_sentence_embeddings_clusters_medoids  \\\n",
       "0                                           False   \n",
       "1                                           False   \n",
       "2                                           False   \n",
       "3                                           False   \n",
       "4                                           False   \n",
       "\n",
       "          paragraph_clusters_sentence_embeddings_NER  \\\n",
       "0  ['Nvidia', 'NVIDIA', 'Oracle', 'NVIDIA Stock',...   \n",
       "1  ['Nvidia', 'NVIDIA', 'Oracle', 'NVIDIA Stock',...   \n",
       "2  ['Nvidia', 'NVIDIA', 'Oracle', 'NVIDIA Stock',...   \n",
       "3  ['Nvidia', 'White House', 'Tesla', 'Shares in ...   \n",
       "4  ['Nvidia', 'White House', 'Tesla', 'Shares in ...   \n",
       "\n",
       "  paragraph_sentence_embeddings_clusters_medoids_summaries  \\\n",
       "0                                                NaN         \n",
       "1                                                NaN         \n",
       "2                                                NaN         \n",
       "3                                                NaN         \n",
       "4                                                NaN         \n",
       "\n",
       "   paragraph_sentiment                                             topics  \\\n",
       "0                  1.0  [(stock, 0.012190412910889185), (nvidias, 0.01...   \n",
       "1                  1.0  [(stock, 0.012190412910889185), (nvidias, 0.01...   \n",
       "2                  1.0  [(stock, 0.012190412910889185), (nvidias, 0.01...   \n",
       "3                  1.0  [(company, 0.010805287771067464), (u, 0.010719...   \n",
       "4                  1.0  [(company, 0.010805287771067464), (u, 0.010719...   \n",
       "\n",
       "  paragraph_reduced_dimensions_word_embeddings  \n",
       "0       [5.413628101348877, 6.589224338531494]  \n",
       "1       [5.067698001861572, 7.503851890563965]  \n",
       "2      [5.3997697830200195, 7.259100914001465]  \n",
       "3         [3.8572998046875, 6.352970123291016]  \n",
       "4      [3.8391520977020264, 6.484938144683838]  "
      ]
     },
     "execution_count": 6,
     "metadata": {},
     "output_type": "execute_result"
    }
   ],
   "source": [
    "wizard_copy = wizard.df.copy()\n",
    "wizard_copy.head()"
   ]
  },
  {
   "attachments": {},
   "cell_type": "markdown",
   "metadata": {},
   "source": [
    "## Downstream Analysis to generate Insights"
   ]
  },
  {
   "attachments": {},
   "cell_type": "markdown",
   "metadata": {},
   "source": [
    "### Prepare Data for Visualization"
   ]
  },
  {
   "cell_type": "code",
   "execution_count": 7,
   "metadata": {},
   "outputs": [],
   "source": [
    "# Topics comes as a list of tuples (topic, score). We want to keep only the first 5 tuples and round the score to 3 decimal places\n",
    "wizard_copy[\"topics\"] = wizard_copy[\"topics\"].apply(lambda x: [tuple((topic, round(score, 3))) for topic, score in x[:5]])\n",
    "wizard_copy['x'] = wizard_copy.iloc[:,-1].apply(lambda x: x[0])\n",
    "wizard_copy['y'] = wizard_copy.iloc[:,-2].apply(lambda x: x[1])\n",
    "# Count cluster size\n",
    "wizard_copy['cluster_size'] = wizard_copy.groupby('paragraph_sentence_embeddings_clusters')['paragraph_sentence_embeddings_clusters'].transform('count')\n",
    "# Aggregate cluster sentiment\n",
    "wizard_copy['cluster_sentiment'] = wizard_copy.groupby('paragraph_sentence_embeddings_clusters')['paragraph_sentiment'].transform('mean')\n",
    "# Keep only medoids\n",
    "wizard_copy = wizard_copy[wizard_copy['paragraph_sentence_embeddings_clusters_medoids'] == True]\n",
    "# Keep only cluster_size, x, y, cluster_sentiment, paragraph_clusters_sentence_embeddings_NER, topics, and paragraph\n",
    "ner_col = [col for col in wizard_copy.columns if col.endswith('NER')][0]\n",
    "wizard_copy = wizard_copy[['cluster_size', 'x', 'y', 'cluster_sentiment', ner_col, 'topics', 'paragraph']]\n",
    "wizard_copy.columns = ['size', 'x', 'y', 'sentiment', 'entities', 'topics', 'paragraph']"
   ]
  },
  {
   "cell_type": "code",
   "execution_count": 8,
   "metadata": {},
   "outputs": [
    {
     "data": {
      "text/html": [
       "<div>\n",
       "<style scoped>\n",
       "    .dataframe tbody tr th:only-of-type {\n",
       "        vertical-align: middle;\n",
       "    }\n",
       "\n",
       "    .dataframe tbody tr th {\n",
       "        vertical-align: top;\n",
       "    }\n",
       "\n",
       "    .dataframe thead th {\n",
       "        text-align: right;\n",
       "    }\n",
       "</style>\n",
       "<table border=\"1\" class=\"dataframe\">\n",
       "  <thead>\n",
       "    <tr style=\"text-align: right;\">\n",
       "      <th></th>\n",
       "      <th>size</th>\n",
       "      <th>x</th>\n",
       "      <th>y</th>\n",
       "      <th>sentiment</th>\n",
       "      <th>entities</th>\n",
       "      <th>topics</th>\n",
       "      <th>paragraph</th>\n",
       "    </tr>\n",
       "  </thead>\n",
       "  <tbody>\n",
       "    <tr>\n",
       "      <th>95</th>\n",
       "      <td>190</td>\n",
       "      <td>5.146898</td>\n",
       "      <td>7.120276</td>\n",
       "      <td>0.584211</td>\n",
       "      <td>['Nvidia', 'NVIDIA', 'Oracle', 'NVIDIA Stock',...</td>\n",
       "      <td>[(stock, 0.012), (nvidias, 0.012), (chip, 0.01...</td>\n",
       "      <td>Chip-making giant Nvidia (NVDA) could gain ano...</td>\n",
       "    </tr>\n",
       "    <tr>\n",
       "      <th>187</th>\n",
       "      <td>182</td>\n",
       "      <td>5.782787</td>\n",
       "      <td>5.265811</td>\n",
       "      <td>0.906593</td>\n",
       "      <td>['Nvidia', 'NVIDIA', 'Intel', 'A.I.', 'Google']</td>\n",
       "      <td>[(ai, 0.017), (data, 0.016), (generative, 0.01...</td>\n",
       "      <td>Further, NVIDIA expects significant growth in ...</td>\n",
       "    </tr>\n",
       "    <tr>\n",
       "      <th>211</th>\n",
       "      <td>118</td>\n",
       "      <td>13.942105</td>\n",
       "      <td>4.140626</td>\n",
       "      <td>0.771186</td>\n",
       "      <td>['Nvidia', 'Nvidia GeForce', \"Nvidia's RTX 40-...</td>\n",
       "      <td>[(rtx, 0.021), (card, 0.018), (rx, 0.016), (dl...</td>\n",
       "      <td>The RTX 4060 is a solid choice of affordable G...</td>\n",
       "    </tr>\n",
       "    <tr>\n",
       "      <th>248</th>\n",
       "      <td>182</td>\n",
       "      <td>5.637718</td>\n",
       "      <td>4.763650</td>\n",
       "      <td>0.906593</td>\n",
       "      <td>['Nvidia', 'NVIDIA', 'Intel', 'A.I.', 'Google']</td>\n",
       "      <td>[(ai, 0.017), (data, 0.016), (generative, 0.01...</td>\n",
       "      <td>Nvidia is pushing the envelope further in AI h...</td>\n",
       "    </tr>\n",
       "    <tr>\n",
       "      <th>297</th>\n",
       "      <td>118</td>\n",
       "      <td>14.581972</td>\n",
       "      <td>4.174292</td>\n",
       "      <td>0.771186</td>\n",
       "      <td>['Nvidia', 'Nvidia GeForce', \"Nvidia's RTX 40-...</td>\n",
       "      <td>[(rtx, 0.021), (card, 0.018), (rx, 0.016), (dl...</td>\n",
       "      <td>According to those reviewers, the RTX 4060 del...</td>\n",
       "    </tr>\n",
       "    <tr>\n",
       "      <th>356</th>\n",
       "      <td>128</td>\n",
       "      <td>12.222729</td>\n",
       "      <td>5.123671</td>\n",
       "      <td>0.812500</td>\n",
       "      <td>['Nvidia', 'GeForce', 'Best', 'Best NVIDIA Gra...</td>\n",
       "      <td>[(card, 0.015), (geforce, 0.014), (gpu, 0.013)...</td>\n",
       "      <td>Nvidia’s RTX 40-series has been met with posit...</td>\n",
       "    </tr>\n",
       "    <tr>\n",
       "      <th>514</th>\n",
       "      <td>190</td>\n",
       "      <td>5.175624</td>\n",
       "      <td>7.665786</td>\n",
       "      <td>0.584211</td>\n",
       "      <td>['Nvidia', 'NVIDIA', 'Oracle', 'NVIDIA Stock',...</td>\n",
       "      <td>[(stock, 0.012), (nvidias, 0.012), (chip, 0.01...</td>\n",
       "      <td>Investors have been buying shares of Nvidia (N...</td>\n",
       "    </tr>\n",
       "    <tr>\n",
       "      <th>522</th>\n",
       "      <td>163</td>\n",
       "      <td>4.056471</td>\n",
       "      <td>6.518762</td>\n",
       "      <td>0.625767</td>\n",
       "      <td>['Nvidia', 'White House', 'Tesla', 'Shares in ...</td>\n",
       "      <td>[(company, 0.011), (u, 0.011), (china, 0.01), ...</td>\n",
       "      <td>We have already seen how fast the AI accelerat...</td>\n",
       "    </tr>\n",
       "    <tr>\n",
       "      <th>573</th>\n",
       "      <td>163</td>\n",
       "      <td>4.034787</td>\n",
       "      <td>6.392957</td>\n",
       "      <td>0.625767</td>\n",
       "      <td>['Nvidia', 'White House', 'Tesla', 'Shares in ...</td>\n",
       "      <td>[(company, 0.011), (u, 0.011), (china, 0.01), ...</td>\n",
       "      <td>It should also be remembered that since Septem...</td>\n",
       "    </tr>\n",
       "    <tr>\n",
       "      <th>705</th>\n",
       "      <td>128</td>\n",
       "      <td>12.262499</td>\n",
       "      <td>4.801634</td>\n",
       "      <td>0.812500</td>\n",
       "      <td>['Nvidia', 'GeForce', 'Best', 'Best NVIDIA Gra...</td>\n",
       "      <td>[(card, 0.015), (geforce, 0.014), (gpu, 0.013)...</td>\n",
       "      <td>The Nvidia GeForce RTX 4080 was unveiled on Se...</td>\n",
       "    </tr>\n",
       "  </tbody>\n",
       "</table>\n",
       "</div>"
      ],
      "text/plain": [
       "     size          x         y  sentiment  \\\n",
       "95    190   5.146898  7.120276   0.584211   \n",
       "187   182   5.782787  5.265811   0.906593   \n",
       "211   118  13.942105  4.140626   0.771186   \n",
       "248   182   5.637718  4.763650   0.906593   \n",
       "297   118  14.581972  4.174292   0.771186   \n",
       "356   128  12.222729  5.123671   0.812500   \n",
       "514   190   5.175624  7.665786   0.584211   \n",
       "522   163   4.056471  6.518762   0.625767   \n",
       "573   163   4.034787  6.392957   0.625767   \n",
       "705   128  12.262499  4.801634   0.812500   \n",
       "\n",
       "                                              entities  \\\n",
       "95   ['Nvidia', 'NVIDIA', 'Oracle', 'NVIDIA Stock',...   \n",
       "187    ['Nvidia', 'NVIDIA', 'Intel', 'A.I.', 'Google']   \n",
       "211  ['Nvidia', 'Nvidia GeForce', \"Nvidia's RTX 40-...   \n",
       "248    ['Nvidia', 'NVIDIA', 'Intel', 'A.I.', 'Google']   \n",
       "297  ['Nvidia', 'Nvidia GeForce', \"Nvidia's RTX 40-...   \n",
       "356  ['Nvidia', 'GeForce', 'Best', 'Best NVIDIA Gra...   \n",
       "514  ['Nvidia', 'NVIDIA', 'Oracle', 'NVIDIA Stock',...   \n",
       "522  ['Nvidia', 'White House', 'Tesla', 'Shares in ...   \n",
       "573  ['Nvidia', 'White House', 'Tesla', 'Shares in ...   \n",
       "705  ['Nvidia', 'GeForce', 'Best', 'Best NVIDIA Gra...   \n",
       "\n",
       "                                                topics  \\\n",
       "95   [(stock, 0.012), (nvidias, 0.012), (chip, 0.01...   \n",
       "187  [(ai, 0.017), (data, 0.016), (generative, 0.01...   \n",
       "211  [(rtx, 0.021), (card, 0.018), (rx, 0.016), (dl...   \n",
       "248  [(ai, 0.017), (data, 0.016), (generative, 0.01...   \n",
       "297  [(rtx, 0.021), (card, 0.018), (rx, 0.016), (dl...   \n",
       "356  [(card, 0.015), (geforce, 0.014), (gpu, 0.013)...   \n",
       "514  [(stock, 0.012), (nvidias, 0.012), (chip, 0.01...   \n",
       "522  [(company, 0.011), (u, 0.011), (china, 0.01), ...   \n",
       "573  [(company, 0.011), (u, 0.011), (china, 0.01), ...   \n",
       "705  [(card, 0.015), (geforce, 0.014), (gpu, 0.013)...   \n",
       "\n",
       "                                             paragraph  \n",
       "95   Chip-making giant Nvidia (NVDA) could gain ano...  \n",
       "187  Further, NVIDIA expects significant growth in ...  \n",
       "211  The RTX 4060 is a solid choice of affordable G...  \n",
       "248  Nvidia is pushing the envelope further in AI h...  \n",
       "297  According to those reviewers, the RTX 4060 del...  \n",
       "356  Nvidia’s RTX 40-series has been met with posit...  \n",
       "514  Investors have been buying shares of Nvidia (N...  \n",
       "522  We have already seen how fast the AI accelerat...  \n",
       "573  It should also be remembered that since Septem...  \n",
       "705  The Nvidia GeForce RTX 4080 was unveiled on Se...  "
      ]
     },
     "execution_count": 8,
     "metadata": {},
     "output_type": "execute_result"
    }
   ],
   "source": [
    "wizard_copy"
   ]
  },
  {
   "attachments": {},
   "cell_type": "markdown",
   "metadata": {},
   "source": [
    "### Visualization based on Topic and Sentiment"
   ]
  },
  {
   "cell_type": "code",
   "execution_count": 9,
   "metadata": {},
   "outputs": [
    {
     "data": {
      "application/vnd.plotly.v1+json": {
       "config": {
        "plotlyServerURL": "https://plot.ly"
       },
       "data": [
        {
         "customdata": [
          [
           [
            [
             "stock",
             0.012
            ],
            [
             "nvidias",
             0.012
            ],
            [
             "chip",
             0.011
            ],
            [
             "year",
             0.011
            ],
            [
             "nvidia",
             0.011
            ]
           ],
           "['Nvidia', 'NVIDIA', 'Oracle', 'NVIDIA Stock', 'Microsoft']"
          ],
          [
           [
            [
             "ai",
             0.017
            ],
            [
             "data",
             0.016
            ],
            [
             "generative",
             0.015
            ],
            [
             "generative ai",
             0.015
            ],
            [
             "model",
             0.014
            ]
           ],
           "['Nvidia', 'NVIDIA', 'Intel', 'A.I.', 'Google']"
          ],
          [
           [
            [
             "rtx",
             0.021
            ],
            [
             "card",
             0.018
            ],
            [
             "rx",
             0.016
            ],
            [
             "dl",
             0.014
            ],
            [
             "performance",
             0.012
            ]
           ],
           "['Nvidia', 'Nvidia GeForce', \"Nvidia's RTX 40-series is almost complete. Apart from a probable RTX 4050  and potential RTX 4090 Ti, this GeForce RTX 4060 is shaping up to...\", 'MSI', 'AMD']"
          ],
          [
           [
            [
             "ai",
             0.017
            ],
            [
             "data",
             0.016
            ],
            [
             "generative",
             0.015
            ],
            [
             "generative ai",
             0.015
            ],
            [
             "model",
             0.014
            ]
           ],
           "['Nvidia', 'NVIDIA', 'Intel', 'A.I.', 'Google']"
          ],
          [
           [
            [
             "rtx",
             0.021
            ],
            [
             "card",
             0.018
            ],
            [
             "rx",
             0.016
            ],
            [
             "dl",
             0.014
            ],
            [
             "performance",
             0.012
            ]
           ],
           "['Nvidia', 'Nvidia GeForce', \"Nvidia's RTX 40-series is almost complete. Apart from a probable RTX 4050  and potential RTX 4090 Ti, this GeForce RTX 4060 is shaping up to...\", 'MSI', 'AMD']"
          ],
          [
           [
            [
             "card",
             0.015
            ],
            [
             "geforce",
             0.014
            ],
            [
             "gpu",
             0.013
            ],
            [
             "rtx",
             0.012
            ],
            [
             "gaming",
             0.012
            ]
           ],
           "['Nvidia', 'GeForce', 'Best', 'Best NVIDIA Graphics Cards', 'NVIDIA']"
          ],
          [
           [
            [
             "stock",
             0.012
            ],
            [
             "nvidias",
             0.012
            ],
            [
             "chip",
             0.011
            ],
            [
             "year",
             0.011
            ],
            [
             "nvidia",
             0.011
            ]
           ],
           "['Nvidia', 'NVIDIA', 'Oracle', 'NVIDIA Stock', 'Microsoft']"
          ],
          [
           [
            [
             "company",
             0.011
            ],
            [
             "u",
             0.011
            ],
            [
             "china",
             0.01
            ],
            [
             "chinese",
             0.009
            ],
            [
             "chip",
             0.009
            ]
           ],
           "['Nvidia', 'White House', 'Tesla', 'Shares in the semiconductor giants Nvidia and AMD fell on a report that the  Biden Administration is weighing new restrictions on...', 'A.I.']"
          ],
          [
           [
            [
             "company",
             0.011
            ],
            [
             "u",
             0.011
            ],
            [
             "china",
             0.01
            ],
            [
             "chinese",
             0.009
            ],
            [
             "chip",
             0.009
            ]
           ],
           "['Nvidia', 'White House', 'Tesla', 'Shares in the semiconductor giants Nvidia and AMD fell on a report that the  Biden Administration is weighing new restrictions on...', 'A.I.']"
          ],
          [
           [
            [
             "card",
             0.015
            ],
            [
             "geforce",
             0.014
            ],
            [
             "gpu",
             0.013
            ],
            [
             "rtx",
             0.012
            ],
            [
             "gaming",
             0.012
            ]
           ],
           "['Nvidia', 'GeForce', 'Best', 'Best NVIDIA Graphics Cards', 'NVIDIA']"
          ]
         ],
         "hovertemplate": "<b>%{hovertext}</b><br><br>x=%{x}<br>y=%{y}<br>size=%{marker.size}<br>topics=%{customdata[0]}<br>entities=%{customdata[1]}<br>sentiment=%{marker.color}<extra></extra>",
         "hovertext": [
          "Chip-making giant Nvidia (NVDA) could gain another 15% or more this year as investors continue to back the Artificial Intelligence (AI) revolution,<br>analysts and investors said. Up nearly 200% this year, Nvidia soared last month after providing a ‘jaw-dropping’ second-quarter revenue guidance that<br>was 50% higher than Wall Street expected. This came amid break-neck demand for its AI accelerator chips that power generative AI apps like ChatGPT or<br>the Internet of things (IOT).",
          "Further, NVIDIA expects significant growth in training and inference for generative AI workloads, with accelerated computing being the future of data<br>centers. The company aims to reduce the cost per query and enable widespread adoption across different devices and platforms. NVIDIA focuses on<br>preprocessing and postprocessing in the inference process and aims to provide fundamental capabilities through partnerships with cloud service<br>providers and AI Enterprise solutions.",
          "The RTX 4060 is a solid choice of affordable GPU right now, after months of Nvidia releasing good but overpriced graphics cards. In our RTX 4060<br>review, we praised its sub-$300 pricing and best-in-class 1080p gaming performance - though it's worth noting that if you're already rocking an RTX<br>3060 or better, this probably isn't a worthy upgrade.",
          "Nvidia is pushing the envelope further in AI hardware with its Grace server processors, which could unlock another massive opportunity for the<br>chipmaker. And now Nvidia has trained its sights on the data side of the AI market by partnering with Snowflake. This could be a big opportunity, as<br>AI models are trained using huge amounts of data.",
          "According to those reviewers, the RTX 4060 delivers 10% to 20% better performance on average compared to RTX 3060 12GB depending on a resolution,<br>image quality and title. The GPU offers support for newer DLSS3 technology with Frame Generation, and it packs NVIDIA’s newest NVENC encoder that is<br>capable of AV1 encoding.",
          "Nvidia’s RTX 40-series has been met with positive reviews, but the generational leap outside of DLSS 3 has not been what was expected from the<br>hardware. It also currently houses one of the most powerful GPUs, the 4090.",
          "Investors have been buying shares of Nvidia (NVDA -0.72%) hand over fist in 2023 thanks to its artificial intelligence (AI)-fueled growth. This is not<br>surprising, since the chipmaker's revenue and earnings are getting a serious boost from the booming demand for graphics processing units (GPUs), which<br>are needed for training AI models and for inferencing.",
          "We have already seen how fast the AI accelerator market is expected to grow and the amount of revenue it is expected to generate. Success in this<br>market will be critical for a turnaround in AMD's fortunes, and it looks like Wall Street is expecting the company's move in this space to pay off.",
          "It should also be remembered that since September, in the wake of the AI goldrush, global demand for AI has increased significantly and is “much<br>further from being satiated by supply.” In fact, Moore cites conversations with US customers after the news broke, who said they were “excited to take<br>any product that might get repurposed from China.”",
          "The Nvidia GeForce RTX 4080 was unveiled on September 20 and began shipping on November 2022 from third-party manufacturers like Asus, Gigabyte, PNY<br>and more. It launched with a $1,199 price tag, which is still its current price. For that, you'll get 9,728 CUDA cores and 16GB of onboard memory.<br>Nvidia claims it's more powerful than the 3090 Ti at lower power, and with DLSS 3 can achieve 2x the performance as the GeForce RTX 3080 Ti."
         ],
         "legendgroup": "",
         "marker": {
          "color": [
           0.5842105263157895,
           0.9065934065934066,
           0.7711864406779662,
           0.9065934065934066,
           0.7711864406779662,
           0.8125,
           0.5842105263157895,
           0.6257668711656442,
           0.6257668711656442,
           0.8125
          ],
          "coloraxis": "coloraxis",
          "size": [
           190,
           182,
           118,
           182,
           118,
           128,
           190,
           163,
           163,
           128
          ],
          "sizemode": "area",
          "sizeref": 0.475,
          "symbol": "circle"
         },
         "mode": "markers",
         "name": "",
         "orientation": "v",
         "showlegend": false,
         "type": "scatter",
         "x": [
          5.14689826965332,
          5.782787322998047,
          13.942105293273926,
          5.6377177238464355,
          14.581972122192383,
          12.222728729248047,
          5.175623893737793,
          4.056471347808838,
          4.034787178039551,
          12.26249885559082
         ],
         "xaxis": "x",
         "y": [
          7.120275974273682,
          5.265811443328857,
          4.140625953674316,
          4.763649940490723,
          4.174292087554932,
          5.123671054840088,
          7.665786266326904,
          6.51876163482666,
          6.392956733703613,
          4.801633834838867
         ],
         "yaxis": "y"
        }
       ],
       "layout": {
        "coloraxis": {
         "colorbar": {
          "title": {
           "text": "sentiment"
          }
         },
         "colorscale": [
          [
           0,
           "#440154"
          ],
          [
           0.1111111111111111,
           "#482878"
          ],
          [
           0.2222222222222222,
           "#3e4989"
          ],
          [
           0.3333333333333333,
           "#31688e"
          ],
          [
           0.4444444444444444,
           "#26828e"
          ],
          [
           0.5555555555555556,
           "#1f9e89"
          ],
          [
           0.6666666666666666,
           "#35b779"
          ],
          [
           0.7777777777777778,
           "#6ece58"
          ],
          [
           0.8888888888888888,
           "#b5de2b"
          ],
          [
           1,
           "#fde725"
          ]
         ]
        },
        "height": 1000,
        "legend": {
         "itemsizing": "constant",
         "tracegroupgap": 0
        },
        "template": {
         "data": {
          "bar": [
           {
            "error_x": {
             "color": "#2a3f5f"
            },
            "error_y": {
             "color": "#2a3f5f"
            },
            "marker": {
             "line": {
              "color": "#E5ECF6",
              "width": 0.5
             },
             "pattern": {
              "fillmode": "overlay",
              "size": 10,
              "solidity": 0.2
             }
            },
            "type": "bar"
           }
          ],
          "barpolar": [
           {
            "marker": {
             "line": {
              "color": "#E5ECF6",
              "width": 0.5
             },
             "pattern": {
              "fillmode": "overlay",
              "size": 10,
              "solidity": 0.2
             }
            },
            "type": "barpolar"
           }
          ],
          "carpet": [
           {
            "aaxis": {
             "endlinecolor": "#2a3f5f",
             "gridcolor": "white",
             "linecolor": "white",
             "minorgridcolor": "white",
             "startlinecolor": "#2a3f5f"
            },
            "baxis": {
             "endlinecolor": "#2a3f5f",
             "gridcolor": "white",
             "linecolor": "white",
             "minorgridcolor": "white",
             "startlinecolor": "#2a3f5f"
            },
            "type": "carpet"
           }
          ],
          "choropleth": [
           {
            "colorbar": {
             "outlinewidth": 0,
             "ticks": ""
            },
            "type": "choropleth"
           }
          ],
          "contour": [
           {
            "colorbar": {
             "outlinewidth": 0,
             "ticks": ""
            },
            "colorscale": [
             [
              0,
              "#0d0887"
             ],
             [
              0.1111111111111111,
              "#46039f"
             ],
             [
              0.2222222222222222,
              "#7201a8"
             ],
             [
              0.3333333333333333,
              "#9c179e"
             ],
             [
              0.4444444444444444,
              "#bd3786"
             ],
             [
              0.5555555555555556,
              "#d8576b"
             ],
             [
              0.6666666666666666,
              "#ed7953"
             ],
             [
              0.7777777777777778,
              "#fb9f3a"
             ],
             [
              0.8888888888888888,
              "#fdca26"
             ],
             [
              1,
              "#f0f921"
             ]
            ],
            "type": "contour"
           }
          ],
          "contourcarpet": [
           {
            "colorbar": {
             "outlinewidth": 0,
             "ticks": ""
            },
            "type": "contourcarpet"
           }
          ],
          "heatmap": [
           {
            "colorbar": {
             "outlinewidth": 0,
             "ticks": ""
            },
            "colorscale": [
             [
              0,
              "#0d0887"
             ],
             [
              0.1111111111111111,
              "#46039f"
             ],
             [
              0.2222222222222222,
              "#7201a8"
             ],
             [
              0.3333333333333333,
              "#9c179e"
             ],
             [
              0.4444444444444444,
              "#bd3786"
             ],
             [
              0.5555555555555556,
              "#d8576b"
             ],
             [
              0.6666666666666666,
              "#ed7953"
             ],
             [
              0.7777777777777778,
              "#fb9f3a"
             ],
             [
              0.8888888888888888,
              "#fdca26"
             ],
             [
              1,
              "#f0f921"
             ]
            ],
            "type": "heatmap"
           }
          ],
          "heatmapgl": [
           {
            "colorbar": {
             "outlinewidth": 0,
             "ticks": ""
            },
            "colorscale": [
             [
              0,
              "#0d0887"
             ],
             [
              0.1111111111111111,
              "#46039f"
             ],
             [
              0.2222222222222222,
              "#7201a8"
             ],
             [
              0.3333333333333333,
              "#9c179e"
             ],
             [
              0.4444444444444444,
              "#bd3786"
             ],
             [
              0.5555555555555556,
              "#d8576b"
             ],
             [
              0.6666666666666666,
              "#ed7953"
             ],
             [
              0.7777777777777778,
              "#fb9f3a"
             ],
             [
              0.8888888888888888,
              "#fdca26"
             ],
             [
              1,
              "#f0f921"
             ]
            ],
            "type": "heatmapgl"
           }
          ],
          "histogram": [
           {
            "marker": {
             "pattern": {
              "fillmode": "overlay",
              "size": 10,
              "solidity": 0.2
             }
            },
            "type": "histogram"
           }
          ],
          "histogram2d": [
           {
            "colorbar": {
             "outlinewidth": 0,
             "ticks": ""
            },
            "colorscale": [
             [
              0,
              "#0d0887"
             ],
             [
              0.1111111111111111,
              "#46039f"
             ],
             [
              0.2222222222222222,
              "#7201a8"
             ],
             [
              0.3333333333333333,
              "#9c179e"
             ],
             [
              0.4444444444444444,
              "#bd3786"
             ],
             [
              0.5555555555555556,
              "#d8576b"
             ],
             [
              0.6666666666666666,
              "#ed7953"
             ],
             [
              0.7777777777777778,
              "#fb9f3a"
             ],
             [
              0.8888888888888888,
              "#fdca26"
             ],
             [
              1,
              "#f0f921"
             ]
            ],
            "type": "histogram2d"
           }
          ],
          "histogram2dcontour": [
           {
            "colorbar": {
             "outlinewidth": 0,
             "ticks": ""
            },
            "colorscale": [
             [
              0,
              "#0d0887"
             ],
             [
              0.1111111111111111,
              "#46039f"
             ],
             [
              0.2222222222222222,
              "#7201a8"
             ],
             [
              0.3333333333333333,
              "#9c179e"
             ],
             [
              0.4444444444444444,
              "#bd3786"
             ],
             [
              0.5555555555555556,
              "#d8576b"
             ],
             [
              0.6666666666666666,
              "#ed7953"
             ],
             [
              0.7777777777777778,
              "#fb9f3a"
             ],
             [
              0.8888888888888888,
              "#fdca26"
             ],
             [
              1,
              "#f0f921"
             ]
            ],
            "type": "histogram2dcontour"
           }
          ],
          "mesh3d": [
           {
            "colorbar": {
             "outlinewidth": 0,
             "ticks": ""
            },
            "type": "mesh3d"
           }
          ],
          "parcoords": [
           {
            "line": {
             "colorbar": {
              "outlinewidth": 0,
              "ticks": ""
             }
            },
            "type": "parcoords"
           }
          ],
          "pie": [
           {
            "automargin": true,
            "type": "pie"
           }
          ],
          "scatter": [
           {
            "fillpattern": {
             "fillmode": "overlay",
             "size": 10,
             "solidity": 0.2
            },
            "type": "scatter"
           }
          ],
          "scatter3d": [
           {
            "line": {
             "colorbar": {
              "outlinewidth": 0,
              "ticks": ""
             }
            },
            "marker": {
             "colorbar": {
              "outlinewidth": 0,
              "ticks": ""
             }
            },
            "type": "scatter3d"
           }
          ],
          "scattercarpet": [
           {
            "marker": {
             "colorbar": {
              "outlinewidth": 0,
              "ticks": ""
             }
            },
            "type": "scattercarpet"
           }
          ],
          "scattergeo": [
           {
            "marker": {
             "colorbar": {
              "outlinewidth": 0,
              "ticks": ""
             }
            },
            "type": "scattergeo"
           }
          ],
          "scattergl": [
           {
            "marker": {
             "colorbar": {
              "outlinewidth": 0,
              "ticks": ""
             }
            },
            "type": "scattergl"
           }
          ],
          "scattermapbox": [
           {
            "marker": {
             "colorbar": {
              "outlinewidth": 0,
              "ticks": ""
             }
            },
            "type": "scattermapbox"
           }
          ],
          "scatterpolar": [
           {
            "marker": {
             "colorbar": {
              "outlinewidth": 0,
              "ticks": ""
             }
            },
            "type": "scatterpolar"
           }
          ],
          "scatterpolargl": [
           {
            "marker": {
             "colorbar": {
              "outlinewidth": 0,
              "ticks": ""
             }
            },
            "type": "scatterpolargl"
           }
          ],
          "scatterternary": [
           {
            "marker": {
             "colorbar": {
              "outlinewidth": 0,
              "ticks": ""
             }
            },
            "type": "scatterternary"
           }
          ],
          "surface": [
           {
            "colorbar": {
             "outlinewidth": 0,
             "ticks": ""
            },
            "colorscale": [
             [
              0,
              "#0d0887"
             ],
             [
              0.1111111111111111,
              "#46039f"
             ],
             [
              0.2222222222222222,
              "#7201a8"
             ],
             [
              0.3333333333333333,
              "#9c179e"
             ],
             [
              0.4444444444444444,
              "#bd3786"
             ],
             [
              0.5555555555555556,
              "#d8576b"
             ],
             [
              0.6666666666666666,
              "#ed7953"
             ],
             [
              0.7777777777777778,
              "#fb9f3a"
             ],
             [
              0.8888888888888888,
              "#fdca26"
             ],
             [
              1,
              "#f0f921"
             ]
            ],
            "type": "surface"
           }
          ],
          "table": [
           {
            "cells": {
             "fill": {
              "color": "#EBF0F8"
             },
             "line": {
              "color": "white"
             }
            },
            "header": {
             "fill": {
              "color": "#C8D4E3"
             },
             "line": {
              "color": "white"
             }
            },
            "type": "table"
           }
          ]
         },
         "layout": {
          "annotationdefaults": {
           "arrowcolor": "#2a3f5f",
           "arrowhead": 0,
           "arrowwidth": 1
          },
          "autotypenumbers": "strict",
          "coloraxis": {
           "colorbar": {
            "outlinewidth": 0,
            "ticks": ""
           }
          },
          "colorscale": {
           "diverging": [
            [
             0,
             "#8e0152"
            ],
            [
             0.1,
             "#c51b7d"
            ],
            [
             0.2,
             "#de77ae"
            ],
            [
             0.3,
             "#f1b6da"
            ],
            [
             0.4,
             "#fde0ef"
            ],
            [
             0.5,
             "#f7f7f7"
            ],
            [
             0.6,
             "#e6f5d0"
            ],
            [
             0.7,
             "#b8e186"
            ],
            [
             0.8,
             "#7fbc41"
            ],
            [
             0.9,
             "#4d9221"
            ],
            [
             1,
             "#276419"
            ]
           ],
           "sequential": [
            [
             0,
             "#0d0887"
            ],
            [
             0.1111111111111111,
             "#46039f"
            ],
            [
             0.2222222222222222,
             "#7201a8"
            ],
            [
             0.3333333333333333,
             "#9c179e"
            ],
            [
             0.4444444444444444,
             "#bd3786"
            ],
            [
             0.5555555555555556,
             "#d8576b"
            ],
            [
             0.6666666666666666,
             "#ed7953"
            ],
            [
             0.7777777777777778,
             "#fb9f3a"
            ],
            [
             0.8888888888888888,
             "#fdca26"
            ],
            [
             1,
             "#f0f921"
            ]
           ],
           "sequentialminus": [
            [
             0,
             "#0d0887"
            ],
            [
             0.1111111111111111,
             "#46039f"
            ],
            [
             0.2222222222222222,
             "#7201a8"
            ],
            [
             0.3333333333333333,
             "#9c179e"
            ],
            [
             0.4444444444444444,
             "#bd3786"
            ],
            [
             0.5555555555555556,
             "#d8576b"
            ],
            [
             0.6666666666666666,
             "#ed7953"
            ],
            [
             0.7777777777777778,
             "#fb9f3a"
            ],
            [
             0.8888888888888888,
             "#fdca26"
            ],
            [
             1,
             "#f0f921"
            ]
           ]
          },
          "colorway": [
           "#636efa",
           "#EF553B",
           "#00cc96",
           "#ab63fa",
           "#FFA15A",
           "#19d3f3",
           "#FF6692",
           "#B6E880",
           "#FF97FF",
           "#FECB52"
          ],
          "font": {
           "color": "#2a3f5f"
          },
          "geo": {
           "bgcolor": "white",
           "lakecolor": "white",
           "landcolor": "#E5ECF6",
           "showlakes": true,
           "showland": true,
           "subunitcolor": "white"
          },
          "hoverlabel": {
           "align": "left"
          },
          "hovermode": "closest",
          "mapbox": {
           "style": "light"
          },
          "paper_bgcolor": "white",
          "plot_bgcolor": "#E5ECF6",
          "polar": {
           "angularaxis": {
            "gridcolor": "white",
            "linecolor": "white",
            "ticks": ""
           },
           "bgcolor": "#E5ECF6",
           "radialaxis": {
            "gridcolor": "white",
            "linecolor": "white",
            "ticks": ""
           }
          },
          "scene": {
           "xaxis": {
            "backgroundcolor": "#E5ECF6",
            "gridcolor": "white",
            "gridwidth": 2,
            "linecolor": "white",
            "showbackground": true,
            "ticks": "",
            "zerolinecolor": "white"
           },
           "yaxis": {
            "backgroundcolor": "#E5ECF6",
            "gridcolor": "white",
            "gridwidth": 2,
            "linecolor": "white",
            "showbackground": true,
            "ticks": "",
            "zerolinecolor": "white"
           },
           "zaxis": {
            "backgroundcolor": "#E5ECF6",
            "gridcolor": "white",
            "gridwidth": 2,
            "linecolor": "white",
            "showbackground": true,
            "ticks": "",
            "zerolinecolor": "white"
           }
          },
          "shapedefaults": {
           "line": {
            "color": "#2a3f5f"
           }
          },
          "ternary": {
           "aaxis": {
            "gridcolor": "white",
            "linecolor": "white",
            "ticks": ""
           },
           "baxis": {
            "gridcolor": "white",
            "linecolor": "white",
            "ticks": ""
           },
           "bgcolor": "#E5ECF6",
           "caxis": {
            "gridcolor": "white",
            "linecolor": "white",
            "ticks": ""
           }
          },
          "title": {
           "x": 0.05
          },
          "xaxis": {
           "automargin": true,
           "gridcolor": "white",
           "linecolor": "white",
           "ticks": "",
           "title": {
            "standoff": 15
           },
           "zerolinecolor": "white",
           "zerolinewidth": 2
          },
          "yaxis": {
           "automargin": true,
           "gridcolor": "white",
           "linecolor": "white",
           "ticks": "",
           "title": {
            "standoff": 15
           },
           "zerolinecolor": "white",
           "zerolinewidth": 2
          }
         }
        },
        "title": {
         "font": {
          "size": 30
         },
         "text": "NVIDIA",
         "x": 0.5
        },
        "width": 1500,
        "xaxis": {
         "anchor": "y",
         "domain": [
          0,
          1
         ],
         "title": {
          "text": "x"
         }
        },
        "yaxis": {
         "anchor": "x",
         "domain": [
          0,
          1
         ],
         "title": {
          "text": "y"
         }
        }
       }
      }
     },
     "metadata": {},
     "output_type": "display_data"
    }
   ],
   "source": [
    "fig = px.scatter(\n",
    "    wizard_copy,\n",
    "    x=\"x\",\n",
    "    y=\"y\",\n",
    "    size=\"size\",\n",
    "    color=\"sentiment\",\n",
    "    hover_name=wizard_copy[\"paragraph\"].str.wrap(150).apply(lambda x: x.replace(\"\\n\", \"<br>\")),\n",
    "    hover_data=[\"topics\", \"entities\"],\n",
    "    color_continuous_scale=px.colors.sequential.Viridis,\n",
    "    title=\"NVIDIA\",\n",
    "    width=1500,\n",
    "    height=1000,\n",
    ")\n",
    "\n",
    "fig.update_layout(title_x=0.5, title_font_size=30)\n",
    "\n",
    "fig.show()"
   ]
  },
  {
   "cell_type": "code",
   "execution_count": 10,
   "metadata": {},
   "outputs": [
    {
     "data": {
      "text/plain": [
       "paragraph_sentiment\n",
       "1.0    573\n",
       "0.0    208\n",
       "Name: count, dtype: int64"
      ]
     },
     "execution_count": 10,
     "metadata": {},
     "output_type": "execute_result"
    }
   ],
   "source": [
    "wizard.df[\"paragraph_sentiment\"].value_counts()"
   ]
  },
  {
   "attachments": {},
   "cell_type": "markdown",
   "metadata": {},
   "source": [
    "### Summarization"
   ]
  },
  {
   "cell_type": "code",
   "execution_count": 11,
   "metadata": {},
   "outputs": [
    {
     "name": "stdout",
     "output_type": "stream",
     "text": [
      "('Chip-making giant Nvidia (NVDA) could gain another 15% or more this year as '\n",
      " 'investors continue to back the Artificial Intelligence (AI) revolution. Up '\n",
      " 'nearly 200% this year, Nvidia soared last month after providing a '\n",
      " '‘jaw-dropping’ second-quarter revenue guidance that was 50% higher than Wall '\n",
      " 'Street expected.')\n",
      "\n",
      "(' NVIDIA expects significant growth in training and inference for generative '\n",
      " 'AI workloads. The company aims to reduce the cost per query and enable '\n",
      " 'widespread adoption across different devices and platforms. NVIDIA focuses '\n",
      " 'on preprocessing and postprocessing in the inference process and aims to '\n",
      " 'provide fundamental capabilities.')\n",
      "\n",
      "('The RTX 4060 is a solid choice of affordable GPU right now. In our review, '\n",
      " 'we praised its sub-$300 pricing and best-in-class 1080p gaming performance. '\n",
      " \"If you're already rocking an RTX 3060 or better, this probably isn't a \"\n",
      " 'worthy upgrade.')\n",
      "\n",
      "('Nvidia is pushing the envelope further in AI hardware with its Grace server '\n",
      " 'processors. And now Nvidia has trained its sights on the data side of the AI '\n",
      " 'market by partnering with Snowflake. This could be a big opportunity, as AI '\n",
      " 'models are trained using huge amounts of data.')\n",
      "\n",
      "('According to those reviewers, the RTX 4060 delivers 10% to 20% better '\n",
      " 'performance on average compared to RTX 3060 12GB. The GPU offers support for '\n",
      " 'newer DLSS3 technology with Frame Generation. It packs NVIDIA’s newest NVENC '\n",
      " 'encoder that is capable of AV1 encoding.')\n",
      "\n",
      "('Nvidia’s RTX 40-series has been met with positive reviews, but the '\n",
      " 'generational leap outside of DLSS 3 has not been what was expected from the '\n",
      " 'hardware. It also currently houses one of the most powerful GPUs, the 4090. '\n",
      " 'It is expected to be released in the second half of this year.')\n",
      "\n",
      "('Investors have been buying shares of Nvidia (NVDA -0.72%) hand over fist in '\n",
      " '2023 thanks to its artificial intelligence (AI)-fueled growth. This is not '\n",
      " \"surprising, since the chipmaker's revenue and earnings are getting a serious \"\n",
      " 'boost from the booming demand for graphics processing units (GPUs)')\n",
      "\n",
      "('We have already seen how fast the AI accelerator market is expected to grow. '\n",
      " \"Success in this market will be critical for a turnaround in AMD's fortunes, \"\n",
      " \"and it looks like Wall Street is expecting the company's move in this space \"\n",
      " 'to pay off. It looks like AMD is on the right track.')\n",
      "\n",
      "('It should also be remembered that since September, in the wake of the AI '\n",
      " 'goldrush, global demand for AI has increased significantly. Moore cites '\n",
      " 'conversations with US customers after the news broke, who said they were '\n",
      " '“excited to take any product that might get repurposed from China”')\n",
      "\n",
      "('The Nvidia GeForce RTX 4080 was unveiled on September 20 and began shipping '\n",
      " 'on November 2022. It launched with a $1,199 price tag, which is still its '\n",
      " \"current price. For that, you'll get 9,728 CUDA cores and 16GB of onboard \"\n",
      " 'memory.')\n",
      "\n"
     ]
    }
   ],
   "source": [
    "summaries = wizard.df.loc[(~wizard.df[\"paragraph_sentence_embeddings_clusters_medoids_summaries\"].isna()), \"paragraph_sentence_embeddings_clusters_medoids_summaries\"]\n",
    "for summary in summaries:\n",
    "    pprint(summary)\n",
    "    print()"
   ]
  },
  {
   "attachments": {},
   "cell_type": "markdown",
   "metadata": {},
   "source": [
    "### There is always more to explore..."
   ]
  }
 ],
 "metadata": {
  "kernelspec": {
   "display_name": "Python 3",
   "language": "python",
   "name": "python3"
  },
  "language_info": {
   "codemirror_mode": {
    "name": "ipython",
    "version": 3
   },
   "file_extension": ".py",
   "mimetype": "text/x-python",
   "name": "python",
   "nbconvert_exporter": "python",
   "pygments_lexer": "ipython3",
   "version": "3.10.11"
  },
  "orig_nbformat": 4
 },
 "nbformat": 4,
 "nbformat_minor": 2
}
