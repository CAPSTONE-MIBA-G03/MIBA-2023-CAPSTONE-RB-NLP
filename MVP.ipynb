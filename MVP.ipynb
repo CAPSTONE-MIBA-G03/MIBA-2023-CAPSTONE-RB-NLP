{
 "cells": [
  {
   "cell_type": "code",
   "execution_count": 11,
   "metadata": {},
   "outputs": [],
   "source": [
    "# import\n",
    "import importlib\n",
    "import pandas as pd\n",
    "from pipeline_executor import PipelineExecutor\n",
    "import nlp_analysis.word_wizard as ww\n",
    "\n",
    "# Supress warnings\n",
    "import warnings\n",
    "warnings.filterwarnings('ignore')"
   ]
  },
  {
   "cell_type": "code",
   "execution_count": 12,
   "metadata": {},
   "outputs": [
    {
     "data": {
      "text/plain": [
       "<module 'nlp_analysis.word_wizard' from '/Users/johnbergmann/Developer/MIBA-2023-CAPSTONE-RB-NLP/nlp_analysis/word_wizard.py'>"
      ]
     },
     "execution_count": 12,
     "metadata": {},
     "output_type": "execute_result"
    }
   ],
   "source": [
    "importlib.reload(ww)"
   ]
  },
  {
   "cell_type": "code",
   "execution_count": 13,
   "metadata": {},
   "outputs": [],
   "source": [
    "# get data\n",
    "topic = \"Quantum Computing Research\"\n",
    "pipeline_executor = PipelineExecutor()\n",
    "edge = pipeline_executor.execute(query=topic, max_articles=None, overwrite=False)"
   ]
  },
  {
   "cell_type": "code",
   "execution_count": 14,
   "metadata": {},
   "outputs": [],
   "source": [
    "# Paragraphs - Word - silhouette\n",
    "wizard = ww.WordWizard(edge, interest=\"body\")"
   ]
  },
  {
   "cell_type": "code",
   "execution_count": 15,
   "metadata": {},
   "outputs": [
    {
     "data": {
      "application/vnd.jupyter.widget-view+json": {
       "model_id": "ab20f3d8a1c04e628ccc4b09531e7997",
       "version_major": 2,
       "version_minor": 0
      },
      "text/plain": [
       "Batches:   0%|          | 0/12 [00:00<?, ?it/s]"
      ]
     },
     "metadata": {},
     "output_type": "display_data"
    },
    {
     "data": {
      "application/vnd.jupyter.widget-view+json": {
       "model_id": "023cab3ce8454405af74824314e48df5",
       "version_major": 2,
       "version_minor": 0
      },
      "text/plain": [
       "Extracting organizations from body:   0%|          | 0/5 [00:00<?, ?it/s]"
      ]
     },
     "metadata": {},
     "output_type": "display_data"
    },
    {
     "data": {
      "application/vnd.jupyter.widget-view+json": {
       "model_id": "d08a50dd49284e40830e1d9bdab12d21",
       "version_major": 2,
       "version_minor": 0
      },
      "text/plain": [
       "Creating summaries for cluster medoids based on body:   0%|          | 0/10 [00:00<?, ?it/s]"
      ]
     },
     "metadata": {},
     "output_type": "display_data"
    },
    {
     "data": {
      "application/vnd.jupyter.widget-view+json": {
       "model_id": "92f0c390be4044069a42610e5c5aafea",
       "version_major": 2,
       "version_minor": 0
      },
      "text/plain": [
       "Calculating sentiment using body:   0%|          | 0/371 [00:00<?, ?it/s]"
      ]
     },
     "metadata": {},
     "output_type": "display_data"
    },
    {
     "data": {
      "text/plain": [
       "<nlp_analysis.word_wizard.WordWizard at 0x2b43b2a10>"
      ]
     },
     "execution_count": 15,
     "metadata": {},
     "output_type": "execute_result"
    }
   ],
   "source": [
    "wizard.create_sentence_embeddings() \\\n",
    ".cluster_embeddings() \\\n",
    ".entitiy_recognition() \\\n",
    ".summarize_medoids() \\\n",
    ".find_sentiment(device=\"cpu\") \\\n",
    ".topic_modelling()"
   ]
  },
  {
   "cell_type": "code",
   "execution_count": 16,
   "metadata": {},
   "outputs": [
    {
     "data": {
      "text/plain": [
       "<nlp_analysis.word_wizard.WordWizard at 0x2b43b2a10>"
      ]
     },
     "execution_count": 16,
     "metadata": {},
     "output_type": "execute_result"
    }
   ],
   "source": [
    "wizard.reduce_demensionality()"
   ]
  },
  {
   "cell_type": "code",
   "execution_count": 23,
   "metadata": {},
   "outputs": [
    {
     "data": {
      "text/html": [
       "<div>\n",
       "<style scoped>\n",
       "    .dataframe tbody tr th:only-of-type {\n",
       "        vertical-align: middle;\n",
       "    }\n",
       "\n",
       "    .dataframe tbody tr th {\n",
       "        vertical-align: top;\n",
       "    }\n",
       "\n",
       "    .dataframe thead th {\n",
       "        text-align: right;\n",
       "    }\n",
       "</style>\n",
       "<table border=\"1\" class=\"dataframe\">\n",
       "  <thead>\n",
       "    <tr style=\"text-align: right;\">\n",
       "      <th></th>\n",
       "      <th>engine</th>\n",
       "      <th>link</th>\n",
       "      <th>source</th>\n",
       "      <th>title</th>\n",
       "      <th>description</th>\n",
       "      <th>body</th>\n",
       "      <th>body_sentence_embeddings</th>\n",
       "      <th>body_sentence_embeddings_clusters</th>\n",
       "      <th>body_sentence_embeddings_clusters_medoids</th>\n",
       "      <th>body_clusters_sentence_embeddings_NER</th>\n",
       "      <th>body_sentence_embeddings_clusters_medoids_summaries</th>\n",
       "      <th>body_sentiment</th>\n",
       "      <th>topics</th>\n",
       "      <th>body_reduced_dimensions_word_embeddings</th>\n",
       "    </tr>\n",
       "  </thead>\n",
       "  <tbody>\n",
       "    <tr>\n",
       "      <th>0</th>\n",
       "      <td>Yahoo</td>\n",
       "      <td>https://www.etfdailynews.com/2023/06/21/quantu...</td>\n",
       "      <td>ETF DAILY NEWS</td>\n",
       "      <td>Quantum Computing (OTCMKTS:QUBT) Shares Down 8.8%</td>\n",
       "      <td>Quantum Computing, Inc. (OTCMKTS:QUBT – Get Ra...</td>\n",
       "      <td>Quantum Computing, Inc. (OTCMKTS:QUBT – Get Ra...</td>\n",
       "      <td>[-0.008077695965766907, -0.039184171706438065,...</td>\n",
       "      <td>3</td>\n",
       "      <td>False</td>\n",
       "      <td>['IBM', 'Photonic Integrated Circuit', 'Electr...</td>\n",
       "      <td>NaN</td>\n",
       "      <td>0.0</td>\n",
       "      <td>[(ic, 0.0012261072687060005), (ic quantum, 0.0...</td>\n",
       "      <td>[4.445281505584717, 17.517343521118164]</td>\n",
       "    </tr>\n",
       "    <tr>\n",
       "      <th>1</th>\n",
       "      <td>Yahoo</td>\n",
       "      <td>https://www.digitaljournal.com/pr/news/getnews...</td>\n",
       "      <td>Digital Journal</td>\n",
       "      <td>2023 Quantum Computing in Healthcare Global Ma...</td>\n",
       "      <td>\"IBM (US), Google, Inc. (US), Rigetti &amp; Co, LL...</td>\n",
       "      <td>PRESS RELEASE Published June 22, 2023 GetNews ...</td>\n",
       "      <td>[-0.06863654404878616, -0.04752199351787567, -...</td>\n",
       "      <td>3</td>\n",
       "      <td>False</td>\n",
       "      <td>['IBM', 'Photonic Integrated Circuit', 'Electr...</td>\n",
       "      <td>NaN</td>\n",
       "      <td>2.0</td>\n",
       "      <td>[(ic, 0.0012261072687060005), (ic quantum, 0.0...</td>\n",
       "      <td>[4.433454990386963, 17.301395416259766]</td>\n",
       "    </tr>\n",
       "    <tr>\n",
       "      <th>2</th>\n",
       "      <td>Yahoo</td>\n",
       "      <td>https://www.nbc11news.com/prnewswire/2023/06/2...</td>\n",
       "      <td>KKCO Grand Junction</td>\n",
       "      <td>Infleqtion Wins Funding to Develop and Manufac...</td>\n",
       "      <td>Infleqtion, the world's quantum information co...</td>\n",
       "      <td>OXFORD, England, June 26, 2023 /PRNewswire/ --...</td>\n",
       "      <td>[-0.061800699681043625, -0.061217259615659714,...</td>\n",
       "      <td>4</td>\n",
       "      <td>False</td>\n",
       "      <td>['IBM', 'NVIDIA', 'Cleveland Clinic', 'Microso...</td>\n",
       "      <td>NaN</td>\n",
       "      <td>2.0</td>\n",
       "      <td>[(cleveland, 0.001042235672849059), (clinic, 0...</td>\n",
       "      <td>[3.327619791030884, 15.931803703308105]</td>\n",
       "    </tr>\n",
       "    <tr>\n",
       "      <th>3</th>\n",
       "      <td>Bing</td>\n",
       "      <td>https://www.benzinga.com/pressreleases/23/06/n...</td>\n",
       "      <td>Benzinga.com</td>\n",
       "      <td>Quantum Computing Market size to grow by USD 9...</td>\n",
       "      <td>The quantum computing market size is expected ...</td>\n",
       "      <td>NEW YORK, June 20, 2023 /PRNewswire/ -- The qu...</td>\n",
       "      <td>[0.018597137182950974, -0.053545031696558, -0....</td>\n",
       "      <td>3</td>\n",
       "      <td>False</td>\n",
       "      <td>['IBM', 'Photonic Integrated Circuit', 'Electr...</td>\n",
       "      <td>NaN</td>\n",
       "      <td>2.0</td>\n",
       "      <td>[(ic, 0.0012261072687060005), (ic quantum, 0.0...</td>\n",
       "      <td>[5.001786231994629, 17.530866622924805]</td>\n",
       "    </tr>\n",
       "    <tr>\n",
       "      <th>4</th>\n",
       "      <td>Yahoo</td>\n",
       "      <td>https://finance.yahoo.com/news/quantum-compute...</td>\n",
       "      <td>The Independent via Yahoo Finance</td>\n",
       "      <td>Quantum computers to overtake regular computer...</td>\n",
       "      <td>Quantum computers have the potential to be ord...</td>\n",
       "      <td>A qubit test chip (blue) on a Microsoft quantu...</td>\n",
       "      <td>[-0.08655066043138504, -0.0048426971770823, -0...</td>\n",
       "      <td>1</td>\n",
       "      <td>True</td>\n",
       "      <td>['IBM', 'Intel', 'Microsoft', 'Google', 'NVIDIA']</td>\n",
       "      <td>Quantum computers have the potential to be ord...</td>\n",
       "      <td>2.0</td>\n",
       "      <td>[(tunnel fall, 0.0011373903645516944), (tunnel...</td>\n",
       "      <td>[0.9095239639282227, 16.933956146240234]</td>\n",
       "    </tr>\n",
       "  </tbody>\n",
       "</table>\n",
       "</div>"
      ],
      "text/plain": [
       "  engine                                               link  \\\n",
       "0  Yahoo  https://www.etfdailynews.com/2023/06/21/quantu...   \n",
       "1  Yahoo  https://www.digitaljournal.com/pr/news/getnews...   \n",
       "2  Yahoo  https://www.nbc11news.com/prnewswire/2023/06/2...   \n",
       "3   Bing  https://www.benzinga.com/pressreleases/23/06/n...   \n",
       "4  Yahoo  https://finance.yahoo.com/news/quantum-compute...   \n",
       "\n",
       "                              source  \\\n",
       "0                     ETF DAILY NEWS   \n",
       "1                    Digital Journal   \n",
       "2                KKCO Grand Junction   \n",
       "3                       Benzinga.com   \n",
       "4  The Independent via Yahoo Finance   \n",
       "\n",
       "                                               title  \\\n",
       "0  Quantum Computing (OTCMKTS:QUBT) Shares Down 8.8%   \n",
       "1  2023 Quantum Computing in Healthcare Global Ma...   \n",
       "2  Infleqtion Wins Funding to Develop and Manufac...   \n",
       "3  Quantum Computing Market size to grow by USD 9...   \n",
       "4  Quantum computers to overtake regular computer...   \n",
       "\n",
       "                                         description  \\\n",
       "0  Quantum Computing, Inc. (OTCMKTS:QUBT – Get Ra...   \n",
       "1  \"IBM (US), Google, Inc. (US), Rigetti & Co, LL...   \n",
       "2  Infleqtion, the world's quantum information co...   \n",
       "3  The quantum computing market size is expected ...   \n",
       "4  Quantum computers have the potential to be ord...   \n",
       "\n",
       "                                                body  \\\n",
       "0  Quantum Computing, Inc. (OTCMKTS:QUBT – Get Ra...   \n",
       "1  PRESS RELEASE Published June 22, 2023 GetNews ...   \n",
       "2  OXFORD, England, June 26, 2023 /PRNewswire/ --...   \n",
       "3  NEW YORK, June 20, 2023 /PRNewswire/ -- The qu...   \n",
       "4  A qubit test chip (blue) on a Microsoft quantu...   \n",
       "\n",
       "                            body_sentence_embeddings  \\\n",
       "0  [-0.008077695965766907, -0.039184171706438065,...   \n",
       "1  [-0.06863654404878616, -0.04752199351787567, -...   \n",
       "2  [-0.061800699681043625, -0.061217259615659714,...   \n",
       "3  [0.018597137182950974, -0.053545031696558, -0....   \n",
       "4  [-0.08655066043138504, -0.0048426971770823, -0...   \n",
       "\n",
       "   body_sentence_embeddings_clusters  \\\n",
       "0                                  3   \n",
       "1                                  3   \n",
       "2                                  4   \n",
       "3                                  3   \n",
       "4                                  1   \n",
       "\n",
       "   body_sentence_embeddings_clusters_medoids  \\\n",
       "0                                      False   \n",
       "1                                      False   \n",
       "2                                      False   \n",
       "3                                      False   \n",
       "4                                       True   \n",
       "\n",
       "               body_clusters_sentence_embeddings_NER  \\\n",
       "0  ['IBM', 'Photonic Integrated Circuit', 'Electr...   \n",
       "1  ['IBM', 'Photonic Integrated Circuit', 'Electr...   \n",
       "2  ['IBM', 'NVIDIA', 'Cleveland Clinic', 'Microso...   \n",
       "3  ['IBM', 'Photonic Integrated Circuit', 'Electr...   \n",
       "4  ['IBM', 'Intel', 'Microsoft', 'Google', 'NVIDIA']   \n",
       "\n",
       "  body_sentence_embeddings_clusters_medoids_summaries  body_sentiment  \\\n",
       "0                                                NaN              0.0   \n",
       "1                                                NaN              2.0   \n",
       "2                                                NaN              2.0   \n",
       "3                                                NaN              2.0   \n",
       "4  Quantum computers have the potential to be ord...              2.0   \n",
       "\n",
       "                                              topics  \\\n",
       "0  [(ic, 0.0012261072687060005), (ic quantum, 0.0...   \n",
       "1  [(ic, 0.0012261072687060005), (ic quantum, 0.0...   \n",
       "2  [(cleveland, 0.001042235672849059), (clinic, 0...   \n",
       "3  [(ic, 0.0012261072687060005), (ic quantum, 0.0...   \n",
       "4  [(tunnel fall, 0.0011373903645516944), (tunnel...   \n",
       "\n",
       "    body_reduced_dimensions_word_embeddings  \n",
       "0   [4.445281505584717, 17.517343521118164]  \n",
       "1   [4.433454990386963, 17.301395416259766]  \n",
       "2   [3.327619791030884, 15.931803703308105]  \n",
       "3   [5.001786231994629, 17.530866622924805]  \n",
       "4  [0.9095239639282227, 16.933956146240234]  "
      ]
     },
     "execution_count": 23,
     "metadata": {},
     "output_type": "execute_result"
    }
   ],
   "source": [
    "wizard.df.head()"
   ]
  },
  {
   "cell_type": "code",
   "execution_count": null,
   "metadata": {},
   "outputs": [],
   "source": [
    "# get unique values from wizard.df[['topics']]\n",
    "wizard.df[['topics']].unique()"
   ]
  },
  {
   "cell_type": "code",
   "execution_count": null,
   "metadata": {},
   "outputs": [],
   "source": [
    "wizard.df['x'] = wizard.df.iloc[:,-1].apply(lambda x: x[0])\n",
    "wizard.df['y'] = wizard.df.iloc[:,-2].apply(lambda x: x[1])\n",
    "\n",
    "# count cluster size\n",
    "wizard.df['cluster_size'] = wizard.df.groupby('paragraph_sentence_embeddings_clusters')['paragraph_sentence_embeddings_clusters'].transform('count')\n",
    "\n",
    "# aggregate cluster sentiment\n",
    "wizard.df['cluster_sentiment'] = wizard.df.groupby('paragraph_sentence_embeddings_clusters')['paragraph_sentiment'].transform('mean')\n",
    "\n",
    "# keep only medoids\n",
    "wizard.df = wizard.df[wizard.df['paragraph_sentence_embeddings_clusters_medoids'] == True]\n",
    "\n",
    "# keep only cluster_size, x, y, cluster_sentiment, paragraph_clusters_sentence_embeddings_NER, topics\n",
    "ner_col = [col for col in wizard.df.columns if col.endswith('NER')][0]\n",
    "wizard.df = wizard.df[['cluster_size', 'x', 'y', 'cluster_sentiment', ner_col, 'topics']]\n",
    "\n",
    "# rename columns\n",
    "wizard.df.columns = ['size', 'x', 'y', 'sentiment', 'entities', 'topics']"
   ]
  },
  {
   "cell_type": "code",
   "execution_count": null,
   "metadata": {},
   "outputs": [],
   "source": [
    "wizard.df.columns = ['size', 'x', 'y', 'sentiment', 'entities', 'topics']\n",
    "wizard.df.to_csv('data/RB.csv', index=False)"
   ]
  },
  {
   "cell_type": "code",
   "execution_count": null,
   "metadata": {},
   "outputs": [],
   "source": [
    "# Paragraphs - Sentence - silhouette\n",
    "wizard2 = ww.WordWizard(df=quantum, interest = 'paragraph')\n",
    "wizard2.create_word_embeddings() \\\n",
    "    .cluster_embeddings() \\\n",
    "    .entitiy_recognition() \\\n",
    "    .summarize_medoids() \\\n",
    "    .find_sentiment(lean=False, device=\"cpu\") \\\n",
    "    .topic_modelling()"
   ]
  },
  {
   "cell_type": "code",
   "execution_count": null,
   "metadata": {},
   "outputs": [],
   "source": [
    "# Article - Word - silhouette\n",
    "wizard3 = ww.WordWizard(df=quantum, interest = 'body')\n",
    "wizard3.create_word_embeddings() \\\n",
    "    .cluster_embeddings() \\\n",
    "    .entitiy_recognition() \\\n",
    "    .summarize_medoids() \\\n",
    "    .find_sentiment(lean=False, device=\"cpu\") \\\n",
    "    .topic_modelling()"
   ]
  },
  {
   "cell_type": "code",
   "execution_count": null,
   "metadata": {},
   "outputs": [],
   "source": [
    "# Article - Sentence - silhouette\n",
    "wizard4 = ww.WordWizard(df=quantum, interest = 'body')\n",
    "wizard4.create_sentence_embeddings() \\\n",
    "    .cluster_embeddings() \\\n",
    "    .entitiy_recognition() \\\n",
    "    .summarize_medoids() \\\n",
    "    .find_sentiment(lean=False, device=\"cpu\") \\\n",
    "    .topic_modelling()"
   ]
  },
  {
   "cell_type": "code",
   "execution_count": null,
   "metadata": {},
   "outputs": [],
   "source": [
    "wizard.df.to_csv(\"data/para_word_sil.csv\", index=False)\n",
    "wizard2.df.to_csv(\"data/para_sent_sil.csv\", index=False)\n",
    "wizard3.df.to_csv(\"data/art_word_sil.csv\", index=False)\n",
    "wizard4.df.to_csv(\"data/art_sent_sil.csv\", index=False)"
   ]
  },
  {
   "attachments": {},
   "cell_type": "markdown",
   "metadata": {},
   "source": [
    "# Gaining Insights about Quantum Computing from News NLP"
   ]
  },
  {
   "cell_type": "code",
   "execution_count": null,
   "metadata": {},
   "outputs": [],
   "source": [
    "para_word_sil = pd.read_csv(\"data/para_word_sil.csv\")\n",
    "para_sent_sil = pd.read_csv(\"data/para_sent_sil.csv\")\n",
    "art_word_sil = pd.read_csv(\"data/art_word_sil.csv\")\n",
    "art_sent_sil = pd.read_csv(\"data/art_sent_sil.csv\")"
   ]
  },
  {
   "cell_type": "code",
   "execution_count": null,
   "metadata": {},
   "outputs": [],
   "source": [
    "import ast\n",
    "def summarize(df, interest):\n",
    "    wizard = ww.WordWizard(df=df, interest = interest)\n",
    "\n",
    "    if 'paragraph_sentence_embeddings' in wizard.df.columns:\n",
    "        embed = 'paragraph_sentence_embeddings'\n",
    "    elif 'paragraph_word_embeddings' in wizard.df.columns:\n",
    "        embed = 'paragraph_word_embeddings'\n",
    "    elif 'body_sentence_embeddings' in wizard.df.columns:\n",
    "        embed = 'body_sentence_embeddings'\n",
    "    elif 'body_word_embeddings' in wizard.df.columns:\n",
    "        embed = 'body_word_embeddings'\n",
    "\n",
    "    # str to list\n",
    "    try:\n",
    "        wizard.df[embed] = wizard.df[embed].apply(ast.literal_eval)\n",
    "        \n",
    "        # reduce demensionality\n",
    "        wizard.reduce_demensionality()\n",
    "\n",
    "        # put x and y in different columns\n",
    "        wizard.df['x'] = art_sent_sil.iloc[:,-1].apply(lambda x: x[0])\n",
    "        wizard.df['y'] = art_sent_sil.iloc[:,-1].apply(lambda x: x[1])\n",
    "        \n",
    "        # count cluster size\n",
    "        wizard.df['cluster_size'] = wizard.df.groupby(embed + '_clusters')[embed + '_clusters'].transform('count')\n",
    "        \n",
    "        # aggregate cluster sentiment\n",
    "        wizard.df['cluster_sentiment'] = wizard.df.groupby(embed + '_clusters')['paragraph_sentiment'].transform('mean')\n",
    "        \n",
    "        # keep only medoids\n",
    "        wizard.df = wizard.df[wizard.df[embed + '_clusters' + '_medoids'] == True]\n",
    "        \n",
    "        # keep only cluster_size, x, y, cluster_sentiment, paragraph_clusters_sentence_embeddings_NER, topics\n",
    "        ner_col = [col for col in wizard.df.columns if col.endswith('NER')][0]\n",
    "        wizard.df = wizard.df[['cluster_size', 'x', 'y', 'cluster_sentiment', ner_col, 'topics']]\n",
    "        \n",
    "        # rename columns\n",
    "        wizard.df.columns = ['size', 'x', 'y', 'sentiment', 'entities', 'topics']\n",
    "\n",
    "    except:\n",
    "        # count cluster size\n",
    "        wizard.df['cluster_size'] = wizard.df.groupby(embed + '_clusters')[embed + '_clusters'].transform('count')\n",
    "        \n",
    "        # aggregate cluster sentiment\n",
    "        wizard.df['cluster_sentiment'] = wizard.df.groupby(embed + '_clusters')['paragraph_sentiment'].transform('mean')\n",
    "        \n",
    "        # keep only medoids\n",
    "        wizard.df = wizard.df[wizard.df[embed + '_clusters' + '_medoids'] == True]\n",
    "        \n",
    "        # keep only cluster_size, cluster_sentiment, paragraph_clusters_sentence_embeddings_NER, topics\n",
    "        ner_col = [col for col in wizard.df.columns if col.endswith('NER')][0]\n",
    "        wizard.df = wizard.df[['cluster_size', 'cluster_sentiment', ner_col, 'topics']]\n",
    "        \n",
    "        # rename columns\n",
    "        wizard.df.columns = ['size', 'sentiment', 'entities', 'topics']\n",
    "\n",
    "    \n",
    "    return wizard.df"
   ]
  },
  {
   "cell_type": "code",
   "execution_count": null,
   "metadata": {},
   "outputs": [],
   "source": [
    "for df in para_word_sil, para_sent_sil:\n",
    "    df = summarize(df, interest = 'paragraph')\n",
    "\n",
    "for df in art_word_sil, art_sent_sil:\n",
    "    df = summarize(df, interest = 'body')"
   ]
  }
 ],
 "metadata": {
  "kernelspec": {
   "display_name": "Python 3",
   "language": "python",
   "name": "python3"
  },
  "language_info": {
   "codemirror_mode": {
    "name": "ipython",
    "version": 3
   },
   "file_extension": ".py",
   "mimetype": "text/x-python",
   "name": "python",
   "nbconvert_exporter": "python",
   "pygments_lexer": "ipython3",
   "version": "3.10.11"
  },
  "orig_nbformat": 4
 },
 "nbformat": 4,
 "nbformat_minor": 2
}
