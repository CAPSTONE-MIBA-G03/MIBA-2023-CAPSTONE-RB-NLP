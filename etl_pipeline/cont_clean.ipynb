{
 "cells": [
  {
   "cell_type": "code",
   "execution_count": 50,
   "metadata": {},
   "outputs": [],
   "source": [
    "import pandas as pd\n",
    "import os\n",
    "import numpy as np\n",
    "\n",
    "csv_files = [f for f in os.listdir('../data/raw') if f.endswith('.csv')]"
   ]
  },
  {
   "cell_type": "code",
   "execution_count": 51,
   "metadata": {},
   "outputs": [],
   "source": [
    "df_dirty = pd.read_csv(f'../data/raw/{csv_files[0]}')"
   ]
  },
  {
   "cell_type": "code",
   "execution_count": 52,
   "metadata": {},
   "outputs": [],
   "source": [
    "cols_to_clean = ['se_title', 'se_description', 'n3k_title', 'n3k_body', 'bs_title', 'bs_body']"
   ]
  },
  {
   "cell_type": "code",
   "execution_count": 53,
   "metadata": {},
   "outputs": [
    {
     "data": {
      "text/plain": [
       "Series([], Name: n3k_body, dtype: object)"
      ]
     },
     "execution_count": 53,
     "metadata": {},
     "output_type": "execute_result"
    }
   ],
   "source": [
    "df_dirty[df_dirty['n3k_body'].str.len() < 50]['n3k_body']"
   ]
  },
  {
   "cell_type": "code",
   "execution_count": 55,
   "metadata": {},
   "outputs": [
    {
     "data": {
      "text/plain": [
       "7      Subscribe to read\n",
       "13     Subscribe to read\n",
       "19     Subscribe to read\n",
       "32      Are you a robot?\n",
       "42      Are you a robot?\n",
       "65      Register to read\n",
       "77     Subscribe to read\n",
       "101    Subscribe to read\n",
       "108     Are you a robot?\n",
       "120     Are you a robot?\n",
       "261     Are you a robot?\n",
       "263     Are you a robot?\n",
       "279     Are you a robot?\n",
       "284    Subscribe to read\n",
       "288     Are you a robot?\n",
       "290     Are you a robot?\n",
       "298     Are you a robot?\n",
       "303     Are you a robot?\n",
       "305     Are you a robot?\n",
       "321     Are you a robot?\n",
       "324    Subscribe to read\n",
       "361    Subscribe to read\n",
       "394    Subscribe to read\n",
       "395     Are you a robot?\n",
       "404     Are you a robot?\n",
       "434     Are you a robot?\n",
       "448     Are you a robot?\n",
       "475     Are you a robot?\n",
       "478     Are you a robot?\n",
       "479     Are you a robot?\n",
       "490     Are you a robot?\n",
       "493     Are you a robot?\n",
       "Name: n3k_title, dtype: object"
      ]
     },
     "execution_count": 55,
     "metadata": {},
     "output_type": "execute_result"
    }
   ],
   "source": [
    "# Replace bodies with NA\n",
    "df_dirty[((df_dirty['n3k_body'].str.contains('cookies', na=False))\n",
    "         | (df_dirty['n3k_body'].str.contains('JavaScript', na=False)))\n",
    "         & (df_dirty['n3k_body'].str.len() < 400)]['n3k_body']\n",
    "\n",
    "# Replace titles with NA\n",
    "df_dirty.loc[(df_dirty['n3k_title'].str.contains('robot', na=False))\n",
    "         |(df_dirty['n3k_title'].str.contains('Subscribe', na=False))\n",
    "         |(df_dirty['n3k_title'].str.contains('Register', na=False))\n",
    "         &(df_dirty['n3k_title'].str.len() < 20), 'n3k_title']"
   ]
  },
  {
   "cell_type": "code",
   "execution_count": 15,
   "metadata": {},
   "outputs": [
    {
     "ename": "AttributeError",
     "evalue": "'DataFrame' object has no attribute 'str'",
     "output_type": "error",
     "traceback": [
      "\u001b[0;31m---------------------------------------------------------------------------\u001b[0m",
      "\u001b[0;31mAttributeError\u001b[0m                            Traceback (most recent call last)",
      "Cell \u001b[0;32mIn[15], line 1\u001b[0m\n\u001b[0;32m----> 1\u001b[0m df_dirty[cols_to_clean]\u001b[39m.\u001b[39;49mstr\u001b[39m.\u001b[39mreplace(\u001b[39m'\u001b[39m\u001b[39mUBS\u001b[39m\u001b[39m'\u001b[39m, \u001b[39m'\u001b[39m\u001b[39mHIIIIIIII\u001b[39m\u001b[39m'\u001b[39m)\n",
      "File \u001b[0;32m/Library/Frameworks/Python.framework/Versions/3.11/lib/python3.11/site-packages/pandas/core/generic.py:5902\u001b[0m, in \u001b[0;36mNDFrame.__getattr__\u001b[0;34m(self, name)\u001b[0m\n\u001b[1;32m   5895\u001b[0m \u001b[39mif\u001b[39;00m (\n\u001b[1;32m   5896\u001b[0m     name \u001b[39mnot\u001b[39;00m \u001b[39min\u001b[39;00m \u001b[39mself\u001b[39m\u001b[39m.\u001b[39m_internal_names_set\n\u001b[1;32m   5897\u001b[0m     \u001b[39mand\u001b[39;00m name \u001b[39mnot\u001b[39;00m \u001b[39min\u001b[39;00m \u001b[39mself\u001b[39m\u001b[39m.\u001b[39m_metadata\n\u001b[1;32m   5898\u001b[0m     \u001b[39mand\u001b[39;00m name \u001b[39mnot\u001b[39;00m \u001b[39min\u001b[39;00m \u001b[39mself\u001b[39m\u001b[39m.\u001b[39m_accessors\n\u001b[1;32m   5899\u001b[0m     \u001b[39mand\u001b[39;00m \u001b[39mself\u001b[39m\u001b[39m.\u001b[39m_info_axis\u001b[39m.\u001b[39m_can_hold_identifiers_and_holds_name(name)\n\u001b[1;32m   5900\u001b[0m ):\n\u001b[1;32m   5901\u001b[0m     \u001b[39mreturn\u001b[39;00m \u001b[39mself\u001b[39m[name]\n\u001b[0;32m-> 5902\u001b[0m \u001b[39mreturn\u001b[39;00m \u001b[39mobject\u001b[39;49m\u001b[39m.\u001b[39;49m\u001b[39m__getattribute__\u001b[39;49m(\u001b[39mself\u001b[39;49m, name)\n",
      "\u001b[0;31mAttributeError\u001b[0m: 'DataFrame' object has no attribute 'str'"
     ]
    }
   ],
   "source": [
    "\n",
    "df_dirty[cols_to_clean].apply(lambda x: x.replace('UBS', 'HIIIIIIII'))"
   ]
  },
  {
   "cell_type": "code",
   "execution_count": null,
   "metadata": {},
   "outputs": [],
   "source": [
    "# Eventually create loop that cleans all data in raw or recognizes files that are not cleaned yet\n",
    "for csv_file in csv_files:\n",
    "    pd.read_csv(f'../data/raw/{csv_file}')"
   ]
  }
 ],
 "metadata": {
  "kernelspec": {
   "display_name": "Python 3",
   "language": "python",
   "name": "python3"
  },
  "language_info": {
   "codemirror_mode": {
    "name": "ipython",
    "version": 3
   },
   "file_extension": ".py",
   "mimetype": "text/x-python",
   "name": "python",
   "nbconvert_exporter": "python",
   "pygments_lexer": "ipython3",
   "version": "3.11.3"
  },
  "orig_nbformat": 4
 },
 "nbformat": 4,
 "nbformat_minor": 2
}
