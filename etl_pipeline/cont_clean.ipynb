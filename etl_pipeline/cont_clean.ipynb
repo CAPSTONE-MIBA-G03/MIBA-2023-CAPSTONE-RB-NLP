{
 "cells": [
  {
   "cell_type": "code",
   "execution_count": 138,
   "metadata": {},
   "outputs": [],
   "source": [
    "import pandas as pd\n",
    "import os\n",
    "import numpy as np\n",
    "\n",
    "csv_files = [f for f in os.listdir('../data/raw') if f.endswith('.csv')]"
   ]
  },
  {
   "cell_type": "code",
   "execution_count": 139,
   "metadata": {},
   "outputs": [],
   "source": [
    "df_dirty = pd.read_csv(f'../data/raw/{csv_files[1]}')"
   ]
  },
  {
   "cell_type": "code",
   "execution_count": 122,
   "metadata": {},
   "outputs": [],
   "source": [
    "'''# displaying all three links (se_link, n3k_link, bs_link) if they are not identical\n",
    "df_dirty.loc[(df_dirty['se_link'] != df_dirty['n3k_link']) | (df_dirty['se_link'] != df_dirty['bs_link'])]'''"
   ]
  },
  {
   "cell_type": "code",
   "execution_count": 140,
   "metadata": {},
   "outputs": [],
   "source": []
  },
  {
   "cell_type": "code",
   "execution_count": 141,
   "metadata": {},
   "outputs": [
    {
     "name": "stderr",
     "output_type": "stream",
     "text": [
      "/var/folders/h4/tbxkzqv53pd3f16_r3jbmshw0000gn/T/ipykernel_5381/3117847292.py:4: FutureWarning: The default value of regex will change from True to False in a future version.\n",
      "  df_dirty[col] = df_dirty[col].str.replace('\\n', ' ').str.replace('\\t', ' ').str.replace(' +', ' ').str.strip()\n"
     ]
    }
   ],
   "source": [
    "# Removing all '\\n' and '\\t' from n3k_title, n3k_body, bs_title, bs_body as well as leading and trailing whitespaces and more than\n",
    "# one whitespace in between words and replacing them with np.nan if they are empty strings\n",
    "for col in ['n3k_title', 'n3k_body', 'bs_title', 'bs_body']:\n",
    "    df_dirty[col] = df_dirty[col].str.replace('\\n', ' ').str.replace('\\t', ' ').str.replace(' +', ' ').str.strip()\n",
    "    df_dirty.loc[df_dirty[col] == '', col] = np.nan    \n",
    "\n",
    "# replacing n3k_titles with NA if they contain certain words and are less than 20 characters\n",
    "for word in ['robot', 'subscribe', 'register']:\n",
    "    df_dirty.loc[(df_dirty['n3k_title'].str.lower().str.contains(word))\n",
    "                 & (df_dirty['n3k_title'].str.len() < 20), 'n3k_title'] = np.nan\n",
    "    \n",
    "# doing the same with n3k_body\n",
    "for word in ['cookies', 'javascript', 'register', 'explorer', 'benzinga', 'djreprints']:\n",
    "    df_dirty.loc[(df_dirty['n3k_body'].str.lower().str.contains(word))\n",
    "                 & (df_dirty['n3k_body'].str.len() < 400), 'n3k_body'] = np.nan\n",
    "\n",
    "# Doing the same for bs_title and bs_body\n",
    "for word in ['yahoo finance', 'bloomberg', 'yahoo news', 'navigation', 'the straits times']:\n",
    "    df_dirty.loc[(df_dirty['bs_title'].str.lower().str.contains(word))\n",
    "                 & (df_dirty['bs_title'].str.len() < 20), 'bs_title'] = np.nan\n",
    "\n",
    "for word in ['javascript', 'copyright', 'benzinga', 'djreprints']:\n",
    "    df_dirty.loc[(df_dirty['bs_body'].str.lower().str.contains(word))\n",
    "                 & (df_dirty['bs_body'].str.len() < 400), 'bs_body'] = np.nan"
   ]
  },
  {
   "cell_type": "code",
   "execution_count": 142,
   "metadata": {},
   "outputs": [],
   "source": [
    "# Creating a column with the length of the n3k_body and bs_body\n",
    "df_dirty['n3k_body_len'] = df_dirty['n3k_body'].astype(str).str.len()\n",
    "df_dirty['bs_body_len'] = df_dirty['bs_body'].astype(str).str.len()\n",
    "\n",
    "# Creating a column with the length of the n3k_title, bs_title and se_title\n",
    "df_dirty['n3k_title_len'] = df_dirty['n3k_title'].astype(str).str.len()\n",
    "df_dirty['bs_title_len'] = df_dirty['bs_title'].astype(str).str.len()\n",
    "df_dirty['se_title_len'] = df_dirty['se_title'].astype(str).str.len()\n",
    "\n",
    "# Creating and empty column for title and body\n",
    "df_dirty['title'] = ''\n",
    "df_dirty['body'] = ''\n",
    "\n",
    "# Filling the title and body columns with the longer title and body\n",
    "df_dirty.loc[df_dirty['n3k_body_len'] > df_dirty['bs_body_len'], 'body'] = df_dirty['n3k_body']\n",
    "df_dirty.loc[df_dirty['n3k_body_len'] < df_dirty['bs_body_len'], 'body'] = df_dirty['bs_body']\n",
    "df_dirty.loc[df_dirty['n3k_title_len'] > df_dirty['bs_title_len'], 'title'] = df_dirty['n3k_title']\n",
    "df_dirty.loc[df_dirty['n3k_title_len'] < df_dirty['bs_title_len'], 'title'] = df_dirty['bs_title']\n",
    "\n",
    "# creating a column with the length of the title\n",
    "df_dirty['title_len'] = df_dirty['title'].astype(str).str.len()\n",
    "\n",
    "# Filling the title and body columns with the se_title if they are longer than the title\n",
    "df_dirty.loc[df_dirty['se_title_len'] > df_dirty['title_len'], 'title'] = df_dirty['se_title']\n",
    "\n",
    "# Dropping the columns that are not needed anymore\n",
    "df_dirty.drop(['n3k_title', 'n3k_body', 'bs_title', 'bs_body', 'n3k_body_len', 'bs_body_len',\n",
    "            'n3k_title_len', 'bs_title_len', 'se_title_len', 'se_title', 'title_len'], axis=1, inplace=True)\n"
   ]
  },
  {
   "cell_type": "code",
   "execution_count": 143,
   "metadata": {},
   "outputs": [],
   "source": [
    "# Dropping all rows that have no title or body\n",
    "df_dirty.dropna(subset=['title', 'body'], inplace=True)"
   ]
  },
  {
   "cell_type": "code",
   "execution_count": 144,
   "metadata": {},
   "outputs": [],
   "source": [
    "showme = df_dirty[['title', 'body']]"
   ]
  }
 ],
 "metadata": {
  "kernelspec": {
   "display_name": "Python 3",
   "language": "python",
   "name": "python3"
  },
  "language_info": {
   "codemirror_mode": {
    "name": "ipython",
    "version": 3
   },
   "file_extension": ".py",
   "mimetype": "text/x-python",
   "name": "python",
   "nbconvert_exporter": "python",
   "pygments_lexer": "ipython3",
   "version": "3.11.3"
  },
  "orig_nbformat": 4
 },
 "nbformat": 4,
 "nbformat_minor": 2
}
