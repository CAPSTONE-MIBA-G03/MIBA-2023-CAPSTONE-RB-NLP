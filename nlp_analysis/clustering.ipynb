{
 "cells": [
  {
   "cell_type": "code",
   "execution_count": 1,
   "metadata": {},
   "outputs": [],
   "source": [
    "from BERT import bert_embed_text\n",
    "import pandas as pd"
   ]
  },
  {
   "cell_type": "code",
   "execution_count": 2,
   "metadata": {},
   "outputs": [],
   "source": [
    "articles = pd.read_csv('../data/clean/\"quantumcomputing\"AND\"research\"_999.csv')"
   ]
  },
  {
   "cell_type": "code",
   "execution_count": 19,
   "metadata": {},
   "outputs": [],
   "source": [
    "# Runs 30 minutes\n",
    "articles['body_embedding'] = None\n",
    "for i in range(10): #len(articles)):\n",
    "    try:\n",
    "        articles.at[i,'body_embedding'] = bert_embed_text(articles.at[i,'body']).tolist()\n",
    "    except:\n",
    "        articles.at[i,'body_embedding'] = []\n",
    "\n",
    "articles.to_csv('../data/misc/quant_embed.csv', index=False)"
   ]
  },
  {
   "cell_type": "code",
   "execution_count": 20,
   "metadata": {},
   "outputs": [
    {
     "data": {
      "text/plain": [
       "0                                                     []\n",
       "1      [-0.14189203083515167, 0.09325172752141953, 0....\n",
       "2      [-0.17019625008106232, -0.06656358391046524, 0...\n",
       "3      [-0.21005624532699585, 0.24916303157806396, 0....\n",
       "4      [-0.12578916549682617, 0.05587612837553024, 0....\n",
       "                             ...                        \n",
       "505                                                 None\n",
       "506                                                 None\n",
       "507                                                 None\n",
       "508                                                 None\n",
       "509                                                 None\n",
       "Name: body_embedding, Length: 510, dtype: object"
      ]
     },
     "execution_count": 20,
     "metadata": {},
     "output_type": "execute_result"
    }
   ],
   "source": [
    "# Creating clusters from the BERT embeddings\n",
    "# https://scikit-learn.org/stable/modules/generated/sklearn.cluster.KMeans.html\n",
    "from sklearn.cluster import KMeans\n",
    "import numpy as np\n",
    "articles['body_embedding']"
   ]
  },
  {
   "cell_type": "code",
   "execution_count": null,
   "metadata": {},
   "outputs": [],
   "source": [
    "kmeans = KMeans(n_clusters=5, random_state=0, n_init=\"auto\").fit(X)"
   ]
  }
 ],
 "metadata": {
  "kernelspec": {
   "display_name": "base",
   "language": "python",
   "name": "python3"
  },
  "language_info": {
   "codemirror_mode": {
    "name": "ipython",
    "version": 3
   },
   "file_extension": ".py",
   "mimetype": "text/x-python",
   "name": "python",
   "nbconvert_exporter": "python",
   "pygments_lexer": "ipython3",
   "version": "3.7.6"
  },
  "orig_nbformat": 4
 },
 "nbformat": 4,
 "nbformat_minor": 2
}
