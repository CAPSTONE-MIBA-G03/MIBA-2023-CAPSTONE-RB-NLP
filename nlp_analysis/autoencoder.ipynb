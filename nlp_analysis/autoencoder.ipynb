{
 "cells": [
  {
   "cell_type": "code",
   "execution_count": 1,
   "metadata": {},
   "outputs": [
    {
     "name": "stderr",
     "output_type": "stream",
     "text": [
      "/Users/johnbergmann/.pyenv/versions/3.8.16/envs/RB_NLP/lib/python3.8/site-packages/umap/distances.py:1063: NumbaDeprecationWarning: The 'nopython' keyword argument was not supplied to the 'numba.jit' decorator. The implicit default value for this argument is currently False, but it will be changed to True in Numba 0.59.0. See https://numba.readthedocs.io/en/stable/reference/deprecation.html#deprecation-of-object-mode-fall-back-behaviour-when-using-jit for details.\n",
      "  @numba.jit()\n",
      "/Users/johnbergmann/.pyenv/versions/3.8.16/envs/RB_NLP/lib/python3.8/site-packages/umap/distances.py:1071: NumbaDeprecationWarning: The 'nopython' keyword argument was not supplied to the 'numba.jit' decorator. The implicit default value for this argument is currently False, but it will be changed to True in Numba 0.59.0. See https://numba.readthedocs.io/en/stable/reference/deprecation.html#deprecation-of-object-mode-fall-back-behaviour-when-using-jit for details.\n",
      "  @numba.jit()\n",
      "/Users/johnbergmann/.pyenv/versions/3.8.16/envs/RB_NLP/lib/python3.8/site-packages/umap/distances.py:1086: NumbaDeprecationWarning: The 'nopython' keyword argument was not supplied to the 'numba.jit' decorator. The implicit default value for this argument is currently False, but it will be changed to True in Numba 0.59.0. See https://numba.readthedocs.io/en/stable/reference/deprecation.html#deprecation-of-object-mode-fall-back-behaviour-when-using-jit for details.\n",
      "  @numba.jit()\n",
      "/Users/johnbergmann/.pyenv/versions/3.8.16/envs/RB_NLP/lib/python3.8/site-packages/umap/umap_.py:660: NumbaDeprecationWarning: The 'nopython' keyword argument was not supplied to the 'numba.jit' decorator. The implicit default value for this argument is currently False, but it will be changed to True in Numba 0.59.0. See https://numba.readthedocs.io/en/stable/reference/deprecation.html#deprecation-of-object-mode-fall-back-behaviour-when-using-jit for details.\n",
      "  @numba.jit()\n"
     ]
    }
   ],
   "source": [
    "import numpy as np\n",
    "import pandas as pd\n",
    "# from BERT import bert_embed_text\n",
    "from tqdm import tqdm\n",
    "import torch\n",
    "from torch import nn\n",
    "from torch import optim\n",
    "from torch.utils.data import DataLoader\n",
    "import torch_functions as torch_fns\n",
    "from torchinfo import summary\n",
    "from sklearn.preprocessing import StandardScaler, MinMaxScaler\n",
    "import matplotlib.pyplot as plt\n",
    "from sklearn.cluster import KMeans\n",
    "import word_wizard as ww\n",
    "from sklearn.metrics.pairwise import euclidean_distances, pairwise_distances_argmin_min\n",
    "from pprint import pprint"
   ]
  },
  {
   "cell_type": "code",
   "execution_count": 2,
   "metadata": {},
   "outputs": [
    {
     "name": "stdout",
     "output_type": "stream",
     "text": [
      "<class 'pandas.core.frame.DataFrame'>\n",
      "RangeIndex: 3330 entries, 0 to 3329\n",
      "Data columns (total 8 columns):\n",
      " #   Column         Non-Null Count  Dtype \n",
      "---  ------         --------------  ----- \n",
      " 0   article_index  3330 non-null   int64 \n",
      " 1   engine         3330 non-null   object\n",
      " 2   link           3330 non-null   object\n",
      " 3   source         3330 non-null   object\n",
      " 4   title          3330 non-null   object\n",
      " 5   description    3330 non-null   object\n",
      " 6   body           3330 non-null   object\n",
      " 7   paragraph      3330 non-null   object\n",
      "dtypes: int64(1), object(7)\n",
      "memory usage: 208.2+ KB\n"
     ]
    }
   ],
   "source": [
    "articles = pd.read_csv(\"../data/clean/QuantumComputing_999.csv\")\n",
    "articles.info()"
   ]
  },
  {
   "cell_type": "code",
   "execution_count": 3,
   "metadata": {},
   "outputs": [
    {
     "data": {
      "text/plain": [
       "(329,)"
      ]
     },
     "execution_count": 3,
     "metadata": {},
     "output_type": "execute_result"
    }
   ],
   "source": [
    "articles[\"article_index\"].unique().shape"
   ]
  },
  {
   "attachments": {},
   "cell_type": "markdown",
   "metadata": {},
   "source": [
    "## NLP Pipeline"
   ]
  },
  {
   "cell_type": "code",
   "execution_count": 4,
   "metadata": {},
   "outputs": [],
   "source": [
    "wizard = ww.WordWizard(df=articles)"
   ]
  },
  {
   "cell_type": "code",
   "execution_count": 5,
   "metadata": {},
   "outputs": [
    {
     "data": {
      "text/html": [
       "<div>\n",
       "<style scoped>\n",
       "    .dataframe tbody tr th:only-of-type {\n",
       "        vertical-align: middle;\n",
       "    }\n",
       "\n",
       "    .dataframe tbody tr th {\n",
       "        vertical-align: top;\n",
       "    }\n",
       "\n",
       "    .dataframe thead th {\n",
       "        text-align: right;\n",
       "    }\n",
       "</style>\n",
       "<table border=\"1\" class=\"dataframe\">\n",
       "  <thead>\n",
       "    <tr style=\"text-align: right;\">\n",
       "      <th></th>\n",
       "      <th>article_index</th>\n",
       "      <th>engine</th>\n",
       "      <th>link</th>\n",
       "      <th>source</th>\n",
       "      <th>title</th>\n",
       "      <th>description</th>\n",
       "      <th>body</th>\n",
       "      <th>paragraph</th>\n",
       "      <th>sentences</th>\n",
       "    </tr>\n",
       "  </thead>\n",
       "  <tbody>\n",
       "    <tr>\n",
       "      <th>0</th>\n",
       "      <td>0</td>\n",
       "      <td>Yahoo</td>\n",
       "      <td>http://www.wwnytv.com/prnewswire/2023/06/15/qu...</td>\n",
       "      <td>WWNY - WNYF Watertown</td>\n",
       "      <td>Quantum Computing Inc. Launches Its First-in-a...</td>\n",
       "      <td>Beginning today, QCi is accepting orders via i...</td>\n",
       "      <td>QCi Embraces the Advantages of Edge Computing ...</td>\n",
       "      <td>LEESBURG, Va., June 15, 2023 /PRNewswire/ -- Q...</td>\n",
       "      <td>[LEESBURG, Va., June 15, 2023 /PRNewswire/ -- ...</td>\n",
       "    </tr>\n",
       "    <tr>\n",
       "      <th>1</th>\n",
       "      <td>0</td>\n",
       "      <td>Yahoo</td>\n",
       "      <td>http://www.wwnytv.com/prnewswire/2023/06/15/qu...</td>\n",
       "      <td>WWNY - WNYF Watertown</td>\n",
       "      <td>Quantum Computing Inc. Launches Its First-in-a...</td>\n",
       "      <td>Beginning today, QCi is accepting orders via i...</td>\n",
       "      <td>QCi Embraces the Advantages of Edge Computing ...</td>\n",
       "      <td>Reservoir computing is a framework for computa...</td>\n",
       "      <td>[Reservoir computing is a framework for comput...</td>\n",
       "    </tr>\n",
       "    <tr>\n",
       "      <th>2</th>\n",
       "      <td>0</td>\n",
       "      <td>Yahoo</td>\n",
       "      <td>http://www.wwnytv.com/prnewswire/2023/06/15/qu...</td>\n",
       "      <td>WWNY - WNYF Watertown</td>\n",
       "      <td>Quantum Computing Inc. Launches Its First-in-a...</td>\n",
       "      <td>Beginning today, QCi is accepting orders via i...</td>\n",
       "      <td>QCi Embraces the Advantages of Edge Computing ...</td>\n",
       "      <td>Dr. Yuping Huang, QCi Chief Quantum Scientist ...</td>\n",
       "      <td>[Dr. Yuping Huang, QCi Chief Quantum Scientist...</td>\n",
       "    </tr>\n",
       "    <tr>\n",
       "      <th>3</th>\n",
       "      <td>0</td>\n",
       "      <td>Yahoo</td>\n",
       "      <td>http://www.wwnytv.com/prnewswire/2023/06/15/qu...</td>\n",
       "      <td>WWNY - WNYF Watertown</td>\n",
       "      <td>Quantum Computing Inc. Launches Its First-in-a...</td>\n",
       "      <td>Beginning today, QCi is accepting orders via i...</td>\n",
       "      <td>QCi Embraces the Advantages of Edge Computing ...</td>\n",
       "      <td>QCi's first reservoir computer uses the Compan...</td>\n",
       "      <td>[QCi's first reservoir computer uses the Compa...</td>\n",
       "    </tr>\n",
       "    <tr>\n",
       "      <th>4</th>\n",
       "      <td>0</td>\n",
       "      <td>Yahoo</td>\n",
       "      <td>http://www.wwnytv.com/prnewswire/2023/06/15/qu...</td>\n",
       "      <td>WWNY - WNYF Watertown</td>\n",
       "      <td>Quantum Computing Inc. Launches Its First-in-a...</td>\n",
       "      <td>Beginning today, QCi is accepting orders via i...</td>\n",
       "      <td>QCi Embraces the Advantages of Edge Computing ...</td>\n",
       "      <td>\"The launch of QCi's Reservoir Computer repres...</td>\n",
       "      <td>[\"The launch of QCi's Reservoir Computer repre...</td>\n",
       "    </tr>\n",
       "  </tbody>\n",
       "</table>\n",
       "</div>"
      ],
      "text/plain": [
       "   article_index engine                                               link  \\\n",
       "0              0  Yahoo  http://www.wwnytv.com/prnewswire/2023/06/15/qu...   \n",
       "1              0  Yahoo  http://www.wwnytv.com/prnewswire/2023/06/15/qu...   \n",
       "2              0  Yahoo  http://www.wwnytv.com/prnewswire/2023/06/15/qu...   \n",
       "3              0  Yahoo  http://www.wwnytv.com/prnewswire/2023/06/15/qu...   \n",
       "4              0  Yahoo  http://www.wwnytv.com/prnewswire/2023/06/15/qu...   \n",
       "\n",
       "                  source                                              title  \\\n",
       "0  WWNY - WNYF Watertown  Quantum Computing Inc. Launches Its First-in-a...   \n",
       "1  WWNY - WNYF Watertown  Quantum Computing Inc. Launches Its First-in-a...   \n",
       "2  WWNY - WNYF Watertown  Quantum Computing Inc. Launches Its First-in-a...   \n",
       "3  WWNY - WNYF Watertown  Quantum Computing Inc. Launches Its First-in-a...   \n",
       "4  WWNY - WNYF Watertown  Quantum Computing Inc. Launches Its First-in-a...   \n",
       "\n",
       "                                         description  \\\n",
       "0  Beginning today, QCi is accepting orders via i...   \n",
       "1  Beginning today, QCi is accepting orders via i...   \n",
       "2  Beginning today, QCi is accepting orders via i...   \n",
       "3  Beginning today, QCi is accepting orders via i...   \n",
       "4  Beginning today, QCi is accepting orders via i...   \n",
       "\n",
       "                                                body  \\\n",
       "0  QCi Embraces the Advantages of Edge Computing ...   \n",
       "1  QCi Embraces the Advantages of Edge Computing ...   \n",
       "2  QCi Embraces the Advantages of Edge Computing ...   \n",
       "3  QCi Embraces the Advantages of Edge Computing ...   \n",
       "4  QCi Embraces the Advantages of Edge Computing ...   \n",
       "\n",
       "                                           paragraph  \\\n",
       "0  LEESBURG, Va., June 15, 2023 /PRNewswire/ -- Q...   \n",
       "1  Reservoir computing is a framework for computa...   \n",
       "2  Dr. Yuping Huang, QCi Chief Quantum Scientist ...   \n",
       "3  QCi's first reservoir computer uses the Compan...   \n",
       "4  \"The launch of QCi's Reservoir Computer repres...   \n",
       "\n",
       "                                           sentences  \n",
       "0  [LEESBURG, Va., June 15, 2023 /PRNewswire/ -- ...  \n",
       "1  [Reservoir computing is a framework for comput...  \n",
       "2  [Dr. Yuping Huang, QCi Chief Quantum Scientist...  \n",
       "3  [QCi's first reservoir computer uses the Compa...  \n",
       "4  [\"The launch of QCi's Reservoir Computer repre...  "
      ]
     },
     "execution_count": 5,
     "metadata": {},
     "output_type": "execute_result"
    }
   ],
   "source": [
    "wizard.df.head()"
   ]
  },
  {
   "cell_type": "code",
   "execution_count": 6,
   "metadata": {},
   "outputs": [
    {
     "name": "stderr",
     "output_type": "stream",
     "text": [
      "Some weights of the model checkpoint at bert-base-cased were not used when initializing BertModel: ['cls.predictions.transform.dense.bias', 'cls.seq_relationship.weight', 'cls.predictions.decoder.weight', 'cls.predictions.transform.LayerNorm.bias', 'cls.predictions.transform.LayerNorm.weight', 'cls.predictions.transform.dense.weight', 'cls.seq_relationship.bias', 'cls.predictions.bias']\n",
      "- This IS expected if you are initializing BertModel from the checkpoint of a model trained on another task or with another architecture (e.g. initializing a BertForSequenceClassification model from a BertForPreTraining model).\n",
      "- This IS NOT expected if you are initializing BertModel from the checkpoint of a model that you expect to be exactly identical (initializing a BertForSequenceClassification model from a BertForSequenceClassification model).\n"
     ]
    },
    {
     "data": {
      "application/vnd.jupyter.widget-view+json": {
       "model_id": "5db3a61a56504c42b764d28ded204c83",
       "version_major": 2,
       "version_minor": 0
      },
      "text/plain": [
       "Creating word embeddings for column body:   0%|          | 0/328 [00:00<?, ?it/s]"
      ]
     },
     "metadata": {},
     "output_type": "display_data"
    },
    {
     "data": {
      "text/plain": [
       "<word_wizard.WordWizard at 0x2ae4f74c0>"
      ]
     },
     "execution_count": 6,
     "metadata": {},
     "output_type": "execute_result"
    }
   ],
   "source": [
    "wizard.create_word_embeddings(column=\"body\")"
   ]
  },
  {
   "cell_type": "code",
   "execution_count": 7,
   "metadata": {},
   "outputs": [
    {
     "data": {
      "text/plain": [
       "<word_wizard.WordWizard at 0x2ae4f74c0>"
      ]
     },
     "execution_count": 7,
     "metadata": {},
     "output_type": "execute_result"
    }
   ],
   "source": [
    "wizard.cluster_embeddings(column=\"body\")  "
   ]
  },
  {
   "cell_type": "code",
   "execution_count": 8,
   "metadata": {},
   "outputs": [
    {
     "data": {
      "application/vnd.jupyter.widget-view+json": {
       "model_id": "b8342b7265014631a4ca04647fa7ff3a",
       "version_major": 2,
       "version_minor": 0
      },
      "text/plain": [
       "Creating summaries for medoids of column body:   0%|          | 0/10 [00:00<?, ?it/s]"
      ]
     },
     "metadata": {},
     "output_type": "display_data"
    },
    {
     "data": {
      "text/plain": [
       "<word_wizard.WordWizard at 0x2ae4f74c0>"
      ]
     },
     "execution_count": 8,
     "metadata": {},
     "output_type": "execute_result"
    }
   ],
   "source": [
    "wizard.summarize_medoids(column=\"body\")"
   ]
  },
  {
   "cell_type": "code",
   "execution_count": 9,
   "metadata": {},
   "outputs": [
    {
     "data": {
      "application/vnd.jupyter.widget-view+json": {
       "model_id": "d50115214a434ee7a2e9664e6bf2ec51",
       "version_major": 2,
       "version_minor": 0
      },
      "text/plain": [
       "Calculating sentiment for column body:   0%|          | 0/328 [00:00<?, ?it/s]"
      ]
     },
     "metadata": {},
     "output_type": "display_data"
    },
    {
     "data": {
      "text/plain": [
       "<word_wizard.WordWizard at 0x2ae4f74c0>"
      ]
     },
     "execution_count": 9,
     "metadata": {},
     "output_type": "execute_result"
    }
   ],
   "source": [
    "wizard.find_sentiment(column=\"body\")"
   ]
  },
  {
   "cell_type": "code",
   "execution_count": 14,
   "metadata": {},
   "outputs": [
    {
     "data": {
      "text/plain": [
       "Index(['article_index', 'engine', 'link', 'source', 'title', 'description',\n",
       "       'body', 'paragraph', 'sentences', 'body_word_embeddings',\n",
       "       'body_word_embeddings_clusters',\n",
       "       'body_word_embeddings_clusters_medoids',\n",
       "       'body_word_embeddings_clusters_medoids_summaries', 'body_sentiment'],\n",
       "      dtype='object')"
      ]
     },
     "execution_count": 14,
     "metadata": {},
     "output_type": "execute_result"
    }
   ],
   "source": [
    "wizard.df.columns"
   ]
  },
  {
   "cell_type": "code",
   "execution_count": 15,
   "metadata": {},
   "outputs": [
    {
     "name": "stdout",
     "output_type": "stream",
     "text": [
      "('The global Quantum Computing Chip market size is projected to reach '\n",
      " 'multimillion USD by 2030.<n>Superconducting Chip, Topological Chip, Photonic '\n",
      " 'Chip, Others.<n>Below 30 Qubit Quantum Computer, Qubit Quantum Computer, '\n",
      " '50-60 Qubit Quantum Computer, Above Qubit Quantum Computer.')\n"
     ]
    }
   ],
   "source": [
    "pprint(wizard.df.loc[~wizard.df[\"body_word_embeddings_clusters_medoids_summaries\"].isna(), \"body_word_embeddings_clusters_medoids_summaries\"].tolist()[0])"
   ]
  },
  {
   "cell_type": "code",
   "execution_count": 16,
   "metadata": {},
   "outputs": [
    {
     "name": "stdout",
     "output_type": "stream",
     "text": [
      "('Quantum Chip Quantum Brilliance has announced the general availability of '\n",
      " 'Qristal SDK.<n>SDK is an open-source software development kit designed for '\n",
      " 'researching applications.<n>The company hopes its quantum technology will '\n",
      " 'prove beneficial in hybrid data centers.')\n"
     ]
    }
   ],
   "source": [
    "pprint(wizard.df.loc[~wizard.df[\"body_word_embeddings_clusters_medoids_summaries\"].isna(), \"body_word_embeddings_clusters_medoids_summaries\"].tolist()[1])"
   ]
  },
  {
   "cell_type": "code",
   "execution_count": 19,
   "metadata": {},
   "outputs": [
    {
     "name": "stdout",
     "output_type": "stream",
     "text": [
      "('The Quantum Computing in Chemistry market is anticipated to rise at a '\n",
      " 'considerable rate during the forecast period, between 2023 and 2028.<n>The '\n",
      " 'market is growing at a steady rate and with the rising adoption of '\n",
      " 'strategies by key players, the market is expected to rise over the projected '\n",
      " 'horizon.<n>The research also provides a market analysis using various '\n",
      " \"analytical techniques, including Porter's Five Forces Analysis,SWOT \"\n",
      " 'Analysis, and PESTEL Analysis.')\n"
     ]
    }
   ],
   "source": [
    "pprint(wizard.df.loc[~wizard.df[\"body_word_embeddings_clusters_medoids_summaries\"].isna(), \"body_word_embeddings_clusters_medoids_summaries\"].tolist()[2])"
   ]
  },
  {
   "cell_type": "code",
   "execution_count": 20,
   "metadata": {},
   "outputs": [
    {
     "name": "stdout",
     "output_type": "stream",
     "text": [
      "('German Chancellor Angela Merkel inaugurated a computer that uses subatomic '\n",
      " 'particles to make millions of calculations in microseconds.<n>Europe, the '\n",
      " 'United States and China are locked in competition over who can build and '\n",
      " 'exploit the most powerful computers.<n>Quantum technology, while still in '\n",
      " 'its infancy, promises to carry out previously impossible calculations at '\n",
      " 'record speed.<n>Germany hopes that quantum computing will spur innovation '\n",
      " 'across industry — from transport and the environment to health.')\n"
     ]
    }
   ],
   "source": [
    "pprint(wizard.df.loc[~wizard.df[\"body_word_embeddings_clusters_medoids_summaries\"].isna(), \"body_word_embeddings_clusters_medoids_summaries\"].tolist()[3])"
   ]
  },
  {
   "cell_type": "code",
   "execution_count": 35,
   "metadata": {},
   "outputs": [
    {
     "name": "stdout",
     "output_type": "stream",
     "text": [
      "('Decades of research have yet to yield a machine that can kick off the '\n",
      " 'promised revolution in computing.<n>Computers that exploit the strange '\n",
      " 'behaviours of the atomic realm could accelerate drug discovery, crack '\n",
      " 'encryption, speed up decision-making in financial transactions, improve '\n",
      " 'machine learning, develop revolutionary materials and even address climate '\n",
      " 'change.<n>useful computations are possible only on quantum machines with a '\n",
      " 'huge number of qubits, and those do not yet exist.')\n",
      "0.0\n"
     ]
    },
    {
     "data": {
      "text/plain": [
       "(None, None)"
      ]
     },
     "execution_count": 35,
     "metadata": {},
     "output_type": "execute_result"
    }
   ],
   "source": [
    "pprint(wizard.df.loc[~wizard.df[\"body_word_embeddings_clusters_medoids_summaries\"].isna(), \"body_word_embeddings_clusters_medoids_summaries\"].tolist()[4]), pprint(wizard.df.loc[~wizard.df[\"body_word_embeddings_clusters_medoids_summaries\"].isna(), \"body_sentiment\"].tolist()[4])"
   ]
  },
  {
   "cell_type": "code",
   "execution_count": 17,
   "metadata": {},
   "outputs": [
    {
     "data": {
      "text/plain": [
       "body_sentiment\n",
       "0.0    1\n",
       "1.0    9\n",
       "Name: body_word_embeddings_clusters_medoids_summaries, dtype: int64"
      ]
     },
     "execution_count": 17,
     "metadata": {},
     "output_type": "execute_result"
    }
   ],
   "source": [
    "wizard.df.groupby(\"body_sentiment\")[\"body_word_embeddings_clusters_medoids_summaries\"].count()"
   ]
  },
  {
   "cell_type": "code",
   "execution_count": 18,
   "metadata": {},
   "outputs": [
    {
     "data": {
      "text/plain": [
       "engine\n",
       "Bing      0.917874\n",
       "Google    0.948609\n",
       "Yahoo     0.847769\n",
       "Name: body_sentiment, dtype: float64"
      ]
     },
     "execution_count": 18,
     "metadata": {},
     "output_type": "execute_result"
    }
   ],
   "source": [
    "wizard.df.groupby(\"engine\")[\"body_sentiment\"].mean()"
   ]
  },
  {
   "cell_type": "code",
   "execution_count": null,
   "metadata": {},
   "outputs": [],
   "source": []
  },
  {
   "cell_type": "code",
   "execution_count": null,
   "metadata": {},
   "outputs": [],
   "source": [
    "wizard.df"
   ]
  },
  {
   "cell_type": "code",
   "execution_count": null,
   "metadata": {},
   "outputs": [],
   "source": [
    "wizard.df.head()"
   ]
  },
  {
   "cell_type": "code",
   "execution_count": null,
   "metadata": {},
   "outputs": [],
   "source": [
    "wizard.cluster_embeddings(column=\"sentences\")"
   ]
  },
  {
   "cell_type": "code",
   "execution_count": null,
   "metadata": {},
   "outputs": [],
   "source": [
    "self.df[self.df[column + '_word_embeddings_clusters' + self.MEDOID_SUFFIX] == True]"
   ]
  },
  {
   "cell_type": "code",
   "execution_count": null,
   "metadata": {},
   "outputs": [],
   "source": [
    "wizard.df[\"sumbag\"] = np.nan"
   ]
  },
  {
   "cell_type": "code",
   "execution_count": null,
   "metadata": {},
   "outputs": [],
   "source": [
    "wizard.df[\"sumbag\"].iloc[3] = 3"
   ]
  },
  {
   "cell_type": "code",
   "execution_count": null,
   "metadata": {},
   "outputs": [],
   "source": [
    "wizard.df.loc[wizard.df[\"sentence_embeddings_clusters_medoids\"] == True, \"body\"].index"
   ]
  },
  {
   "cell_type": "code",
   "execution_count": null,
   "metadata": {},
   "outputs": [],
   "source": []
  },
  {
   "cell_type": "code",
   "execution_count": null,
   "metadata": {},
   "outputs": [],
   "source": []
  },
  {
   "cell_type": "code",
   "execution_count": null,
   "metadata": {},
   "outputs": [],
   "source": []
  },
  {
   "cell_type": "code",
   "execution_count": null,
   "metadata": {},
   "outputs": [],
   "source": []
  },
  {
   "cell_type": "code",
   "execution_count": null,
   "metadata": {},
   "outputs": [],
   "source": []
  },
  {
   "cell_type": "code",
   "execution_count": null,
   "metadata": {},
   "outputs": [],
   "source": []
  },
  {
   "cell_type": "code",
   "execution_count": null,
   "metadata": {},
   "outputs": [],
   "source": []
  },
  {
   "cell_type": "code",
   "execution_count": null,
   "metadata": {},
   "outputs": [],
   "source": [
    "wizard.df.head()"
   ]
  },
  {
   "cell_type": "code",
   "execution_count": null,
   "metadata": {},
   "outputs": [],
   "source": [
    "wizard.find_sentiment(column=\"paragraph\", device=\"cpu\")"
   ]
  },
  {
   "cell_type": "code",
   "execution_count": null,
   "metadata": {},
   "outputs": [],
   "source": [
    "wizard.df.columns"
   ]
  },
  {
   "cell_type": "code",
   "execution_count": null,
   "metadata": {},
   "outputs": [],
   "source": [
    "# Grouping the articles by article_index and finding mean sentiment\n",
    "wizard.df.groupby(\"engine\")[\"paragraph_sentiment\"].mean()"
   ]
  },
  {
   "cell_type": "code",
   "execution_count": null,
   "metadata": {},
   "outputs": [],
   "source": [
    "# Find top 5 highest average sentiment score for engine\n",
    "wizard.df.groupby(\"engine\")[[\"paragraph_sentiment\"]].mean()"
   ]
  },
  {
   "cell_type": "code",
   "execution_count": null,
   "metadata": {},
   "outputs": [],
   "source": []
  },
  {
   "cell_type": "code",
   "execution_count": null,
   "metadata": {},
   "outputs": [],
   "source": []
  },
  {
   "cell_type": "code",
   "execution_count": null,
   "metadata": {},
   "outputs": [],
   "source": [
    "pp.pprint(wizard.df.loc[wizard.df[\"paragraph_sentiment\"] == 0, \"paragraph\"].iloc[0])"
   ]
  },
  {
   "cell_type": "code",
   "execution_count": null,
   "metadata": {},
   "outputs": [],
   "source": [
    "pp.pprint(wizard.df.loc[wizard.df[\"paragraph_sentiment\"] == 0, \"paragraph\"].iloc[1])"
   ]
  },
  {
   "cell_type": "code",
   "execution_count": null,
   "metadata": {},
   "outputs": [],
   "source": [
    "pp.pprint(wizard.df.loc[wizard.df[\"paragraph_sentiment\"] == 0, \"paragraph\"].iloc[2])"
   ]
  },
  {
   "cell_type": "code",
   "execution_count": null,
   "metadata": {},
   "outputs": [],
   "source": []
  },
  {
   "cell_type": "code",
   "execution_count": null,
   "metadata": {},
   "outputs": [],
   "source": [
    "wizard.create_word_embeddings(columns=[\"body\"], lean=True) \\\n",
    "      .cluster_embeddings(\"body\")"
   ]
  },
  {
   "cell_type": "code",
   "execution_count": null,
   "metadata": {},
   "outputs": [],
   "source": [
    "(wizard.df[\"body_word_embeddings_cluster_4_is_medoid\"].value_counts())"
   ]
  },
  {
   "cell_type": "code",
   "execution_count": null,
   "metadata": {},
   "outputs": [],
   "source": [
    "wizard.df"
   ]
  },
  {
   "cell_type": "code",
   "execution_count": null,
   "metadata": {},
   "outputs": [],
   "source": [
    "x = np.random.rand(100, 2)\n",
    "km = KMeans(n_clusters=2)\n",
    "km.fit(x)"
   ]
  },
  {
   "cell_type": "code",
   "execution_count": null,
   "metadata": {},
   "outputs": [],
   "source": [
    "centers = km.cluster_centers_\n",
    "centers"
   ]
  },
  {
   "cell_type": "code",
   "execution_count": null,
   "metadata": {},
   "outputs": [],
   "source": [
    "pairwise_distances_argmin_min(centers, x)"
   ]
  },
  {
   "cell_type": "code",
   "execution_count": null,
   "metadata": {},
   "outputs": [],
   "source": []
  },
  {
   "cell_type": "code",
   "execution_count": null,
   "metadata": {},
   "outputs": [],
   "source": []
  },
  {
   "cell_type": "code",
   "execution_count": null,
   "metadata": {},
   "outputs": [],
   "source": [
    "wizard.df.columns"
   ]
  },
  {
   "cell_type": "code",
   "execution_count": null,
   "metadata": {},
   "outputs": [],
   "source": [
    "wizard \\\n",
    ".create_word_embeddings(columns=[\"body\"], lean=True) \\\n",
    ".create_sentence_embeddings(device=\"cpu\") \\\n",
    ".cluster_embeddings(\"body_word_embeddings\")"
   ]
  },
  {
   "cell_type": "code",
   "execution_count": null,
   "metadata": {},
   "outputs": [],
   "source": [
    "wizard.df"
   ]
  },
  {
   "cell_type": "code",
   "execution_count": null,
   "metadata": {},
   "outputs": [],
   "source": [
    "wizard.df[\"body_word_embeddings\"][2]"
   ]
  },
  {
   "cell_type": "code",
   "execution_count": null,
   "metadata": {},
   "outputs": [],
   "source": [
    "df = wizard.df\n",
    "orgs = df[\"body_NER\"].tolist()\n",
    "\n",
    "# Get all the unique organizations from the dictionaries in list of lists\n",
    "orgs = [org for org_list in orgs for org in org_list]\n",
    "\n",
    "# get unique values of key B-ORG and I-ORG\n",
    "orgs = set([org[\"word\"] for org in orgs if org[\"entity\"] in [\"B-ORG\", \"I-ORG\"]])\n",
    "orgs"
   ]
  },
  {
   "cell_type": "code",
   "execution_count": null,
   "metadata": {},
   "outputs": [],
   "source": [
    "wizard.create_word_embeddings(columns=[\"paragraph\"], lean=True, device=\"mps\")\n"
   ]
  },
  {
   "cell_type": "code",
   "execution_count": null,
   "metadata": {},
   "outputs": [],
   "source": [
    "wizard.create_word_embeddings(columns=['body', 'paragraph'], device=\"mps\")"
   ]
  },
  {
   "cell_type": "code",
   "execution_count": null,
   "metadata": {},
   "outputs": [],
   "source": [
    "\n",
    "wizard.create_sentence_embeddings(device=\"cpu\")"
   ]
  },
  {
   "cell_type": "code",
   "execution_count": null,
   "metadata": {},
   "outputs": [],
   "source": [
    "df = wizard.df\n",
    "df[\"body_sentence_embeddings\"]"
   ]
  },
  {
   "attachments": {},
   "cell_type": "markdown",
   "metadata": {},
   "source": [
    "### Verify"
   ]
  },
  {
   "cell_type": "code",
   "execution_count": null,
   "metadata": {},
   "outputs": [],
   "source": [
    "articles['para'] = articles['body'].apply(lambda x: x.split('\\n\\n'))\n",
    "\n",
    "# make df longer by exploding para\n",
    "articles = articles.explode('para', ignore_index=False)\n",
    "articles = articles.reset_index()"
   ]
  },
  {
   "cell_type": "code",
   "execution_count": null,
   "metadata": {},
   "outputs": [],
   "source": [
    "unique_indices = articles[~articles['body'].duplicated()].index.tolist()\n",
    "unique_indices[0], unique_indices[1]"
   ]
  },
  {
   "cell_type": "code",
   "execution_count": null,
   "metadata": {},
   "outputs": [],
   "source": [
    "unique_indices[1] - unique_indices[0]"
   ]
  },
  {
   "cell_type": "code",
   "execution_count": null,
   "metadata": {},
   "outputs": [],
   "source": [
    "np.tile(np.array([1, 3, 4]), (unique_indices[1] - unique_indices[0], 1))"
   ]
  },
  {
   "cell_type": "code",
   "execution_count": null,
   "metadata": {},
   "outputs": [],
   "source": [
    "articles.loc[0: 33, \"body\"] = np.array([1, 3, 4])"
   ]
  },
  {
   "cell_type": "code",
   "execution_count": null,
   "metadata": {},
   "outputs": [],
   "source": [
    "articles"
   ]
  },
  {
   "cell_type": "code",
   "execution_count": null,
   "metadata": {},
   "outputs": [],
   "source": [
    "articles.loc[0: 33, \"ree\"] = np.tile(np.array([1, 3, 4]), (34, 1)).tolist()"
   ]
  },
  {
   "cell_type": "code",
   "execution_count": null,
   "metadata": {},
   "outputs": [],
   "source": [
    "articles"
   ]
  },
  {
   "cell_type": "code",
   "execution_count": null,
   "metadata": {},
   "outputs": [],
   "source": [
    "from nltk.tokenize import sent_tokenize\n",
    "articles['sent'] = articles['para'].apply(lambda x: sent_tokenize(x))\n",
    "\n",
    "# average number of sentences per paragraph\n",
    "articles['sent'].apply(lambda x: len(x)).mean()"
   ]
  },
  {
   "cell_type": "code",
   "execution_count": null,
   "metadata": {},
   "outputs": [],
   "source": [
    "import spacy\n",
    "roberta_nlp = spacy.load(\"en_core_web_trf\")\n",
    "tqdm.pandas()"
   ]
  },
  {
   "cell_type": "code",
   "execution_count": null,
   "metadata": {},
   "outputs": [],
   "source": [
    "paragraphs = articles['para'].tolist()\n",
    "articles[\"para_NER\"] = articles[\"para\"].progress_apply(lambda x: list(roberta_nlp(x).ents))"
   ]
  },
  {
   "cell_type": "code",
   "execution_count": null,
   "metadata": {},
   "outputs": [],
   "source": [
    "set(articles[\"para_NER\"].explode().tolist())"
   ]
  },
  {
   "cell_type": "code",
   "execution_count": null,
   "metadata": {},
   "outputs": [],
   "source": [
    "from SBERT import bert_embed_words\n",
    "\n",
    "articles['para_embed'] = articles['para'].apply(lambda x: bert_embed_words(x))"
   ]
  },
  {
   "cell_type": "code",
   "execution_count": null,
   "metadata": {},
   "outputs": [],
   "source": [
    "df[\"body_sentence_embeddings\"][0]"
   ]
  },
  {
   "cell_type": "code",
   "execution_count": null,
   "metadata": {},
   "outputs": [],
   "source": [
    "articles[\"para_embed\"][0].round(4) == df[\"body_sentence_embeddings\"][0].round(4)"
   ]
  },
  {
   "cell_type": "code",
   "execution_count": null,
   "metadata": {},
   "outputs": [],
   "source": []
  },
  {
   "cell_type": "code",
   "execution_count": null,
   "metadata": {},
   "outputs": [],
   "source": []
  },
  {
   "cell_type": "code",
   "execution_count": null,
   "metadata": {},
   "outputs": [],
   "source": [
    "from nltk.tokenize import sent_tokenize\n",
    "\n",
    "articles[\"paragraph\"] = articles[\"body\"].apply(lambda x: x.split(\"\\n\\n\"))\n",
    "\n",
    "articles = articles.explode(\"paragraph\", ignore_index=False)\n",
    "articles = articles.reset_index(names=\"para_index\")\n",
    "articles[\"sentences\"] = articles[\"paragraph\"].apply(lambda x: sent_tokenize(x))"
   ]
  },
  {
   "cell_type": "code",
   "execution_count": null,
   "metadata": {},
   "outputs": [],
   "source": [
    "articles[\"sentences\"].iloc[42]"
   ]
  },
  {
   "attachments": {
    "image-2.png": {
     "image/png": "[encoded data removed]"
    }
   },
   "cell_type": "markdown",
   "metadata": {},
   "source": [
    "![image-2.png](attachment:image-2.png)"
   ]
  },
  {
   "cell_type": "code",
   "execution_count": null,
   "metadata": {},
   "outputs": [],
   "source": [
    "lean = lean_wizard.create_sentence_embeddings()"
   ]
  },
  {
   "cell_type": "code",
   "execution_count": null,
   "metadata": {},
   "outputs": [],
   "source": [
    "lean[\"body\", \"body_sentence_embeddings\"].head()"
   ]
  },
  {
   "cell_type": "code",
   "execution_count": null,
   "metadata": {},
   "outputs": [],
   "source": [
    "bulky[[\"title\", \"body\", \"body_embedded\", \"title_embedded\"]].head()"
   ]
  },
  {
   "cell_type": "code",
   "execution_count": null,
   "metadata": {},
   "outputs": [],
   "source": []
  },
  {
   "cell_type": "code",
   "execution_count": null,
   "metadata": {},
   "outputs": [],
   "source": [
    "# Setup device agnostic code (Chooses NVIDIA or Metal backend if available, otherwise defaults to CPU)\n",
    "if torch.cuda.is_available():\n",
    "    device = torch.device(\"cuda\")\n",
    "    \n",
    "elif torch.backends.mps.is_available():\n",
    "    device = torch.device(\"mps\")\n",
    "    \n",
    "else:\n",
    "    device = torch.device(\"cpu\")\n",
    "device"
   ]
  },
  {
   "cell_type": "code",
   "execution_count": null,
   "metadata": {},
   "outputs": [],
   "source": [
    "articles.head(3)"
   ]
  },
  {
   "cell_type": "code",
   "execution_count": null,
   "metadata": {},
   "outputs": [],
   "source": [
    "articles.set_index([\"link\", \"\"], inplace=True)"
   ]
  },
  {
   "attachments": {},
   "cell_type": "markdown",
   "metadata": {},
   "source": [
    "### Uncomment below cell when running notebook for the first time"
   ]
  },
  {
   "cell_type": "code",
   "execution_count": null,
   "metadata": {},
   "outputs": [],
   "source": [
    "#An alternative would be to try summarizing by paragraph (we shall do that soon)\n",
    "\n",
    "# articles['body_embedding'] = None\n",
    "# for i in tqdm(range(len(articles))):\n",
    "#     try:\n",
    "#         articles.at[i,'body_embedding'] = bert_embed_text(articles.at[i,'body']).tolist()\n",
    "#     except:\n",
    "#         articles.at[i,'body_embedding'] = []\n",
    "\n",
    "# articles.to_parquet('../data/misc/quant_embed.gzip',compression='gzip', index=False)"
   ]
  },
  {
   "cell_type": "code",
   "execution_count": null,
   "metadata": {},
   "outputs": [],
   "source": [
    "bert_embed_text = pd.read_parquet('../data/misc/quant_embed.gzip')\n",
    "sentence_embeddings_df = pd.DataFrame(bert_embed_text['body_embedding'].tolist(), index=bert_embed_text.index).dropna().values\n",
    "sentence_embeddings = MinMaxScaler().fit_transform(np.array(sentence_embeddings_df))"
   ]
  },
  {
   "cell_type": "code",
   "execution_count": null,
   "metadata": {},
   "outputs": [],
   "source": [
    "bert_embed_text"
   ]
  },
  {
   "cell_type": "code",
   "execution_count": null,
   "metadata": {},
   "outputs": [],
   "source": [
    "data = torch.from_numpy(sentence_embeddings).type(torch.float32)"
   ]
  },
  {
   "cell_type": "code",
   "execution_count": null,
   "metadata": {},
   "outputs": [],
   "source": [
    "data.shape, data.dtype, data.max(), data.min()"
   ]
  },
  {
   "cell_type": "code",
   "execution_count": null,
   "metadata": {},
   "outputs": [],
   "source": [
    "# Setup hyperparameters\n",
    "NUM_EPOCHS = 200\n",
    "BATCH_SIZE = 16\n",
    "INPUT_SHAPE = 768\n",
    "HIDDEN_UNITS = list([256, 16]) # For some reason fails when just doing [] kekw\n",
    "OUTPUT_SHAPE = 768\n",
    "LEARNING_RATE = 0.0002 #Default adam is 1e-3\n",
    "DROPOUT = 0.2"
   ]
  },
  {
   "cell_type": "code",
   "execution_count": null,
   "metadata": {},
   "outputs": [],
   "source": [
    "# Setup DataLoaders\n",
    "from os import cpu_count\n",
    "dataloader = DataLoader(data, batch_size=BATCH_SIZE, shuffle=True, num_workers=0)"
   ]
  },
  {
   "cell_type": "code",
   "execution_count": null,
   "metadata": {},
   "outputs": [],
   "source": [
    "next(iter(dataloader)).shape, len(dataloader)"
   ]
  },
  {
   "cell_type": "code",
   "execution_count": null,
   "metadata": {},
   "outputs": [],
   "source": [
    "# Instantiate model\n",
    "model = torch_fns.Autoencoder(INPUT_SHAPE, HIDDEN_UNITS, OUTPUT_SHAPE, DROPOUT)"
   ]
  },
  {
   "cell_type": "code",
   "execution_count": null,
   "metadata": {},
   "outputs": [],
   "source": [
    "# Print a summary using torchinfo\n",
    "summary(model=model, \n",
    "        input_size=(BATCH_SIZE, INPUT_SHAPE),\n",
    "        # col_names=[\"input_size\"],\n",
    "        col_names=[\"input_size\", \"output_size\", \"num_params\", \"trainable\"],\n",
    "        col_width=20,\n",
    "        row_settings=[\"var_names\"]\n",
    ") "
   ]
  },
  {
   "cell_type": "code",
   "execution_count": null,
   "metadata": {},
   "outputs": [],
   "source": [
    "# Set loss and optimizer\n",
    "loss_fn = nn.MSELoss()\n",
    "optimizer = optim.Adam(model.parameters(), lr=LEARNING_RATE)\n",
    "\n",
    "# Start training with help from torch_functions.py\n",
    "results = torch_fns.train(\n",
    "    model=model,\n",
    "    dataloader=dataloader,\n",
    "    loss_fn=loss_fn,\n",
    "    optimizer=optimizer,\n",
    "    epochs=NUM_EPOCHS,\n",
    "    device=device,\n",
    ")\n"
   ]
  },
  {
   "cell_type": "code",
   "execution_count": null,
   "metadata": {},
   "outputs": [],
   "source": [
    "torch_fns.plot_loss_curves(results)"
   ]
  },
  {
   "cell_type": "code",
   "execution_count": null,
   "metadata": {},
   "outputs": [],
   "source": [
    "with torch.inference_mode():\n",
    "    model = model.to(device)\n",
    "    data = data.to(device)\n",
    "    encoded = model.encode(data)\n",
    "    decoded = model.decode(encoded)\n",
    "    error = loss_fn(decoded, data).item()\n",
    "    enc = encoded.cpu().numpy()\n",
    "    dec = decoded.cpu().numpy()\n",
    "    data = data.cpu().numpy()\n",
    "\n",
    "print(f'Root mean squared error: {np.sqrt(error):.4f}')"
   ]
  },
  {
   "cell_type": "code",
   "execution_count": null,
   "metadata": {},
   "outputs": [],
   "source": [
    "fig, (ax1, ax2, ax3) = plt.subplots(1, 3, figsize=(15, 6))\n",
    "\n",
    "ax1.scatter(sentence_embeddings[:,0], sentence_embeddings[:,1])\n",
    "ax1.set_title('Original')\n",
    "\n",
    "ax2.scatter(enc[:,0], enc[:,1])\n",
    "ax2.set_title('Encoded')\n",
    "\n",
    "ax3.scatter(dec[:,0], dec[:,1])\n",
    "ax3.set_title('Decoded')\n",
    "\n",
    "plt.show()"
   ]
  },
  {
   "cell_type": "code",
   "execution_count": null,
   "metadata": {},
   "outputs": [],
   "source": [
    "data.shape, enc.shape"
   ]
  },
  {
   "cell_type": "code",
   "execution_count": null,
   "metadata": {},
   "outputs": [],
   "source": [
    "# Remove outliers from encoded data using iqr using numpy\n",
    "def remove_outliers_iqr(data, iqr_range=1.5):\n",
    "    q1, q3 = np.percentile(data, [25, 75])\n",
    "    iqr = q3 - q1\n",
    "    lower_bound = q1 - (iqr_range * iqr)\n",
    "    upper_bound = q3 + (iqr_range * iqr)\n",
    "    return data[(data > lower_bound) & (data < upper_bound)]\n",
    "\n",
    "enc = remove_outliers_iqr(enc)\n",
    "enc.shape"
   ]
  },
  {
   "cell_type": "code",
   "execution_count": null,
   "metadata": {},
   "outputs": [],
   "source": [
    "# Perform clustering\n",
    "n_clusters = 4  # Number of clusters\n",
    "kmeans = KMeans(n_clusters=n_clusters)\n",
    "cluster_labels = kmeans.fit_predict(enc)\n",
    "\n",
    "# Calculate cluster means\n",
    "cluster_centers = kmeans.cluster_centers_\n",
    "\n",
    "# Create scatter plot\n",
    "plt.figure(figsize=(8, 6))\n",
    "for cluster_label in range(n_clusters):\n",
    "    cluster_points = enc[cluster_labels == cluster_label]\n",
    "    plt.scatter(cluster_points[:, 0], cluster_points[:, 1], label=f'Cluster {cluster_label + 1}')\n",
    "\n",
    "# Add legend\n",
    "plt.scatter(cluster_centers[:, 0], cluster_centers[:, 1], marker='o', s=150, c='black', edgecolors='white', label='Cluster Mean')\n",
    "plt.legend()\n",
    "\n",
    "# Show the plot\n",
    "plt.xlabel('Dimension 1')\n",
    "plt.ylabel('Dimension 2')\n",
    "plt.title('Clustering of Dimensionality-Reduced Embeddings')\n",
    "plt.show()\n"
   ]
  },
  {
   "cell_type": "code",
   "execution_count": null,
   "metadata": {},
   "outputs": [],
   "source": [
    "##Dynamic retrival of no of clusters\n",
    "from sklearn.metrics import silhouette_score\n",
    "from sklearn.cluster import KMeans\n",
    "best_clusters = 0 # best cluster number which you will get\n",
    "previous_silh_avg = 0.0\n",
    "for n_clusters in range(2, 10):\n",
    "    clusterer = KMeans(n_clusters, init=\"k-means++\", n_init=\"auto\", random_state=42)\n",
    "    cluster_labels = clusterer.fit_predict(iqr)\n",
    "    silhouette_avg = silhouette_score(enc, cluster_labels, sample_size=3000)\n",
    "    if silhouette_avg > previous_silh_avg:\n",
    "        previous_silh_avg = silhouette_avg\n",
    "        best_clusters = n_clusters\n",
    "print(\"No of Clusters:\", best_clusters)\n",
    "\n",
    "##K-Means Implementation\n",
    "num_clusters = best_clusters  \n",
    "km = KMeans(n_clusters=num_clusters, init=\"k-means++\", n_init=\"auto\", random_state=42)  \n",
    "km.fit(iqr)  \n",
    "clusters = km.labels_.tolist()  "
   ]
  },
  {
   "cell_type": "code",
   "execution_count": null,
   "metadata": {},
   "outputs": [],
   "source": [
    "# Plot Clusters\n",
    "\n",
    "plt.scatter(enc[:,0], enc[:,1], c=clusters, s=50, cmap='viridis')"
   ]
  },
  {
   "cell_type": "code",
   "execution_count": null,
   "metadata": {},
   "outputs": [],
   "source": []
  },
  {
   "cell_type": "code",
   "execution_count": null,
   "metadata": {},
   "outputs": [],
   "source": []
  }
 ],
 "metadata": {
  "kernelspec": {
   "display_name": "RB_NLP",
   "language": "python",
   "name": "python3"
  },
  "language_info": {
   "codemirror_mode": {
    "name": "ipython",
    "version": 3
   },
   "file_extension": ".py",
   "mimetype": "text/x-python",
   "name": "python",
   "nbconvert_exporter": "python",
   "pygments_lexer": "ipython3",
   "version": "3.8.16"
  },
  "orig_nbformat": 4
 },
 "nbformat": 4,
 "nbformat_minor": 2
}
