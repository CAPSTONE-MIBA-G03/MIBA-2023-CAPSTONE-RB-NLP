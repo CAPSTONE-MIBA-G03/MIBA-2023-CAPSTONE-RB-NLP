{
 "cells": [
  {
   "cell_type": "code",
   "execution_count": 1,
   "metadata": {},
   "outputs": [],
   "source": [
    "import numpy as np\n",
    "import pandas as pd\n",
    "from BERT import bert_embed_text\n",
    "from tqdm import tqdm\n",
    "import torch\n",
    "from torch import nn\n",
    "from torch import optim\n",
    "from torch.utils.data import DataLoader\n",
    "import torch_functions as torch_fns\n",
    "from torchinfo import summary\n",
    "from sklearn.preprocessing import StandardScaler, MinMaxScaler\n",
    "import matplotlib.pyplot as plt\n",
    "from sklearn.cluster import KMeans\n",
    "import word_wizard as ww"
   ]
  },
  {
   "cell_type": "code",
   "execution_count": 2,
   "metadata": {},
   "outputs": [
    {
     "data": {
      "text/html": [
       "<div>\n",
       "<style scoped>\n",
       "    .dataframe tbody tr th:only-of-type {\n",
       "        vertical-align: middle;\n",
       "    }\n",
       "\n",
       "    .dataframe tbody tr th {\n",
       "        vertical-align: top;\n",
       "    }\n",
       "\n",
       "    .dataframe thead th {\n",
       "        text-align: right;\n",
       "    }\n",
       "</style>\n",
       "<table border=\"1\" class=\"dataframe\">\n",
       "  <thead>\n",
       "    <tr style=\"text-align: right;\">\n",
       "      <th></th>\n",
       "      <th>engine</th>\n",
       "      <th>link</th>\n",
       "      <th>se_description</th>\n",
       "      <th>se_source</th>\n",
       "      <th>n3k_author</th>\n",
       "      <th>n3k_published</th>\n",
       "      <th>title</th>\n",
       "      <th>body</th>\n",
       "    </tr>\n",
       "  </thead>\n",
       "  <tbody>\n",
       "    <tr>\n",
       "      <th>0</th>\n",
       "      <td>Yahoo</td>\n",
       "      <td>https://seekingalpha.com/article/4603046-micro...</td>\n",
       "      <td>Quantum computing is a disruptive technology t...</td>\n",
       "      <td>Seeking Alpha</td>\n",
       "      <td>['Aseity Research']</td>\n",
       "      <td>2023-05-11 11:03:43-04:00</td>\n",
       "      <td>Microsoft Stock: Leading The Quantum Computing...</td>\n",
       "      <td>Bartlomiej Wroblewski\\n\\nQuantum computing is ...</td>\n",
       "    </tr>\n",
       "    <tr>\n",
       "      <th>1</th>\n",
       "      <td>Yahoo</td>\n",
       "      <td>https://www.morningstar.com/news/pr-newswire/2...</td>\n",
       "      <td>Quantum Computing Inc. initiates commercializa...</td>\n",
       "      <td>Morningstar</td>\n",
       "      <td>[]</td>\n",
       "      <td>2023-05-11 15:01:00-05:00</td>\n",
       "      <td>Quantum Computing Inc Announces First Quarter ...</td>\n",
       "      <td>Quantum Computing Inc. initiates commercializa...</td>\n",
       "    </tr>\n",
       "    <tr>\n",
       "      <th>2</th>\n",
       "      <td>Bing</td>\n",
       "      <td>https://phys.org/news/2023-05-google-quantum-a...</td>\n",
       "      <td>Our intuition tells us that it should be impos...</td>\n",
       "      <td>Phys.org</td>\n",
       "      <td>['Google Quantum Ai']</td>\n",
       "      <td>NaN</td>\n",
       "      <td>Google Quantum AI braids non-Abelian anyons fo...</td>\n",
       "      <td>This article has been reviewed according to Sc...</td>\n",
       "    </tr>\n",
       "    <tr>\n",
       "      <th>3</th>\n",
       "      <td>Yahoo</td>\n",
       "      <td>https://www.msn.com/en-us/money/savingandinves...</td>\n",
       "      <td>Technology giant Microsoft (NASDAQ:MSFT) is ta...</td>\n",
       "      <td>MSN News</td>\n",
       "      <td>[]</td>\n",
       "      <td>NaN</td>\n",
       "      <td>Microsoft (NASDAQ:MSFT) Strategizes to Curb Co...</td>\n",
       "      <td>Technology giant Microsoft (NASDAQ:MSFT) is ta...</td>\n",
       "    </tr>\n",
       "    <tr>\n",
       "      <th>4</th>\n",
       "      <td>Yahoo</td>\n",
       "      <td>https://www.techtarget.com/searchstorage/tip/A...</td>\n",
       "      <td>In 2017, Microsoft surprised attendees of its ...</td>\n",
       "      <td>SearchSecurity.com</td>\n",
       "      <td>['Published']</td>\n",
       "      <td>NaN</td>\n",
       "      <td>A primer on quantum computing storage and memo...</td>\n",
       "      <td>In 2017, Microsoft surprised attendees of its ...</td>\n",
       "    </tr>\n",
       "  </tbody>\n",
       "</table>\n",
       "</div>"
      ],
      "text/plain": [
       "  engine                                               link  \\\n",
       "0  Yahoo  https://seekingalpha.com/article/4603046-micro...   \n",
       "1  Yahoo  https://www.morningstar.com/news/pr-newswire/2...   \n",
       "2   Bing  https://phys.org/news/2023-05-google-quantum-a...   \n",
       "3  Yahoo  https://www.msn.com/en-us/money/savingandinves...   \n",
       "4  Yahoo  https://www.techtarget.com/searchstorage/tip/A...   \n",
       "\n",
       "                                      se_description           se_source  \\\n",
       "0  Quantum computing is a disruptive technology t...       Seeking Alpha   \n",
       "1  Quantum Computing Inc. initiates commercializa...         Morningstar   \n",
       "2  Our intuition tells us that it should be impos...            Phys.org   \n",
       "3  Technology giant Microsoft (NASDAQ:MSFT) is ta...            MSN News   \n",
       "4  In 2017, Microsoft surprised attendees of its ...  SearchSecurity.com   \n",
       "\n",
       "              n3k_author              n3k_published  \\\n",
       "0    ['Aseity Research']  2023-05-11 11:03:43-04:00   \n",
       "1                     []  2023-05-11 15:01:00-05:00   \n",
       "2  ['Google Quantum Ai']                        NaN   \n",
       "3                     []                        NaN   \n",
       "4          ['Published']                        NaN   \n",
       "\n",
       "                                               title  \\\n",
       "0  Microsoft Stock: Leading The Quantum Computing...   \n",
       "1  Quantum Computing Inc Announces First Quarter ...   \n",
       "2  Google Quantum AI braids non-Abelian anyons fo...   \n",
       "3  Microsoft (NASDAQ:MSFT) Strategizes to Curb Co...   \n",
       "4  A primer on quantum computing storage and memo...   \n",
       "\n",
       "                                                body  \n",
       "0  Bartlomiej Wroblewski\\n\\nQuantum computing is ...  \n",
       "1  Quantum Computing Inc. initiates commercializa...  \n",
       "2  This article has been reviewed according to Sc...  \n",
       "3  Technology giant Microsoft (NASDAQ:MSFT) is ta...  \n",
       "4  In 2017, Microsoft surprised attendees of its ...  "
      ]
     },
     "execution_count": 2,
     "metadata": {},
     "output_type": "execute_result"
    }
   ],
   "source": [
    "# loading the articles to embed\n",
    "articles = pd.read_csv(\"../data/clean/MicrosoftANDquantum_None.csv\")\n",
    "# remove rows with na as body\n",
    "articles = articles.dropna(subset=['body'])\n",
    "articles.head()"
   ]
  },
  {
   "cell_type": "code",
   "execution_count": 3,
   "metadata": {},
   "outputs": [
    {
     "data": {
      "text/html": [
       "<div>\n",
       "<style scoped>\n",
       "    .dataframe tbody tr th:only-of-type {\n",
       "        vertical-align: middle;\n",
       "    }\n",
       "\n",
       "    .dataframe tbody tr th {\n",
       "        vertical-align: top;\n",
       "    }\n",
       "\n",
       "    .dataframe thead th {\n",
       "        text-align: right;\n",
       "    }\n",
       "</style>\n",
       "<table border=\"1\" class=\"dataframe\">\n",
       "  <thead>\n",
       "    <tr style=\"text-align: right;\">\n",
       "      <th></th>\n",
       "      <th>engine</th>\n",
       "      <th>link</th>\n",
       "      <th>se_description</th>\n",
       "      <th>se_source</th>\n",
       "      <th>n3k_author</th>\n",
       "      <th>n3k_published</th>\n",
       "      <th>title</th>\n",
       "      <th>body</th>\n",
       "    </tr>\n",
       "  </thead>\n",
       "  <tbody>\n",
       "    <tr>\n",
       "      <th>170</th>\n",
       "      <td>Google</td>\n",
       "      <td>https://cloudblogs.microsoft.com/quantum/2022/...</td>\n",
       "      <td>Get the inside, first-hand account of Microsof...</td>\n",
       "      <td>Microsoft Cloud Blogs</td>\n",
       "      <td>['Microsoft Azure Quantum Team']</td>\n",
       "      <td>2022-12-05 00:00:00</td>\n",
       "      <td>Microsoft Quantum Innovator Series: The path t...</td>\n",
       "      <td>This embed requires accepting cookies from the...</td>\n",
       "    </tr>\n",
       "  </tbody>\n",
       "</table>\n",
       "</div>"
      ],
      "text/plain": [
       "     engine                                               link  \\\n",
       "170  Google  https://cloudblogs.microsoft.com/quantum/2022/...   \n",
       "\n",
       "                                        se_description              se_source  \\\n",
       "170  Get the inside, first-hand account of Microsof...  Microsoft Cloud Blogs   \n",
       "\n",
       "                           n3k_author        n3k_published  \\\n",
       "170  ['Microsoft Azure Quantum Team']  2022-12-05 00:00:00   \n",
       "\n",
       "                                                 title  \\\n",
       "170  Microsoft Quantum Innovator Series: The path t...   \n",
       "\n",
       "                                                  body  \n",
       "170  This embed requires accepting cookies from the...  "
      ]
     },
     "execution_count": 3,
     "metadata": {},
     "output_type": "execute_result"
    }
   ],
   "source": [
    "articles.iloc[[169]]"
   ]
  },
  {
   "cell_type": "code",
   "execution_count": 4,
   "metadata": {},
   "outputs": [],
   "source": [
    "lean_wizard = ww.WordWizard(df=articles, lean=True)\n",
    "bulky_wizard = ww.WordWizard(df=articles, lean=False)"
   ]
  },
  {
   "cell_type": "code",
   "execution_count": 5,
   "metadata": {},
   "outputs": [
    {
     "name": "stderr",
     "output_type": "stream",
     "text": [
      "Creating embeddings for column: ['body']: 100%|██████████| 1/1 [00:26<00:00, 26.66s/it]\n"
     ]
    }
   ],
   "source": [
    "lean = lean_wizard.create_embeddings(columns=['body'])"
   ]
  },
  {
   "cell_type": "code",
   "execution_count": 6,
   "metadata": {},
   "outputs": [
    {
     "name": "stderr",
     "output_type": "stream",
     "text": [
      "Creating embeddings for column: ['body', 'title']: 100%|██████████| 2/2 [01:31<00:00, 45.92s/it]\n"
     ]
    }
   ],
   "source": [
    "bulky = bulky_wizard.create_embeddings(columns=['body', 'title'])"
   ]
  },
  {
   "cell_type": "code",
   "execution_count": 8,
   "metadata": {},
   "outputs": [
    {
     "data": {
      "text/html": [
       "<div>\n",
       "<style scoped>\n",
       "    .dataframe tbody tr th:only-of-type {\n",
       "        vertical-align: middle;\n",
       "    }\n",
       "\n",
       "    .dataframe tbody tr th {\n",
       "        vertical-align: top;\n",
       "    }\n",
       "\n",
       "    .dataframe thead th {\n",
       "        text-align: right;\n",
       "    }\n",
       "</style>\n",
       "<table border=\"1\" class=\"dataframe\">\n",
       "  <thead>\n",
       "    <tr style=\"text-align: right;\">\n",
       "      <th></th>\n",
       "      <th>title</th>\n",
       "      <th>body</th>\n",
       "      <th>body_embedded</th>\n",
       "    </tr>\n",
       "  </thead>\n",
       "  <tbody>\n",
       "    <tr>\n",
       "      <th>0</th>\n",
       "      <td>Microsoft Stock: Leading The Quantum Computing...</td>\n",
       "      <td>Bartlomiej Wroblewski\\n\\nQuantum computing is ...</td>\n",
       "      <td>[0.4255876, -0.14641741, 0.09089464, -0.096109...</td>\n",
       "    </tr>\n",
       "    <tr>\n",
       "      <th>1</th>\n",
       "      <td>Quantum Computing Inc Announces First Quarter ...</td>\n",
       "      <td>Quantum Computing Inc. initiates commercializa...</td>\n",
       "      <td>[0.40670347, -0.07659096, 0.02964771, -0.00834...</td>\n",
       "    </tr>\n",
       "    <tr>\n",
       "      <th>2</th>\n",
       "      <td>Google Quantum AI braids non-Abelian anyons fo...</td>\n",
       "      <td>This article has been reviewed according to Sc...</td>\n",
       "      <td>[0.5094838, -0.29704052, 0.02276769, -0.083231...</td>\n",
       "    </tr>\n",
       "    <tr>\n",
       "      <th>3</th>\n",
       "      <td>Microsoft (NASDAQ:MSFT) Strategizes to Curb Co...</td>\n",
       "      <td>Technology giant Microsoft (NASDAQ:MSFT) is ta...</td>\n",
       "      <td>[0.2006045, -0.106501766, 0.0603969, 0.0034779...</td>\n",
       "    </tr>\n",
       "    <tr>\n",
       "      <th>4</th>\n",
       "      <td>A primer on quantum computing storage and memo...</td>\n",
       "      <td>In 2017, Microsoft surprised attendees of its ...</td>\n",
       "      <td>[0.47235262, -0.03634747, 0.08287287, -0.00015...</td>\n",
       "    </tr>\n",
       "  </tbody>\n",
       "</table>\n",
       "</div>"
      ],
      "text/plain": [
       "                                               title  \\\n",
       "0  Microsoft Stock: Leading The Quantum Computing...   \n",
       "1  Quantum Computing Inc Announces First Quarter ...   \n",
       "2  Google Quantum AI braids non-Abelian anyons fo...   \n",
       "3  Microsoft (NASDAQ:MSFT) Strategizes to Curb Co...   \n",
       "4  A primer on quantum computing storage and memo...   \n",
       "\n",
       "                                                body  \\\n",
       "0  Bartlomiej Wroblewski\\n\\nQuantum computing is ...   \n",
       "1  Quantum Computing Inc. initiates commercializa...   \n",
       "2  This article has been reviewed according to Sc...   \n",
       "3  Technology giant Microsoft (NASDAQ:MSFT) is ta...   \n",
       "4  In 2017, Microsoft surprised attendees of its ...   \n",
       "\n",
       "                                       body_embedded  \n",
       "0  [0.4255876, -0.14641741, 0.09089464, -0.096109...  \n",
       "1  [0.40670347, -0.07659096, 0.02964771, -0.00834...  \n",
       "2  [0.5094838, -0.29704052, 0.02276769, -0.083231...  \n",
       "3  [0.2006045, -0.106501766, 0.0603969, 0.0034779...  \n",
       "4  [0.47235262, -0.03634747, 0.08287287, -0.00015...  "
      ]
     },
     "execution_count": 8,
     "metadata": {},
     "output_type": "execute_result"
    }
   ],
   "source": [
    "lean[[\"title\", \"body\", \"body_embedded\"]].head()"
   ]
  },
  {
   "cell_type": "code",
   "execution_count": 9,
   "metadata": {},
   "outputs": [
    {
     "data": {
      "text/html": [
       "<div>\n",
       "<style scoped>\n",
       "    .dataframe tbody tr th:only-of-type {\n",
       "        vertical-align: middle;\n",
       "    }\n",
       "\n",
       "    .dataframe tbody tr th {\n",
       "        vertical-align: top;\n",
       "    }\n",
       "\n",
       "    .dataframe thead th {\n",
       "        text-align: right;\n",
       "    }\n",
       "</style>\n",
       "<table border=\"1\" class=\"dataframe\">\n",
       "  <thead>\n",
       "    <tr style=\"text-align: right;\">\n",
       "      <th></th>\n",
       "      <th>title</th>\n",
       "      <th>body</th>\n",
       "      <th>body_embedded</th>\n",
       "      <th>title_embedded</th>\n",
       "    </tr>\n",
       "  </thead>\n",
       "  <tbody>\n",
       "    <tr>\n",
       "      <th>0</th>\n",
       "      <td>Microsoft Stock: Leading The Quantum Computing...</td>\n",
       "      <td>Bartlomiej Wroblewski\\n\\nQuantum computing is ...</td>\n",
       "      <td>[0.15203002, 0.3710277, -0.070250034, 0.227758...</td>\n",
       "      <td>[-0.37368658, 0.3039311, 0.0544124, 0.13620754...</td>\n",
       "    </tr>\n",
       "    <tr>\n",
       "      <th>1</th>\n",
       "      <td>Quantum Computing Inc Announces First Quarter ...</td>\n",
       "      <td>Quantum Computing Inc. initiates commercializa...</td>\n",
       "      <td>[0.07547751, 0.08461023, 0.039843753, 0.019642...</td>\n",
       "      <td>[-0.12075205, 0.17395379, 0.06403588, 0.012568...</td>\n",
       "    </tr>\n",
       "    <tr>\n",
       "      <th>2</th>\n",
       "      <td>Google Quantum AI braids non-Abelian anyons fo...</td>\n",
       "      <td>This article has been reviewed according to Sc...</td>\n",
       "      <td>[0.21349677, 0.37277052, -0.13767469, 0.155252...</td>\n",
       "      <td>[0.31152043, 0.11549268, -0.2891103, 0.1591472...</td>\n",
       "    </tr>\n",
       "    <tr>\n",
       "      <th>3</th>\n",
       "      <td>Microsoft (NASDAQ:MSFT) Strategizes to Curb Co...</td>\n",
       "      <td>Technology giant Microsoft (NASDAQ:MSFT) is ta...</td>\n",
       "      <td>[0.07998328, 0.29852116, 0.12375433, 0.0142973...</td>\n",
       "      <td>[-0.4091746, 0.33247614, 0.017602623, -0.06984...</td>\n",
       "    </tr>\n",
       "    <tr>\n",
       "      <th>4</th>\n",
       "      <td>A primer on quantum computing storage and memo...</td>\n",
       "      <td>In 2017, Microsoft surprised attendees of its ...</td>\n",
       "      <td>[0.25351882, 0.24780278, -0.101479046, 0.18780...</td>\n",
       "      <td>[0.02133733, -0.07428073, -0.05858498, 0.19360...</td>\n",
       "    </tr>\n",
       "  </tbody>\n",
       "</table>\n",
       "</div>"
      ],
      "text/plain": [
       "                                               title  \\\n",
       "0  Microsoft Stock: Leading The Quantum Computing...   \n",
       "1  Quantum Computing Inc Announces First Quarter ...   \n",
       "2  Google Quantum AI braids non-Abelian anyons fo...   \n",
       "3  Microsoft (NASDAQ:MSFT) Strategizes to Curb Co...   \n",
       "4  A primer on quantum computing storage and memo...   \n",
       "\n",
       "                                                body  \\\n",
       "0  Bartlomiej Wroblewski\\n\\nQuantum computing is ...   \n",
       "1  Quantum Computing Inc. initiates commercializa...   \n",
       "2  This article has been reviewed according to Sc...   \n",
       "3  Technology giant Microsoft (NASDAQ:MSFT) is ta...   \n",
       "4  In 2017, Microsoft surprised attendees of its ...   \n",
       "\n",
       "                                       body_embedded  \\\n",
       "0  [0.15203002, 0.3710277, -0.070250034, 0.227758...   \n",
       "1  [0.07547751, 0.08461023, 0.039843753, 0.019642...   \n",
       "2  [0.21349677, 0.37277052, -0.13767469, 0.155252...   \n",
       "3  [0.07998328, 0.29852116, 0.12375433, 0.0142973...   \n",
       "4  [0.25351882, 0.24780278, -0.101479046, 0.18780...   \n",
       "\n",
       "                                      title_embedded  \n",
       "0  [-0.37368658, 0.3039311, 0.0544124, 0.13620754...  \n",
       "1  [-0.12075205, 0.17395379, 0.06403588, 0.012568...  \n",
       "2  [0.31152043, 0.11549268, -0.2891103, 0.1591472...  \n",
       "3  [-0.4091746, 0.33247614, 0.017602623, -0.06984...  \n",
       "4  [0.02133733, -0.07428073, -0.05858498, 0.19360...  "
      ]
     },
     "execution_count": 9,
     "metadata": {},
     "output_type": "execute_result"
    }
   ],
   "source": [
    "bulky[[\"title\", \"body\", \"body_embedded\", \"title_embedded\"]].head()"
   ]
  },
  {
   "cell_type": "code",
   "execution_count": null,
   "metadata": {},
   "outputs": [],
   "source": []
  },
  {
   "cell_type": "code",
   "execution_count": null,
   "metadata": {},
   "outputs": [],
   "source": [
    "# Setup device agnostic code (Chooses NVIDIA or Metal backend if available, otherwise defaults to CPU)\n",
    "if torch.cuda.is_available():\n",
    "    device = torch.device(\"cuda\")\n",
    "    \n",
    "elif torch.backends.mps.is_available():\n",
    "    device = torch.device(\"mps\")\n",
    "    \n",
    "else:\n",
    "    device = torch.device(\"cpu\")\n",
    "device"
   ]
  },
  {
   "cell_type": "code",
   "execution_count": null,
   "metadata": {},
   "outputs": [],
   "source": [
    "articles.head(3)"
   ]
  },
  {
   "cell_type": "code",
   "execution_count": null,
   "metadata": {},
   "outputs": [],
   "source": [
    "articles.set_index([\"link\", \"\"], inplace=True)"
   ]
  },
  {
   "attachments": {},
   "cell_type": "markdown",
   "metadata": {},
   "source": [
    "### Uncomment below cell when running notebook for the first time"
   ]
  },
  {
   "cell_type": "code",
   "execution_count": null,
   "metadata": {},
   "outputs": [],
   "source": [
    "#An alternative would be to try summarizing by paragraph (we shall do that soon)\n",
    "\n",
    "# articles['body_embedding'] = None\n",
    "# for i in tqdm(range(len(articles))):\n",
    "#     try:\n",
    "#         articles.at[i,'body_embedding'] = bert_embed_text(articles.at[i,'body']).tolist()\n",
    "#     except:\n",
    "#         articles.at[i,'body_embedding'] = []\n",
    "\n",
    "# articles.to_parquet('../data/misc/quant_embed.gzip',compression='gzip', index=False)"
   ]
  },
  {
   "cell_type": "code",
   "execution_count": null,
   "metadata": {},
   "outputs": [],
   "source": [
    "bert_embed_text = pd.read_parquet('../data/misc/quant_embed.gzip')\n",
    "sentence_embeddings_df = pd.DataFrame(bert_embed_text['body_embedding'].tolist(), index=bert_embed_text.index).dropna().values\n",
    "sentence_embeddings = MinMaxScaler().fit_transform(np.array(sentence_embeddings_df))"
   ]
  },
  {
   "cell_type": "code",
   "execution_count": null,
   "metadata": {},
   "outputs": [],
   "source": [
    "bert_embed_text"
   ]
  },
  {
   "cell_type": "code",
   "execution_count": null,
   "metadata": {},
   "outputs": [],
   "source": [
    "data = torch.from_numpy(sentence_embeddings).type(torch.float32)"
   ]
  },
  {
   "cell_type": "code",
   "execution_count": null,
   "metadata": {},
   "outputs": [],
   "source": [
    "data.shape, data.dtype, data.max(), data.min()"
   ]
  },
  {
   "cell_type": "code",
   "execution_count": null,
   "metadata": {},
   "outputs": [],
   "source": [
    "# Setup hyperparameters\n",
    "NUM_EPOCHS = 200\n",
    "BATCH_SIZE = 16\n",
    "INPUT_SHAPE = 768\n",
    "HIDDEN_UNITS = list([256, 16]) # For some reason fails when just doing [] kekw\n",
    "OUTPUT_SHAPE = 768\n",
    "LEARNING_RATE = 0.0002 #Default adam is 1e-3\n",
    "DROPOUT = 0.2"
   ]
  },
  {
   "cell_type": "code",
   "execution_count": null,
   "metadata": {},
   "outputs": [],
   "source": [
    "# Setup DataLoaders\n",
    "from os import cpu_count\n",
    "dataloader = DataLoader(data, batch_size=BATCH_SIZE, shuffle=True, num_workers=0)"
   ]
  },
  {
   "cell_type": "code",
   "execution_count": null,
   "metadata": {},
   "outputs": [],
   "source": [
    "next(iter(dataloader)).shape, len(dataloader)"
   ]
  },
  {
   "cell_type": "code",
   "execution_count": null,
   "metadata": {},
   "outputs": [],
   "source": [
    "# Instantiate model\n",
    "model = torch_fns.Autoencoder(INPUT_SHAPE, HIDDEN_UNITS, OUTPUT_SHAPE, DROPOUT)"
   ]
  },
  {
   "cell_type": "code",
   "execution_count": null,
   "metadata": {},
   "outputs": [],
   "source": [
    "# Print a summary using torchinfo\n",
    "summary(model=model, \n",
    "        input_size=(BATCH_SIZE, INPUT_SHAPE),\n",
    "        # col_names=[\"input_size\"],\n",
    "        col_names=[\"input_size\", \"output_size\", \"num_params\", \"trainable\"],\n",
    "        col_width=20,\n",
    "        row_settings=[\"var_names\"]\n",
    ") "
   ]
  },
  {
   "cell_type": "code",
   "execution_count": null,
   "metadata": {},
   "outputs": [],
   "source": [
    "# Set loss and optimizer\n",
    "loss_fn = nn.MSELoss()\n",
    "optimizer = optim.Adam(model.parameters(), lr=LEARNING_RATE)\n",
    "\n",
    "# Start training with help from torch_functions.py\n",
    "results = torch_fns.train(\n",
    "    model=model,\n",
    "    dataloader=dataloader,\n",
    "    loss_fn=loss_fn,\n",
    "    optimizer=optimizer,\n",
    "    epochs=NUM_EPOCHS,\n",
    "    device=device,\n",
    ")\n"
   ]
  },
  {
   "cell_type": "code",
   "execution_count": null,
   "metadata": {},
   "outputs": [],
   "source": [
    "torch_fns.plot_loss_curves(results)"
   ]
  },
  {
   "cell_type": "code",
   "execution_count": null,
   "metadata": {},
   "outputs": [],
   "source": [
    "with torch.inference_mode():\n",
    "    model = model.to(device)\n",
    "    data = data.to(device)\n",
    "    encoded = model.encode(data)\n",
    "    decoded = model.decode(encoded)\n",
    "    error = loss_fn(decoded, data).item()\n",
    "    enc = encoded.cpu().numpy()\n",
    "    dec = decoded.cpu().numpy()\n",
    "    data = data.cpu().numpy()\n",
    "\n",
    "print(f'Root mean squared error: {np.sqrt(error):.4f}')"
   ]
  },
  {
   "cell_type": "code",
   "execution_count": null,
   "metadata": {},
   "outputs": [],
   "source": [
    "fig, (ax1, ax2, ax3) = plt.subplots(1, 3, figsize=(15, 6))\n",
    "\n",
    "ax1.scatter(sentence_embeddings[:,0], sentence_embeddings[:,1])\n",
    "ax1.set_title('Original')\n",
    "\n",
    "ax2.scatter(enc[:,0], enc[:,1])\n",
    "ax2.set_title('Encoded')\n",
    "\n",
    "ax3.scatter(dec[:,0], dec[:,1])\n",
    "ax3.set_title('Decoded')\n",
    "\n",
    "plt.show()"
   ]
  },
  {
   "cell_type": "code",
   "execution_count": null,
   "metadata": {},
   "outputs": [],
   "source": [
    "data.shape, enc.shape"
   ]
  },
  {
   "cell_type": "code",
   "execution_count": null,
   "metadata": {},
   "outputs": [],
   "source": [
    "# Remove outliers from encoded data using iqr using numpy\n",
    "def remove_outliers_iqr(data, iqr_range=1.5):\n",
    "    q1, q3 = np.percentile(data, [25, 75])\n",
    "    iqr = q3 - q1\n",
    "    lower_bound = q1 - (iqr_range * iqr)\n",
    "    upper_bound = q3 + (iqr_range * iqr)\n",
    "    return data[(data > lower_bound) & (data < upper_bound)]\n",
    "\n",
    "enc = remove_outliers_iqr(enc)\n",
    "enc.shape"
   ]
  },
  {
   "cell_type": "code",
   "execution_count": null,
   "metadata": {},
   "outputs": [],
   "source": [
    "# Perform clustering\n",
    "n_clusters = 4  # Number of clusters\n",
    "kmeans = KMeans(n_clusters=n_clusters)\n",
    "cluster_labels = kmeans.fit_predict(enc)\n",
    "\n",
    "# Calculate cluster means\n",
    "cluster_centers = kmeans.cluster_centers_\n",
    "\n",
    "# Create scatter plot\n",
    "plt.figure(figsize=(8, 6))\n",
    "for cluster_label in range(n_clusters):\n",
    "    cluster_points = enc[cluster_labels == cluster_label]\n",
    "    plt.scatter(cluster_points[:, 0], cluster_points[:, 1], label=f'Cluster {cluster_label + 1}')\n",
    "\n",
    "# Add legend\n",
    "plt.scatter(cluster_centers[:, 0], cluster_centers[:, 1], marker='o', s=150, c='black', edgecolors='white', label='Cluster Mean')\n",
    "plt.legend()\n",
    "\n",
    "# Show the plot\n",
    "plt.xlabel('Dimension 1')\n",
    "plt.ylabel('Dimension 2')\n",
    "plt.title('Clustering of Dimensionality-Reduced Embeddings')\n",
    "plt.show()\n"
   ]
  },
  {
   "cell_type": "code",
   "execution_count": null,
   "metadata": {},
   "outputs": [],
   "source": [
    "##Dynamic retrival of no of clusters\n",
    "from sklearn.metrics import silhouette_score\n",
    "from sklearn.cluster import KMeans\n",
    "best_clusters = 0 # best cluster number which you will get\n",
    "previous_silh_avg = 0.0\n",
    "for n_clusters in range(2, 10):\n",
    "    clusterer = KMeans(n_clusters, init=\"k-means++\", n_init=\"auto\", random_state=42)\n",
    "    cluster_labels = clusterer.fit_predict(iqr)\n",
    "    silhouette_avg = silhouette_score(enc, cluster_labels, sample_size=3000)\n",
    "    if silhouette_avg > previous_silh_avg:\n",
    "        previous_silh_avg = silhouette_avg\n",
    "        best_clusters = n_clusters\n",
    "print(\"No of Clusters:\", best_clusters)\n",
    "\n",
    "##K-Means Implementation\n",
    "num_clusters = best_clusters  \n",
    "km = KMeans(n_clusters=num_clusters, init=\"k-means++\", n_init=\"auto\", random_state=42)  \n",
    "km.fit(iqr)  \n",
    "clusters = km.labels_.tolist()  "
   ]
  },
  {
   "cell_type": "code",
   "execution_count": null,
   "metadata": {},
   "outputs": [],
   "source": [
    "# Plot Clusters\n",
    "\n",
    "plt.scatter(enc[:,0], enc[:,1], c=clusters, s=50, cmap='viridis')"
   ]
  },
  {
   "cell_type": "code",
   "execution_count": null,
   "metadata": {},
   "outputs": [],
   "source": []
  },
  {
   "cell_type": "code",
   "execution_count": null,
   "metadata": {},
   "outputs": [],
   "source": []
  }
 ],
 "metadata": {
  "kernelspec": {
   "display_name": "RB_NLP",
   "language": "python",
   "name": "python3"
  },
  "language_info": {
   "codemirror_mode": {
    "name": "ipython",
    "version": 3
   },
   "file_extension": ".py",
   "mimetype": "text/x-python",
   "name": "python",
   "nbconvert_exporter": "python",
   "pygments_lexer": "ipython3",
   "version": "3.8.16"
  },
  "orig_nbformat": 4
 },
 "nbformat": 4,
 "nbformat_minor": 2
}
